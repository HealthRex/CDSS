{
 "cells": [
  {
   "cell_type": "code",
   "execution_count": null,
   "metadata": {},
   "outputs": [],
   "source": [
    "import pandas as pd\n",
    "import lightgbm as lgb\n",
    "from lightgbm import LGBMClassifier, Dataset, cv, train, early_stopping\n",
    "from sklearn.metrics import roc_auc_score, confusion_matrix, roc_curve, auc\n",
    "from sklearn.preprocessing import OneHotEncoder, LabelEncoder\n",
    "from sklearn import __version__ as sklearn_version\n",
    "from packaging import version\n",
    "from multiprocessing import cpu_count\n",
    "import numpy as np\n",
    "import shap\n",
    "import matplotlib.pyplot as plt\n",
    "import polars as pl\n",
    "import itertools\n",
    "import seaborn as sns"
   ]
  },
  {
   "cell_type": "markdown",
   "metadata": {},
   "source": [
    "# Feature preprocessing "
   ]
  },
  {
   "cell_type": "code",
   "execution_count": null,
   "metadata": {},
   "outputs": [],
   "source": [
    "### data preparation\n",
    "\n",
    "try:\n",
    "    comorbidities = pd.read_csv('/Users/fa/Documents/antimicrobial-susceptibility/microbiology_cultures_comorbidity.csv')\n",
    "except FileNotFoundError:\n",
    "    print(\"Incorrect path to comorbidities file or comorbidities dataframe manipulation section not run first.\")\n",
    "\"\"\"\n",
    "try:\n",
    "    adi_scores = pd.read_csv('/Users/fa/Documents/antimicrobial-susceptibility/microbiology_cultures_adi_scores.csv')\n",
    "except FileNotFoundError:\n",
    "    print(\"Incorrect path to ADI scores file.\")\n",
    "try:\n",
    "    labs = pd.read_csv('/Users/fa/Documents/antimicrobial-susceptibility/microbiology_cultures_labs.csv')\n",
    "except FileNotFoundError:\n",
    "    print(\"Incorrect path to labs file.\")\n",
    "try:\n",
    "    vitals = pd.read_csv('/Users/fa/Documents/antimicrobial-susceptibility/microbiology_cultures_vitals.csv')\n",
    "except FileNotFoundError:\n",
    "    print(\"Incorrect path to vitals file.\")\n",
    "try:\n",
    "    prior_infecting_organisms = pd.read_csv('/Users/fa/Documents/antimicrobial-susceptibility/microbiology_culture_prior_infecting_organism.csv')\n",
    "except FileNotFoundError:\n",
    "    print(\"Incorrect path to prior infecting organisms file.\")\n",
    "try:\n",
    "    subtype_exposure = pd.read_csv('/Users/fa/Documents/antimicrobial-susceptibility/microbiology_cultures_antibiotic_subtype_exposure.csv')\n",
    "except FileNotFoundError:\n",
    "    print(\"Incorrect path to subtype exposure file.\")\n",
    "try:\n",
    "    demographics = pd.read_csv('/Users/fa/Documents/antimicrobial-susceptibility/microbiology_cultures_demographics.csv')\n",
    "except FileNotFoundError:\n",
    "    print(\"Incorrect path to demographics file.\")\n",
    "try:\n",
    "    prior_med = pd.read_csv('/Users/fa/Documents/antimicrobial-susceptibility/microbiology_cultures_prior_med.csv')\n",
    "except FileNotFoundError:\n",
    "    print(\"Incorrect path to prior medications file.\")\n",
    "try:\n",
    "    prior_procedures = pd.read_csv('/Users/fa/Documents/antimicrobial-susceptibility/microbiology_cultures_priorprocedures.csv')\n",
    "except FileNotFoundError:\n",
    "    print(\"Incorrect path to prior procedures file.\")\n",
    "try:\n",
    "    ward_info = pd.read_csv('/Users/fa/Documents/antimicrobial-susceptibility/microbiology_cultures_ward_info.csv')\n",
    "except FileNotFoundError:\n",
    "    print(\"Incorrect path to ward info file.\")\n",
    "\n",
    "\n",
    "try:\n",
    "    microbial_resistance = pd.read_csv('/Users/fa/Documents/antimicrobial-susceptibility/microbiology_cultures_microbial_resistance.csv')\n",
    "except FileNotFoundError:\n",
    "    print(\"Incorrect path to microbial resistance file.\")\n",
    "\n",
    "\n",
    "try:\n",
    "    cohort = pd.read_csv('/Users/fa/Documents/antimicrobial-susceptibility/microbiology_cultures_cohort.csv')\n",
    "except FileNotFoundError:\n",
    "    print(\"Incorrect path to cohort file.\")\n",
    "try:\n",
    "    antibiotic_class_exposure = pd.read_csv('/Users/fa/Documents/antimicrobial-susceptibility/microbiology_cultures_antibiotic_class_exposure.csv')\n",
    "except FileNotFoundError:\n",
    "    print(\"Incorrect path to antibiotic class exposure file.\")\n",
    "try:\n",
    "    implied_susceptibility = pd.read_csv('/Users/fa/Documents/antimicrobial-susceptibility/microbiology_cultures_implied_susceptibility.csv')\n",
    "except FileNotFoundError:\n",
    "   print(\"Incorrect path to implied susceptibility file.\")\n",
    "\n",
    "\n",
    "try:\n",
    "    nursing_home_visits = pd.read_csv('/Users/fa/Documents/antimicrobial-susceptibility/microbiology_cultures_nursing_home_visits.csv')\n",
    "except FileNotFoundError:\n",
    "    print(\"Incorrect path to nursing home visits file.\")\n",
    "\"\"\""
   ]
  },
  {
   "cell_type": "markdown",
   "metadata": {},
   "source": [
    "# only in patients "
   ]
  },
  {
   "cell_type": "code",
   "execution_count": null,
   "metadata": {},
   "outputs": [],
   "source": [
    "cohort = cohort[cohort['was_positive'] == 1]\n",
    "cohort = cohort[cohort['ordering_mode'] == 'Inpatient']\n",
    "cohort = cohort.drop(columns = ['ordering_mode', 'was_positive'])\n",
    "cohort['year'] = [time[:4] for time in cohort['order_time_jittered_utc']]\n",
    "cohort=cohort[['anon_id','pat_enc_csn_id_coded','order_proc_id_coded','order_time_jittered_utc','culture_description','year']]\n",
    "cohort.drop_duplicates(inplace=True)\n",
    "cohort.columns.values"
   ]
  },
  {
   "cell_type": "code",
   "execution_count": null,
   "metadata": {},
   "outputs": [],
   "source": [
    "implied_susceptibility=implied_susceptibility[(implied_susceptibility.organism!='Null')&(implied_susceptibility.antibiotic!='Null')]\n",
    "implied_susceptibility.head()"
   ]
  },
  {
   "cell_type": "code",
   "execution_count": null,
   "metadata": {},
   "outputs": [],
   "source": [
    "\n",
    "implied_susceptibility=implied_susceptibility[(implied_susceptibility.susceptibility!='Null')|(implied_susceptibility.implied_susceptibility!='Null')]\n",
    "implied_susceptibility"
   ]
  },
  {
   "cell_type": "code",
   "execution_count": null,
   "metadata": {},
   "outputs": [],
   "source": [
    "implied_susceptibility = implied_susceptibility[implied_susceptibility['antibiotic'].isin(['Cefazolin', 'Ceftriaxone', 'Cefepime', 'Piperacillin/Tazobactam', 'Ciprofloxacin'])]\n",
    "implied_susceptibility.loc[\n",
    "    implied_susceptibility['implied_susceptibility'] == 'Null', \n",
    "    'implied_susceptibility'\n",
    "] = implied_susceptibility['susceptibility']\n",
    "implied_susceptibility=implied_susceptibility[['anon_id','pat_enc_csn_id_coded','order_proc_id_coded','organism','antibiotic','implied_susceptibility']]\n",
    "implied_susceptibility=implied_susceptibility[implied_susceptibility.implied_susceptibility.isin(['Susceptible', 'Resistant','Non Susceptible'])]\n",
    "implied_susceptibility.loc[implied_susceptibility.implied_susceptibility=='Non Susceptible',\n",
    "                           'implied_susceptibility'\n",
    "                           ]='Resistant'\n",
    "implied_susceptibility.implied_susceptibility.unique()"
   ]
  },
  {
   "cell_type": "code",
   "execution_count": null,
   "metadata": {},
   "outputs": [],
   "source": [
    "df = cohort.merge(implied_susceptibility, on = ['anon_id', 'pat_enc_csn_id_coded', 'order_proc_id_coded'], how = 'left')\n",
    "df = df[df['implied_susceptibility'].isin(['Susceptible', 'Resistant'])]\n",
    "df.head()"
   ]
  },
  {
   "cell_type": "code",
   "execution_count": null,
   "metadata": {},
   "outputs": [],
   "source": [
    "df = df.merge(demographics, on = ['anon_id', 'pat_enc_csn_id_coded', 'order_proc_id_coded'], how = 'left')\n",
    "\n",
    "df.loc[df.age=='Null','age']=None\n",
    "df.loc[df.gender=='Null','gender']=None\n",
    "df.loc[df.gender=='0','gender']=0\n",
    "df.loc[df.gender=='1','gender']=1\n",
    "\n",
    "df.loc[df.age=='18–24 years','age']=1\n",
    "df.loc[df.age=='25–34 years','age']=2\n",
    "df.loc[df.age=='35–44 years','age']=3\n",
    "df.loc[df.age=='45-54 years','age']=4\n",
    "df.loc[df.age=='55-64 years','age']=5\n",
    "df.loc[df.age=='65-74 years','age']=6\n",
    "df.loc[df.age=='75-84 years','age']=7\n",
    "df.loc[df.age=='85-89 years','age']=8\n",
    "df.loc[df.age=='above 90','age']=9\n",
    "df['age']=df['age'].astype(int)\n",
    "df.age.unique()\n",
    "\n"
   ]
  },
  {
   "cell_type": "code",
   "execution_count": null,
   "metadata": {},
   "outputs": [],
   "source": [
    "ward_info=ward_info[['anon_id','pat_enc_csn_id_coded','order_proc_id_coded','hosp_ward_IP','hosp_ward_OP','hosp_ward_ER','hosp_ward_ICU']]\n",
    "ward_info.drop_duplicates(inplace=True)\n",
    "for col in ward_info.columns.values:\n",
    "    ward_info.loc[ward_info[col]=='Null',col]=None\n",
    "ward_info.hosp_ward_IP.unique()"
   ]
  },
  {
   "cell_type": "code",
   "execution_count": null,
   "metadata": {},
   "outputs": [],
   "source": [
    "adi_scores=adi_scores[['anon_id','pat_enc_csn_id_coded','order_proc_id_coded','adi_score']]\n",
    "adi_scores.drop_duplicates(inplace=True)\n",
    "for col in adi_scores.columns.values:\n",
    "    adi_scores.loc[adi_scores[col]=='Null',col]=None\n",
    "adi_scores.adi_score.unique()"
   ]
  },
  {
   "cell_type": "code",
   "execution_count": null,
   "metadata": {},
   "outputs": [],
   "source": [
    "df = df.merge(ward_info, on = ['anon_id', 'pat_enc_csn_id_coded', 'order_proc_id_coded'], how = 'left')\n",
    "df = df.merge(adi_scores, on = ['anon_id', 'pat_enc_csn_id_coded', 'order_proc_id_coded'], how = 'left')\n",
    "df.head()"
   ]
  },
  {
   "cell_type": "code",
   "execution_count": null,
   "metadata": {},
   "outputs": [],
   "source": [
    "for col in vitals.columns.values:\n",
    "    if not col in ['anon_id','pat_enc_csn_id_coded','order_proc_id_coded']:\n",
    "        vitals.loc[vitals[col]=='Null',col]=None\n",
    "        vitals[col]=vitals[col].astype('float')\n",
    "vitals.head()\n"
   ]
  },
  {
   "cell_type": "code",
   "execution_count": 25,
   "metadata": {},
   "outputs": [],
   "source": [
    "df = df.merge(vitals, on = ['anon_id', 'pat_enc_csn_id_coded', 'order_proc_id_coded'], how = 'left')"
   ]
  },
  {
   "cell_type": "code",
   "execution_count": null,
   "metadata": {},
   "outputs": [],
   "source": [
    "nursing_home_visits=nursing_home_visits[nursing_home_visits.nursing_home_visit_culture>=0]\n",
    "nursing_home_visits['nursing_home_visits_within6month']=nursing_home_visits['nursing_home_visit_culture'].apply(lambda x: 1 if  x <= 180 else 0)\n",
    "nursing_home_visits=nursing_home_visits[['anon_id','pat_enc_csn_id_coded','order_proc_id_coded','nursing_home_visits_within6month']]\n",
    "nursing_home_visits = nursing_home_visits.groupby(['anon_id','pat_enc_csn_id_coded','order_proc_id_coded']).agg(\n",
    "    nursing_visits_within_6mo =('nursing_home_visits_within6month', sum),\n",
    ").reset_index()\n",
    "nursing_home_visits['nursing_visits_within_6mo']=nursing_home_visits['nursing_visits_within_6mo'].astype(int)\n",
    "\n",
    "df = df.merge(nursing_home_visits, on = ['anon_id','pat_enc_csn_id_coded','order_proc_id_coded'], how = 'left')\n",
    "df.head()"
   ]
  },
  {
   "cell_type": "code",
   "execution_count": null,
   "metadata": {},
   "outputs": [],
   "source": [
    "prior_procedures=prior_procedures[(prior_procedures.procedure_description!='Null')&(prior_procedures.procedure_description.notna())]\n",
    "prior_procedures=prior_procedures[(prior_procedures.procedure_time_to_culturetime.notna())&(prior_procedures.procedure_time_to_culturetime!='Null')]\n",
    "prior_procedures=prior_procedures[(prior_procedures.procedure_time_to_culturetime>=0)&(prior_procedures.procedure_time_to_culturetime<=180)]\n",
    "procedures = prior_procedures.procedure_description.unique()\n",
    "\n",
    "for procedure in procedures:\n",
    "    prior_procedures[f\"{procedure}_within_6mo\"] = prior_procedures[prior_procedures['procedure_description'] == procedure]['procedure_time_to_culturetime'].apply(lambda x: 1 if x <= 180 else 0)\n",
    "    \n",
    "\n",
    "columns_to_sum = ['urethral_catheter_within_6mo','surgical_procedure_within_6mo','mechvent_within_6mo','cvc_within_6mo','parenteral_nutrition_within_6mo','dialysis_within_6mo']\n",
    "agg_dict = {col: (col, 'sum') for col in columns_to_sum}\n",
    "prior_procedures = prior_procedures.groupby(['anon_id','pat_enc_csn_id_coded','order_proc_id_coded']).agg(**agg_dict).reset_index() \n",
    "prior_procedures=prior_procedures[['anon_id','pat_enc_csn_id_coded','order_proc_id_coded','urethral_catheter_within_6mo','surgical_procedure_within_6mo','mechvent_within_6mo','cvc_within_6mo','parenteral_nutrition_within_6mo','dialysis_within_6mo']]\n",
    "prior_procedures.drop_duplicates(inplace=True)\n",
    "for col in ['urethral_catheter_within_6mo','surgical_procedure_within_6mo','mechvent_within_6mo','cvc_within_6mo','parenteral_nutrition_within_6mo','dialysis_within_6mo']:\n",
    "    prior_procedures[col]=prior_procedures[col].astype(int)\n",
    "prior_procedures"
   ]
  },
  {
   "cell_type": "code",
   "execution_count": null,
   "metadata": {},
   "outputs": [],
   "source": [
    "df = df.merge(prior_procedures, on =['anon_id','pat_enc_csn_id_coded','order_proc_id_coded'], how = 'left')\n",
    "df.iloc[:,42:]=df.iloc[:,42:].fillna(0)\n",
    "df.head()"
   ]
  },
  {
   "cell_type": "code",
   "execution_count": 29,
   "metadata": {},
   "outputs": [],
   "source": [
    "microbial_resistance=microbial_resistance[(microbial_resistance.organism!='Null')&(microbial_resistance.organism.notna())]\n",
    "microbial_resistance=microbial_resistance[(microbial_resistance.antibiotic!='Null')&(microbial_resistance.antibiotic.notna())]\n",
    "microbial_resistance=microbial_resistance[(microbial_resistance.resistant_time_to_culturetime>=0)&(microbial_resistance.resistant_time_to_culturetime<=180)]\n",
    "microbial_resistance=microbial_resistance[['anon_id','pat_enc_csn_id_coded','order_proc_id_coded','organism','antibiotic']]\n",
    "\n",
    "# microbial resistance (game changer)\n",
    "microbial_resistance = microbial_resistance[microbial_resistance['antibiotic'].isin(['Cefazolin', 'Ceftriaxone', 'Cefepime', 'Piperacillin/Tazobactam', 'Ciprofloxacin'])]\n",
    "\n",
    "# filter for top 10 most common microbes\n",
    "microbial_resistance = microbial_resistance[microbial_resistance['organism'].isin(['ESCHERICHIA COLI', 'PSEUDOMONAS AERUGINOSA', 'MUCOID PSEUDOMONAS AERUGINOSA', \n",
    "                                                                                   'KLEBSIELLA PNEUMONIAE', 'ACHROMOBACTER XYLOSOXIDANS', 'STAPHYLOCOCCUS AUREUS', \n",
    "                                                                                   'PSEUDOMONAS AERUGINOSA (NON-MUCOID CF)', 'ENTEROCOCCUS SPECIES', 'ENTEROBACTER CLOACAE COMPLEX', 'PROTEUS MIRABILIS'])]\n",
    "\n",
    "microbial_resistance.drop_duplicates(inplace=True)\n",
    "microbial_resistance['organism_resistance_antibiotic'] = microbial_resistance['organism'] + '_' + microbial_resistance['antibiotic']\n",
    "microbial_resistance=microbial_resistance[['anon_id','pat_enc_csn_id_coded','order_proc_id_coded','organism_resistance_antibiotic']]\n",
    "microbial_resistance.drop_duplicates(inplace=True)\n"
   ]
  },
  {
   "cell_type": "code",
   "execution_count": null,
   "metadata": {},
   "outputs": [],
   "source": [
    "microbial_resistance = microbial_resistance.groupby([\"anon_id\", \"pat_enc_csn_id_coded\", \"order_proc_id_coded\", \"organism_resistance_antibiotic\"])\\\n",
    "              .size()\\\n",
    "              .unstack(fill_value=0)\\\n",
    "              .reset_index()\n",
    "microbial_resistance.columns.name = None \n",
    "print(microbial_resistance)\n"
   ]
  },
  {
   "cell_type": "code",
   "execution_count": null,
   "metadata": {},
   "outputs": [],
   "source": [
    "df = df.merge(microbial_resistance, on = ['anon_id','pat_enc_csn_id_coded','order_proc_id_coded'], how = 'left')\n",
    "df.iloc[:, 48:] = df.iloc[:, 48:].fillna(0)\n",
    "df.head()"
   ]
  },
  {
   "cell_type": "code",
   "execution_count": null,
   "metadata": {},
   "outputs": [],
   "source": [
    "prior_infecting_organisms=prior_infecting_organisms[(prior_infecting_organisms.prior_infecting_organism_days_to_culutre<=180)&\n",
    "                                                    (prior_infecting_organisms.prior_infecting_organism_days_to_culutre>=0)]\n",
    "\n",
    "prior_infecting_organisms=prior_infecting_organisms[['anon_id','pat_enc_csn_id_coded','order_proc_id_coded','prior_organism']]\n",
    "prior_infecting_organisms.drop_duplicates(inplace=True)\n",
    "prior_infecting_organisms"
   ]
  },
  {
   "cell_type": "code",
   "execution_count": null,
   "metadata": {},
   "outputs": [],
   "source": [
    "prior_infecting_organisms = prior_infecting_organisms.groupby([\"anon_id\", \"pat_enc_csn_id_coded\", \"order_proc_id_coded\", \"prior_organism\"])\\\n",
    "              .size()\\\n",
    "              .unstack(fill_value=0)\\\n",
    "              .reset_index()\n",
    "prior_infecting_organisms.columns.name = None  \n",
    "prior_infecting_organisms.columns = [f\"prior_infected_{col}\" if 3 <= i <= 19 else col for i, col in enumerate(prior_infecting_organisms.columns)]\n",
    "prior_infecting_organisms = prior_infecting_organisms[prior_infecting_organisms.iloc[:, 3:20].gt(0).any(axis=1)]\n",
    "print(prior_infecting_organisms)\n"
   ]
  },
  {
   "cell_type": "code",
   "execution_count": null,
   "metadata": {},
   "outputs": [],
   "source": [
    "df = df.merge(prior_infecting_organisms, on = ['anon_id','pat_enc_csn_id_coded','order_proc_id_coded'], how = 'left')\n",
    "df.iloc[:, 79:] = df.iloc[:, 79:].fillna(0)\n",
    "df.drop_duplicates(inplace=True)\n",
    "df.head()"
   ]
  },
  {
   "cell_type": "code",
   "execution_count": null,
   "metadata": {},
   "outputs": [],
   "source": [
    "prior_med=prior_med[(prior_med.medication_time_to_culturetime>=0)&(prior_med.medication_time_to_culturetime<=180)]\n",
    "prior_med=prior_med[['anon_id','pat_enc_csn_id_coded','order_proc_id_coded','medication_name']]\n",
    "prior_med.drop_duplicates(inplace=True)\n",
    "prior_med"
   ]
  },
  {
   "cell_type": "code",
   "execution_count": null,
   "metadata": {},
   "outputs": [],
   "source": [
    "prior_med = prior_med.groupby([\"anon_id\", \"pat_enc_csn_id_coded\", \"order_proc_id_coded\", \"medication_name\"])\\\n",
    "              .size()\\\n",
    "              .unstack(fill_value=0)\\\n",
    "              .reset_index()\n",
    "prior_med.columns.name = None \n",
    "prior_med.columns = [f\"prior_med_{col}\" if 3 <= i <= 23 else col for i, col in enumerate(prior_med.columns)]\n",
    "prior_med = prior_med[prior_med.iloc[:, 3:23].gt(0).any(axis=1)]\n",
    "print(prior_med)"
   ]
  },
  {
   "cell_type": "code",
   "execution_count": null,
   "metadata": {},
   "outputs": [],
   "source": [
    "df = df.merge(prior_med, on = ['anon_id','pat_enc_csn_id_coded','order_proc_id_coded'],how='left')\n",
    "df.iloc[:, 95:] = df.iloc[:, 95:].fillna(0)\n",
    "df.head()"
   ]
  },
  {
   "cell_type": "code",
   "execution_count": null,
   "metadata": {},
   "outputs": [],
   "source": [
    "antibiotic_class_exposure=antibiotic_class_exposure[(antibiotic_class_exposure.time_to_culturetime>=0)&(antibiotic_class_exposure.time_to_culturetime<=180)]\n",
    "antibiotic_class_exposure=antibiotic_class_exposure[['anon_id','pat_enc_csn_id_coded','order_proc_id_coded','antibiotic_class']]\n",
    "antibiotic_class_exposure.drop_duplicates(inplace=True)\n",
    "antibiotic_class_exposure"
   ]
  },
  {
   "cell_type": "code",
   "execution_count": null,
   "metadata": {},
   "outputs": [],
   "source": [
    "antibiotic_class_exposure = antibiotic_class_exposure.groupby([\"anon_id\", \"pat_enc_csn_id_coded\", \"order_proc_id_coded\", \"antibiotic_class\"])\\\n",
    "              .size()\\\n",
    "              .unstack(fill_value=0)\\\n",
    "              .reset_index()\n",
    "antibiotic_class_exposure.columns.name = None  \n",
    "antibiotic_class_exposure.columns = [f\"prior_abx_class_{col}\" if 3 <= i else col for i, col in enumerate(antibiotic_class_exposure.columns)]\n",
    "print(antibiotic_class_exposure)"
   ]
  },
  {
   "cell_type": "code",
   "execution_count": null,
   "metadata": {},
   "outputs": [],
   "source": [
    "df = df.merge(antibiotic_class_exposure, on = ['anon_id','pat_enc_csn_id_coded','order_proc_id_coded'], how = 'left')\n",
    "df.iloc[:, 115:] = df.iloc[:, 115:].fillna(0)\n",
    "df.head()"
   ]
  },
  {
   "cell_type": "code",
   "execution_count": null,
   "metadata": {},
   "outputs": [],
   "source": [
    "df = df.merge(labs, on = ['anon_id', 'pat_enc_csn_id_coded', 'order_proc_id_coded'], how = 'left')\n",
    "df.head()"
   ]
  },
  {
   "cell_type": "code",
   "execution_count": null,
   "metadata": {},
   "outputs": [],
   "source": [
    "comorbidities=comorbidities[((comorbidities.comorbidity_component_start_days_culture<=180) & (comorbidities.comorbidity_component_start_days_culture>=0)) &\n",
    "                            ((comorbidities.comorbidity_component_end_days_culture<0) | (comorbidities.comorbidity_component_end_days_culture.isna()))]\n",
    "\n",
    "\n",
    "comorbidities=comorbidities[(comorbidities.comorbidity_component!='Null')&(comorbidities.comorbidity_component.notna())]\n",
    "comorbidities=comorbidities[[\"anon_id\", \"pat_enc_csn_id_coded\", \"order_proc_id_coded\", \"comorbidity_component\"]]\n",
    "comorbidities.drop_duplicates(inplace=True)\n",
    "\n",
    "comorbidities = comorbidities.groupby([\"anon_id\", \"pat_enc_csn_id_coded\", \"order_proc_id_coded\", \"comorbidity_component\"])\\\n",
    "              .size()\\\n",
    "              .unstack(fill_value=0)\\\n",
    "              .reset_index()\n",
    "comorbidities.columns.name = None \n",
    "print(comorbidities)"
   ]
  },
  {
   "cell_type": "code",
   "execution_count": null,
   "metadata": {},
   "outputs": [],
   "source": [
    "df = df.merge(comorbidities, on = ['anon_id','pat_enc_csn_id_coded','order_proc_id_coded'], how = 'left')\n",
    "df.iloc[:, 189:] = df.iloc[:, 189:].fillna(0)\n",
    "df.head()"
   ]
  },
  {
   "cell_type": "code",
   "execution_count": null,
   "metadata": {},
   "outputs": [],
   "source": [
    "df.drop_duplicates(inplace=True)\n",
    "df.shape"
   ]
  },
  {
   "cell_type": "code",
   "execution_count": 33,
   "metadata": {},
   "outputs": [],
   "source": [
    "df.to_csv('Model1_with_Comorbidity_components.csv',index=False)"
   ]
  }
 ],
 "metadata": {
  "kernelspec": {
   "display_name": "Python 3 (ipykernel)",
   "language": "python",
   "name": "python3"
  },
  "language_info": {
   "codemirror_mode": {
    "name": "ipython",
    "version": 3
   },
   "file_extension": ".py",
   "mimetype": "text/x-python",
   "name": "python",
   "nbconvert_exporter": "python",
   "pygments_lexer": "ipython3",
   "version": "3.11.6"
  }
 },
 "nbformat": 4,
 "nbformat_minor": 4
}
