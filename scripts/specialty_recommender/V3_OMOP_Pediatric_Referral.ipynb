{
 "cells": [
  {
   "cell_type": "markdown",
   "metadata": {},
   "source": [
    "### V3 OMOP Pediatric Referral"
   ]
  },
  {
   "cell_type": "code",
   "execution_count": 55,
   "metadata": {
    "scrolled": false
   },
   "outputs": [],
   "source": [
    "##Setting up Google sdk environment\n",
    "import os \n",
    "os.environ['GOOGLE_APPLICATION_CREDENTIALS'] = '/Users/wip/.config/gcloud/application_default_credentials.json'\n",
    "os.environ['GCLOUD_PROJECT'] = 'som-nero-phi-jonc101' \n",
    "\n",
    "import pandas as pd\n",
    "import matplotlib.pyplot as plt\n",
    "%matplotlib inline\n",
    "\n",
    "##Setting up BQ API\n",
    "from google.cloud import bigquery\n",
    "client = bigquery.Client()\n",
    "project_id = 'som-rit-phi-starr-prod'\n",
    "dataset_id = 'starr_omop_cdm5_deid_latest'"
   ]
  },
  {
   "cell_type": "code",
   "execution_count": 61,
   "metadata": {},
   "outputs": [],
   "source": [
    "# defining variables\n",
    "year_start = '2014'\n",
    "year_end = '2020'\n",
    "prefix = 'V3'\n",
    "\n",
    "save_project_id = 'som-nero-phi-jonc101'\n",
    "save_dataset_id = 'wui_omop_peds'\n",
    "map_dataset_id = 'starr_datalake2018'\n",
    "\n",
    "table_id_outpt = prefix + '_Outpt_Cohort_' + year_start + '_' + year_end\n",
    "table_id_endorefer =  prefix + '_Endorefer_Cohort_' + year_start + '_' + year_end\n",
    "\n",
    "format_map_dict = {'project_id': project_id,\n",
    "                   'dataset_id': dataset_id, \n",
    "                   'save_project_id': save_project_id,\n",
    "                   'save_dataset_id': save_dataset_id,\n",
    "                   'year_start':year_start,\n",
    "                   'year_end':year_end,\n",
    "                   'map_dataset_id': map_dataset_id\n",
    "                    }\n"
   ]
  },
  {
   "cell_type": "code",
   "execution_count": 62,
   "metadata": {},
   "outputs": [],
   "source": [
    "def save_query_table(sql, table_str):\n",
    "    job_config = bigquery.QueryJobConfig(destination=table_str)\n",
    "    client.delete_table(table_str, not_found_ok = True)\n",
    "    query_job = client.query(sql, job_config=job_config)  \n",
    "    query_job.result() \n",
    "    print(\"Query results loaded to the table {}\".format(table_str))"
   ]
  },
  {
   "cell_type": "code",
   "execution_count": 58,
   "metadata": {},
   "outputs": [
    {
     "name": "stdout",
     "output_type": "stream",
     "text": [
      "Query results loaded to the table som-nero-phi-jonc101.wui_omop_peds.V3_Endorefer_Cohort_2014_2020\n"
     ]
    }
   ],
   "source": [
    "sql = \"\"\"\n",
    "WITH \n",
    "\n",
    "PedEndoReferral AS\n",
    "(SELECT \n",
    "    pr.person_id,\n",
    "    pr.visit_occurrence_id,\n",
    "    pr.procedure_DATETIME as referral_DATETIME,\n",
    "    pr.procedure_source_value AS referral\n",
    " FROM \n",
    "     `{project_id}.{dataset_id}.procedure_occurrence` pr \n",
    " LEFT JOIN \n",
    "    `{project_id}.{dataset_id}.person` p \n",
    " ON \n",
    "     pr.person_id = p.person_id\n",
    " WHERE \n",
    "    REGEXP_CONTAINS(procedure_source_value, r'(?i)referral') AND\n",
    "    REGEXP_CONTAINS(procedure_source_value, r'(?i)endo') AND\n",
    "    (DATETIME_DIFF(pr.procedure_DATETIME, p.birth_DATETIME, DAY) BETWEEN 0 AND 6575)\n",
    "),\n",
    "\n",
    "PrimaryCare AS\n",
    "(SELECT \n",
    "    person_id,\n",
    "    visit_occurrence_id,\n",
    "    visit_start_DATETIME\n",
    "    FROM \n",
    "        `{project_id}.{dataset_id}.visit_occurrence` v\n",
    "    LEFT JOIN\n",
    "        `{project_id}.{dataset_id}.care_site` c \n",
    "    ON \n",
    "        v.care_site_id = c.care_site_id\n",
    "    LEFT JOIN \n",
    "        `{save_project_id}.{map_dataset_id}.dep_map` m \n",
    "    ON \n",
    "        CAST(c.care_site_source_value AS NUMERIC) = m.department_id\n",
    "    WHERE \n",
    "        (m.specialty_dep_c NOT IN ('7','81','106')) AND \n",
    "        v.visit_concept_id IN (0,9202,581477,5083) AND\n",
    "        DATETIME_DIFF(v.visit_end_DATETIME, v.visit_start_DATETIME, DAY) = 0 AND\n",
    "        EXTRACT(YEAR FROM v.visit_start_DATETIME) >= {year_start} AND\n",
    "        EXTRACT(YEAR FROM v.visit_start_DATETIME) <= {year_end}\n",
    "),\n",
    "\n",
    "Endocrine AS \n",
    "(SELECT \n",
    "    person_id,\n",
    "    visit_occurrence_id,\n",
    "    visit_start_DATETIME,\n",
    "FROM \n",
    "    `{project_id}.{dataset_id}.visit_occurrence` v\n",
    "LEFT JOIN\n",
    "    `{project_id}.{dataset_id}.care_site` c \n",
    "ON \n",
    "    v.care_site_id = c.care_site_id\n",
    "LEFT JOIN \n",
    "    `{save_project_id}.{map_dataset_id}.dep_map` m \n",
    "ON \n",
    "    CAST(c.care_site_source_value AS NUMERIC) = m.department_id\n",
    "WHERE \n",
    "    m.specialty_dep_c in ('7','81','106')\n",
    "),\n",
    "\n",
    "Office_Visit AS \n",
    "(SELECT visit_occurrence_id FROM `{project_id}.{dataset_id}.note` \n",
    "     WHERE note_class_concept_id = 3000735)\n",
    "\n",
    "SELECT \n",
    "    r.person_id,\n",
    "    r.visit_occurrence_id AS PrimaryCare_visit_id,\n",
    "    ec.visit_occurrence_id AS Specialty_visit_id,\n",
    "    r.referral_DATETIME,\n",
    "    pc.visit_start_DATETIME AS PrimaryCare_DATETIME,\n",
    "    ec.visit_start_DATETIME AS Specialty_DATETIME, \n",
    "    ROW_NUMBER() OVER (PARTITION BY r.visit_occurrence_id ORDER BY ec.visit_start_DATETIME) AS Endo_visit_rank\n",
    "FROM \n",
    "    PedEndoReferral r\n",
    "INNER JOIN \n",
    "    PrimaryCare pc\n",
    "ON \n",
    "    (r.person_id = pc.person_id) AND \n",
    "    (r.visit_occurrence_id = pc.visit_occurrence_id)\n",
    "INNER JOIN\n",
    "    Endocrine ec\n",
    "ON \n",
    "    (r.person_id = ec.person_id) AND\n",
    "    (DATETIME_DIFF(ec.visit_start_DATETIME, pc.visit_start_DATETIME, DAY) BETWEEN 0 AND 180)\n",
    "WHERE\n",
    "    ec.visit_occurrence_id IN (SELECT * FROM Office_Visit)\n",
    "ORDER BY\n",
    "    r.person_id, pc.visit_start_DATETIME\n",
    "\"\"\".format_map(format_map_dict)\n",
    "\n",
    "table_str = save_project_id + '.' + save_dataset_id + '.' + table_id_endorefer\n",
    "save_query_table(sql, table_str)\n",
    "\n",
    "# m.specialty_dep_c in ('32','72') AND "
   ]
  },
  {
   "cell_type": "code",
   "execution_count": 63,
   "metadata": {},
   "outputs": [
    {
     "name": "stdout",
     "output_type": "stream",
     "text": [
      "Query results loaded to the table som-nero-phi-jonc101.wui_omop_peds.V3_Outpt_Cohort_2014_2020\n"
     ]
    }
   ],
   "source": [
    "# All outpatient visits in the same period\n",
    "sql = \"\"\"\n",
    "    SELECT \n",
    "        person_id,\n",
    "        visit_occurrence_id,\n",
    "        visit_start_DATETIME\n",
    "    FROM \n",
    "        `{project_id}.{dataset_id}.visit_occurrence` v\n",
    "    WHERE \n",
    "        v.visit_concept_id IN (0,9202,581477,5083) AND\n",
    "        DATETIME_DIFF(v.visit_end_DATETIME, v.visit_start_DATETIME, DAY) = 0 AND\n",
    "        EXTRACT(YEAR FROM v.visit_start_DATETIME) >= {year_start} AND\n",
    "        EXTRACT(YEAR FROM v.visit_start_DATETIME) <= {year_end}\n",
    "\"\"\".format_map(format_map_dict)\n",
    "\n",
    "table_str = save_project_id + '.' + save_dataset_id + '.' + table_id_outpt\n",
    "save_query_table(sql, table_str)\n"
   ]
  },
  {
   "cell_type": "code",
   "execution_count": null,
   "metadata": {},
   "outputs": [],
   "source": []
  }
 ],
 "metadata": {
  "kernelspec": {
   "display_name": "Python 3",
   "language": "python",
   "name": "python3"
  },
  "language_info": {
   "codemirror_mode": {
    "name": "ipython",
    "version": 3
   },
   "file_extension": ".py",
   "mimetype": "text/x-python",
   "name": "python",
   "nbconvert_exporter": "python",
   "pygments_lexer": "ipython3",
   "version": "3.8.0"
  }
 },
 "nbformat": 4,
 "nbformat_minor": 2
}
