{
 "cells": [
  {
   "cell_type": "markdown",
   "metadata": {},
   "source": [
    "## Specialty Referral Recommender"
   ]
  },
  {
   "cell_type": "code",
   "execution_count": null,
   "metadata": {},
   "outputs": [],
   "source": [
    "# Running the recommender pipeline \n",
    "from schema import Data, Patient, Item, Instance"
   ]
  },
  {
   "cell_type": "code",
   "execution_count": null,
   "metadata": {},
   "outputs": [],
   "source": [
    "for index, row in Data.patientDF.iterrows():\n",
    "    Patient(row)\n",
    "    \n",
    "for index, row in Data.demographicDF.iterrows():\n",
    "    person_id = row[\"person_id\"]\n",
    "    Patient.patients[person_id].add_demographics(row)\n",
    "    Patient.patients[person_id].add_age(row)\n",
    "                    \n",
    "for category in Data.inputFeatures:\n",
    "    instanceDF = Data.read_BQ(category)\n",
    " \n",
    "    for index, row in instanceDF.iterrows():   \n",
    "        person_id = row[\"person_id\"]\n",
    "        item_instance = Instance.add_instance(row, category)\n",
    "        # generate a unique item code for each unique clinical item\n",
    "        item_code = Item.addItem(item_instance, category)"
   ]
  },
  {
   "cell_type": "code",
   "execution_count": null,
   "metadata": {},
   "outputs": [],
   "source": [
    "from Recommender import Recommender\n",
    "from TableFigures import TableFigure"
   ]
  },
  {
   "cell_type": "code",
   "execution_count": null,
   "metadata": {
    "scrolled": true
   },
   "outputs": [],
   "source": [
    "R = Recommender(Item = Item, Data = Data)\n",
    "R.preprocessing()\n",
    "R.trainSplitbyYear(Patient.patients.values(), year = 2020)\n",
    "R.training(R.trainPatients)\n",
    "R.testing(method_list = ['ppv_mod_wt','prevalence','baselineprevalence','random'], \n",
    "          patient_list = R.testPatients)"
   ]
  },
  {
   "cell_type": "code",
   "execution_count": null,
   "metadata": {
    "scrolled": true
   },
   "outputs": [],
   "source": [
    "TableFigure.result_table(R, method_list = ['ppv_mod_wt','prevalence', 'baselineprevalence','random'])"
   ]
  }
 ],
 "metadata": {
  "kernelspec": {
   "display_name": "Python 3",
   "language": "python",
   "name": "python3"
  },
  "language_info": {
   "codemirror_mode": {
    "name": "ipython",
    "version": 3
   },
   "file_extension": ".py",
   "mimetype": "text/x-python",
   "name": "python",
   "nbconvert_exporter": "python",
   "pygments_lexer": "ipython3",
   "version": "3.8.0"
  }
 },
 "nbformat": 4,
 "nbformat_minor": 2
}
