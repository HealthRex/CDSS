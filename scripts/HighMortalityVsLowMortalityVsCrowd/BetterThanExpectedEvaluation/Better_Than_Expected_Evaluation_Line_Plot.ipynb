{
 "cells": [
  {
   "cell_type": "code",
   "execution_count": 1,
   "metadata": {},
   "outputs": [],
   "source": [
    "import matplotlib.pyplot as plt\n",
    "import numpy as np\n",
    "import pickle\n",
    "import scipy as sp\n",
    "import scipy.stats\n",
    "\n",
    "BASE_DIR = \"/Users/jwang/Desktop/Chen/Top_vs_Bottom_Study/Results_Revisions/Analysis_Better_Than_Expected\"\n",
    "\n",
    "# Load in crowd pickle files\n",
    "crowd_precision_arr = pickle.load(open(\"{0}/crowd_evaluation/precision_arr.pkl\".format(BASE_DIR), \"rb\"))\n",
    "crowd_recall_arr = pickle.load(open(\"{0}/crowd_evaluation/recall_arr.pkl\".format(BASE_DIR), \"rb\"))\n",
    "crowd_f1_arr = pickle.load(open(\"{0}/crowd_evaluation/f1_arr.pkl\".format(BASE_DIR), \"rb\"))\n",
    "crowd_auroc_arr = pickle.load(open(\"{0}/crowd_evaluation/auroc_arr.pkl\".format(BASE_DIR), \"rb\"))\n",
    "\n",
    "# Load in low-mortality pickle files\n",
    "low_mortality_precision_arr = pickle.load(open(\"{0}/low_mortality_evaluation/precision_arr.pkl\".format(BASE_DIR), \"rb\"))\n",
    "low_mortality_recall_arr = pickle.load(open(\"{0}/low_mortality_evaluation/recall_arr.pkl\".format(BASE_DIR), \"rb\"))\n",
    "low_mortality_f1_arr = pickle.load(open(\"{0}/low_mortality_evaluation/f1_arr.pkl\".format(BASE_DIR), \"rb\"))\n",
    "low_mortality_auroc_arr = pickle.load(open(\"{0}/low_mortality_evaluation/auroc_arr.pkl\".format(BASE_DIR), \"rb\"))\n",
    "\n",
    "# Load in high-mortality pickle files\n",
    "high_mortality_precision_arr = pickle.load(open(\"{0}/high_mortality_evaluation/precision_arr.pkl\".format(BASE_DIR), \"rb\"))\n",
    "high_mortality_recall_arr = pickle.load(open(\"{0}/high_mortality_evaluation/recall_arr.pkl\".format(BASE_DIR), \"rb\"))\n",
    "high_mortality_f1_arr = pickle.load(open(\"{0}/high_mortality_evaluation/f1_arr.pkl\".format(BASE_DIR), \"rb\"))\n",
    "high_mortality_auroc_arr = pickle.load(open(\"{0}/high_mortality_evaluation/auroc_arr.pkl\".format(BASE_DIR), \"rb\"))\n",
    "\n",
    "# Load in orderset pickle files\n",
    "orderset_precision_arr = pickle.load(open(\"{0}/orderset_evaluation/precision_arr.pkl\".format(BASE_DIR), \"rb\"))\n",
    "orderset_recall_arr = pickle.load(open(\"{0}/orderset_evaluation/recall_arr.pkl\".format(BASE_DIR), \"rb\"))\n",
    "orderset_f1_arr = pickle.load(open(\"{0}/orderset_evaluation/f1_arr.pkl\".format(BASE_DIR), \"rb\"))\n",
    "orderset_auroc_arr = pickle.load(open(\"{0}/orderset_evaluation/auroc_arr.pkl\".format(BASE_DIR), \"rb\"))\n"
   ]
  },
  {
   "cell_type": "code",
   "execution_count": 2,
   "metadata": {},
   "outputs": [
    {
     "name": "stdout",
     "output_type": "stream",
     "text": [
      "PRECISION\n",
      "Crowd: 0.239989383205 (0.18610200245)\n",
      "Low-Mortality: 0.223844563449 (0.18976491654)\n",
      "High-Mortality: 0.214284617101 (0.180678247498)\n",
      "Orderset: 0.146943652601 (0.119475457635)\n",
      "###########\n",
      "RECALL\n",
      "Crowd: 0.404049150063 (0.276323910187)\n",
      "Low-Mortality: 0.374310608455 (0.266675684384)\n",
      "High-Mortality: 0.358789706368 (0.255265395504)\n",
      "Orderset: 0.262243851256 (0.207515945368)\n",
      "###########\n",
      "F1-Score\n",
      "Crowd: 0.251274637294 (0.143360370045)\n",
      "Low-Mortality: 0.232418424174 (0.140620126326)\n",
      "High-Mortality: 0.22439157297 (0.138102044176)\n",
      "Orderset: 0.158698431604 (0.0993815962405)\n",
      "###########\n",
      "AUROC\n",
      "Crowd: 0.91201130805 (0.052606321537)\n",
      "Low-Mortality: 0.874247075362 (0.0730177001234)\n",
      "High-Mortality: 0.855652569873 (0.0761828991153)\n",
      "Orderset: 0.780179213239 (0.17475444352)\n",
      "###########\n"
     ]
    }
   ],
   "source": [
    "# Summary Statistics\n",
    "# Standard Deviations\n",
    "\n",
    "# Precision at K (K = size of corresponding orderset)\n",
    "print(\"PRECISION\")\n",
    "print(\"Crowd: {0} ({1})\".format(np.mean(crowd_precision_arr), np.std(crowd_precision_arr)))\n",
    "print(\"Low-Mortality: {0} ({1})\".format(np.mean(low_mortality_precision_arr), np.std(low_mortality_precision_arr)))\n",
    "print(\"High-Mortality: {0} ({1})\".format(np.mean(high_mortality_precision_arr), np.std(high_mortality_precision_arr)))\n",
    "print(\"Orderset: {0} ({1})\".format(np.mean(orderset_precision_arr), np.std(orderset_precision_arr)))\n",
    "print(\"###########\")\n",
    "\n",
    "# Recall at K\n",
    "print(\"RECALL\")\n",
    "print(\"Crowd: {0} ({1})\".format(np.mean(crowd_recall_arr), np.std(crowd_recall_arr)))\n",
    "print(\"Low-Mortality: {0} ({1})\".format(np.mean(low_mortality_recall_arr), np.std(low_mortality_recall_arr)))\n",
    "print(\"High-Mortality: {0} ({1})\".format(np.mean(high_mortality_recall_arr), np.std(high_mortality_recall_arr)))\n",
    "print(\"Orderset: {0} ({1})\".format(np.mean(orderset_recall_arr), np.std(orderset_recall_arr)))\n",
    "print(\"###########\")\n",
    "\n",
    "# F1-Score\n",
    "print(\"F1-Score\")\n",
    "print(\"Crowd: {0} ({1})\".format(np.mean(crowd_f1_arr), np.std(crowd_f1_arr)))\n",
    "print(\"Low-Mortality: {0} ({1})\".format(np.mean(low_mortality_f1_arr), np.std(low_mortality_f1_arr)))\n",
    "print(\"High-Mortality: {0} ({1})\".format(np.mean(high_mortality_f1_arr), np.std(high_mortality_f1_arr)))\n",
    "print(\"Orderset: {0} ({1})\".format(np.mean(orderset_f1_arr), np.std(orderset_f1_arr)))\n",
    "print(\"###########\")\n",
    "\n",
    "# AUROC\n",
    "print(\"AUROC\")\n",
    "print(\"Crowd: {0} ({1})\".format(np.mean(crowd_auroc_arr), np.std(crowd_auroc_arr)))\n",
    "print(\"Low-Mortality: {0} ({1})\".format(np.mean(low_mortality_auroc_arr), np.std(low_mortality_auroc_arr)))\n",
    "print(\"High-Mortality: {0} ({1})\".format(np.mean(high_mortality_auroc_arr), np.std(high_mortality_auroc_arr)))\n",
    "print(\"Orderset: {0} ({1})\".format(np.mean(orderset_auroc_arr), np.std(orderset_auroc_arr)))\n",
    "print(\"###########\")\n"
   ]
  },
  {
   "cell_type": "code",
   "execution_count": 3,
   "metadata": {},
   "outputs": [
    {
     "name": "stdout",
     "output_type": "stream",
     "text": [
      "PRECISION\n",
      "Crowd: (0.23998938320544264, 0.22150950687816659, 0.25846925953271865)\n",
      "Low-Mortality: (0.22384456344903478, 0.20500096078618957, 0.24268816611187999)\n",
      "High-Mortality: (0.21428461710149327, 0.1963433181103594, 0.23222591609262713)\n",
      "Orderset: (0.14694365260064496, 0.13507977337213922, 0.15880753182915069)\n",
      "###########\n",
      "RECALL\n",
      "Crowd: (0.40404915006328174, 0.37751434860007005, 0.43058395152649342)\n",
      "Low-Mortality: (0.37431060845485309, 0.34870230573727062, 0.39991891117243555)\n",
      "High-Mortality: (0.35878970636838337, 0.33427710959190432, 0.38330230314486241)\n",
      "Orderset: (0.26224385125624855, 0.24231653332328662, 0.28217116918921048)\n",
      "###########\n",
      "F1-Score\n",
      "Crowd: (0.25127463729382232, 0.23698386389004353, 0.26556541069760115)\n",
      "Low-Mortality: (0.23241842417383077, 0.21840080995663205, 0.24643603839102948)\n",
      "High-Mortality: (0.22439157297005743, 0.2106249719262008, 0.23815817401391406)\n",
      "Orderset: (0.15869843160392, 0.14879165003012007, 0.16860521317771993)\n",
      "###########\n",
      "AUROC\n",
      "Crowd: (0.91201130804976283, 0.90695963410396163, 0.91706298199556402)\n",
      "Low-Mortality: (0.87424707536160229, 0.86723533984163947, 0.8812588108815651)\n",
      "High-Mortality: (0.85565256987294391, 0.84833688697910481, 0.86296825276678302)\n",
      "Orderset: (0.78017921323873973, 0.76221640282441805, 0.79814202365306142)\n",
      "###########\n"
     ]
    }
   ],
   "source": [
    "# Summary Statistics\n",
    "# Confidence Intervals\n",
    "def mean_confidence_interval(data, confidence=0.95):\n",
    "    a = 1.0*np.array(data)\n",
    "    n = len(a)\n",
    "    m, se = np.mean(a), scipy.stats.sem(a)\n",
    "    h = se * sp.stats.t._ppf((1+confidence)/2., n-1)\n",
    "    return (m, m-h, m+h)\n",
    "\n",
    "# Precision at K (K = size of corresponding orderset)\n",
    "print(\"PRECISION\")\n",
    "print(\"Crowd: {0}\".format(mean_confidence_interval(crowd_precision_arr)))\n",
    "print(\"Low-Mortality: {0}\".format(mean_confidence_interval(low_mortality_precision_arr)))\n",
    "print(\"High-Mortality: {0}\".format(mean_confidence_interval(high_mortality_precision_arr)))\n",
    "print(\"Orderset: {0}\".format(mean_confidence_interval(orderset_precision_arr)))\n",
    "print(\"###########\")\n",
    "\n",
    "# Recall at K\n",
    "print(\"RECALL\")\n",
    "print(\"Crowd: {0}\".format(mean_confidence_interval(crowd_recall_arr)))\n",
    "print(\"Low-Mortality: {0}\".format(mean_confidence_interval(low_mortality_recall_arr)))\n",
    "print(\"High-Mortality: {0}\".format(mean_confidence_interval(high_mortality_recall_arr)))\n",
    "print(\"Orderset: {0}\".format(mean_confidence_interval(orderset_recall_arr)))\n",
    "print(\"###########\")\n",
    "\n",
    "# F1-Score\n",
    "print(\"F1-Score\")\n",
    "print(\"Crowd: {0}\".format(mean_confidence_interval(crowd_f1_arr)))\n",
    "print(\"Low-Mortality: {0}\".format(mean_confidence_interval(low_mortality_f1_arr)))\n",
    "print(\"High-Mortality: {0}\".format(mean_confidence_interval(high_mortality_f1_arr)))\n",
    "print(\"Orderset: {0}\".format(mean_confidence_interval(orderset_f1_arr)))\n",
    "print(\"###########\")\n",
    "\n",
    "# AUROC\n",
    "print(\"AUROC\")\n",
    "print(\"Crowd: {0}\".format(mean_confidence_interval(crowd_auroc_arr)))\n",
    "print(\"Low-Mortality: {0}\".format(mean_confidence_interval(low_mortality_auroc_arr)))\n",
    "print(\"High-Mortality: {0}\".format(mean_confidence_interval(high_mortality_auroc_arr)))\n",
    "print(\"Orderset: {0}\".format(mean_confidence_interval(orderset_auroc_arr)))\n",
    "print(\"###########\")\n"
   ]
  },
  {
   "cell_type": "code",
   "execution_count": 4,
   "metadata": {},
   "outputs": [
    {
     "data": {
      "image/png": "[encoded data removed]",
      "text/plain": [
       "<matplotlib.figure.Figure at 0x1083a42d0>"
      ]
     },
     "metadata": {},
     "output_type": "display_data"
    }
   ],
   "source": [
    "# Plot Mean + Standard Deviations \n",
    "import matplotlib.pyplot as plt\n",
    "import numpy as np\n",
    "\n",
    "BASE_DIR = \"/Users/jwang/Desktop/Chen/Top_vs_Bottom_Study/Results_Revisions/Analysis_Better_Than_Expected\"\n",
    "n_groups = 4 # Precision, Recall, F1-Score, AUROC \n",
    "fig, ax0 = plt.subplots(figsize=(18,12))\n",
    "index = np.arange(n_groups)\n",
    "bar_width = 0.20\n",
    "opacity = 1.0\n",
    "\n",
    "# Order: Precision, Recall, F1-Score, AUROC\n",
    "\n",
    "#########\n",
    "# CROWD #\n",
    "#########\n",
    "\n",
    "# Mean, Error\n",
    "crowd_mean = (np.mean(crowd_precision_arr), np.mean(crowd_recall_arr), np.mean(crowd_f1_arr), np.mean(crowd_auroc_arr))\n",
    "crowd_err = (np.std(crowd_precision_arr), np.std(crowd_recall_arr), np.std(crowd_f1_arr), np.std(crowd_auroc_arr))\n",
    "\n",
    "# Plot\n",
    "rects1 = ax0.bar(index, crowd_mean, bar_width,\n",
    "                 alpha=opacity,\n",
    "                 color='dodgerblue',\n",
    "                 label='Crowd Model',\n",
    "                 edgecolor='black',\n",
    "                 yerr=crowd_err, ecolor='dodgerblue', capsize=2)\n",
    "\n",
    "plt.ylim(0,1.1)\n",
    "\n",
    "#################\n",
    "# LOW-MORTALITY #\n",
    "#################\n",
    "\n",
    "# Mean, Error\n",
    "low_mortality_mean = (np.mean(low_mortality_precision_arr), np.mean(low_mortality_recall_arr), np.mean(low_mortality_f1_arr), np.mean(low_mortality_auroc_arr))\n",
    "low_mortality_err = (np.std(low_mortality_precision_arr), np.std(low_mortality_recall_arr), np.std(low_mortality_f1_arr), np.std(low_mortality_auroc_arr))\n",
    "\n",
    "# Plot \n",
    "ax1 = ax0.twinx()\n",
    "rects2 = ax1.bar(index + bar_width, low_mortality_mean, bar_width,\n",
    "                 alpha=opacity,\n",
    "                 color='forestgreen',\n",
    "                 edgecolor='black',\n",
    "                 label='Low-Mortality Model', \n",
    "                 yerr=low_mortality_err, ecolor='forestgreen', capsize=2)\n",
    "\n",
    "plt.ylim(0,1.1)\n",
    "\n",
    "##################\n",
    "# HIGH-MORTALITY #\n",
    "##################\n",
    "\n",
    "# Mean, Error\n",
    "high_mortality_mean = (np.mean(high_mortality_precision_arr), np.mean(high_mortality_recall_arr), np.mean(high_mortality_f1_arr), np.mean(high_mortality_auroc_arr))\n",
    "high_mortality_err = (np.std(high_mortality_precision_arr), np.std(high_mortality_recall_arr), np.std(high_mortality_f1_arr), np.std(high_mortality_auroc_arr))\n",
    "\n",
    "# Plot\n",
    "ax2 = ax1.twinx()\n",
    "rects3 = ax2.bar(index + bar_width*2, high_mortality_mean, bar_width,\n",
    "                 alpha=opacity,\n",
    "                 color='red',\n",
    "                 edgecolor='black',\n",
    "                 label='High-Mortality Model', \n",
    "                 yerr=high_mortality_err, ecolor='red', capsize=2)\n",
    "\n",
    "plt.ylim(0,1.1)\n",
    "\n",
    "############\n",
    "# ORDERSET #\n",
    "############\n",
    "\n",
    "# Mean, Error\n",
    "orderset_mean = (np.mean(orderset_precision_arr), np.mean(orderset_recall_arr), np.mean(orderset_f1_arr), np.mean(orderset_auroc_arr))\n",
    "orderset_err = (np.std(orderset_precision_arr), np.std(orderset_recall_arr), np.std(orderset_f1_arr), np.std(orderset_auroc_arr))\n",
    "\n",
    "# Plot\n",
    "ax3 = ax2.twinx()\n",
    "rects4 = ax3.bar(index + bar_width*3, orderset_mean, bar_width,\n",
    "                 alpha=opacity,\n",
    "                 color='aqua',\n",
    "                 edgecolor='black',\n",
    "                 label='Orderset Benchmark', \n",
    "                 yerr=orderset_err, ecolor='aqua', capsize=2)\n",
    " \n",
    "plt.ylim(0,1.1)\n",
    "\n",
    "##########################################################################################################################################\n",
    "\n",
    "plt.tick_params(top='off',bottom='off',labelbottom='off')\n",
    "# plt.legend(loc='upper left')\n",
    "plt.show()\n"
   ]
  },
  {
   "cell_type": "code",
   "execution_count": 5,
   "metadata": {},
   "outputs": [
    {
     "data": {
      "image/png": "[encoded data removed]",
      "text/plain": [
       "<matplotlib.figure.Figure at 0x1052f6590>"
      ]
     },
     "metadata": {},
     "output_type": "display_data"
    }
   ],
   "source": [
    "# Plot Mean + Confidence Intervals\n",
    "import matplotlib.pyplot as plt\n",
    "import numpy as np\n",
    "\n",
    "# Modified confidence interval function to output tuple of only (top, bottom) NOT (mean, top, bottom)\n",
    "def mean_confidence_interval_altered_output(data, confidence=0.95):\n",
    "    a = 1.0*np.array(data)\n",
    "    n = len(a)\n",
    "    m, se = np.mean(a), scipy.stats.sem(a)\n",
    "    h = se * sp.stats.t._ppf((1+confidence)/2., n-1)\n",
    "    return (m-h, m+h)\n",
    "\n",
    "# Precision\n",
    "precision_means = (np.mean(crowd_precision_arr), np.mean(low_mortality_precision_arr), np.mean(high_mortality_precision_arr), np.mean(orderset_precision_arr))\n",
    "precision_intervals = (mean_confidence_interval_altered_output(crowd_precision_arr), mean_confidence_interval_altered_output(low_mortality_precision_arr), mean_confidence_interval_altered_output(high_mortality_precision_arr), mean_confidence_interval_altered_output(orderset_precision_arr))\n",
    "plt.figure(figsize=(12,8))\n",
    "\n",
    "plt.errorbar(x=np.arange(0.1, 0.5, 0.1), \n",
    "             y=precision_means, fmt='ko', markersize=8,\n",
    "             yerr=[(top-bottom)/2 for (bottom, top) in precision_intervals],\n",
    "             ecolor=['dodgerblue','forestgreen','red','aqua'], \n",
    "             elinewidth=8)\n",
    "plt.show()"
   ]
  },
  {
   "cell_type": "code",
   "execution_count": 6,
   "metadata": {},
   "outputs": [
    {
     "data": {
      "image/png": "[encoded data removed]",
      "text/plain": [
       "<matplotlib.figure.Figure at 0x108545490>"
      ]
     },
     "metadata": {},
     "output_type": "display_data"
    }
   ],
   "source": [
    "# Plot Mean + Confidence Intervals\n",
    "import matplotlib.pyplot as plt\n",
    "import numpy as np\n",
    "\n",
    "# Modified confidence interval function to output tuple of only (top, bottom) NOT (mean, top, bottom)\n",
    "def mean_confidence_interval_altered_output(data, confidence=0.95):\n",
    "    a = 1.0*np.array(data)\n",
    "    n = len(a)\n",
    "    m, se = np.mean(a), scipy.stats.sem(a)\n",
    "    h = se * sp.stats.t._ppf((1+confidence)/2., n-1)\n",
    "    return (m-h, m+h)\n",
    "\n",
    "# Recall\n",
    "recall_means = (np.mean(crowd_recall_arr), np.mean(low_mortality_recall_arr), np.mean(high_mortality_recall_arr), np.mean(orderset_recall_arr))\n",
    "recall_intervals = (mean_confidence_interval_altered_output(crowd_recall_arr), mean_confidence_interval_altered_output(low_mortality_recall_arr), mean_confidence_interval_altered_output(high_mortality_recall_arr), mean_confidence_interval_altered_output(orderset_recall_arr))\n",
    "plt.figure(figsize=(12,8))\n",
    "\n",
    "plt.errorbar(x=np.arange(0.1, 0.5, 0.1), \n",
    "             y=recall_means, fmt='ko', markersize=8,\n",
    "             yerr=[(top-bottom)/2 for (bottom, top) in recall_intervals],\n",
    "             ecolor=['dodgerblue','forestgreen','red','aqua'], \n",
    "             elinewidth=8)\n",
    "plt.show()"
   ]
  },
  {
   "cell_type": "code",
   "execution_count": 7,
   "metadata": {},
   "outputs": [
    {
     "data": {
      "image/png": "[encoded data removed]",
      "text/plain": [
       "<matplotlib.figure.Figure at 0x108f62fd0>"
      ]
     },
     "metadata": {},
     "output_type": "display_data"
    }
   ],
   "source": [
    "# Plot Mean + Confidence Intervals\n",
    "import matplotlib.pyplot as plt\n",
    "import numpy as np\n",
    "\n",
    "# Modified confidence interval function to output tuple of only (top, bottom) NOT (mean, top, bottom)\n",
    "def mean_confidence_interval_altered_output(data, confidence=0.95):\n",
    "    a = 1.0*np.array(data)\n",
    "    n = len(a)\n",
    "    m, se = np.mean(a), scipy.stats.sem(a)\n",
    "    h = se * sp.stats.t._ppf((1+confidence)/2., n-1)\n",
    "    return (m-h, m+h)\n",
    "\n",
    "# AUROC\n",
    "auroc_means = (np.mean(crowd_auroc_arr), np.mean(low_mortality_auroc_arr), np.mean(high_mortality_auroc_arr), np.mean(orderset_auroc_arr))\n",
    "auroc_intervals = (mean_confidence_interval_altered_output(crowd_auroc_arr), mean_confidence_interval_altered_output(low_mortality_auroc_arr), mean_confidence_interval_altered_output(high_mortality_auroc_arr), mean_confidence_interval_altered_output(orderset_auroc_arr))\n",
    "plt.figure(figsize=(12,8))\n",
    "\n",
    "plt.errorbar(x=np.arange(0.1, 0.5, 0.1), \n",
    "             y=auroc_means, fmt='ko', markersize=8,\n",
    "             yerr=[(top-bottom)/2 for (bottom, top) in auroc_intervals],\n",
    "             ecolor=['dodgerblue','forestgreen','red','aqua'], \n",
    "             elinewidth=8)\n",
    "plt.plot(x=np.arange(0.1,0.5,0.1), y=auroc_means)\n",
    "plt.show()"
   ]
  },
  {
   "cell_type": "code",
   "execution_count": 10,
   "metadata": {},
   "outputs": [
    {
     "name": "stdout",
     "output_type": "stream",
     "text": [
      "Ttest_indResult(statistic=8.5895758607766588, pvalue=4.8997050499268276e-17)\n",
      "Ttest_indResult(statistic=13.892847121350428, pvalue=1.989462511892172e-36)\n"
     ]
    }
   ],
   "source": [
    "# P-Value: Two-Sample T-Test on Mean with Unequal Variance (Welch's T-Test)\n",
    "print(scipy.stats.ttest_ind(crowd_auroc_arr, low_mortality_auroc_arr, equal_var=False))\n",
    "print(scipy.stats.ttest_ind(crowd_auroc_arr, orderset_auroc_arr, equal_var=False))"
   ]
  },
  {
   "cell_type": "code",
   "execution_count": null,
   "metadata": {},
   "outputs": [],
   "source": []
  },
  {
   "cell_type": "code",
   "execution_count": null,
   "metadata": {},
   "outputs": [],
   "source": []
  }
 ],
 "metadata": {
  "kernelspec": {
   "display_name": "Python 2",
   "language": "python",
   "name": "python2"
  },
  "language_info": {
   "codemirror_mode": {
    "name": "ipython",
    "version": 2
   },
   "file_extension": ".py",
   "mimetype": "text/x-python",
   "name": "python",
   "nbconvert_exporter": "python",
   "pygments_lexer": "ipython2",
   "version": "2.7.10"
  }
 },
 "nbformat": 4,
 "nbformat_minor": 2
}
