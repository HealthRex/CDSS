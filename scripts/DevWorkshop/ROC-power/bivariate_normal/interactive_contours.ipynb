{
 "cells": [
  {
   "cell_type": "code",
   "execution_count": 29,
   "metadata": {},
   "outputs": [],
   "source": [
    "import numpy as np\n",
    "import matplotlib.pyplot as plt\n",
    "from scipy.stats import norm, multivariate_normal, bernoulli\n",
    "from scipy.special import expit, logit\n",
    "\n",
    "to_01_fun = norm.cdf # expit\n",
    "to_r_fun = norm.ppf # logit\n",
    "\n",
    "def plot_contour(fig, ax, X_mean, Y_mean, X_var, Y_var, corr, cases = True, epsi=1e-6, n_points=300): \n",
    "    x_ori = np.linspace(epsi, 1-epsi, n_points)\n",
    "    x = to_r_fun(x_ori)\n",
    "    X, Y = np.meshgrid(x,x)\n",
    "    XY = np.array([[(X[i,j], Y[i,j]) for j in range(n_points)] for i in range(n_points)])\n",
    "\n",
    "    mean_0 = to_r_fun(X_mean); mean_1 = to_r_fun(Y_mean)\n",
    "    mean = [mean_0, mean_1]\n",
    "    var_0 = -np.log(1-X_var); var_1 = -np.log(1-Y_var)\n",
    "    diag = corr * np.sqrt(var_0 * var_1 )\n",
    "\n",
    "    covariance = [[var_0, diag], [diag, var_1]]\n",
    "    bivariate_normal = multivariate_normal(mean=mean, cov=covariance)\n",
    "    Z = bivariate_normal.pdf(XY)\n",
    "\n",
    "    num_samples = 1000\n",
    "    samples_ori = bivariate_normal.rvs(size=num_samples)\n",
    "    samples = to_01_fun(samples_ori)\n",
    "    E_X, E_Y = samples.mean(axis=0)\n",
    "\n",
    "    X_ori, Y_ori = np.meshgrid(x_ori, x_ori)\n",
    "\n",
    "    contour = ax.contourf(X_ori, Y_ori, Z, levels=200, cmap='RdBu_r')\n",
    "    ax.set_xlim(0, 1)\n",
    "    ax.set_ylim(0, 1)\n",
    "    #if not cases:\n",
    "    cbar = fig.colorbar(contour, ax=ax, fraction=0.046, pad=0.04)\n",
    "    cbar.set_label('Density', rotation=270, labelpad=15)\n",
    "\n",
    "    ax.plot(E_X, E_Y, marker='X', color='black', markersize=12)\n",
    "    ax.plot([0, 1], [0, 1], '-', color='black', linewidth=1)\n",
    "    ax.plot([E_X, E_X], [0, E_Y], '--', color='black', linewidth=0.75)\n",
    "    ax.plot([0, E_X], [E_Y, E_Y], '--', color='black', linewidth=0.75)\n",
    "\n",
    "    if cases:\n",
    "        ax.set_title('Cases $(Y=1)$\\n' + fr'The average Predicted Probability is {E_X:.2f} for Model A, and {E_Y:.2f} for Model B')\n",
    "    else:\n",
    "        ax.set_title('Controls $(Y=0)$\\n' + fr'The average Predicted Probability is {E_X:.2f} for Model A, and {E_Y:.2f} for Model B')\n",
    "    ax.set_xlabel('Predictions from Model A')#(r'$\\tilde{Y}_A$')\n",
    "    ax.set_ylabel('Predictions from Model B')#(r'$\\tilde{Y}_B$', rotation=0)\n",
    "\n",
    "    return samples"
   ]
  },
  {
   "cell_type": "code",
   "execution_count": 30,
   "metadata": {},
   "outputs": [],
   "source": [
    "def int_plot(X_mean_cases, Y_mean_cases, X_var_cases, Y_var_cases, corr_cases, X_mean_controls, Y_mean_controls, X_var_controls, Y_var_controls, corr_controls):\n",
    "    fig = plt.figure(figsize=(20, 20))\n",
    "    ax1 = plt.subplot2grid((3, 2), (0, 0))\n",
    "    samples_cases = plot_contour(fig, ax1, X_mean=X_mean_cases, Y_mean=Y_mean_cases, X_var=X_var_cases, Y_var=Y_var_cases, corr=corr_cases, cases=True)\n",
    "\n",
    "    ax2 = plt.subplot2grid((3, 2), (0, 1))\n",
    "    samples_controls = plot_contour(fig, ax2, X_mean=X_mean_controls, Y_mean=Y_mean_controls, X_var=X_var_controls, Y_var=Y_var_controls, corr=corr_controls, cases=False)"
   ]
  },
  {
   "cell_type": "code",
   "execution_count": 31,
   "metadata": {},
   "outputs": [],
   "source": [
    "#int_plot(X_mean_cases = 0.5, Y_mean_cases = 0.5, X_var_cases = 0.1, Y_var_cases = 0.1, corr_cases = 0.5, X_mean_controls = 0.95, Y_mean_controls = 0.5, X_var_controls = 0.1, Y_var_controls = 0.1, corr_controls = .6)"
   ]
  },
  {
   "cell_type": "code",
   "execution_count": 32,
   "metadata": {},
   "outputs": [],
   "source": [
    "from ipywidgets import interact, FloatSlider, Layout"
   ]
  },
  {
   "cell_type": "code",
   "execution_count": 33,
   "metadata": {},
   "outputs": [
    {
     "data": {
      "application/vnd.jupyter.widget-view+json": {
       "model_id": "1e47bc467dbf4ec2a7af0a55f1b1f854",
       "version_major": 2,
       "version_minor": 0
      },
      "text/plain": [
       "interactive(children=(FloatSlider(value=0.85, description='Mean Prediction from Model A in Cases', layout=Layo…"
      ]
     },
     "metadata": {},
     "output_type": "display_data"
    }
   ],
   "source": [
    "interact(int_plot,\n",
    "            X_mean_cases = FloatSlider(value=0.85, min=0, max=1, step=0.01, description='Mean Prediction from Model A in Cases', layout=Layout(width='100%'), style={'description_width': 'initial'}),\n",
    "            Y_mean_cases = FloatSlider(value=0.75, min=0, max=1, step=0.01, description='Mean Prediction from Model B in Cases', layout=Layout(width='100%'), style={'description_width': 'initial'}),\n",
    "            X_var_cases = FloatSlider(value=0.2, min=0, max=1, step=0.01, description='Variance of the Predictions from Model A in Cases', layout=Layout(width='100%'), style={'description_width': 'initial'}),\n",
    "            Y_var_cases = FloatSlider(value=0.3, min=0, max=1, step=0.01, description='Variance of the Predictions from Model B in Cases', layout=Layout(width='100%'), style={'description_width': 'initial'}),\n",
    "            corr_cases = FloatSlider(value=0.2, min=0, max=1, step=0.01, description='Correlation of the Predictions of Models A and B in Cases', layout=Layout(width='100%'), style={'description_width': 'initial'}),\n",
    "            X_mean_controls = FloatSlider(value=0.3, min=0, max=1, step=0.01, description='Mean Prediction from Model A in Controls', layout=Layout(width='100%'), style={'description_width': 'initial'}),\n",
    "            Y_mean_controls = FloatSlider(value=0.2, min=0, max=1, step=0.01, description='Mean Prediction from Model B in Controls', layout=Layout(width='100%'), style={'description_width': 'initial'}),\n",
    "            X_var_controls = FloatSlider(value=0.2, min=0, max=1, step=0.01, description='Variance of the Predictions from Model A in Controls', layout=Layout(width='100%'), style={'description_width': 'initial'}),\n",
    "            Y_var_controls = FloatSlider(value=0.3, min=0, max=1, step=0.01, description='Variance of the Predictions from Model B in Controls', layout=Layout(width='100%'), style={'description_width': 'initial'}),\n",
    "            corr_controls = FloatSlider(value=0.5, min=0, max=1, step=0.01, description='Correlation of the Predictions of Models A and B in Controls', layout=Layout(width='100%'), style={'description_width': 'initial'})\n",
    "        );"
   ]
  }
 ],
 "metadata": {
  "kernelspec": {
   "display_name": "auroc_power",
   "language": "python",
   "name": "python3"
  },
  "language_info": {
   "codemirror_mode": {
    "name": "ipython",
    "version": 3
   },
   "file_extension": ".py",
   "mimetype": "text/x-python",
   "name": "python",
   "nbconvert_exporter": "python",
   "pygments_lexer": "ipython3",
   "version": "3.1.undefined"
  }
 },
 "nbformat": 4,
 "nbformat_minor": 2
}
