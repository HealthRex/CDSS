{
 "cells": [
  {
   "cell_type": "code",
   "execution_count": 1,
   "id": "4870d995",
   "metadata": {},
   "outputs": [
    {
     "name": "stderr",
     "output_type": "stream",
     "text": [
      "/opt/homebrew/Caskroom/miniforge/base/lib/python3.9/site-packages/google/auth/_default.py:70: UserWarning: Your application has authenticated using end user credentials from Google Cloud SDK without a quota project. You might receive a \"quota exceeded\" or \"API not enabled\" error. We recommend you rerun `gcloud auth application-default login` and make sure a quota project is added. Or you can use service accounts instead. For more information about service accounts, see https://cloud.google.com/docs/authentication/\n",
      "  warnings.warn(_CLOUD_SDK_CREDENTIALS_WARNING)\n",
      "/opt/homebrew/Caskroom/miniforge/base/lib/python3.9/site-packages/google/auth/_default.py:70: UserWarning: Your application has authenticated using end user credentials from Google Cloud SDK without a quota project. You might receive a \"quota exceeded\" or \"API not enabled\" error. We recommend you rerun `gcloud auth application-default login` and make sure a quota project is added. Or you can use service accounts instead. For more information about service accounts, see https://cloud.google.com/docs/authentication/\n",
      "  warnings.warn(_CLOUD_SDK_CREDENTIALS_WARNING)\n"
     ]
    }
   ],
   "source": [
    "from google.cloud import bigquery\n",
    "import pandas as pd\n",
    "import os\n",
    "import time\n",
    "\n",
    "os.environ['GOOGLE_APPLICATION+CREDENTIALS'] = '/Users/nrabbani/.config/gcloud/application_default_credentials.json'\n",
    "os.environ['GCLOUD_PROJECT'] = 'mining-clinical-decisions'\n",
    "%load_ext google.cloud.bigquery\n",
    "\n",
    "client=bigquery.Client()"
   ]
  },
  {
   "cell_type": "code",
   "execution_count": 2,
   "id": "67eec892",
   "metadata": {},
   "outputs": [],
   "source": [
    "query = '''\n",
    "SELECT * FROM njr_labutil.lradt\n",
    "WHERE\n",
    "    (pat_class = 'Inpatient' OR pat_class = 'Surgery Admit')\n",
    "    AND pat_service NOT IN (\n",
    "        'Obstetrics', 'Maternal-Fetal Medicine',\n",
    "        'Reproductive Endocrinology and Infertility',\n",
    "        'Gynecology & Obstetrics', 'Gynecology',\n",
    "        'Intensive Care', 'Neonatology', 'Cardiovascular Intensive Care')\n",
    "    AND (pat_lv_of_care = 'Acute Care' OR pat_lv_of_care='')\n",
    "    AND accomodation IN (\n",
    "            'PEDS MED/SURG Level 1','PEDS MED/SURG Level 2', 'PEDS MED/SURG Level 3',\n",
    "            'PEDS Med/Surg',\n",
    "            'CCP Med/Surg Level 1','CCP Med/Surg Level 2','CCP Med/Surg Level 3',\n",
    "            'PEDS TXP Med/Surg Level 1', 'PEDS TXP Med/Surg Level 2','PEDS TXP Med/Surg Level 3',\n",
    "            'Oncology Level 1', 'Oncology Level 2', 'Oncology Level 3', 'Oncology Level 4', 'SCT', 'Onc Med/Surg', 'SCT 2 (SCT 2)',\n",
    "            'ICN Lvl A', 'ICN Lvl B', 'ICN Lvl C', 'ICN Lvl D'\n",
    "    )\n",
    "'''\n",
    "query_job = client.query(query)"
   ]
  },
  {
   "cell_type": "code",
   "execution_count": 3,
   "id": "91368d1b",
   "metadata": {},
   "outputs": [
    {
     "name": "stdout",
     "output_type": "stream",
     "text": [
      "834.7488169670105\n"
     ]
    }
   ],
   "source": [
    "tic = time.time()\n",
    "lradt = query_job.to_dataframe()\n",
    "print(time.time() - tic)"
   ]
  },
  {
   "cell_type": "code",
   "execution_count": 4,
   "id": "c7c4d631",
   "metadata": {},
   "outputs": [],
   "source": [
    "lradt.loc[~lradt.ord_num_value.isnull()].to_pickle('data/lradt_20211025.pkl')"
   ]
  },
  {
   "cell_type": "code",
   "execution_count": null,
   "id": "e809aaed",
   "metadata": {},
   "outputs": [],
   "source": []
  }
 ],
 "metadata": {
  "kernelspec": {
   "display_name": "Python 3 (ipykernel)",
   "language": "python",
   "name": "python3"
  },
  "language_info": {
   "codemirror_mode": {
    "name": "ipython",
    "version": 3
   },
   "file_extension": ".py",
   "mimetype": "text/x-python",
   "name": "python",
   "nbconvert_exporter": "python",
   "pygments_lexer": "ipython3",
   "version": "3.9.6"
  }
 },
 "nbformat": 4,
 "nbformat_minor": 5
}
