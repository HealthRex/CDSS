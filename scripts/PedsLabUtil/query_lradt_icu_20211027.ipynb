{
 "cells": [
  {
   "cell_type": "code",
   "execution_count": 1,
   "id": "d73eecef",
   "metadata": {},
   "outputs": [
    {
     "name": "stderr",
     "output_type": "stream",
     "text": [
      "/opt/homebrew/Caskroom/miniforge/base/lib/python3.9/site-packages/google/auth/_default.py:70: UserWarning: Your application has authenticated using end user credentials from Google Cloud SDK without a quota project. You might receive a \"quota exceeded\" or \"API not enabled\" error. We recommend you rerun `gcloud auth application-default login` and make sure a quota project is added. Or you can use service accounts instead. For more information about service accounts, see https://cloud.google.com/docs/authentication/\n",
      "  warnings.warn(_CLOUD_SDK_CREDENTIALS_WARNING)\n",
      "/opt/homebrew/Caskroom/miniforge/base/lib/python3.9/site-packages/google/auth/_default.py:70: UserWarning: Your application has authenticated using end user credentials from Google Cloud SDK without a quota project. You might receive a \"quota exceeded\" or \"API not enabled\" error. We recommend you rerun `gcloud auth application-default login` and make sure a quota project is added. Or you can use service accounts instead. For more information about service accounts, see https://cloud.google.com/docs/authentication/\n",
      "  warnings.warn(_CLOUD_SDK_CREDENTIALS_WARNING)\n"
     ]
    }
   ],
   "source": [
    "from google.cloud import bigquery\n",
    "import pandas as pd\n",
    "import os\n",
    "import time\n",
    "\n",
    "os.environ['GOOGLE_APPLICATION+CREDENTIALS'] = '/Users/nrabbani/.config/gcloud/application_default_credentials.json'\n",
    "os.environ['GCLOUD_PROJECT'] = 'mining-clinical-decisions'\n",
    "%load_ext google.cloud.bigquery\n",
    "\n",
    "client=bigquery.Client()"
   ]
  },
  {
   "cell_type": "code",
   "execution_count": 2,
   "id": "8aeb0e43",
   "metadata": {},
   "outputs": [],
   "source": [
    "# Excluding accomodation ECMO and CVVH\n",
    "query = '''\n",
    "SELECT * FROM njr_labutil.lradt\n",
    "    WHERE\n",
    "        (pat_class = 'Inpatient' OR pat_class = 'Surgery Admit')\n",
    "        AND pat_service NOT IN (\n",
    "            'Obstetrics', 'Maternal-Fetal Medicine',\n",
    "            'Reproductive Endocrinology and Infertility',\n",
    "            'Gynecology & Obstetrics', 'Gynecology', 'OB Anesthesia')\n",
    "        AND (pat_lv_of_care = 'Critical Care'\n",
    "            OR (pat_lv_of_care='' AND accomodation IN (\n",
    "                'CV Critical Care Level 1', 'CV Critical Care Level 2', 'CV Critical Care Level 3', \n",
    "                'Critical Care Level 1', 'Critical Care Level 2', 'Critical Care Level 3', \n",
    "                'NICU Level 3 (174)', 'NICU Level 4',\n",
    "                'Neonatal Level 1 (172)', 'Neonatal Level 2 (173)', 'Neonatal Level 3 (173)'\n",
    "                )\n",
    "            )\n",
    "        )\n",
    "        AND (accomodation NOT IN ('CVVH', 'ECMO')\n",
    "        )\n",
    "'''"
   ]
  },
  {
   "cell_type": "code",
   "execution_count": 3,
   "id": "994e3bd1",
   "metadata": {},
   "outputs": [],
   "source": [
    "query_job = client.query(query)\n",
    "df = query_job.to_dataframe()"
   ]
  },
  {
   "cell_type": "code",
   "execution_count": 4,
   "id": "a464299e",
   "metadata": {},
   "outputs": [
    {
     "name": "stdout",
     "output_type": "stream",
     "text": [
      "Query run:  1635350925.3993752\n",
      "Query run time:  1213.1376338005066\n"
     ]
    }
   ],
   "source": [
    "tic = time.time()\n",
    "lradt = query_job.to_dataframe()\n",
    "print('Query run time: ', time.time() - tic)"
   ]
  },
  {
   "cell_type": "code",
   "execution_count": 5,
   "id": "e04e07c6",
   "metadata": {},
   "outputs": [],
   "source": [
    "lradt.loc[~lradt.ord_num_value.isnull()].to_pickle('data/lradt_icu_20211027.pkl')"
   ]
  }
 ],
 "metadata": {
  "kernelspec": {
   "display_name": "Python 3 (ipykernel)",
   "language": "python",
   "name": "python3"
  },
  "language_info": {
   "codemirror_mode": {
    "name": "ipython",
    "version": 3
   },
   "file_extension": ".py",
   "mimetype": "text/x-python",
   "name": "python",
   "nbconvert_exporter": "python",
   "pygments_lexer": "ipython3",
   "version": "3.9.6"
  }
 },
 "nbformat": 4,
 "nbformat_minor": 5
}
