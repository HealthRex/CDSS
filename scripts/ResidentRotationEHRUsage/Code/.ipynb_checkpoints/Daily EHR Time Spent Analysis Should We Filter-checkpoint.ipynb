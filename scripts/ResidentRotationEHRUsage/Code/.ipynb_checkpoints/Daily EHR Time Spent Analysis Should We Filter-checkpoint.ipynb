{
 "cells": [
  {
   "cell_type": "code",
   "execution_count": 35,
   "metadata": {},
   "outputs": [],
   "source": [
    "import pickle\n",
    "import matplotlib.pyplot as plt\n",
    "import numpy as np"
   ]
  },
  {
   "cell_type": "code",
   "execution_count": 44,
   "metadata": {},
   "outputs": [],
   "source": [
    "# load in pickled daily EHR time arrays\n",
    "# in reality, daily usage is currently in seconds...\n",
    "PGY1_general_medicine = np.array(pickle.load(open(\"daily_usage_in_minutes_PGY1_2.pkl\", \"rb\")))/3600.0\n",
    "PGY1_night_team = np.array(pickle.load(open(\"daily_usage_in_minutes_PGY1_5.pkl\", \"rb\")))/3600.0\n",
    "PGY1_emergency_medicine = np.array(pickle.load(open(\"daily_usage_in_minutes_PGY1_22.pkl\", \"rb\")))/3600.0\n",
    "\n",
    "PGY2plus_general_medicine = np.array(pickle.load(open(\"daily_usage_in_minutes_PGY2+_2.pkl\", \"rb\")))/3600.0\n",
    "PGY2plus_night_team = np.array(pickle.load(open(\"daily_usage_in_minutes_PGY2+_5.pkl\", \"rb\")))/3600.0\n",
    "PGY2plus_emergency_medicine = np.array(pickle.load(open(\"daily_usage_in_minutes_PGY2+_22.pkl\", \"rb\")))/3600.0\n",
    "PGY2plus_intensive_care = np.array(pickle.load(open(\"daily_usage_in_minutes_PGY2+_27.pkl\", \"rb\")))/3600.0"
   ]
  },
  {
   "cell_type": "code",
   "execution_count": 45,
   "metadata": {},
   "outputs": [
    {
     "data": {
      "image/png": "[encoded data removed]",
      "text/plain": [
       "<matplotlib.figure.Figure at 0x11170f250>"
      ]
     },
     "metadata": {},
     "output_type": "display_data"
    }
   ],
   "source": [
    "# plot histograms\n",
    "plt.hist(PGY1_general_medicine, bins=100)\n",
    "plt.show()"
   ]
  },
  {
   "cell_type": "code",
   "execution_count": 46,
   "metadata": {},
   "outputs": [
    {
     "data": {
      "image/png": "[encoded data removed]",
      "text/plain": [
       "<matplotlib.figure.Figure at 0x111829090>"
      ]
     },
     "metadata": {},
     "output_type": "display_data"
    }
   ],
   "source": [
    "plt.hist(PGY2plus_general_medicine, bins=100)\n",
    "plt.show()"
   ]
  },
  {
   "cell_type": "code",
   "execution_count": 37,
   "metadata": {},
   "outputs": [
    {
     "name": "stdout",
     "output_type": "stream",
     "text": [
      "(4.7765933271723418, 5.7576290486564989)\n",
      "(4.4302150045745661, 4.8105791538723981)\n",
      "(5.2893193054010625, 6.3121227477477468)\n",
      "(4.5419489247311819, 5.4964386661097189)\n",
      "(5.3527890580936264, 5.7108995922528027)\n",
      "(5.2154716981132072, 6.5279935275080891)\n",
      "(3.9430968953007679, 4.8178754607688257)\n"
     ]
    }
   ],
   "source": [
    "# print averages with and without filtering < threshold hours \n",
    "threshold = 2.0 # hours\n",
    "\n",
    "print(\"Without Filtering\", \"With Filtering\")\n",
    "# PGY1\n",
    "print(\"PGY1 General Medicine\")\n",
    "PGY1_general_medicine_filtered = np.array(filter(lambda x:x>2.0, PGY1_general_medicine))\n",
    "print(np.mean(PGY1_general_medicine), np.mean(PGY1_general_medicine_filtered))\n",
    "print(\"PGY1 Night Team\")\n",
    "PGY1_night_team_filtered = np.array(filter(lambda x:x>2.0, PGY1_night_team))\n",
    "print(np.mean(PGY1_night_team), np.mean(PGY1_night_team_filtered))\n",
    "PGY1_emergency_medicine_filtered = np.array(filter(lambda x:x>2.0, PGY1_emergency_medicine))\n",
    "print(np.mean(PGY1_emergency_medicine), np.mean(PGY1_emergency_medicine_filtered))\n",
    "\n",
    "# PGY2+\n",
    "PGY2plus_general_medicine_filtered = np.array(filter(lambda x:x>2.0, PGY2plus_general_medicine))\n",
    "print(np.mean(PGY2plus_general_medicine), np.mean(PGY2plus_general_medicine_filtered))\n",
    "PGY2plus_night_team_filtered = np.array(filter(lambda x:x>2.0, PGY2plus_night_team))\n",
    "print(np.mean(PGY2plus_night_team), np.mean(PGY2plus_night_team_filtered))\n",
    "PGY2plus_emergency_medicine_filtered = np.array(filter(lambda x:x>2.0, PGY2plus_emergency_medicine))\n",
    "print(np.mean(PGY2plus_emergency_medicine), np.mean(PGY2plus_emergency_medicine_filtered))\n",
    "PGY2plus_intensive_care_filtered = np.array(filter(lambda x:x>2.0, PGY2plus_intensive_care))\n",
    "print(np.mean(PGY2plus_intensive_care), np.mean(PGY2plus_intensive_care_filtered))"
   ]
  },
  {
   "cell_type": "code",
   "execution_count": null,
   "metadata": {},
   "outputs": [],
   "source": []
  }
 ],
 "metadata": {
  "kernelspec": {
   "display_name": "Python 2",
   "language": "python",
   "name": "python2"
  },
  "language_info": {
   "codemirror_mode": {
    "name": "ipython",
    "version": 2
   },
   "file_extension": ".py",
   "mimetype": "text/x-python",
   "name": "python",
   "nbconvert_exporter": "python",
   "pygments_lexer": "ipython2",
   "version": "2.7.10"
  }
 },
 "nbformat": 4,
 "nbformat_minor": 2
}
