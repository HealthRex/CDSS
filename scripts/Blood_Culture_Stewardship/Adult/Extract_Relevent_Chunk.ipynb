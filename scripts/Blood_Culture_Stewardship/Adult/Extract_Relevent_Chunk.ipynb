{
 "cells": [
  {
   "cell_type": "code",
   "execution_count": null,
   "id": "56c8bb35",
   "metadata": {},
   "outputs": [],
   "source": [
    "import pandas as pd\n",
    "import matplotlib.pyplot as plt\n",
    "import numpy as np\n",
    "from pulp import *\n",
    "import pandas as pd\n",
    "import os, glob\n",
    "import seaborn as sns\n",
    "from scipy.stats import kruskal\n",
    "import scikit_posthocs as sp\n",
    "from scipy.stats import mannwhitneyu\n",
    "import xgboost as xgb\n",
    "import pandas as pd\n",
    "from sklearn.model_selection import train_test_split\n",
    "\n",
    "%load_ext google.cloud.bigquery\n",
    "\n",
    "from google.cloud import bigquery\n",
    "client=bigquery.Client()\n",
    "from google.cloud import bigquery_storage_v1"
   ]
  },
  {
   "cell_type": "markdown",
   "id": "76006986-215b-4d0b-b5ef-8352b31bf61d",
   "metadata": {},
   "source": [
    "## Read patients_Notes_EHR"
   ]
  },
  {
   "cell_type": "code",
   "execution_count": 3,
   "id": "a813fe2a-b7c7-4bac-93ea-f3a310b475a4",
   "metadata": {},
   "outputs": [
    {
     "data": {
      "application/vnd.jupyter.widget-view+json": {
       "model_id": "3034b5929e50466eb109788fad918709",
       "version_major": 2,
       "version_minor": 0
      },
      "text/plain": [
       "Query is running:   0%|          |"
      ]
     },
     "metadata": {},
     "output_type": "display_data"
    },
    {
     "data": {
      "application/vnd.jupyter.widget-view+json": {
       "model_id": "852c2c24bc1747ffb63fc22d513ac165",
       "version_major": 2,
       "version_minor": 0
      },
      "text/plain": [
       "Downloading:   0%|          |"
      ]
     },
     "metadata": {},
     "output_type": "display_data"
    }
   ],
   "source": [
    "%%bigquery Train_set_df\n",
    "select * from `som-nero-phi-jonc101.blood_culture_stewardship.cohort` where order_year>=2015 and order_year<2022"
   ]
  },
  {
   "cell_type": "code",
   "execution_count": 4,
   "id": "31b08cd0-88f4-4a56-9895-6e5bf8ed0711",
   "metadata": {},
   "outputs": [
    {
     "data": {
      "application/vnd.jupyter.widget-view+json": {
       "model_id": "8839497fc15f42009ade9cf7f3574fe4",
       "version_major": 2,
       "version_minor": 0
      },
      "text/plain": [
       "Query is running:   0%|          |"
      ]
     },
     "metadata": {},
     "output_type": "display_data"
    },
    {
     "data": {
      "application/vnd.jupyter.widget-view+json": {
       "model_id": "9a47d9e7fda04d7dbc7937a5f43686de",
       "version_major": 2,
       "version_minor": 0
      },
      "text/plain": [
       "Downloading:   0%|          |"
      ]
     },
     "metadata": {},
     "output_type": "display_data"
    }
   ],
   "source": [
    "%%bigquery Val_set_df\n",
    "select * from `som-nero-phi-jonc101.blood_culture_stewardship.cohort` where order_year>=2022 and order_year<2023"
   ]
  },
  {
   "cell_type": "code",
   "execution_count": 5,
   "id": "95794ff3-98a7-43b1-887e-d99c7ec59caa",
   "metadata": {},
   "outputs": [
    {
     "data": {
      "application/vnd.jupyter.widget-view+json": {
       "model_id": "d60c33ef01d24547b9df1f844abbd499",
       "version_major": 2,
       "version_minor": 0
      },
      "text/plain": [
       "Query is running:   0%|          |"
      ]
     },
     "metadata": {},
     "output_type": "display_data"
    },
    {
     "data": {
      "application/vnd.jupyter.widget-view+json": {
       "model_id": "caac4293c442489fa881d217413ad39e",
       "version_major": 2,
       "version_minor": 0
      },
      "text/plain": [
       "Downloading:   0%|          |"
      ]
     },
     "metadata": {},
     "output_type": "display_data"
    }
   ],
   "source": [
    "%%bigquery Test_set_df\n",
    "select * from `som-nero-phi-jonc101.blood_culture_stewardship.cohort` where order_year>=2023 "
   ]
  },
  {
   "cell_type": "code",
   "execution_count": 6,
   "id": "e6c9389f-fb63-4c9b-8a89-94e10c36c191",
   "metadata": {},
   "outputs": [
    {
     "data": {
      "application/vnd.jupyter.widget-view+json": {
       "model_id": "f4567e2eac9b4039990ba43c2dc6035a",
       "version_major": 2,
       "version_minor": 0
      },
      "text/plain": [
       "Query is running:   0%|          |"
      ]
     },
     "metadata": {},
     "output_type": "display_data"
    },
    {
     "data": {
      "application/vnd.jupyter.widget-view+json": {
       "model_id": "e1517bce40ed4b9691c2cb603a2e194e",
       "version_major": 2,
       "version_minor": 0
      },
      "text/plain": [
       "Downloading:   0%|          |"
      ]
     },
     "metadata": {},
     "output_type": "display_data"
    }
   ],
   "source": [
    "%%bigquery Notes_df\n",
    "select * from `som-nero-phi-jonc101.blood_culture_stewardship.EDProviderNotes`"
   ]
  },
  {
   "cell_type": "code",
   "execution_count": 7,
   "id": "063f6292-3fd9-4c54-87dc-08b4d627fac5",
   "metadata": {},
   "outputs": [
    {
     "data": {
      "text/plain": [
       "(25138, 3)"
      ]
     },
     "execution_count": 7,
     "metadata": {},
     "output_type": "execute_result"
    }
   ],
   "source": [
    "Train_set_df_note=pd.merge(Train_set_df,Notes_df,how='inner',on=['anon_id','pat_enc_csn_id_coded','order_proc_id_coded'])\n",
    "Train_set_df_note[['anon_id','pat_enc_csn_id_coded','order_proc_id_coded']].drop_duplicates().shape\n",
    "\n",
    "Val_set_df_note=pd.merge(Val_set_df,Notes_df,how='inner',on=['anon_id','pat_enc_csn_id_coded','order_proc_id_coded'])\n",
    "Val_set_df_note[['anon_id','pat_enc_csn_id_coded','order_proc_id_coded']].drop_duplicates().shape\n",
    "\n",
    "Test_set_df_note=pd.merge(Test_set_df,Notes_df,how='inner',on=['anon_id','pat_enc_csn_id_coded','order_proc_id_coded'])\n",
    "Test_set_df_note[['anon_id','pat_enc_csn_id_coded','order_proc_id_coded']].drop_duplicates().shape"
   ]
  },
  {
   "cell_type": "code",
   "execution_count": 8,
   "id": "b9146694-ac0a-4a16-b456-472af3a284c9",
   "metadata": {},
   "outputs": [
    {
     "data": {
      "text/plain": [
       "(25138, 3)"
      ]
     },
     "execution_count": 8,
     "metadata": {},
     "output_type": "execute_result"
    }
   ],
   "source": [
    "Train_set_df_note=Train_set_df_note[Train_set_df_note.deid_note_text.notnull()]\n",
    "Train_set_df_note[['anon_id','pat_enc_csn_id_coded','order_proc_id_coded']].drop_duplicates().shape\n",
    "\n",
    "Val_set_df_note=Val_set_df_note[Val_set_df_note.deid_note_text.notnull()]\n",
    "Val_set_df_note[['anon_id','pat_enc_csn_id_coded','order_proc_id_coded']].drop_duplicates().shape\n",
    "\n",
    "Test_set_df_note=Test_set_df_note[Test_set_df_note.deid_note_text.notnull()]\n",
    "Test_set_df_note[['anon_id','pat_enc_csn_id_coded','order_proc_id_coded']].drop_duplicates().shape"
   ]
  },
  {
   "cell_type": "code",
   "execution_count": 9,
   "id": "78ae9e37-eca7-46b6-bf9e-f4b27e523eeb",
   "metadata": {},
   "outputs": [
    {
     "data": {
      "text/plain": [
       "(26247, 113)"
      ]
     },
     "execution_count": 9,
     "metadata": {},
     "output_type": "execute_result"
    }
   ],
   "source": [
    "Train_set_df_note.drop_duplicates(subset=['anon_id', 'pat_enc_csn_id_coded', 'order_proc_id_coded','blood_culture_order_datetime','notedatetime','deid_note_text'],inplace=True)\n",
    "Train_set_df_note.shape\n",
    "\n",
    "Val_set_df_note.drop_duplicates(subset=['anon_id', 'pat_enc_csn_id_coded', 'order_proc_id_coded','blood_culture_order_datetime','notedatetime','deid_note_text'],inplace=True)\n",
    "Val_set_df_note.shape\n",
    "\n",
    "Test_set_df_note.drop_duplicates(subset=['anon_id', 'pat_enc_csn_id_coded', 'order_proc_id_coded','blood_culture_order_datetime','notedatetime','deid_note_text'],inplace=True)\n",
    "Test_set_df_note.shape\n"
   ]
  },
  {
   "cell_type": "code",
   "execution_count": 10,
   "id": "5a80f163-0e4a-4dca-a276-49e5e01606a5",
   "metadata": {},
   "outputs": [],
   "source": [
    "Train_set_df_note['blood_culture_order_datetime'] = pd.to_datetime(Train_set_df_note['blood_culture_order_datetime'])\n",
    "Train_set_df_note['notedatetime'] = pd.to_datetime(Train_set_df_note['notedatetime'])\n",
    "Train_set_df_note['time-diff']=(Train_set_df_note['blood_culture_order_datetime']-Train_set_df_note['notedatetime']).dt.total_seconds()/3600\n",
    "Train_set_df_note['time-diff']=Train_set_df_note['time-diff'].astype(int)\n",
    "Train_set_df_note=Train_set_df_note[Train_set_df_note['time-diff']>=-24]\n",
    "\n",
    "\n",
    "Val_set_df_note['blood_culture_order_datetime'] = pd.to_datetime(Val_set_df_note['blood_culture_order_datetime'])\n",
    "Val_set_df_note['notedatetime'] = pd.to_datetime(Val_set_df_note['notedatetime'])\n",
    "Val_set_df_note['time-diff']=(Val_set_df_note['blood_culture_order_datetime']-Val_set_df_note['notedatetime']).dt.total_seconds()/3600\n",
    "Val_set_df_note['time-diff']=Val_set_df_note['time-diff'].astype(int)\n",
    "Val_set_df_note=Val_set_df_note[Val_set_df_note['time-diff']>=-24]\n",
    "\n",
    "Test_set_df_note['blood_culture_order_datetime'] = pd.to_datetime(Test_set_df_note['blood_culture_order_datetime'])\n",
    "Test_set_df_note['notedatetime'] = pd.to_datetime(Test_set_df_note['notedatetime'])\n",
    "Test_set_df_note['time-diff']=(Test_set_df_note['blood_culture_order_datetime']-Test_set_df_note['notedatetime']).dt.total_seconds()/3600\n",
    "Test_set_df_note['time-diff']=Test_set_df_note['time-diff'].astype(int)\n",
    "Test_set_df_note=Test_set_df_note[Test_set_df_note['time-diff']>=-24]\n"
   ]
  },
  {
   "cell_type": "code",
   "execution_count": 11,
   "id": "4d20f3d8-df64-47b4-aba6-3b613b25141c",
   "metadata": {},
   "outputs": [],
   "source": [
    "Train_set_df_note['time-diff']=(Train_set_df_note['blood_culture_order_datetime']-Train_set_df_note['notedatetime']).dt.total_seconds().abs()\n",
    "Val_set_df_note['time-diff']=(Val_set_df_note['blood_culture_order_datetime']-Val_set_df_note['notedatetime']).dt.total_seconds().abs()\n",
    "Test_set_df_note['time-diff']=(Test_set_df_note['blood_culture_order_datetime']-Test_set_df_note['notedatetime']).dt.total_seconds().abs()\n",
    "\n",
    "\n",
    "Train_set_df_note = Train_set_df_note.sort_values('time-diff').drop_duplicates(subset=['anon_id', 'pat_enc_csn_id_coded', 'order_proc_id_coded', 'blood_culture_order_datetime'], keep='first')\n",
    "Val_set_df_note = Val_set_df_note.sort_values('time-diff').drop_duplicates(subset=['anon_id', 'pat_enc_csn_id_coded', 'order_proc_id_coded', 'blood_culture_order_datetime'], keep='first')\n",
    "Test_set_df_note = Test_set_df_note.sort_values('time-diff').drop_duplicates(subset=['anon_id', 'pat_enc_csn_id_coded', 'order_proc_id_coded', 'blood_culture_order_datetime'], keep='first')\n"
   ]
  },
  {
   "cell_type": "code",
   "execution_count": 13,
   "id": "c33db23b-041d-4267-b7d4-40ada8dab64a",
   "metadata": {},
   "outputs": [],
   "source": [
    "Test_set_df_note['Label']=(Test_set_df_note['positive_blood_culture']| Test_set_df_note['positive_blood_culture_in_week'])\n",
    "Train_set_df_note['Label']=(Train_set_df_note['positive_blood_culture']| Train_set_df_note['positive_blood_culture_in_week'])\n",
    "Val_set_df_note['Label']=(Val_set_df_note['positive_blood_culture']| Val_set_df_note['positive_blood_culture_in_week'])"
   ]
  },
  {
   "cell_type": "code",
   "execution_count": 14,
   "id": "646e795a-fc6f-4e48-8edd-1a9191471a97",
   "metadata": {},
   "outputs": [
    {
     "data": {
      "text/plain": [
       "['min_heartrate',\n",
       " 'min_resprate',\n",
       " 'min_temp',\n",
       " 'min_sysbp',\n",
       " 'min_diasbp',\n",
       " 'min_wbc',\n",
       " 'min_neutrophils',\n",
       " 'min_lymphocytes',\n",
       " 'min_hgb',\n",
       " 'min_plt',\n",
       " 'min_na',\n",
       " 'min_hco3',\n",
       " 'min_bun',\n",
       " 'min_cr',\n",
       " 'min_lactate',\n",
       " 'min_procalcitonin',\n",
       " 'max_heartrate',\n",
       " 'max_resprate',\n",
       " 'max_temp',\n",
       " 'max_sysbp',\n",
       " 'max_diasbp',\n",
       " 'max_wbc',\n",
       " 'max_neutrophils',\n",
       " 'max_lymphocytes',\n",
       " 'max_hgb',\n",
       " 'max_plt',\n",
       " 'max_na',\n",
       " 'max_hco3',\n",
       " 'max_bun',\n",
       " 'max_cr',\n",
       " 'max_lactate',\n",
       " 'max_procalcitonin',\n",
       " 'avg_heartrate',\n",
       " 'avg_resprate',\n",
       " 'avg_temp',\n",
       " 'avg_sysbp',\n",
       " 'avg_diasbp',\n",
       " 'avg_wbc',\n",
       " 'avg_neutrophils',\n",
       " 'avg_lymphocytes',\n",
       " 'avg_hgb',\n",
       " 'avg_plt',\n",
       " 'avg_na',\n",
       " 'avg_hco3',\n",
       " 'avg_bun',\n",
       " 'avg_cr',\n",
       " 'avg_lactate',\n",
       " 'avg_procalcitonin',\n",
       " 'median_heartrate',\n",
       " 'median_resprate',\n",
       " 'median_temp',\n",
       " 'median_sysbp',\n",
       " 'median_diasbp',\n",
       " 'median_wbc',\n",
       " 'median_neutrophils',\n",
       " 'median_lymphocytes',\n",
       " 'median_hgb',\n",
       " 'median_plt',\n",
       " 'median_na',\n",
       " 'median_hco3',\n",
       " 'median_bun',\n",
       " 'median_cr',\n",
       " 'median_lactate',\n",
       " 'median_procalcitonin']"
      ]
     },
     "execution_count": 14,
     "metadata": {},
     "output_type": "execute_result"
    }
   ],
   "source": [
    "EHR=[col for col in Test_set_df_note.columns.values if 'min' in col]\n",
    "EHR.extend([col for col in Test_set_df_note.columns.values if 'max' in col])\n",
    "EHR.extend([col for col in Test_set_df_note.columns.values if 'avg' in col])\n",
    "EHR.extend([col for col in Test_set_df_note.columns.values if 'median' in col])\n",
    "EHR"
   ]
  },
  {
   "cell_type": "markdown",
   "id": "cc71d994-1fe2-41a4-aa78-f822a31a3827",
   "metadata": {},
   "source": [
    "## Select top 3 most relevent chunk"
   ]
  },
  {
   "cell_type": "code",
   "execution_count": 89,
   "id": "11b080c7-ef41-4fb8-b3b1-ca4c15bd5757",
   "metadata": {},
   "outputs": [
    {
     "data": {
      "text/plain": [
       "(26247, 113)"
      ]
     },
     "execution_count": 89,
     "metadata": {},
     "output_type": "execute_result"
    }
   ],
   "source": [
    "Train_set_df_note.drop_duplicates(subset=['anon_id', 'pat_enc_csn_id_coded', 'order_proc_id_coded','blood_culture_order_datetime','notedatetime','deid_note_text'],inplace=True)\n",
    "Train_set_df_note.shape\n",
    "\n",
    "Val_set_df_note.drop_duplicates(subset=['anon_id', 'pat_enc_csn_id_coded', 'order_proc_id_coded','blood_culture_order_datetime','notedatetime','deid_note_text'],inplace=True)\n",
    "Val_set_df_note.shape\n",
    "\n",
    "Test_set_df_note.drop_duplicates(subset=['anon_id', 'pat_enc_csn_id_coded', 'order_proc_id_coded','blood_culture_order_datetime','notedatetime','deid_note_text'],inplace=True)\n",
    "Test_set_df_note.shape\n"
   ]
  },
  {
   "cell_type": "code",
   "execution_count": 90,
   "id": "86d561c1-f31c-4c31-b24b-b0d739c82f00",
   "metadata": {},
   "outputs": [],
   "source": [
    "Train_set_df_note['blood_culture_order_datetime'] = pd.to_datetime(Train_set_df_note['blood_culture_order_datetime'])\n",
    "Train_set_df_note['notedatetime'] = pd.to_datetime(Train_set_df_note['notedatetime'])\n",
    "Train_set_df_note['time-diff']=(Train_set_df_note['blood_culture_order_datetime']-Train_set_df_note['notedatetime']).dt.total_seconds().abs()\n",
    "\n",
    "Val_set_df_note['blood_culture_order_datetime'] = pd.to_datetime(Val_set_df_note['blood_culture_order_datetime'])\n",
    "Val_set_df_note['notedatetime'] = pd.to_datetime(Val_set_df_note['notedatetime'])\n",
    "Val_set_df_note['time-diff']=(Val_set_df_note['blood_culture_order_datetime']-Val_set_df_note['notedatetime']).dt.total_seconds().abs()\n",
    "\n",
    "Test_set_df_note['blood_culture_order_datetime'] = pd.to_datetime(Test_set_df_note['blood_culture_order_datetime'])\n",
    "Test_set_df_note['notedatetime'] = pd.to_datetime(Test_set_df_note['notedatetime'])\n",
    "Test_set_df_note['time-diff']=(Test_set_df_note['blood_culture_order_datetime']-Test_set_df_note['notedatetime']).dt.total_seconds().abs()"
   ]
  },
  {
   "cell_type": "code",
   "execution_count": 91,
   "id": "3dfcd6a8-103c-418a-b8af-37b0c8c54a15",
   "metadata": {},
   "outputs": [],
   "source": [
    "Train_set_df_note = Train_set_df_note.sort_values('time-diff').drop_duplicates(subset=['anon_id', 'pat_enc_csn_id_coded', 'order_proc_id_coded', 'blood_culture_order_datetime'], keep='first')\n",
    "Val_set_df_note = Val_set_df_note.sort_values('time-diff').drop_duplicates(subset=['anon_id', 'pat_enc_csn_id_coded', 'order_proc_id_coded', 'blood_culture_order_datetime'], keep='first')\n",
    "Test_set_df_note = Test_set_df_note.sort_values('time-diff').drop_duplicates(subset=['anon_id', 'pat_enc_csn_id_coded', 'order_proc_id_coded', 'blood_culture_order_datetime'], keep='first')\n"
   ]
  },
  {
   "cell_type": "code",
   "execution_count": 92,
   "id": "c2fc632b-8c1d-4383-bca0-4a14af20e0e3",
   "metadata": {},
   "outputs": [
    {
     "data": {
      "text/plain": [
       "(25138, 114)"
      ]
     },
     "execution_count": 92,
     "metadata": {},
     "output_type": "execute_result"
    }
   ],
   "source": [
    "Test_set_df_note.shape"
   ]
  },
  {
   "cell_type": "code",
   "execution_count": 93,
   "id": "cf256f1d-bc9b-4369-ba7e-7b121b7d83a5",
   "metadata": {},
   "outputs": [],
   "source": [
    "Train_set_df_note['doc_id'] = Train_set_df_note.groupby(['anon_id', 'pat_enc_csn_id_coded', 'order_proc_id_coded','blood_culture_order_datetime']).ngroup() + 1\n",
    "Val_set_df_note['doc_id'] = Val_set_df_note.groupby(['anon_id', 'pat_enc_csn_id_coded', 'order_proc_id_coded','blood_culture_order_datetime']).ngroup() + 1\n",
    "Test_set_df_note['doc_id'] = Test_set_df_note.groupby(['anon_id', 'pat_enc_csn_id_coded', 'order_proc_id_coded','blood_culture_order_datetime']).ngroup() + 1"
   ]
  },
  {
   "cell_type": "code",
   "execution_count": 94,
   "id": "abeae40b-a2d9-479a-8dfe-9c3cf60cd1f1",
   "metadata": {},
   "outputs": [],
   "source": [
    "def chunk_text_by_words(df, text_col='deid_note_text', id_col='doc_id', max_words=512):\n",
    "    import re\n",
    "    chunked_rows = []\n",
    "\n",
    "    for _, row in df.iterrows():\n",
    "        text = str(row[text_col])\n",
    "        \n",
    "        # Split into sentences using regex for robustness\n",
    "        sentences = re.split(r'(?<=[.!?]) +|\\n+', text)\n",
    "        \n",
    "        chunks = []\n",
    "        current_chunk = []\n",
    "        current_word_count = 0\n",
    "        chunk_idx = 1\n",
    "\n",
    "        for sentence in sentences:\n",
    "            sentence = sentence.strip()\n",
    "            word_count = len(sentence.split())\n",
    "\n",
    "            # If adding this sentence exceeds max_words, start new chunk\n",
    "            if current_word_count + word_count > max_words:\n",
    "                if current_chunk:\n",
    "                    chunk_text = ' '.join(current_chunk)\n",
    "                    new_row = row.copy()\n",
    "                    new_row[text_col] = chunk_text\n",
    "                    new_row[id_col] = f\"{row[id_col]}_chunk{chunk_idx}\"\n",
    "                    chunked_rows.append(new_row)\n",
    "                    chunk_idx += 1\n",
    "                current_chunk = [sentence]\n",
    "                current_word_count = word_count\n",
    "            else:\n",
    "                current_chunk.append(sentence)\n",
    "                current_word_count += word_count\n",
    "\n",
    "        # Add the last chunk\n",
    "        if current_chunk:\n",
    "            chunk_text = ' '.join(current_chunk)\n",
    "            new_row = row.copy()\n",
    "            new_row[text_col] = chunk_text\n",
    "            new_row[id_col] = f\"{row[id_col]}_chunk{chunk_idx}\"\n",
    "            chunked_rows.append(new_row)\n",
    "\n",
    "    return pd.DataFrame(chunked_rows)\n",
    "Train_set_df_note_chunked = chunk_text_by_words(Train_set_df_note)\n",
    "Val_set_df_note_chunked = chunk_text_by_words(Val_set_df_note)\n",
    "Test_set_df_note_chunked = chunk_text_by_words(Test_set_df_note)\n"
   ]
  },
  {
   "cell_type": "code",
   "execution_count": null,
   "id": "2051868f",
   "metadata": {},
   "outputs": [],
   "source": [
    "Train_set_df_note_chunked['doc_id_chunks']=Train_set_df_note_chunked['doc_id']\n",
    "Train_set_df_note_chunked['doc_id']=Train_set_df_note_chunked['doc_id'].apply(lambda x:x.split('_chunk')[0])\n",
    "\n",
    "Val_set_df_note_chunked['doc_id_chunks']=Val_set_df_note_chunked['doc_id']\n",
    "Val_set_df_note_chunked['doc_id']=Val_set_df_note_chunked['doc_id'].apply(lambda x:x.split('_chunk')[0])\n",
    "\n",
    "Test_set_df_note_chunked['doc_id_chunks']=Test_set_df_note_chunked['doc_id']\n",
    "Test_set_df_note_chunked['doc_id']=Test_set_df_note_chunked['doc_id'].apply(lambda x:x.split('_chunk')[0])"
   ]
  },
  {
   "cell_type": "code",
   "execution_count": 96,
   "id": "33f28d0d-80c2-462d-8e42-6e2708fe0f53",
   "metadata": {},
   "outputs": [],
   "source": [
    "Train_set_df_note_chunked.to_csv('Train_set_df_ED_notes_chunked.csv',index=False)\n",
    "Val_set_df_note_chunked.to_csv('Val_set_df_ED_notes_chunked.csv',index=False)\n",
    "Test_set_df_note_chunked.to_csv('Test_set_df_ED_notes_chunked.csv',index=False)"
   ]
  },
  {
   "cell_type": "markdown",
   "id": "61d91b83-b59b-45e2-a882-633ae3516dc9",
   "metadata": {},
   "source": [
    "## embdeing of each chunk has been extracted from fatemeh-nick-culturx machine"
   ]
  },
  {
   "cell_type": "code",
   "execution_count": null,
   "id": "3ecddfd4",
   "metadata": {},
   "outputs": [],
   "source": []
  }
 ],
 "metadata": {
  "kernelspec": {
   "display_name": "Python 3 (ipykernel)",
   "language": "python",
   "name": "python3"
  },
  "language_info": {
   "codemirror_mode": {
    "name": "ipython",
    "version": 3
   },
   "file_extension": ".py",
   "mimetype": "text/x-python",
   "name": "python",
   "nbconvert_exporter": "python",
   "pygments_lexer": "ipython3",
   "version": "3.9.6"
  }
 },
 "nbformat": 4,
 "nbformat_minor": 5
}
