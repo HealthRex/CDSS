{
 "cells": [
  {
   "cell_type": "code",
   "execution_count": 1,
   "id": "8488abf3-0c89-4360-bfc6-26c61ccc8921",
   "metadata": {},
   "outputs": [],
   "source": [
    "import xgboost as xgb\n",
    "import pandas as pd\n",
    "from sklearn.model_selection import train_test_split"
   ]
  },
  {
   "cell_type": "code",
   "execution_count": 2,
   "id": "e3ef9606-d317-40c4-9044-7679ca7e0afa",
   "metadata": {},
   "outputs": [],
   "source": [
    "import pandas as pd\n",
    "import matplotlib.pyplot as plt\n",
    "import numpy as np\n",
    "from pulp import *\n",
    "import pandas as pd\n",
    "import os, glob\n",
    "import seaborn as sns\n",
    "from scipy.stats import kruskal\n",
    "import scikit_posthocs as sp\n",
    "from scipy.stats import mannwhitneyu\n",
    "from dotenv import load_dotenv\n",
    "\n",
    "load_dotenv('./Credentials.env',override=True)\n",
    "\n",
    "os.environ['GOOGLE_APPLICATION_CREDENTIALS'] =str(os.getenv(\"GOOGLE_APPLICATION_CREDENTIALS\")) \n",
    "os.environ['GCLOUD_PROJECT'] = str(os.getenv(\"GCLOUD_PROJECT\"))\n",
    "%load_ext google.cloud.bigquery\n",
    "\n",
    "from google.cloud import bigquery\n",
    "client=bigquery.Client()\n",
    "from google.cloud import bigquery_storage_v1"
   ]
  },
  {
   "cell_type": "markdown",
   "id": "76006986-215b-4d0b-b5ef-8352b31bf61d",
   "metadata": {},
   "source": [
    "## Read patients_Notes_EHR"
   ]
  },
  {
   "cell_type": "code",
   "execution_count": 3,
   "id": "a813fe2a-b7c7-4bac-93ea-f3a310b475a4",
   "metadata": {},
   "outputs": [
    {
     "data": {
      "application/vnd.jupyter.widget-view+json": {
       "model_id": "cc9a8ed74c6645839b154662a38ba886",
       "version_major": 2,
       "version_minor": 0
      },
      "text/plain": [
       "Query is running:   0%|          |"
      ]
     },
     "metadata": {},
     "output_type": "display_data"
    },
    {
     "data": {
      "application/vnd.jupyter.widget-view+json": {
       "model_id": "eea30e1598a94558abe0782344254469",
       "version_major": 2,
       "version_minor": 0
      },
      "text/plain": [
       "Downloading:   0%|          |"
      ]
     },
     "metadata": {},
     "output_type": "display_data"
    }
   ],
   "source": [
    "%%bigquery Train_set_df\n",
    "select * from `som-nero-phi-jonc101.blood_culture_stewardship.cohort` where order_year>=2015 and order_year<2022"
   ]
  },
  {
   "cell_type": "code",
   "execution_count": 4,
   "id": "31b08cd0-88f4-4a56-9895-6e5bf8ed0711",
   "metadata": {},
   "outputs": [
    {
     "data": {
      "application/vnd.jupyter.widget-view+json": {
       "model_id": "2897cd6d612c4aee92ee0bd31ce4879b",
       "version_major": 2,
       "version_minor": 0
      },
      "text/plain": [
       "Query is running:   0%|          |"
      ]
     },
     "metadata": {},
     "output_type": "display_data"
    },
    {
     "data": {
      "application/vnd.jupyter.widget-view+json": {
       "model_id": "2a8028a737294a4eb53ab33fc35f5fa0",
       "version_major": 2,
       "version_minor": 0
      },
      "text/plain": [
       "Downloading:   0%|          |"
      ]
     },
     "metadata": {},
     "output_type": "display_data"
    }
   ],
   "source": [
    "%%bigquery Val_set_df\n",
    "select * from `som-nero-phi-jonc101.blood_culture_stewardship.cohort` where order_year>=2022 and order_year<2023"
   ]
  },
  {
   "cell_type": "code",
   "execution_count": 5,
   "id": "95794ff3-98a7-43b1-887e-d99c7ec59caa",
   "metadata": {},
   "outputs": [
    {
     "data": {
      "application/vnd.jupyter.widget-view+json": {
       "model_id": "929f46db1e5b4885a02648469913fd3f",
       "version_major": 2,
       "version_minor": 0
      },
      "text/plain": [
       "Query is running:   0%|          |"
      ]
     },
     "metadata": {},
     "output_type": "display_data"
    },
    {
     "data": {
      "application/vnd.jupyter.widget-view+json": {
       "model_id": "ddaa62a070a8413cbb373d837e4e21ee",
       "version_major": 2,
       "version_minor": 0
      },
      "text/plain": [
       "Downloading:   0%|          |"
      ]
     },
     "metadata": {},
     "output_type": "display_data"
    }
   ],
   "source": [
    "%%bigquery Test_set_df\n",
    "select * from `som-nero-phi-jonc101.blood_culture_stewardship.cohort` where order_year>=2023 "
   ]
  },
  {
   "cell_type": "code",
   "execution_count": 6,
   "id": "e6c9389f-fb63-4c9b-8a89-94e10c36c191",
   "metadata": {},
   "outputs": [
    {
     "data": {
      "application/vnd.jupyter.widget-view+json": {
       "model_id": "663140ece5df41a28f320ee85f972712",
       "version_major": 2,
       "version_minor": 0
      },
      "text/plain": [
       "Query is running:   0%|          |"
      ]
     },
     "metadata": {},
     "output_type": "display_data"
    },
    {
     "data": {
      "application/vnd.jupyter.widget-view+json": {
       "model_id": "1ac751b41b104488932d56abb904558d",
       "version_major": 2,
       "version_minor": 0
      },
      "text/plain": [
       "Downloading:   0%|          |"
      ]
     },
     "metadata": {},
     "output_type": "display_data"
    }
   ],
   "source": [
    "%%bigquery Notes_df\n",
    "select * from `som-nero-phi-jonc101.blood_culture_stewardship.EDProviderNotes`"
   ]
  },
  {
   "cell_type": "code",
   "execution_count": 7,
   "id": "063f6292-3fd9-4c54-87dc-08b4d627fac5",
   "metadata": {},
   "outputs": [
    {
     "data": {
      "text/plain": [
       "(25138, 3)"
      ]
     },
     "execution_count": 7,
     "metadata": {},
     "output_type": "execute_result"
    }
   ],
   "source": [
    "Train_set_df_note=pd.merge(Train_set_df,Notes_df,how='inner',on=['anon_id','pat_enc_csn_id_coded','order_proc_id_coded'])\n",
    "Train_set_df_note[['anon_id','pat_enc_csn_id_coded','order_proc_id_coded']].drop_duplicates().shape\n",
    "\n",
    "Val_set_df_note=pd.merge(Val_set_df,Notes_df,how='inner',on=['anon_id','pat_enc_csn_id_coded','order_proc_id_coded'])\n",
    "Val_set_df_note[['anon_id','pat_enc_csn_id_coded','order_proc_id_coded']].drop_duplicates().shape\n",
    "\n",
    "Test_set_df_note=pd.merge(Test_set_df,Notes_df,how='inner',on=['anon_id','pat_enc_csn_id_coded','order_proc_id_coded'])\n",
    "Test_set_df_note[['anon_id','pat_enc_csn_id_coded','order_proc_id_coded']].drop_duplicates().shape"
   ]
  },
  {
   "cell_type": "code",
   "execution_count": 8,
   "id": "b9146694-ac0a-4a16-b456-472af3a284c9",
   "metadata": {},
   "outputs": [
    {
     "data": {
      "text/plain": [
       "(25138, 3)"
      ]
     },
     "execution_count": 8,
     "metadata": {},
     "output_type": "execute_result"
    }
   ],
   "source": [
    "Train_set_df_note=Train_set_df_note[Train_set_df_note.deid_note_text.notnull()]\n",
    "Train_set_df_note[['anon_id','pat_enc_csn_id_coded','order_proc_id_coded']].drop_duplicates().shape\n",
    "\n",
    "Val_set_df_note=Val_set_df_note[Val_set_df_note.deid_note_text.notnull()]\n",
    "Val_set_df_note[['anon_id','pat_enc_csn_id_coded','order_proc_id_coded']].drop_duplicates().shape\n",
    "\n",
    "Test_set_df_note=Test_set_df_note[Test_set_df_note.deid_note_text.notnull()]\n",
    "Test_set_df_note[['anon_id','pat_enc_csn_id_coded','order_proc_id_coded']].drop_duplicates().shape"
   ]
  },
  {
   "cell_type": "code",
   "execution_count": 9,
   "id": "78ae9e37-eca7-46b6-bf9e-f4b27e523eeb",
   "metadata": {},
   "outputs": [
    {
     "data": {
      "text/plain": [
       "(26247, 113)"
      ]
     },
     "execution_count": 9,
     "metadata": {},
     "output_type": "execute_result"
    }
   ],
   "source": [
    "Train_set_df_note.drop_duplicates(subset=['anon_id', 'pat_enc_csn_id_coded', 'order_proc_id_coded','blood_culture_order_datetime','notedatetime','deid_note_text'],inplace=True)\n",
    "Train_set_df_note.shape\n",
    "\n",
    "Val_set_df_note.drop_duplicates(subset=['anon_id', 'pat_enc_csn_id_coded', 'order_proc_id_coded','blood_culture_order_datetime','notedatetime','deid_note_text'],inplace=True)\n",
    "Val_set_df_note.shape\n",
    "\n",
    "Test_set_df_note.drop_duplicates(subset=['anon_id', 'pat_enc_csn_id_coded', 'order_proc_id_coded','blood_culture_order_datetime','notedatetime','deid_note_text'],inplace=True)\n",
    "Test_set_df_note.shape\n"
   ]
  },
  {
   "cell_type": "code",
   "execution_count": 10,
   "id": "5a80f163-0e4a-4dca-a276-49e5e01606a5",
   "metadata": {},
   "outputs": [],
   "source": [
    "Train_set_df_note['blood_culture_order_datetime'] = pd.to_datetime(Train_set_df_note['blood_culture_order_datetime'])\n",
    "Train_set_df_note['notedatetime'] = pd.to_datetime(Train_set_df_note['notedatetime'])\n",
    "Train_set_df_note['time-diff']=(Train_set_df_note['blood_culture_order_datetime']-Train_set_df_note['notedatetime']).dt.total_seconds()/3600\n",
    "Train_set_df_note['time-diff']=Train_set_df_note['time-diff'].astype(int)\n",
    "Train_set_df_note=Train_set_df_note[Train_set_df_note['time-diff']>=-24]\n",
    "\n",
    "\n",
    "Val_set_df_note['blood_culture_order_datetime'] = pd.to_datetime(Val_set_df_note['blood_culture_order_datetime'])\n",
    "Val_set_df_note['notedatetime'] = pd.to_datetime(Val_set_df_note['notedatetime'])\n",
    "Val_set_df_note['time-diff']=(Val_set_df_note['blood_culture_order_datetime']-Val_set_df_note['notedatetime']).dt.total_seconds()/3600\n",
    "Val_set_df_note['time-diff']=Val_set_df_note['time-diff'].astype(int)\n",
    "Val_set_df_note=Val_set_df_note[Val_set_df_note['time-diff']>=-24]\n",
    "\n",
    "Test_set_df_note['blood_culture_order_datetime'] = pd.to_datetime(Test_set_df_note['blood_culture_order_datetime'])\n",
    "Test_set_df_note['notedatetime'] = pd.to_datetime(Test_set_df_note['notedatetime'])\n",
    "Test_set_df_note['time-diff']=(Test_set_df_note['blood_culture_order_datetime']-Test_set_df_note['notedatetime']).dt.total_seconds()/3600\n",
    "Test_set_df_note['time-diff']=Test_set_df_note['time-diff'].astype(int)\n",
    "Test_set_df_note=Test_set_df_note[Test_set_df_note['time-diff']>=-24]\n"
   ]
  },
  {
   "cell_type": "code",
   "execution_count": 11,
   "id": "4d20f3d8-df64-47b4-aba6-3b613b25141c",
   "metadata": {},
   "outputs": [],
   "source": [
    "Train_set_df_note['time-diff']=(Train_set_df_note['blood_culture_order_datetime']-Train_set_df_note['notedatetime']).dt.total_seconds().abs()\n",
    "Val_set_df_note['time-diff']=(Val_set_df_note['blood_culture_order_datetime']-Val_set_df_note['notedatetime']).dt.total_seconds().abs()\n",
    "Test_set_df_note['time-diff']=(Test_set_df_note['blood_culture_order_datetime']-Test_set_df_note['notedatetime']).dt.total_seconds().abs()\n",
    "\n",
    "\n",
    "Train_set_df_note = Train_set_df_note.sort_values('time-diff').drop_duplicates(subset=['anon_id', 'pat_enc_csn_id_coded', 'order_proc_id_coded', 'blood_culture_order_datetime'], keep='first')\n",
    "Val_set_df_note = Val_set_df_note.sort_values('time-diff').drop_duplicates(subset=['anon_id', 'pat_enc_csn_id_coded', 'order_proc_id_coded', 'blood_culture_order_datetime'], keep='first')\n",
    "Test_set_df_note = Test_set_df_note.sort_values('time-diff').drop_duplicates(subset=['anon_id', 'pat_enc_csn_id_coded', 'order_proc_id_coded', 'blood_culture_order_datetime'], keep='first')\n"
   ]
  },
  {
   "cell_type": "code",
   "execution_count": 12,
   "id": "d52bf460-6cca-4955-b621-cbde8eb6936e",
   "metadata": {},
   "outputs": [],
   "source": [
    "Train_set_df_note['doc_id'] = Train_set_df_note.groupby(['anon_id', 'pat_enc_csn_id_coded', 'order_proc_id_coded','blood_culture_order_datetime']).ngroup() + 1\n",
    "Val_set_df_note['doc_id'] = Val_set_df_note.groupby(['anon_id', 'pat_enc_csn_id_coded', 'order_proc_id_coded','blood_culture_order_datetime']).ngroup() + 1\n",
    "Test_set_df_note['doc_id'] = Test_set_df_note.groupby(['anon_id', 'pat_enc_csn_id_coded', 'order_proc_id_coded','blood_culture_order_datetime']).ngroup() + 1"
   ]
  },
  {
   "cell_type": "markdown",
   "id": "19552667-0f62-49e4-b299-bb5951a9f322",
   "metadata": {},
   "source": [
    "## Evalute GPT4 on whole Notes"
   ]
  },
  {
   "cell_type": "code",
   "execution_count": 21,
   "id": "de93171e-66fc-44f2-8ba7-d2e09323aaf6",
   "metadata": {},
   "outputs": [],
   "source": [
    "Test_set_df_note['Label']=(Test_set_df_note['positive_blood_culture']| Test_set_df_note['positive_blood_culture_in_week'])"
   ]
  },
  {
   "cell_type": "code",
   "execution_count": 23,
   "id": "91ac4c29-7b5d-4777-9c25-868b26b95ae3",
   "metadata": {},
   "outputs": [],
   "source": [
    "prompt_records = []\n",
    "\n",
    "def split_note_text(note_text, max_words=1000, overlap=10):\n",
    "    words = note_text.split()\n",
    "    chunks = []\n",
    "    i = 0\n",
    "    while i < len(words):\n",
    "        chunk = words[i:i+max_words]\n",
    "        chunks.append(\" \".join(chunk))\n",
    "        i += max_words - overlap\n",
    "    return chunks\n",
    "\n",
    "for i, row in Test_set_df_note.iterrows():\n",
    "    note_text = row['deid_note_text']\n",
    "    note_text = re.sub(r'\\s+', ' ', note_text.replace('\\n', ' ')).strip()\n",
    "    \n",
    "    # Split if longer than 3000 words\n",
    "    if len(note_text.split()) > 1000:\n",
    "        note_chunks = split_note_text(note_text)\n",
    "    else:\n",
    "        note_chunks = [note_text]\n",
    "\n",
    "    # Generate one prompt per chunk\n",
    "    for chunk_index, chunk in enumerate(note_chunks):\n",
    "        prompt = (\n",
    "            \"You are an infectious disease expert. Based on the patient information below, determine whether this patient's blood culture is likely to be positive.\\n\"\n",
    "            \"Respond with **only** 'Yes' or 'No'. Reply 'Yes' if a positive blood culture is likely; otherwise, reply 'No'.\\n\\n\"\n",
    "            \"Clinical Note:\\n\"\n",
    "            f\"{chunk}\\n\"\n",
    "        )\n",
    "        prompt_records.append({\n",
    "            'anon_id': row['anon_id'],\n",
    "            'pat_enc_csn_id_coded': row['pat_enc_csn_id_coded'],\n",
    "            'order_proc_id_coded': row['order_proc_id_coded'],\n",
    "            'blood_culture_order_datetime':row['blood_culture_order_datetime'],\n",
    "            'Label':row['Label'],\n",
    "            'doc_id':row['doc_id'],\n",
    "            'chunk_index': chunk_index,\n",
    "            'prompt': prompt\n",
    "        })\n",
    "\n",
    "# Convert to DataFrame\n",
    "Test_set_prompt_df = pd.DataFrame(prompt_records)"
   ]
  },
  {
   "cell_type": "code",
   "execution_count": 24,
   "id": "68b2328c-0366-45b7-a727-6bc3f77aa559",
   "metadata": {},
   "outputs": [],
   "source": [
    "Test_set_prompt_df=Test_set_prompt_df.sort_values(by=['doc_id'])\n",
    "Test_set_prompt_df.to_csv('Testset_WholeNotes_prompts.csv',index=False)"
   ]
  },
  {
   "cell_type": "code",
   "execution_count": 26,
   "id": "9d8c61ee-b6ea-4469-afcb-65dd1b970932",
   "metadata": {},
   "outputs": [],
   "source": [
    "import requests\n",
    "import json\n",
    "my_key =str(os.getenv(\"SGPT_key\")) \n",
    "headers = {'Ocp-Apim-Subscription-Key': my_key, 'Content-Type': 'application/json'}\n",
    "url = \"https://apim.stanfordhealthcare.org/openai-eastus2/deployments/gpt-4.1/chat/completions?api-version=2025-01-01-preview\" "
   ]
  },
  {
   "cell_type": "code",
   "execution_count": 27,
   "id": "21cf174b-4cb1-479f-af24-f64a5f407de6",
   "metadata": {},
   "outputs": [],
   "source": [
    "import pdb\n",
    "import json\n",
    "import requests\n",
    "import pdb\n",
    "from time import sleep\n",
    "\n",
    "def gpt4response(row, model=\"gpt-4\"):\n",
    "    prompt=row['prompt']\n",
    "    doc_id=row['doc_id']\n",
    "    if not prompt:\n",
    "        return None\n",
    "\n",
    "    payload = json.dumps({\n",
    "        \"model\": model,\n",
    "        \"messages\": [{\"role\": \"user\", \"content\": prompt}]\n",
    "    })\n",
    "\n",
    "    while True:\n",
    "        try:\n",
    "            response = requests.post(url, headers=headers, data=payload)\n",
    "            response_json = response.json()\n",
    "            if 'choices' in response_json:\n",
    "                return response_json['choices'][0]['message']['content']\n",
    "            else:\n",
    "                print(f\"doc_id:{doc_id}\")\n",
    "                print(\"Response missing 'choices'. Retrying in 10 seconds...\")\n",
    "                sleep(10)\n",
    "        except Exception as e:\n",
    "            print(f\"Error: {e}. Retrying in 10 seconds...\")\n",
    "            sleep(10)"
   ]
  },
  {
   "cell_type": "code",
   "execution_count": null,
   "id": "2ef0ece9",
   "metadata": {},
   "outputs": [],
   "source": [
    "len_batches=100\n",
    "n_batches=int(Test_set_prompt_df.shape[0]/len_batches)\n",
    "for i in range(n_batches): \n",
    "    DF=Test_set_prompt_df.iloc[i*len_batches:i*len_batches+len_batches]\n",
    "    DF['GPT_response']=DF.apply(lambda row:gpt4response(row),axis=1)\n",
    "    filename=f\"GPT4_Testset_WholeNotes_part{i}.csv\"\n",
    "    DF.to_csv(filename,index=False)\n",
    "    print(f'Batch{i} is done')"
   ]
  },
  {
   "cell_type": "code",
   "execution_count": null,
   "id": "ff46a130-d321-4dce-af4b-847cbec89fe1",
   "metadata": {},
   "outputs": [],
   "source": [
    "i=n_batches\n",
    "DF=Test_set_prompt_df.iloc[i*len_batches:]\n",
    "DF['GPT_response']=DF.apply(lambda row:gpt4response(row),axis=1)\n",
    "filename=f\"GPT4_Testset_WholeNotes_EHR_part{i+1}.csv\"\n",
    "DF.to_csv(filename,index=False)\n",
    "print(f'Batch{i} is done')"
   ]
  },
  {
   "cell_type": "markdown",
   "id": "6e105409-986f-42c5-9436-751a05dac5f0",
   "metadata": {},
   "source": [
    "### Evalute the responses"
   ]
  },
  {
   "cell_type": "code",
   "execution_count": 172,
   "id": "102daa61-fbd3-4230-a565-c99db6086f2e",
   "metadata": {},
   "outputs": [
    {
     "data": {
      "text/html": [
       "<div>\n",
       "<style scoped>\n",
       "    .dataframe tbody tr th:only-of-type {\n",
       "        vertical-align: middle;\n",
       "    }\n",
       "\n",
       "    .dataframe tbody tr th {\n",
       "        vertical-align: top;\n",
       "    }\n",
       "\n",
       "    .dataframe thead th {\n",
       "        text-align: right;\n",
       "    }\n",
       "</style>\n",
       "<table border=\"1\" class=\"dataframe\">\n",
       "  <thead>\n",
       "    <tr style=\"text-align: right;\">\n",
       "      <th></th>\n",
       "      <th>anon_id</th>\n",
       "      <th>pat_enc_csn_id_coded</th>\n",
       "      <th>order_proc_id_coded</th>\n",
       "      <th>blood_culture_order_datetime</th>\n",
       "      <th>Label</th>\n",
       "      <th>doc_id</th>\n",
       "      <th>chunk_index</th>\n",
       "      <th>prompt</th>\n",
       "      <th>GPT_response</th>\n",
       "    </tr>\n",
       "  </thead>\n",
       "  <tbody>\n",
       "    <tr>\n",
       "      <th>0</th>\n",
       "      <td>JC1366021</td>\n",
       "      <td>131368039312</td>\n",
       "      <td>926028737</td>\n",
       "      <td>2023-12-12 17:49:00+00:00</td>\n",
       "      <td>0</td>\n",
       "      <td>2320</td>\n",
       "      <td>1</td>\n",
       "      <td>You are an infectious disease expert. Based on...</td>\n",
       "      <td>Yes</td>\n",
       "    </tr>\n",
       "    <tr>\n",
       "      <th>1</th>\n",
       "      <td>JC1366021</td>\n",
       "      <td>131368039312</td>\n",
       "      <td>926028737</td>\n",
       "      <td>2023-12-12 17:49:00+00:00</td>\n",
       "      <td>0</td>\n",
       "      <td>2320</td>\n",
       "      <td>2</td>\n",
       "      <td>You are an infectious disease expert. Based on...</td>\n",
       "      <td>Yes</td>\n",
       "    </tr>\n",
       "    <tr>\n",
       "      <th>2</th>\n",
       "      <td>JC1366023</td>\n",
       "      <td>131367556891</td>\n",
       "      <td>924085747</td>\n",
       "      <td>2024-01-05 09:33:00+00:00</td>\n",
       "      <td>0</td>\n",
       "      <td>2321</td>\n",
       "      <td>3</td>\n",
       "      <td>You are an infectious disease expert. Based on...</td>\n",
       "      <td>No</td>\n",
       "    </tr>\n",
       "    <tr>\n",
       "      <th>3</th>\n",
       "      <td>JC1366023</td>\n",
       "      <td>131367556891</td>\n",
       "      <td>924085747</td>\n",
       "      <td>2024-01-05 09:33:00+00:00</td>\n",
       "      <td>0</td>\n",
       "      <td>2321</td>\n",
       "      <td>2</td>\n",
       "      <td>You are an infectious disease expert. Based on...</td>\n",
       "      <td>Yes</td>\n",
       "    </tr>\n",
       "    <tr>\n",
       "      <th>4</th>\n",
       "      <td>JC1366023</td>\n",
       "      <td>131367556891</td>\n",
       "      <td>924085747</td>\n",
       "      <td>2024-01-05 09:33:00+00:00</td>\n",
       "      <td>0</td>\n",
       "      <td>2321</td>\n",
       "      <td>0</td>\n",
       "      <td>You are an infectious disease expert. Based on...</td>\n",
       "      <td>No</td>\n",
       "    </tr>\n",
       "  </tbody>\n",
       "</table>\n",
       "</div>"
      ],
      "text/plain": [
       "     anon_id  pat_enc_csn_id_coded  order_proc_id_coded  \\\n",
       "0  JC1366021          131368039312            926028737   \n",
       "1  JC1366021          131368039312            926028737   \n",
       "2  JC1366023          131367556891            924085747   \n",
       "3  JC1366023          131367556891            924085747   \n",
       "4  JC1366023          131367556891            924085747   \n",
       "\n",
       "  blood_culture_order_datetime  Label  doc_id  chunk_index  \\\n",
       "0    2023-12-12 17:49:00+00:00      0    2320            1   \n",
       "1    2023-12-12 17:49:00+00:00      0    2320            2   \n",
       "2    2024-01-05 09:33:00+00:00      0    2321            3   \n",
       "3    2024-01-05 09:33:00+00:00      0    2321            2   \n",
       "4    2024-01-05 09:33:00+00:00      0    2321            0   \n",
       "\n",
       "                                              prompt GPT_response  \n",
       "0  You are an infectious disease expert. Based on...          Yes  \n",
       "1  You are an infectious disease expert. Based on...          Yes  \n",
       "2  You are an infectious disease expert. Based on...           No  \n",
       "3  You are an infectious disease expert. Based on...          Yes  \n",
       "4  You are an infectious disease expert. Based on...           No  "
      ]
     },
     "execution_count": 172,
     "metadata": {},
     "output_type": "execute_result"
    }
   ],
   "source": [
    "import glob\n",
    "Res=[]\n",
    "for file in glob.glob('./*.csv'):\n",
    "    if 'GPT4_Testset_WholeNotes_part' in file:\n",
    "        if not len(Res):\n",
    "            Res=pd.read_csv(file)\n",
    "        else:\n",
    "            Res=pd.concat([Res,pd.read_csv(file)],axis=0)\n",
    "Res.head()"
   ]
  },
  {
   "cell_type": "code",
   "execution_count": 174,
   "id": "b3bc4399-bafc-40f0-b6d1-8cb15c5db31c",
   "metadata": {},
   "outputs": [],
   "source": [
    "Res.loc[Res.GPT_response=='No','GPT_response']=0\n",
    "Res.loc[Res.GPT_response=='No.','GPT_response']=0\n",
    "Res.loc[Res.GPT_response=='Yes','GPT_response']=1\n",
    "Res.loc[Res.GPT_response=='Yes.','GPT_response']=1\n",
    "Res=Res[Res.GPT_response.isin([0,1])]\n",
    "\n",
    "\n",
    "Res=Res[['anon_id','pat_enc_csn_id_coded','order_proc_id_coded','blood_culture_order_datetime','Label','GPT_response']]\n",
    "Res.drop_duplicates(inplace=True)\n",
    "test=Res.groupby(by=['anon_id','pat_enc_csn_id_coded','order_proc_id_coded','blood_culture_order_datetime','Label'],as_index=False).max()\n",
    "test.drop_duplicates(inplace=True)\n",
    "test['Label']=test['Label'].astype('int')"
   ]
  },
  {
   "cell_type": "code",
   "execution_count": 175,
   "id": "eeff7368-4694-4f20-9bc2-49a730809871",
   "metadata": {},
   "outputs": [
    {
     "name": "stdout",
     "output_type": "stream",
     "text": [
      "Sensitivity (Recall): 0.82\n",
      "Specificity: 0.56\n",
      "PPV (Precision): 0.09\n",
      "NPV: 0.98\n",
      "F1 Score: 0.15\n"
     ]
    }
   ],
   "source": [
    "from sklearn.metrics import confusion_matrix, f1_score\n",
    "import pandas as pd\n",
    "\n",
    "test['Label'] = test['Label'].astype(int)\n",
    "test['GPT_response'] = test['GPT_response'].astype(int)\n",
    "\n",
    "y_true = test['Label']\n",
    "y_pred =test['GPT_response']\n",
    "\n",
    "# Confusion matrix: [[TN, FP], [FN, TP]]\n",
    "tn, fp, fn, tp = confusion_matrix(y_true, y_pred).ravel()\n",
    "\n",
    "# Metrics\n",
    "sensitivity = tp / (tp + fn) if (tp + fn) > 0 else 0\n",
    "specificity = tn / (tn + fp) if (tn + fp) > 0 else 0\n",
    "ppv         = tp / (tp + fp) if (tp + fp) > 0 else 0\n",
    "npv         = tn / (tn + fn) if (tn + fn) > 0 else 0\n",
    "f1          = f1_score(y_true, y_pred)\n",
    "\n",
    "# Print results\n",
    "print(f\"Sensitivity (Recall): {sensitivity:.2f}\")\n",
    "print(f\"Specificity: {specificity:.2f}\")\n",
    "print(f\"PPV (Precision): {ppv:.2f}\")\n",
    "print(f\"NPV: {npv:.2f}\")\n",
    "print(f\"F1 Score: {f1:.2f}\")"
   ]
  }
 ],
 "metadata": {
  "kernelspec": {
   "display_name": "Python 3 (ipykernel)",
   "language": "python",
   "name": "python3"
  },
  "language_info": {
   "codemirror_mode": {
    "name": "ipython",
    "version": 3
   },
   "file_extension": ".py",
   "mimetype": "text/x-python",
   "name": "python",
   "nbconvert_exporter": "python",
   "pygments_lexer": "ipython3",
   "version": "3.9.6"
  }
 },
 "nbformat": 4,
 "nbformat_minor": 5
}
