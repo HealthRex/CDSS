{
 "cells": [
  {
   "cell_type": "code",
   "execution_count": null,
   "id": "34b575b3",
   "metadata": {},
   "outputs": [],
   "source": [
    "import pandas as pd\n",
    "import matplotlib.pyplot as plt\n",
    "import numpy as np\n",
    "from pulp import *\n",
    "import pandas as pd\n",
    "import os, glob\n",
    "import seaborn as sns\n",
    "from scipy.stats import kruskal\n",
    "import scikit_posthocs as sp\n",
    "from scipy.stats import mannwhitneyu\n",
    "from dotenv import load_dotenv\n",
    "load_dotenv() \n",
    "\n",
    "os.environ['GOOGLE_APPLICATION_CREDENTIALS'] = str(os.getenv(\"GOOGLE_APPLICATION_CREDENTIALS\"))\n",
    "os.environ['GCLOUD_PROJECT'] = str(os.getenv(\"GCLOUD_PROJECT\"))\n",
    "%load_ext google.cloud.bigquery\n",
    "\n",
    "from google.cloud import bigquery\n",
    "client=bigquery.Client()\n",
    "from google.cloud import bigquery_storage_v1"
   ]
  },
  {
   "cell_type": "markdown",
   "id": "8a818815-6cd7-4930-b51f-098ed1933997",
   "metadata": {},
   "source": [
    "# Notes"
   ]
  },
  {
   "cell_type": "code",
   "execution_count": null,
   "id": "4ca74eaa-1425-4a70-8d12-25c2cc1b9c23",
   "metadata": {},
   "outputs": [],
   "source": [
    "%%bigquery df_notes\n",
    "CREATE OR REPLACE TABLE som-nero-phi-jonc101.blood_culture_stewardship.Notes AS\n",
    "WITH cohort AS (\n",
    "    SELECT * FROM `som-nero-phi-jonc101.blood_culture_stewardship.cohort`\n",
    "),\n",
    "All_Relevent_notes as (\n",
    "SELECT note.*\n",
    "FROM `som-nero-phi-jonc101.Deid_Notes_JChen.Deid_Notes_SHC_JChen` note\n",
    "INNER JOIN `som-nero-phi-jonc101.shc_core_2023.prov_map` m  ON m.shc_prov_id = CAST(SUBSTR(note.author_prov_map_id, 2) AS STRING)\n",
    "WHERE \n",
    "m.prov_type in ('STANFORD REFERRING PHYSICIAN','PHYSICIAN','RESIDENT','MEDICAL STUDENT','NURSE PRACTITIONER','FELLOW',\n",
    "                   'NP STUDENT','PHYSICIAN ASSISTANT','PA STUDENT')\n",
    "),\n",
    "inpatients as (\n",
    "select * from cohort\n",
    "),\n",
    "inpatients_admit_time as (\n",
    "select auc.*,\n",
    "     en.hosp_admsn_time_jittered_utc,\n",
    "from inpatients auc left join `som-nero-phi-jonc101.shc_core_2023.encounter` en on\n",
    "auc.anon_id=en.anon_id and\n",
    "auc.pat_enc_csn_id_coded=en.pat_enc_csn_id_coded\n",
    "where hosp_admsn_time_jittered_utc is not null\n",
    "),\n",
    "inpatients_notes as (\n",
    "select inp.anon_id,\n",
    "inp.pat_enc_csn_id_coded,\n",
    "inp.order_proc_id_coded,\n",
    "note.jittered_note_date_utc as notedatetime,\n",
    "note.deid_note_text,\n",
    "note.note_type,\n",
    "note.note_type_desc,\n",
    "from inpatients_admit_time inp\n",
    "inner join All_Relevent_notes note on \n",
    "inp.anon_id=note.anon_id\n",
    "where \n",
    "TIMESTAMP_DIFF(inp.blood_culture_order_datetime, TIMESTAMP(note.jittered_note_date_utc), Hour) >= -24 \n",
    "and\n",
    "TIMESTAMP_DIFF(note.jittered_note_date_utc, inp.hosp_admsn_time_jittered_utc, DAY) >=-14 \n",
    ")\n",
    "select  anon_id,\n",
    "pat_enc_csn_id_coded,\n",
    "order_proc_id_coded,\n",
    "notedatetime,\n",
    "deid_note_text,\n",
    "note_type,\n",
    "note_type_desc,\n",
    "from inpatients_notes\n",
    "group by anon_id,pat_enc_csn_id_coded,order_proc_id_coded,notedatetime,note_type,deid_note_text,note_type_desc\n",
    "order by anon_id,pat_enc_csn_id_coded,order_proc_id_coded,notedatetime,note_type,deid_note_text,note_type_desc"
   ]
  },
  {
   "cell_type": "code",
   "execution_count": null,
   "id": "d4d76749-da95-4325-99d8-81cc3a53cbf7",
   "metadata": {},
   "outputs": [],
   "source": [
    "df_notes.head()"
   ]
  },
  {
   "cell_type": "markdown",
   "id": "61939599-8b3c-4e12-b655-1a2579b998e4",
   "metadata": {},
   "source": [
    "# ED notes with Physcian Provider "
   ]
  },
  {
   "cell_type": "code",
   "execution_count": null,
   "id": "14b00f77-08d8-4ebe-b665-6019fc4fc732",
   "metadata": {},
   "outputs": [],
   "source": [
    "%%bigquery df_notes\n",
    "CREATE OR REPLACE TABLE som-nero-phi-jonc101.blood_culture_stewardship.EDProviderNotes AS\n",
    "WITH cohort AS (\n",
    "    SELECT * FROM `som-nero-phi-jonc101.blood_culture_stewardship.cohort`\n",
    "),\n",
    "note as(\n",
    " SELECT note.*,\n",
    "  FROM `som-nero-phi-jonc101.Deid_Notes_JChen.Deid_Notes_SHC_JChen` note\n",
    "  INNER JOIN `som-nero-phi-jonc101.shc_core_2023.prov_map` m  ON m.shc_prov_id = CAST(SUBSTR(note.author_prov_map_id, 2) AS STRING)\n",
    "WHERE \n",
    "note.note_type_desc like 'ED Provider Notes'\n",
    "AND m.prov_type in ('PHYSICIAN')\n",
    ")\n",
    "select cohort.anon_id,\n",
    "cohort.pat_enc_csn_id_coded,\n",
    "cohort.order_proc_id_coded,\n",
    "note.jittered_note_date_utc as notedatetime,\n",
    "note.deid_note_text,\n",
    "note.note_type,\n",
    "note.note_type_desc,\n",
    "from cohort \n",
    "inner join note using(anon_id)\n",
    "where \n",
    "TIMESTAMP_DIFF(cohort.blood_culture_order_datetime, TIMESTAMP(note.jittered_note_date_utc), Hour) >= -24 #0\n",
    "and \n",
    "TIMESTAMP_DIFF(cohort.blood_culture_order_datetime, TIMESTAMP(note.jittered_note_date_utc), Hour) <= 24 #0"
   ]
  }
 ],
 "metadata": {
  "kernelspec": {
   "display_name": "Python 3 (ipykernel)",
   "language": "python",
   "name": "python3"
  },
  "language_info": {
   "codemirror_mode": {
    "name": "ipython",
    "version": 3
   },
   "file_extension": ".py",
   "mimetype": "text/x-python",
   "name": "python",
   "nbconvert_exporter": "python",
   "pygments_lexer": "ipython3",
   "version": "3.9.6"
  }
 },
 "nbformat": 4,
 "nbformat_minor": 5
}
