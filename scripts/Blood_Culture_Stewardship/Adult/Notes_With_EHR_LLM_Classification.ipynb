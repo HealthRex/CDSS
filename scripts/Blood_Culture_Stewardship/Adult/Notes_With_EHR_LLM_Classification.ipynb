{
 "cells": [
  {
   "cell_type": "code",
   "execution_count": null,
   "id": "115d3571",
   "metadata": {},
   "outputs": [],
   "source": [
    "import xgboost as xgb\n",
    "import pandas as pd\n",
    "from sklearn.model_selection import train_test_split"
   ]
  },
  {
   "cell_type": "code",
   "execution_count": null,
   "id": "e3ef9606-d317-40c4-9044-7679ca7e0afa",
   "metadata": {},
   "outputs": [],
   "source": [
    "import pandas as pd\n",
    "import matplotlib.pyplot as plt\n",
    "import numpy as np\n",
    "from pulp import *\n",
    "import pandas as pd\n",
    "import os, glob\n",
    "import seaborn as sns\n",
    "from scipy.stats import kruskal\n",
    "import scikit_posthocs as sp\n",
    "from scipy.stats import mannwhitneyu\n",
    "\n",
    "load_dotenv('./Credentials.env',override=True)\n",
    "\n",
    "os.environ['GOOGLE_APPLICATION_CREDENTIALS'] = str(os.getenv(\"GOOGLE_APPLICATION_CREDENTIALS\"))  \n",
    "os.environ['GCLOUD_PROJECT'] =  str(os.getenv(\"GCLOUD_PROJECT\"))\n",
    "\n",
    "%load_ext google.cloud.bigquery\n",
    "\n",
    "from google.cloud import bigquery\n",
    "client=bigquery.Client()\n",
    "from google.cloud import bigquery_storage_v1"
   ]
  },
  {
   "cell_type": "markdown",
   "id": "76006986-215b-4d0b-b5ef-8352b31bf61d",
   "metadata": {},
   "source": [
    "## Read patients_Notes_EHR"
   ]
  },
  {
   "cell_type": "code",
   "execution_count": null,
   "id": "a813fe2a-b7c7-4bac-93ea-f3a310b475a4",
   "metadata": {},
   "outputs": [],
   "source": [
    "%%bigquery Train_set_df\n",
    "select * from `som-nero-phi-jonc101.blood_culture_stewardship.cohort` where order_year>=2015 and order_year<2022"
   ]
  },
  {
   "cell_type": "code",
   "execution_count": null,
   "id": "31b08cd0-88f4-4a56-9895-6e5bf8ed0711",
   "metadata": {},
   "outputs": [],
   "source": [
    "%%bigquery Val_set_df\n",
    "select * from `som-nero-phi-jonc101.blood_culture_stewardship.cohort` where order_year>=2022 and order_year<2023"
   ]
  },
  {
   "cell_type": "code",
   "execution_count": null,
   "id": "95794ff3-98a7-43b1-887e-d99c7ec59caa",
   "metadata": {},
   "outputs": [],
   "source": [
    "%%bigquery Test_set_df\n",
    "select * from `som-nero-phi-jonc101.blood_culture_stewardship.cohort` where order_year>=2023 "
   ]
  },
  {
   "cell_type": "code",
   "execution_count": null,
   "id": "e6c9389f-fb63-4c9b-8a89-94e10c36c191",
   "metadata": {},
   "outputs": [],
   "source": [
    "%%bigquery Notes_df\n",
    "select * from `som-nero-phi-jonc101.blood_culture_stewardship.EDProviderNotes`"
   ]
  },
  {
   "cell_type": "code",
   "execution_count": null,
   "id": "063f6292-3fd9-4c54-87dc-08b4d627fac5",
   "metadata": {},
   "outputs": [],
   "source": [
    "Train_set_df_note=pd.merge(Train_set_df,Notes_df,how='inner',on=['anon_id','pat_enc_csn_id_coded','order_proc_id_coded'])\n",
    "Train_set_df_note[['anon_id','pat_enc_csn_id_coded','order_proc_id_coded']].drop_duplicates().shape\n",
    "\n",
    "Val_set_df_note=pd.merge(Val_set_df,Notes_df,how='inner',on=['anon_id','pat_enc_csn_id_coded','order_proc_id_coded'])\n",
    "Val_set_df_note[['anon_id','pat_enc_csn_id_coded','order_proc_id_coded']].drop_duplicates().shape\n",
    "\n",
    "Test_set_df_note=pd.merge(Test_set_df,Notes_df,how='inner',on=['anon_id','pat_enc_csn_id_coded','order_proc_id_coded'])\n",
    "Test_set_df_note[['anon_id','pat_enc_csn_id_coded','order_proc_id_coded']].drop_duplicates().shape"
   ]
  },
  {
   "cell_type": "code",
   "execution_count": null,
   "id": "b9146694-ac0a-4a16-b456-472af3a284c9",
   "metadata": {},
   "outputs": [],
   "source": [
    "Train_set_df_note=Train_set_df_note[Train_set_df_note.deid_note_text.notnull()]\n",
    "Train_set_df_note[['anon_id','pat_enc_csn_id_coded','order_proc_id_coded']].drop_duplicates().shape\n",
    "\n",
    "Val_set_df_note=Val_set_df_note[Val_set_df_note.deid_note_text.notnull()]\n",
    "Val_set_df_note[['anon_id','pat_enc_csn_id_coded','order_proc_id_coded']].drop_duplicates().shape\n",
    "\n",
    "Test_set_df_note=Test_set_df_note[Test_set_df_note.deid_note_text.notnull()]\n",
    "Test_set_df_note[['anon_id','pat_enc_csn_id_coded','order_proc_id_coded']].drop_duplicates().shape"
   ]
  },
  {
   "cell_type": "markdown",
   "id": "aa4e2531-9eb9-4867-bfd6-fc4dccb1a315",
   "metadata": {},
   "source": [
    "# Approach 1"
   ]
  },
  {
   "cell_type": "code",
   "execution_count": null,
   "id": "78ae9e37-eca7-46b6-bf9e-f4b27e523eeb",
   "metadata": {},
   "outputs": [],
   "source": [
    "Train_set_df_note.drop_duplicates(subset=['anon_id', 'pat_enc_csn_id_coded', 'order_proc_id_coded','blood_culture_order_datetime','notedatetime','deid_note_text'],inplace=True)\n",
    "Train_set_df_note.shape\n",
    "\n",
    "Val_set_df_note.drop_duplicates(subset=['anon_id', 'pat_enc_csn_id_coded', 'order_proc_id_coded','blood_culture_order_datetime','notedatetime','deid_note_text'],inplace=True)\n",
    "Val_set_df_note.shape\n",
    "\n",
    "Test_set_df_note.drop_duplicates(subset=['anon_id', 'pat_enc_csn_id_coded', 'order_proc_id_coded','blood_culture_order_datetime','notedatetime','deid_note_text'],inplace=True)\n",
    "Test_set_df_note.shape\n"
   ]
  },
  {
   "cell_type": "code",
   "execution_count": null,
   "id": "5a80f163-0e4a-4dca-a276-49e5e01606a5",
   "metadata": {},
   "outputs": [],
   "source": [
    "Train_set_df_note['blood_culture_order_datetime'] = pd.to_datetime(Train_set_df_note['blood_culture_order_datetime'])\n",
    "Train_set_df_note['notedatetime'] = pd.to_datetime(Train_set_df_note['notedatetime'])\n",
    "Train_set_df_note['time-diff']=(Train_set_df_note['blood_culture_order_datetime']-Train_set_df_note['notedatetime']).dt.total_seconds()/3600\n",
    "Train_set_df_note['time-diff']=Train_set_df_note['time-diff'].astype(int)\n",
    "Train_set_df_note=Train_set_df_note[Train_set_df_note['time-diff']>=-24]\n",
    "\n",
    "\n",
    "Val_set_df_note['blood_culture_order_datetime'] = pd.to_datetime(Val_set_df_note['blood_culture_order_datetime'])\n",
    "Val_set_df_note['notedatetime'] = pd.to_datetime(Val_set_df_note['notedatetime'])\n",
    "Val_set_df_note['time-diff']=(Val_set_df_note['blood_culture_order_datetime']-Val_set_df_note['notedatetime']).dt.total_seconds()/3600\n",
    "Val_set_df_note['time-diff']=Val_set_df_note['time-diff'].astype(int)\n",
    "Val_set_df_note=Val_set_df_note[Val_set_df_note['time-diff']>=-24]\n",
    "\n",
    "Test_set_df_note['blood_culture_order_datetime'] = pd.to_datetime(Test_set_df_note['blood_culture_order_datetime'])\n",
    "Test_set_df_note['notedatetime'] = pd.to_datetime(Test_set_df_note['notedatetime'])\n",
    "Test_set_df_note['time-diff']=(Test_set_df_note['blood_culture_order_datetime']-Test_set_df_note['notedatetime']).dt.total_seconds()/3600\n",
    "Test_set_df_note['time-diff']=Test_set_df_note['time-diff'].astype(int)\n",
    "Test_set_df_note=Test_set_df_note[Test_set_df_note['time-diff']>=-24]\n"
   ]
  },
  {
   "cell_type": "code",
   "execution_count": null,
   "id": "4d20f3d8-df64-47b4-aba6-3b613b25141c",
   "metadata": {},
   "outputs": [],
   "source": [
    "Train_set_df_note['time-diff']=(Train_set_df_note['blood_culture_order_datetime']-Train_set_df_note['notedatetime']).dt.total_seconds().abs()\n",
    "Val_set_df_note['time-diff']=(Val_set_df_note['blood_culture_order_datetime']-Val_set_df_note['notedatetime']).dt.total_seconds().abs()\n",
    "Test_set_df_note['time-diff']=(Test_set_df_note['blood_culture_order_datetime']-Test_set_df_note['notedatetime']).dt.total_seconds().abs()\n",
    "\n",
    "\n",
    "Train_set_df_note = Train_set_df_note.sort_values('time-diff').drop_duplicates(subset=['anon_id', 'pat_enc_csn_id_coded', 'order_proc_id_coded', 'blood_culture_order_datetime'], keep='first')\n",
    "Val_set_df_note = Val_set_df_note.sort_values('time-diff').drop_duplicates(subset=['anon_id', 'pat_enc_csn_id_coded', 'order_proc_id_coded', 'blood_culture_order_datetime'], keep='first')\n",
    "Test_set_df_note = Test_set_df_note.sort_values('time-diff').drop_duplicates(subset=['anon_id', 'pat_enc_csn_id_coded', 'order_proc_id_coded', 'blood_culture_order_datetime'], keep='first')\n"
   ]
  },
  {
   "cell_type": "code",
   "execution_count": null,
   "id": "d52bf460-6cca-4955-b621-cbde8eb6936e",
   "metadata": {},
   "outputs": [],
   "source": [
    "Train_set_df_note['doc_id'] = Train_set_df_note.groupby(['anon_id', 'pat_enc_csn_id_coded', 'order_proc_id_coded','blood_culture_order_datetime']).ngroup() + 1\n",
    "Val_set_df_note['doc_id'] = Val_set_df_note.groupby(['anon_id', 'pat_enc_csn_id_coded', 'order_proc_id_coded','blood_culture_order_datetime']).ngroup() + 1\n",
    "Test_set_df_note['doc_id'] = Test_set_df_note.groupby(['anon_id', 'pat_enc_csn_id_coded', 'order_proc_id_coded','blood_culture_order_datetime']).ngroup() + 1"
   ]
  },
  {
   "cell_type": "code",
   "execution_count": null,
   "id": "de99bc0c-02b8-4d43-8613-5146011ae6f8",
   "metadata": {},
   "outputs": [],
   "source": [
    "## Evalute GPT4 on whole Notes "
   ]
  },
  {
   "cell_type": "markdown",
   "id": "86d35a52-6e94-4efc-8458-5905d879f454",
   "metadata": {},
   "source": [
    "## Evalute GPT4 on whole Notes + EHR ********* (running from this note book)"
   ]
  },
  {
   "cell_type": "code",
   "execution_count": null,
   "id": "c33db23b-041d-4267-b7d4-40ada8dab64a",
   "metadata": {},
   "outputs": [],
   "source": [
    "Test_set_df_note['Label']=(Test_set_df_note['positive_blood_culture']| Test_set_df_note['positive_blood_culture_in_week'])"
   ]
  },
  {
   "cell_type": "code",
   "execution_count": null,
   "id": "646e795a-fc6f-4e48-8edd-1a9191471a97",
   "metadata": {},
   "outputs": [],
   "source": [
    "EHR=[col for col in Test_set_df_note.columns.values if 'min' in col]\n",
    "EHR.extend([col for col in Test_set_df_note.columns.values if 'max' in col])\n",
    "EHR.extend([col for col in Test_set_df_note.columns.values if 'avg' in col])\n",
    "EHR.extend([col for col in Test_set_df_note.columns.values if 'median' in col])\n",
    "EHR"
   ]
  },
  {
   "cell_type": "code",
   "execution_count": null,
   "id": "3af18ca3-798c-4337-82e7-0ccbf138ab6d",
   "metadata": {},
   "outputs": [],
   "source": [
    "def format_structured_features(row, ehr_columns):\n",
    "    return \"\\n\".join([f\"- {col}: {row[col]}\" for col in ehr_columns if pd.notnull(row[col])])\n",
    "\n",
    "\n",
    "def dict_structured_features(row, ehr_columns):\n",
    "    EHR={}\n",
    "    for col in ehr_columns:\n",
    "        if pd.notnull(row[col]):\n",
    "            EHR[col]=row[col]\n",
    "    return EHR\n",
    "    \n",
    "\n",
    "prompt_records = []\n",
    "\n",
    "def split_note_text(note_text, max_words=1000, overlap=10):\n",
    "    words = note_text.split()\n",
    "    chunks = []\n",
    "    i = 0\n",
    "    while i < len(words):\n",
    "        chunk = words[i:i+max_words]\n",
    "        chunks.append(\" \".join(chunk))\n",
    "        i += max_words - overlap\n",
    "    return chunks\n",
    "\n",
    "\n",
    "EHR_IncludeInprompt=True\n",
    "\n",
    "for i, row in Test_set_df_note.iterrows():\n",
    "    structured_block = format_structured_features(row, EHR)\n",
    "    structured_dict = dict_structured_features(row, EHR)\n",
    "    note_text = row['deid_note_text']\n",
    "    note_text = re.sub(r'\\s+', ' ', note_text.replace('\\n', ' ')).strip()\n",
    "    \n",
    "    # Split if longer than 3000 words\n",
    "    if len(note_text.split()) > 1000:\n",
    "        note_chunks = split_note_text(note_text)\n",
    "    else:\n",
    "        note_chunks = [note_text]\n",
    "\n",
    "    # Generate one prompt per chunk\n",
    "    for chunk_index, chunk in enumerate(note_chunks):\n",
    "        if EHR_IncludeInprompt:\n",
    "            prompt = (\n",
    "                \"You are an infectious disease expert. Based on the patient information below, determine whether this patient's blood culture is likely to be positive.\\n\"\n",
    "                \"Respond with **only** 'Yes' or 'No'. Reply 'Yes' if a positive blood culture is likely; otherwise, reply 'No'.\\n\\n\"\n",
    "                \"Patient Information:\\n\"\n",
    "                f\"{structured_block}\\n\\n\"\n",
    "                \"Clinical Note:\\n\"\n",
    "                f\"{chunk}\\n\"\n",
    "            )\n",
    "        else:\n",
    "            prompt = (\n",
    "                \"You are an infectious disease expert. Based on the patient information below, determine whether this patient's blood culture is likely to be positive.\\n\"\n",
    "                \"Respond with **only** 'Yes' or 'No'. Reply 'Yes' if a positive blood culture is likely; otherwise, reply 'No'.\\n\\n\"\n",
    "                \"Patient Information:\\n\"\n",
    "                \"Clinical Note:\\n\"\n",
    "                f\"{chunk}\\n\"\n",
    "            )\n",
    "            \n",
    "        prompt_records.append({\n",
    "            'anon_id': row['anon_id'],\n",
    "            'pat_enc_csn_id_coded': row['pat_enc_csn_id_coded'],\n",
    "            'order_proc_id_coded': row['order_proc_id_coded'],\n",
    "            'blood_culture_order_datetime':row['blood_culture_order_datetime'],\n",
    "            'Label':row['Label'],\n",
    "            'doc_id':row['doc_id'],\n",
    "            'chunk_index': chunk_index,\n",
    "            'prompt': prompt,\n",
    "            'EHR':[structured_dict]\n",
    "        })\n",
    "\n",
    "# Convert to DataFrame\n",
    "\n",
    "Test_set_prompt_df = pd.DataFrame(prompt_records)"
   ]
  },
  {
   "cell_type": "code",
   "execution_count": null,
   "id": "99d4642f-a733-41a2-8729-234f328ea499",
   "metadata": {},
   "outputs": [],
   "source": [
    "Test_set_prompt_df"
   ]
  },
  {
   "cell_type": "code",
   "execution_count": null,
   "id": "2dacffd8-2fd4-41c9-8e0f-44bf5841819c",
   "metadata": {},
   "outputs": [],
   "source": [
    "import requests\n",
    "import json\n",
    "my_key = \"xxxxxxxxxx\"\n",
    "headers = {'Ocp-Apim-Subscription-Key': my_key, 'Content-Type': 'application/json'}\n",
    "\n",
    "url = \"https://apim.stanfordhealthcare.org/openai-eastus2/deployments/gpt-4.1/chat/completions?api-version=2025-01-01-preview\" \n"
   ]
  },
  {
   "cell_type": "code",
   "execution_count": null,
   "id": "6aa90880-1dde-4454-aed6-2945420afc68",
   "metadata": {},
   "outputs": [],
   "source": [
    "import pdb\n",
    "import json\n",
    "import requests\n",
    "import pdb\n",
    "from time import sleep\n",
    "\n",
    "def gpt4response(row, model=\"gpt-4\",EHR_IncludeInprompt=True):\n",
    "    prompt=row['prompt']\n",
    "    ehr_data = row[\"EHR\"]\n",
    "    doc_id=row['doc_id']\n",
    "    ehr_data=row['EHR']\n",
    "    if not prompt:\n",
    "        return None\n",
    "\n",
    "    if EHR_IncludeInprompt:\n",
    "        payload = json.dumps({\n",
    "            \"model\": model,\n",
    "            \"messages\": [{\"role\": \"user\", \"content\": prompt}\n",
    "        ]\n",
    "\n",
    "        })\n",
    "    else:\n",
    "        payload = json.dumps({\n",
    "        \"model\": model,\n",
    "        \"messages\": [\n",
    "            {\"role\": \"user\", \"content\": prompt},\n",
    "            {\"role\": \"system\", \"content\": f\"Here is the structured EHR data in JSON format:\\n{json.dumps(ehr_data)}\"}\n",
    "        ]\n",
    "    })\n",
    "\n",
    "    while True:\n",
    "        try:\n",
    "            response = requests.post(url, headers=headers, data=payload)\n",
    "            response_json = response.json()\n",
    "            if 'choices' in response_json:\n",
    "                return response_json['choices'][0]['message']['content']\n",
    "            else:\n",
    "                print(f\"doc_id:{doc_id}\")\n",
    "                print(\"Response missing 'choices'. Retrying in 10 seconds...\")\n",
    "                sleep(10)\n",
    "        except Exception as e:\n",
    "            print(f\"Error: {e}. Retrying in 10 seconds...\")\n",
    "            sleep(10)"
   ]
  },
  {
   "cell_type": "code",
   "execution_count": null,
   "id": "835a3e4c-af55-447a-a496-4b8426f64f8a",
   "metadata": {},
   "outputs": [],
   "source": [
    "Test_set_prompt_df.sort_values(by=['doc_id'],inplace=True)\n",
    "Test_set_prompt_df = Test_set_prompt_df.reset_index(drop=True)\n",
    "Test_set_prompt_df"
   ]
  },
  {
   "cell_type": "code",
   "execution_count": null,
   "id": "5d33ff8d-b260-4e65-b275-9ec667841ded",
   "metadata": {},
   "outputs": [],
   "source": [
    "len_batches=100\n",
    "n_batches=int(Test_set_prompt_df.shape[0]/len_batches)\n",
    "for i in range(n_batches):\n",
    "    DF=Test_set_prompt_df.iloc[i*len_batches:i*len_batches+len_batches]\n",
    "    DF['GPT_response']=DF.apply(lambda row:gpt4response(row),axis=1)\n",
    "    filename=f\"GPT4_Testset_WholeNotes_EHR_part{i}.csv\"\n",
    "    DF.to_csv(filename,index=False)\n",
    "    print(f'Batch{i} is done')\n",
    "\n",
    "print(i)"
   ]
  },
  {
   "cell_type": "code",
   "execution_count": null,
   "id": "c2d6714e-3072-49ea-9944-44a5b4d4f25b",
   "metadata": {},
   "outputs": [],
   "source": [
    "DF=Test_set_prompt_df.iloc[i*len_batches:]\n",
    "DF['GPT_response']=DF.apply(lambda row:gpt4response(row),axis=1)\n",
    "filename=f\"GPT4_Testset_WholeNotes_EHR_part{i}.csv\"\n",
    "DF.to_csv(filename,index=False)\n",
    "print(f'Batch{i} is done')"
   ]
  },
  {
   "cell_type": "markdown",
   "id": "e32d85be-9efe-4fe6-89e0-2379fee5d3a4",
   "metadata": {},
   "source": [
    "### Evalute_GPT4 responses"
   ]
  },
  {
   "cell_type": "code",
   "execution_count": null,
   "id": "43643c5d-68c9-4567-a4ef-70e104e6e3f3",
   "metadata": {},
   "outputs": [],
   "source": [
    "import glob\n",
    "Res=[]\n",
    "for file in glob.glob('./*.csv'):\n",
    "    if 'GPT4_Testset_WholeNotes_EHR_part' in file:\n",
    "        if not len(Res):\n",
    "            Res=pd.read_csv(file)\n",
    "        else:\n",
    "            Res=pd.concat([Res,pd.read_csv(file)],axis=0)\n",
    "Res.head()\n",
    "        \n",
    "        "
   ]
  },
  {
   "cell_type": "code",
   "execution_count": null,
   "id": "556e7d5b-96d3-490d-bfc6-dee92d2df8fe",
   "metadata": {},
   "outputs": [],
   "source": [
    "Res.loc[Res.GPT_response=='No','GPT_response']=0\n",
    "Res.loc[Res.GPT_response=='No.','GPT_response']=0\n",
    "Res.loc[Res.GPT_response=='Yes','GPT_response']=1\n",
    "\n",
    "Res=Res[['anon_id','pat_enc_csn_id_coded','order_proc_id_coded','blood_culture_order_datetime','Label','GPT_response']]\n",
    "Res.drop_duplicates(inplace=True)\n",
    "test=Res.groupby(by=['anon_id','pat_enc_csn_id_coded','order_proc_id_coded','blood_culture_order_datetime','Label'],as_index=False).max()\n",
    "test.drop_duplicates(inplace=True)\n",
    "test\n",
    "test['Label']=test['Label'].astype('int')"
   ]
  },
  {
   "cell_type": "code",
   "execution_count": null,
   "id": "a4b367a6-d4c3-4bfe-91db-77e46a746ad0",
   "metadata": {},
   "outputs": [],
   "source": [
    "from sklearn.metrics import confusion_matrix, f1_score\n",
    "import pandas as pd\n",
    "\n",
    "test['Label'] = test['Label'].astype(int)\n",
    "test['GPT_response'] = test['GPT_response'].astype(int)\n",
    "\n",
    "y_true = test['Label']\n",
    "y_pred =test['GPT_response']\n",
    "\n",
    "# Confusion matrix: [[TN, FP], [FN, TP]]\n",
    "tn, fp, fn, tp = confusion_matrix(y_true, y_pred).ravel()\n",
    "\n",
    "# Metrics\n",
    "sensitivity = tp / (tp + fn) if (tp + fn) > 0 else 0\n",
    "specificity = tn / (tn + fp) if (tn + fp) > 0 else 0\n",
    "ppv         = tp / (tp + fp) if (tp + fp) > 0 else 0\n",
    "npv         = tn / (tn + fn) if (tn + fn) > 0 else 0\n",
    "f1          = f1_score(y_true, y_pred)\n",
    "\n",
    "# Print results\n",
    "print(f\"Sensitivity (Recall): {sensitivity:.2f}\")\n",
    "print(f\"Specificity: {specificity:.2f}\")\n",
    "print(f\"PPV (Precision): {ppv:.2f}\")\n",
    "print(f\"NPV: {npv:.2f}\")\n",
    "print(f\"F1 Score: {f1:.2f}\")"
   ]
  }
 ],
 "metadata": {
  "kernelspec": {
   "display_name": "Python 3 (ipykernel)",
   "language": "python",
   "name": "python3"
  },
  "language_info": {
   "codemirror_mode": {
    "name": "ipython",
    "version": 3
   },
   "file_extension": ".py",
   "mimetype": "text/x-python",
   "name": "python",
   "nbconvert_exporter": "python",
   "pygments_lexer": "ipython3",
   "version": "3.9.6"
  }
 },
 "nbformat": 4,
 "nbformat_minor": 5
}
