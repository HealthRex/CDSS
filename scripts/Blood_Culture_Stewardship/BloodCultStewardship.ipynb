{
 "cells": [
  {
   "cell_type": "code",
   "execution_count": 11,
   "id": "cfe7c362-6200-4dca-a272-fdc48b128823",
   "metadata": {},
   "outputs": [
    {
     "name": "stdout",
     "output_type": "stream",
     "text": [
      "The google.cloud.bigquery extension is already loaded. To reload it, use:\n",
      "  %reload_ext google.cloud.bigquery\n"
     ]
    }
   ],
   "source": [
    "import pandas as pd\n",
    "import matplotlib.pyplot as plt\n",
    "import numpy as np\n",
    "from pulp import *\n",
    "import pandas as pd\n",
    "import os, glob\n",
    "import seaborn as sns\n",
    "from scipy.stats import kruskal\n",
    "import scikit_posthocs as sp\n",
    "from scipy.stats import mannwhitneyu\n",
    "\n",
    "os.environ['GOOGLE_APPLICATION_CREDENTIALS'] = '/Users/fa/Downloads/google-cloud-sdk/som-nero-phi-jonc101-2116f9f7bc68.json' \n",
    "os.environ['GCLOUD_PROJECT'] = 'som-nero-phi-jonc101' \n",
    "%load_ext google.cloud.bigquery\n",
    "\n",
    "from google.cloud import bigquery\n",
    "client=bigquery.Client()\n",
    "from google.cloud import bigquery_storage_v1"
   ]
  },
  {
   "cell_type": "markdown",
   "id": "5ee1da1c-616f-484d-b958-0f5466bb8b0f",
   "metadata": {
    "jp-MarkdownHeadingCollapsed": true
   },
   "source": [
    "# Study Cohort"
   ]
  },
  {
   "cell_type": "code",
   "execution_count": 13,
   "id": "deced2fb-156b-41eb-9ca9-443efb83eca1",
   "metadata": {},
   "outputs": [
    {
     "data": {
      "application/vnd.jupyter.widget-view+json": {
       "model_id": "3b9c66ff0ab944fd86a33b404f15264a",
       "version_major": 2,
       "version_minor": 0
      },
      "text/plain": [
       "Query is running:   0%|          |"
      ]
     },
     "metadata": {},
     "output_type": "display_data"
    }
   ],
   "source": [
    "%%bigquery df_ED\n",
    "Create or replace table som-nero-phi-jonc101.blood_culture_stewardship.cohort AS\n",
    "with base as (\n",
    "SELECT DISTINCT\n",
    "        op.anon_id, \n",
    "        op.pat_enc_csn_id_coded,\n",
    "        op.order_proc_id_coded, \n",
    "        op.order_time_jittered_utc,\n",
    "        EXTRACT(YEAR FROM op.order_time_jittered_utc) as order_year ,  \n",
    "        op.ordering_mode,\n",
    "        op.department_id,\n",
    "    \n",
    "    FROM \n",
    "        `som-nero-phi-jonc101.shc_core_2023.order_proc` op\n",
    "     INNER JOIN\n",
    "        `som-nero-phi-jonc101.shc_core_2023.lab_result` lr\n",
    "    ON\n",
    "        op.order_proc_id_coded = lr.order_id_coded\n",
    "    WHERE\n",
    "        op.order_type LIKE \"Microbiology%\"\n",
    "        AND op.description LIKE \"%BLOOD%\"\n",
    "        AND not op.order_status like any ('Discontinued','Canceled')\n",
    "), \n",
    "ED_orders as(\n",
    "select \n",
    "b.anon_id,\n",
    "b.pat_enc_csn_id_coded,\n",
    "b.order_proc_id_coded,\n",
    "b.order_time_jittered_utc,\n",
    "b.order_year,\n",
    "b.ordering_mode,\n",
    "b.department_id,\n",
    "department_name,\n",
    "from base b inner join `som-nero-phi-jonc101.shc_core_2023.dep_map` using(department_id)\n",
    "where lower(department_name) like '%emergency%'\n",
    "group by b.anon_id,b.pat_enc_csn_id_coded,b.order_proc_id_coded,b.order_time_jittered_utc,b.order_year,b.ordering_mode,b.department_id,department_name\n",
    ")\n",
    "SELECT \n",
    "  b.anon_id,\n",
    "  b.pat_enc_csn_id_coded,\n",
    "  b.order_proc_id_coded,\n",
    "  b.order_time_jittered_utc as blood_culture_order_datetime,\n",
    "  b.order_year,\n",
    "  ad.effective_time_jittered_utc as ed_arrival_datetime,\n",
    "FROM \n",
    "  ED_orders b\n",
    "INNER JOIN \n",
    "  `som-nero-phi-jonc101.shc_core_2023.adt` ad\n",
    "USING \n",
    "  (anon_id,pat_enc_csn_id_coded,department_id)\n",
    "Where event_type='Admission'\n",
    "and b.order_time_jittered_utc>=ad.effective_time_jittered_utc\n",
    "GROUP BY b.anon_id,b.pat_enc_csn_id_coded,b.order_proc_id_coded,b.order_time_jittered_utc,b.order_year,ad.effective_time_jittered_utc"
   ]
  },
  {
   "cell_type": "markdown",
   "id": "a6ff6723-cdf7-43f7-b319-78830fd2b318",
   "metadata": {
    "jp-MarkdownHeadingCollapsed": true
   },
   "source": [
    "# Labels"
   ]
  },
  {
   "cell_type": "code",
   "execution_count": 32,
   "id": "a6c0528e-ed9b-4807-892b-9bcd8e2eaadb",
   "metadata": {},
   "outputs": [
    {
     "data": {
      "application/vnd.jupyter.widget-view+json": {
       "model_id": "23f336709e894c9ba88d94f03000776c",
       "version_major": 2,
       "version_minor": 0
      },
      "text/plain": [
       "Query is running:   0%|          |"
      ]
     },
     "metadata": {},
     "output_type": "display_data"
    }
   ],
   "source": [
    "%%bigquery df_ed_labels\n",
    "Create or replace table som-nero-phi-jonc101.blood_culture_stewardship.cohort AS\n",
    "With culture as ( \n",
    "    SELECT DISTINCT\n",
    "         c.anon_id,\n",
    "         c.pat_enc_csn_id_coded,\n",
    "         c.order_proc_id_coded,\n",
    "         lr.ord_value,\n",
    "         coalesce(lr.extended_value_comment,lr.extended_comp_comment) as comment,\n",
    "    FROM \n",
    "        `som-nero-phi-jonc101.blood_culture_stewardship.cohort` c\n",
    "    INNER JOIN\n",
    "        `som-nero-phi-jonc101.shc_core_2023.lab_result` lr\n",
    "       on c.anon_id=lr.anon_id \n",
    "          and c.order_proc_id_coded=lr.order_id_coded\n",
    "          and c.pat_enc_csn_id_coded=lr.pat_enc_csn_id_coded\n",
    "          and c.blood_culture_order_datetime=lr.order_time_jittered_utc\n",
    "    ),\n",
    "culture_growth as (\n",
    "select op.anon_id,\n",
    "       op.pat_enc_csn_id_coded,\n",
    "       op.order_proc_id_coded,\n",
    "       1 as was_pos,\n",
    "from culture op  \n",
    "                INNER join (SELECT DISTINCT anon_id,order_proc_id_coded, organism\n",
    "                        FROM `som-nero-phi-jonc101.shc_core_2023.culture_sensitivity`\n",
    "                        where organism is not null) cs USING (anon_id,order_proc_id_coded) \n",
    "WHERE not lower(ord_value) like any (\"%no%grow%\",\"%not%detect%\",\"negative\")\n",
    "     AND not upper(comment) like any ('%NO%GROWTH%','%COAG%NEG%STAPH%','%GRAM%+%RODS%','%GRAM%POS%RODS%','%CONTAMIN%')\n",
    ")\n",
    "select c.*,\n",
    "case when (cg.was_pos=1) then cg.was_pos else 0 end as positive_blood_culture \n",
    "from `som-nero-phi-jonc101.blood_culture_stewardship.cohort` c LEFT JOIN culture_growth cg \n",
    "using(anon_id,pat_enc_csn_id_coded,order_proc_id_coded)"
   ]
  },
  {
   "cell_type": "code",
   "execution_count": 43,
   "id": "2866fa59-3bf7-4720-8e4b-ecba333a4222",
   "metadata": {},
   "outputs": [
    {
     "data": {
      "application/vnd.jupyter.widget-view+json": {
       "model_id": "24e33ca6270540f58315e469551f99da",
       "version_major": 2,
       "version_minor": 0
      },
      "text/plain": [
       "Query is running:   0%|          |"
      ]
     },
     "metadata": {},
     "output_type": "display_data"
    }
   ],
   "source": [
    "%%bigquery df_ed_labels\n",
    "Create or replace table som-nero-phi-jonc101.blood_culture_stewardship.cohort AS\n",
    "With order_posetive_next_week AS (\n",
    "   SELECT DISTINCT\n",
    "         c.anon_id,\n",
    "         c.order_proc_id_coded,\n",
    "         1 as positive_blood_culture_in_week\n",
    "    FROM \n",
    "       `som-nero-phi-jonc101.blood_culture_stewardship.cohort` c \n",
    "     INNER JOIN\n",
    "        `som-nero-phi-jonc101.blood_culture_stewardship.cohort` c2\n",
    "    ON\n",
    "        c.anon_id = c2.anon_id\n",
    "    WHERE\n",
    "        c2.positive_blood_culture=1\n",
    "        AND TIMESTAMP_DIFF(c2.blood_culture_order_datetime,c.blood_culture_order_datetime, Hour) between 72 and 168\n",
    "        group by anon_id,order_proc_id_coded\n",
    ")\n",
    "select c.*,\n",
    "case when o.positive_blood_culture_in_week=1 then o.positive_blood_culture_in_week else 0 end as positive_blood_culture_in_week\n",
    "from  `som-nero-phi-jonc101.blood_culture_stewardship.cohort` c  left join order_posetive_next_week o using(anon_id,order_proc_id_coded)"
   ]
  },
  {
   "cell_type": "code",
   "execution_count": 57,
   "id": "e7d2763e-6374-47e9-8f4b-82db1fe336e6",
   "metadata": {},
   "outputs": [
    {
     "data": {
      "application/vnd.jupyter.widget-view+json": {
       "model_id": "aa0ebe3edde048898f7d4ab47a117957",
       "version_major": 2,
       "version_minor": 0
      },
      "text/plain": [
       "Query is running:   0%|          |"
      ]
     },
     "metadata": {},
     "output_type": "display_data"
    }
   ],
   "source": [
    "%%bigquery df_ed_labels\n",
    "Create or replace table som-nero-phi-jonc101.blood_culture_stewardship.cohort AS\n",
    "WITH ED_ABX as (\n",
    "SELECT\n",
    "  c.anon_id,\n",
    "  c.pat_enc_csn_id_coded,\n",
    "  c.order_proc_id_coded,\n",
    "  o.med_description,\n",
    "  o.order_start_time_jittered_utc AS earliest_iv_antibiotic_datetime\n",
    "FROM\n",
    "  `som-nero-phi-jonc101.blood_culture_stewardship.cohort` c\n",
    "INNER JOIN (\n",
    "    SELECT\n",
    "      anon_id,\n",
    "      pat_enc_csn_id_coded,\n",
    "      med_description,\n",
    "      order_start_time_jittered_utc,\n",
    "      RANK() OVER (PARTITION BY anon_id, pat_enc_csn_id_coded ORDER BY order_start_time_jittered_utc ASC) as rank\n",
    "    FROM\n",
    "      `som-nero-phi-jonc101.shc_core_2023.order_med`\n",
    "    WHERE\n",
    "      thera_class_name IN ('ANTIBIOTICS')\n",
    "      AND LOWER(med_route) = 'intravenous'\n",
    ") o ON c.anon_id = o.anon_id AND c.pat_enc_csn_id_coded = o.pat_enc_csn_id_coded\n",
    "WHERE\n",
    "  o.rank = 1\n",
    "  AND TIMESTAMP_DIFF(o.order_start_time_jittered_utc, c.blood_culture_order_datetime, HOUR) BETWEEN -4 AND 24\n",
    "GROUP BY\n",
    "  c.anon_id, c.pat_enc_csn_id_coded, c.order_proc_id_coded, o.med_description, o.order_start_time_jittered_utc    \n",
    "),\n",
    "ED_ABX_rxcui_str as (\n",
    "select m.anon_id,\n",
    "m.pat_enc_csn_id_coded,\n",
    "m.order_proc_id_coded,\n",
    "m.earliest_iv_antibiotic_datetime,\n",
    "mm.rxcui_str as earliest_iv_antibiotic\n",
    "from ED_ABX m \n",
    "inner join `som-nero-phi-jonc101.shc_core_2023.mapped_meds` mm on m.med_description=mm.name\n",
    "where not rxcui='0'\n",
    "group by anon_id,pat_enc_csn_id_coded,order_proc_id_coded,earliest_iv_antibiotic_datetime,earliest_iv_antibiotic\n",
    ")\n",
    "select c.*,\n",
    "ea.earliest_iv_antibiotic_datetime,\n",
    "ea.earliest_iv_antibiotic\n",
    "from `som-nero-phi-jonc101.blood_culture_stewardship.cohort` c left join ED_ABX_rxcui_str ea using(anon_id,pat_enc_csn_id_coded,order_proc_id_coded)\n",
    "group by c.anon_id,c.pat_enc_csn_id_coded,c.order_proc_id_coded,c.blood_culture_order_datetime,c.order_year,c.ed_arrival_datetime,\n",
    "c.positive_blood_culture,c.positive_blood_culture_in_week,ea.earliest_iv_antibiotic_datetime,ea.earliest_iv_antibiotic\n"
   ]
  },
  {
   "cell_type": "markdown",
   "id": "72e801f8-5dee-4a0b-ad7f-02bb4a0d446b",
   "metadata": {
    "jp-MarkdownHeadingCollapsed": true
   },
   "source": [
    "# Features"
   ]
  },
  {
   "cell_type": "code",
   "execution_count": 90,
   "id": "cdd4786a-9eb0-408c-9a31-4dc39a65ccd4",
   "metadata": {},
   "outputs": [
    {
     "data": {
      "application/vnd.jupyter.widget-view+json": {
       "model_id": "48eae0c364ec4d728e44b7050b15d630",
       "version_major": 2,
       "version_minor": 0
      },
      "text/plain": [
       "Query is running:   0%|          |"
      ]
     },
     "metadata": {},
     "output_type": "display_data"
    }
   ],
   "source": [
    "%%bigquery df_ed_features\n",
    "Create or replace table som-nero-phi-jonc101.blood_culture_stewardship.cohort AS\n",
    "WITH vitals as (\n",
    "  SELECT c.*,\n",
    "  vitals.recorded_time_jittered_utc,\n",
    "  CASE WHEN upper(row_disp_name) IN ('PULSE', 'HEART RATE') THEN round(SAFE_CAST(numerical_val_1 AS FLOAT64),2) end as heartrate,\n",
    "  CASE WHEN upper(row_disp_name) IN ('RESP', 'RESP RATE') THEN round(SAFE_CAST(numerical_val_1 AS FLOAT64),2) end as resprate,\n",
    "  CASE WHEN upper(row_disp_name) IN ('TEMP') THEN round(SAFE_CAST(numerical_val_1 AS FLOAT64),2) end as temp,\n",
    "  CASE WHEN (upper(trim(row_disp_name)) IN ('BP', 'NIBP') AND SAFE_CAST(numerical_val_1 AS numeric) >= 40) THEN round(SAFE_CAST(numerical_val_1 AS FLOAT64),2) end as sysbp ,\n",
    "  CASE WHEN (upper(trim(row_disp_name)) IN ('BP', 'NIBP') AND SAFE_CAST(numerical_val_2 AS numeric) >= 30)  THEN round(SAFE_CAST(numerical_val_2 AS FLOAT64),2) end as diasbp,\n",
    "  FROM\n",
    "    `som-nero-phi-jonc101.blood_culture_stewardship.cohort` c LEFT JOIN\n",
    "  `som-nero-phi-jonc101.shc_core_2023.flowsheet` as vitals\n",
    "   ON vitals.anon_id = c.anon_id\n",
    "  WHERE\n",
    "   ((upper(trim(row_disp_name)) IN ('PULSE', 'HEART RATE') AND SAFE_CAST(numerical_val_1 AS numeric) >= 30) OR -- Heart rate\n",
    "   (upper(trim(row_disp_name)) in ('RESP', 'RESP RATE') AND SAFE_CAST(numerical_val_1 AS numeric) >= 4 AND SAFE_CAST(numerical_val_1 AS numeric) <= 60) OR -- Respiratory rate\n",
    "   (upper(trim(row_disp_name)) IN ('TEMP') AND SAFE_CAST(numerical_val_1 AS numeric) >= 90) OR -- Temperature in F\n",
    "   (upper(trim(row_disp_name)) IN ('WEIGHT') AND SAFE_CAST(numerical_val_1 AS numeric) >= 480 AND SAFE_CAST(numerical_val_1 AS numeric) <= 8000)  OR -- Weight \n",
    "  (upper(trim(row_disp_name)) IN ('BP', 'NIBP') AND SAFE_CAST(numerical_val_1 AS numeric) >= 40) OR -- Systolic BP\n",
    "   (upper(trim(row_disp_name)) IN ('BP', 'NIBP') AND SAFE_CAST(numerical_val_2 AS numeric) >= 30) -- diastolic BP\n",
    "  )\n",
    "  AND\n",
    "  (TIMESTAMP_DIFF(vitals.recorded_time_jittered_utc, c.blood_culture_order_datetime, hour) between -24 and 2 )\n",
    ")\n",
    "select anon_id,\n",
    "       pat_enc_csn_id_coded,\n",
    "       order_proc_id_coded,\n",
    "       blood_culture_order_datetime,\n",
    "       order_year,\n",
    "       ed_arrival_datetime,\n",
    "       positive_blood_culture,\n",
    "       positive_blood_culture_in_week,\n",
    "       earliest_iv_antibiotic_datetime,\n",
    "       earliest_iv_antibiotic,\n",
    "       ROUND(min(heartrate),2) as min_heartrate,\n",
    "       ROUND(max(heartrate),2) as max_heartrate,\n",
    "       ROUND(avg(heartrate),2) as avg_heartrate,\n",
    "       ROUND(APPROX_QUANTILES(heartrate, 100)[OFFSET(50)],2) AS median_heartrate,\n",
    "       ROUND(min(resprate),2) as min_resprate,\n",
    "       ROUND(max(resprate),2) as max_resprate,\n",
    "       ROUND(avg(resprate),2) as avg_resprate,\n",
    "       ROUND(APPROX_QUANTILES(resprate, 100)[OFFSET(50)],2) AS median_resprate,\n",
    "       ROUND(min(temp),2) as min_temp,\n",
    "       ROUND(max(temp),2) as max_temp,\n",
    "       ROUND(avg(temp),2) as avg_temp,\n",
    "       ROUND(APPROX_QUANTILES(temp, 100)[OFFSET(50)],2) AS median_temp,\n",
    "       ROUND(min(sysbp),2) as min_sysbp,\n",
    "       ROUND(max(sysbp),2) as max_sysbp,\n",
    "       ROUND(avg(sysbp),2) as avg_sysbp,\n",
    "       ROUND(APPROX_QUANTILES(sysbp, 100)[OFFSET(50)],2) AS median_sysbp,\n",
    "       ROUND(min(diasbp),2) as min_diasbp,\n",
    "       ROUND(max(diasbp),2) as max_diasbp,\n",
    "       ROUND(avg(diasbp)) as avg_diasbp,\n",
    "       ROUND(APPROX_QUANTILES(diasbp, 100)[OFFSET(50)]) AS median_diasbp,\n",
    "from vitals\n",
    "group by anon_id,pat_enc_csn_id_coded,order_proc_id_coded,blood_culture_order_datetime,order_year,ed_arrival_datetime,positive_blood_culture,positive_blood_culture_in_week,earliest_iv_antibiotic_datetime,earliest_iv_antibiotic"
   ]
  },
  {
   "cell_type": "markdown",
   "id": "a53710c4-c033-46bc-ac5b-8cb78d269f5d",
   "metadata": {
    "jp-MarkdownHeadingCollapsed": true
   },
   "source": [
    "# Labs"
   ]
  },
  {
   "cell_type": "code",
   "execution_count": 112,
   "id": "9207f56e-db11-41ff-8fc4-20e7ec7fa0ac",
   "metadata": {},
   "outputs": [
    {
     "data": {
      "application/vnd.jupyter.widget-view+json": {
       "model_id": "337703391c8e43929d278ab24eca8a78",
       "version_major": 2,
       "version_minor": 0
      },
      "text/plain": [
       "Query is running:   0%|          |"
      ]
     },
     "metadata": {},
     "output_type": "display_data"
    }
   ],
   "source": [
    "%%bigquery df_ed_features\n",
    "Create or replace table som-nero-phi-jonc101.blood_culture_stewardship.cohort AS\n",
    "WITH labs AS (\n",
    "    SELECT \n",
    "        c.*,\n",
    "        CASE WHEN LOWER(lr.lab_name) LIKE '%wbc%' THEN SAFE_CAST(lr.ord_value AS FLOAT64) END AS wbc,\n",
    "        CASE WHEN LOWER(lr.lab_name) LIKE '%neutrophils%' THEN SAFE_CAST(lr.ord_value AS FLOAT64) END AS neutrophils,\n",
    "        CASE WHEN LOWER(lr.lab_name) LIKE '%lymphocytes%' THEN SAFE_CAST(lr.ord_value AS FLOAT64) END AS lymphocytes,\n",
    "        #CASE WHEN (LOWER(lr.base_name) LIKE '%bands%' THEN SAFE_CAST(lr.ord_value AS FLOAT64) END AS bands,\n",
    "        CASE WHEN LOWER(lr.base_name) LIKE '%hgb%' THEN SAFE_CAST(lr.ord_value AS FLOAT64) END AS hgb,\n",
    "        CASE WHEN LOWER(lr.base_name) LIKE 'plt' THEN SAFE_CAST(lr.ord_value AS FLOAT64) END AS plt,\n",
    "        CASE WHEN LOWER(lr.base_name) LIKE 'na' THEN SAFE_CAST(lr.ord_value AS FLOAT64) END AS na,\n",
    "        CASE WHEN LOWER(lr.base_name) LIKE 'hco3' THEN SAFE_CAST(lr.ord_value AS FLOAT64) END AS hco3,\n",
    "        CASE WHEN LOWER(lr.base_name) LIKE 'bun' THEN SAFE_CAST(lr.ord_value AS FLOAT64) END AS bun,\n",
    "        CASE WHEN LOWER(lr.base_name) LIKE 'cr' THEN SAFE_CAST(lr.ord_value AS FLOAT64) END AS cr,\n",
    "        #CASE WHEN LOWER(lr.base_name) LIKE 'glucose' THEN SAFE_CAST(lr.ord_value AS FLOAT64) END AS glucose,\n",
    "        CASE WHEN LOWER(lr.base_name) LIKE 'lac' THEN SAFE_CAST(lr.ord_value AS FLOAT64) END AS lactate,\n",
    "        CASE WHEN LOWER(lr.base_name) LIKE 'crp' THEN SAFE_CAST(lr.ord_value AS FLOAT64) END AS crp,\n",
    "        CASE WHEN LOWER(lr.lab_name) LIKE 'procalcitonin' THEN SAFE_CAST(lr.ord_value AS FLOAT64) END AS procalcitonin\n",
    "    FROM `som-nero-phi-jonc101.blood_culture_stewardship.cohort` c\n",
    "    LEFT JOIN `som-nero-phi-jonc101.shc_core_2023.lab_result` lr \n",
    "    USING (anon_id, pat_enc_csn_id_coded)\n",
    "    WHERE TIMESTAMP_DIFF(lr.order_time_jittered_utc, c.blood_culture_order_datetime, HOUR) BETWEEN -24 AND 2\n",
    ")\n",
    "SELECT \n",
    "    anon_id,\n",
    "    pat_enc_csn_id_coded,\n",
    "    order_proc_id_coded,\n",
    "    blood_culture_order_datetime,\n",
    "    order_year,\n",
    "    ed_arrival_datetime,\n",
    "    positive_blood_culture,\n",
    "    positive_blood_culture_in_week,\n",
    "    earliest_iv_antibiotic_datetime,\n",
    "    earliest_iv_antibiotic,\n",
    "    min_heartrate,\n",
    "    max_heartrate,\n",
    "    avg_heartrate,\n",
    "    median_heartrate,\n",
    "    min_resprate, \n",
    "    max_resprate, \n",
    "    avg_resprate,\n",
    "    median_resprate,\n",
    "    min_temp, \n",
    "    max_temp, \n",
    "    avg_temp,\n",
    "    median_temp,\n",
    "    min_sysbp,\n",
    "    max_sysbp, \n",
    "    avg_sysbp,\n",
    "    median_sysbp,\n",
    "    min_diasbp,\n",
    "    max_diasbp, \n",
    "    avg_diasbp,\n",
    "    median_diasbp,\n",
    "\n",
    "    ROUND(MIN(wbc), 2) AS min_wbc,\n",
    "    ROUND(MAX(wbc), 2) AS max_wbc,\n",
    "    ROUND(AVG(wbc), 2) AS avg_wbc,\n",
    "    ROUND(APPROX_QUANTILES(wbc, 100)[OFFSET(50)], 2) AS median_wbc,\n",
    "    \n",
    "    ROUND(MIN(neutrophils), 2) AS min_neutrophils,\n",
    "    ROUND(MAX(neutrophils), 2) AS max_neutrophils,\n",
    "    ROUND(AVG(neutrophils), 2) AS avg_neutrophils,\n",
    "    ROUND(APPROX_QUANTILES(neutrophils, 100)[OFFSET(50)], 2) AS median_neutrophils,\n",
    "    \n",
    "    ROUND(MIN(lymphocytes), 2) AS min_lymphocytes,\n",
    "    ROUND(MAX(lymphocytes), 2) AS max_lymphocytes,\n",
    "    ROUND(AVG(lymphocytes), 2) AS avg_lymphocytes,\n",
    "    ROUND(APPROX_QUANTILES(lymphocytes, 100)[OFFSET(50)], 2) AS median_lymphocytes,\n",
    "    \n",
    "    #ROUND(MIN(bands), 2) AS min_bands,\n",
    "    #ROUND(MAX(bands), 2) AS max_bands,\n",
    "    #ROUND(AVG(bands), 2) AS avg_bands,\n",
    "    #ROUND(APPROX_QUANTILES(bands, 100)[OFFSET(50)], 2) AS median_bands,\n",
    "    \n",
    "    ROUND(MIN(hgb), 2) AS min_hgb,\n",
    "    ROUND(MAX(hgb), 2) AS max_hgb,\n",
    "    ROUND(AVG(hgb), 2) AS avg_hgb,\n",
    "    ROUND(APPROX_QUANTILES(hgb, 100)[OFFSET(50)], 2) AS median_hgb,\n",
    "\n",
    "    ROUND(MIN(plt), 2) AS min_plt,\n",
    "    ROUND(MAX(plt), 2) AS max_plt,\n",
    "    ROUND(AVG(plt), 2) AS avg_plt,\n",
    "    ROUND(APPROX_QUANTILES(plt, 100)[OFFSET(50)], 2) AS median_plt,\n",
    "\n",
    "    ROUND(MIN(na), 2) AS min_na,\n",
    "    ROUND(MAX(na), 2) AS max_na,\n",
    "    ROUND(AVG(na), 2) AS avg_na,\n",
    "    ROUND(APPROX_QUANTILES(na, 100)[OFFSET(50)], 2) AS median_na,\n",
    "\n",
    "    ROUND(MIN(hco3), 2) AS min_hco3,\n",
    "    ROUND(MAX(hco3), 2) AS max_hco3,\n",
    "    ROUND(AVG(hco3), 2) AS avg_hco3,\n",
    "    ROUND(APPROX_QUANTILES(hco3, 100)[OFFSET(50)], 2) AS median_hco3,\n",
    "\n",
    "    ROUND(MIN(bun), 2) AS min_bun,\n",
    "    ROUND(MAX(bun), 2) AS max_bun,\n",
    "    ROUND(AVG(bun), 2) AS avg_bun,\n",
    "    ROUND(APPROX_QUANTILES(bun, 100)[OFFSET(50)], 2) AS median_bun,\n",
    "\n",
    "    ROUND(MIN(cr), 2) AS min_cr,\n",
    "    ROUND(MAX(cr), 2) AS max_cr,\n",
    "    ROUND(AVG(cr), 2) AS avg_cr,\n",
    "    ROUND(APPROX_QUANTILES(cr, 100)[OFFSET(50)], 2) AS median_cr,\n",
    "\n",
    "    #ROUND(MIN(glucose), 2) AS min_glucose,\n",
    "    #ROUND(MAX(glucose), 2) AS max_glucose,\n",
    "    #ROUND(AVG(glucose), 2) AS avg_glucose,\n",
    "    #ROUND(APPROX_QUANTILES(glucose, 100)[OFFSET(50)], 2) AS median_glucose,\n",
    "\n",
    "    ROUND(MIN(lactate), 2) AS min_lactate,\n",
    "    ROUND(MAX(lactate), 2) AS max_lactate,\n",
    "    ROUND(AVG(lactate), 2) AS avg_lactate,\n",
    "    ROUND(APPROX_QUANTILES(lactate, 100)[OFFSET(50)], 2) AS median_lactate,\n",
    "\n",
    "    ROUND(MIN(procalcitonin), 2) AS min_procalcitonin,\n",
    "    ROUND(MAX(procalcitonin), 2) AS max_procalcitonin,\n",
    "    ROUND(AVG(procalcitonin), 2) AS avg_procalcitonin,\n",
    "    ROUND(APPROX_QUANTILES(procalcitonin, 100)[OFFSET(50)], 2) AS median_procalcitonin\n",
    "\n",
    "FROM labs\n",
    "GROUP BY \n",
    "    anon_id,\n",
    "    pat_enc_csn_id_coded,\n",
    "    order_proc_id_coded,\n",
    "    blood_culture_order_datetime,\n",
    "    order_year,\n",
    "    ed_arrival_datetime,\n",
    "    positive_blood_culture,\n",
    "    positive_blood_culture_in_week,\n",
    "    earliest_iv_antibiotic_datetime,\n",
    "    earliest_iv_antibiotic,\n",
    "    min_heartrate,\n",
    "    max_heartrate,\n",
    "    avg_heartrate,\n",
    "    median_heartrate,\n",
    "    min_resprate, \n",
    "    max_resprate, \n",
    "    avg_resprate,\n",
    "    median_resprate,\n",
    "    min_temp, \n",
    "    max_temp, \n",
    "    avg_temp,\n",
    "    median_temp,\n",
    "    min_sysbp,\n",
    "    max_sysbp, \n",
    "    avg_sysbp,\n",
    "    median_sysbp,\n",
    "    min_diasbp,\n",
    "    max_diasbp, \n",
    "    avg_diasbp,\n",
    "    median_diasbp"
   ]
  }
 ],
 "metadata": {
  "kernelspec": {
   "display_name": "Python 3 (ipykernel)",
   "language": "python",
   "name": "python3"
  },
  "language_info": {
   "codemirror_mode": {
    "name": "ipython",
    "version": 3
   },
   "file_extension": ".py",
   "mimetype": "text/x-python",
   "name": "python",
   "nbconvert_exporter": "python",
   "pygments_lexer": "ipython3",
   "version": "3.11.6"
  }
 },
 "nbformat": 4,
 "nbformat_minor": 5
}
