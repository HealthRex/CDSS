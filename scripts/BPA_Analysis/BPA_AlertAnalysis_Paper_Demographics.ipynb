{
 "cells": [
  {
   "cell_type": "code",
   "execution_count": 2,
   "id": "095aceda-d760-4d43-b141-c7a9d1b45dda",
   "metadata": {},
   "outputs": [],
   "source": [
    "import pandas as pd\n",
    "import matplotlib.pyplot as plt\n",
    "import numpy as np\n",
    "from pulp import *\n",
    "import pandas as pd\n",
    "import os, glob\n",
    "import seaborn as sns\n",
    "from scipy.stats import kruskal\n",
    "import scikit_posthocs as sp\n",
    "from scipy.stats import mannwhitneyu\n",
    "os.environ['GOOGLE_APPLICATION_CREDENTIALS'] ='/Users/fa/.config/gcloud/application_default_credentials.json' #(path to you keep in step 5 )\n",
    "os.environ['GCLOUD_PROJECT'] = 'som-nero-phi-jonc101' \n",
    "%load_ext google.cloud.bigquery\n",
    "\n",
    "from google.cloud import bigquery\n",
    "client=bigquery.Client()"
   ]
  },
  {
   "cell_type": "markdown",
   "id": "38fec008-c732-4dee-b3be-f09bdeaeae8a",
   "metadata": {
    "jp-MarkdownHeadingCollapsed": true
   },
   "source": [
    "## Number of ICU Transfer Events within 52 hrs of alert"
   ]
  },
  {
   "cell_type": "code",
   "execution_count": 9,
   "id": "5f5f9adb-a80a-438d-abef-e77c68ca768b",
   "metadata": {},
   "outputs": [
    {
     "data": {
      "application/vnd.jupyter.widget-view+json": {
       "model_id": "03b16503b46442308869f19c1e2cf9ca",
       "version_major": 2,
       "version_minor": 0
      },
      "text/plain": [
       "Query is running:   0%|          |"
      ]
     },
     "metadata": {},
     "output_type": "display_data"
    },
    {
     "data": {
      "application/vnd.jupyter.widget-view+json": {
       "model_id": "6690b6dd78d345c180c22f20310baf5b",
       "version_major": 2,
       "version_minor": 0
      },
      "text/plain": [
       "Downloading:   0%|          |"
      ]
     },
     "metadata": {},
     "output_type": "display_data"
    }
   ],
   "source": [
    "%%bigquery df\n",
    "WITH random_flag AS (\n",
    "  SELECT \n",
    "    anon_id, \n",
    "    pat_enc_csn_id_coded, \n",
    "    smrtdta_elem_value AS random_flag \n",
    "  FROM `som-nero-phi-jonc101-secure.shc_core_updates.shc_smrtdta` \n",
    "  WHERE concept_id = 'SHC#6051'\n",
    "),\n",
    "\n",
    "discharges_selected AS (\n",
    "  SELECT \n",
    "    anon_id, \n",
    "    pat_enc_csn_id_coded, \n",
    "    effective_time_jittered, \n",
    "    department_name \n",
    "  FROM `som-nero-phi-jonc101-secure.shc_core_updates.shc_adt`\n",
    "  INNER JOIN `som-nero-phi-jonc101-secure.shc_core_updates.shc_dep_map` USING(department_id)\n",
    "  INNER JOIN `som-nero-phi-jonc101-secure.starr_map.shc_map_2025-04-15` USING (anon_id)\n",
    "  WHERE \n",
    "    event_type = 'Discharge' \n",
    "    AND (\n",
    "      UPPER(department_name) LIKE 'B3' OR\n",
    "      UPPER(department_name) LIKE 'C3' OR\n",
    "      UPPER(department_name) LIKE 'M7' OR\n",
    "      UPPER(department_name) LIKE 'L7' OR\n",
    "      UPPER(department_name) LIKE '1%WEST%' OR\n",
    "      UPPER(department_name) LIKE '2%NORTH%' OR\n",
    "      UPPER(department_name) LIKE '2%WEST%' OR\n",
    "      UPPER(department_name) LIKE '3%WEST%'\n",
    "    )\n",
    "    AND effective_time_jittered - INTERVAL jitter DAY BETWEEN '2024-08-15' AND '2025-03-15'\n",
    "),\n",
    "\n",
    "admissions AS (\n",
    "  SELECT \n",
    "    anon_id, \n",
    "    pat_enc_csn_id_coded, \n",
    "    effective_time_jittered \n",
    "  FROM `som-nero-phi-jonc101-secure.shc_core_updates.shc_adt` \n",
    "  WHERE event_type = 'Admission'\n",
    "),\n",
    "\n",
    "hospital_stays_selected AS (\n",
    "  SELECT \n",
    "    adm.anon_id, \n",
    "    adm.pat_enc_csn_id_coded, \n",
    "    adm.effective_time_jittered AS adm_time, \n",
    "    dis.effective_time_jittered AS dis_time, \n",
    "    dis.department_name,\n",
    "    DATETIME_DIFF(dis.effective_time_jittered, adm.effective_time_jittered, DAY) + 1 AS duration,\n",
    "    DATETIME_DIFF(dis.effective_time_jittered, adm.effective_time_jittered, MINUTE) / 60 AS los_hours\n",
    "  FROM admissions adm \n",
    "  INNER JOIN discharges_selected dis USING (anon_id, pat_enc_csn_id_coded)\n",
    "),\n",
    "\n",
    "alerts_cbc AS (\n",
    "  SELECT DISTINCT \n",
    "    alt.anon_id, \n",
    "    alt.pat_enc_csn_id_coded,\n",
    "    alt.alt_id_coded, \n",
    "    alt.alert_desc, \n",
    "    his.update_date_jittered AS alt_time\n",
    "  FROM `som-nero-phi-jonc101-secure.shc_core_updates.shc_alert` alt \n",
    "  INNER JOIN `som-nero-phi-jonc101-secure.shc_core_updates.shc_alert_history` his \n",
    "    USING (anon_id, alt_id_coded)\n",
    "  INNER JOIN hospital_stays_selected USING (anon_id, pat_enc_csn_id_coded)\n",
    "  WHERE alert_desc IN (\n",
    "    'SHC AIML LAB CBC STABILITY BASE - LOUD PILOT', \n",
    "    'SHC AIML LAB CBC STABILITY BASE - SILENT'\n",
    "  )\n",
    "),\n",
    "\n",
    "cohort AS (\n",
    "  SELECT \n",
    "    alt.*, \n",
    "    rf.random_flag  \n",
    "  FROM alerts_cbc alt \n",
    "  INNER JOIN random_flag rf USING (anon_id, pat_enc_csn_id_coded)\n",
    "  INNER JOIN `som-nero-phi-jonc101-secure.starr_map.shc_map_2025-04-15` USING (anon_id)\n",
    "  WHERE NOT (\n",
    "    alt.alert_desc = 'SHC AIML LAB CBC STABILITY BASE - SILENT' \n",
    "    AND rf.random_flag = '1'\n",
    "  )\n",
    "),\n",
    "transfer_icu AS (\n",
    "  SELECT \n",
    "    anon_id, \n",
    "    pat_enc_csn_id_coded, \n",
    "    effective_time_jittered AS icutime\n",
    "  FROM `som-nero-phi-jonc101.shc_core_2024.adt`\n",
    "  WHERE \n",
    "    pat_lv_of_care = 'Critical Care'\n",
    "    AND event_type = 'Transfer In'\n",
    "),\n",
    "\n",
    "randomized_transfer_icu AS (\n",
    "  SELECT \n",
    "    c.*, \n",
    "    t.icutime\n",
    "  FROM cohort c \n",
    "  LEFT JOIN transfer_icu t \n",
    "    USING (anon_id, pat_enc_csn_id_coded)\n",
    "    #WHERE  (icutime <= alt_time + INTERVAL 52 HOUR and random_flag='1') \n",
    "    \n",
    ")\n",
    "SELECT *\n",
    "FROM randomized_transfer_icu\n"
   ]
  },
  {
   "cell_type": "code",
   "execution_count": 10,
   "id": "4bf65f8e-84c1-448a-8b4c-4873461e8569",
   "metadata": {},
   "outputs": [
    {
     "data": {
      "text/html": [
       "<div>\n",
       "<style scoped>\n",
       "    .dataframe tbody tr th:only-of-type {\n",
       "        vertical-align: middle;\n",
       "    }\n",
       "\n",
       "    .dataframe tbody tr th {\n",
       "        vertical-align: top;\n",
       "    }\n",
       "\n",
       "    .dataframe thead th {\n",
       "        text-align: right;\n",
       "    }\n",
       "</style>\n",
       "<table border=\"1\" class=\"dataframe\">\n",
       "  <thead>\n",
       "    <tr style=\"text-align: right;\">\n",
       "      <th></th>\n",
       "      <th>anon_id</th>\n",
       "      <th>pat_enc_csn_id_coded</th>\n",
       "      <th>alt_id_coded</th>\n",
       "      <th>alert_desc</th>\n",
       "      <th>alt_time</th>\n",
       "      <th>random_flag</th>\n",
       "      <th>icutime</th>\n",
       "    </tr>\n",
       "  </thead>\n",
       "  <tbody>\n",
       "    <tr>\n",
       "      <th>0</th>\n",
       "      <td>JC3625330</td>\n",
       "      <td>131392377322</td>\n",
       "      <td>191333964</td>\n",
       "      <td>SHC AIML LAB CBC STABILITY BASE - LOUD PILOT</td>\n",
       "      <td>2024-12-12 10:07:00</td>\n",
       "      <td>1</td>\n",
       "      <td>NaT</td>\n",
       "    </tr>\n",
       "    <tr>\n",
       "      <th>1</th>\n",
       "      <td>JC6179169</td>\n",
       "      <td>131385167066</td>\n",
       "      <td>184537513</td>\n",
       "      <td>SHC AIML LAB CBC STABILITY BASE - LOUD PILOT</td>\n",
       "      <td>2024-08-09 10:06:00</td>\n",
       "      <td>1</td>\n",
       "      <td>NaT</td>\n",
       "    </tr>\n",
       "    <tr>\n",
       "      <th>2</th>\n",
       "      <td>JC3126288</td>\n",
       "      <td>131389819707</td>\n",
       "      <td>188742352</td>\n",
       "      <td>SHC AIML LAB CBC STABILITY BASE - LOUD PILOT</td>\n",
       "      <td>2024-09-24 10:05:00</td>\n",
       "      <td>1</td>\n",
       "      <td>NaT</td>\n",
       "    </tr>\n",
       "    <tr>\n",
       "      <th>3</th>\n",
       "      <td>JC6458077</td>\n",
       "      <td>131394266454</td>\n",
       "      <td>193207679</td>\n",
       "      <td>SHC AIML LAB CBC STABILITY BASE - LOUD PILOT</td>\n",
       "      <td>2024-12-24 16:04:00</td>\n",
       "      <td>1</td>\n",
       "      <td>NaT</td>\n",
       "    </tr>\n",
       "    <tr>\n",
       "      <th>4</th>\n",
       "      <td>JC746892</td>\n",
       "      <td>131393299173</td>\n",
       "      <td>192111438</td>\n",
       "      <td>SHC AIML LAB CBC STABILITY BASE - LOUD PILOT</td>\n",
       "      <td>2024-11-28 10:05:00</td>\n",
       "      <td>1</td>\n",
       "      <td>NaT</td>\n",
       "    </tr>\n",
       "    <tr>\n",
       "      <th>...</th>\n",
       "      <td>...</td>\n",
       "      <td>...</td>\n",
       "      <td>...</td>\n",
       "      <td>...</td>\n",
       "      <td>...</td>\n",
       "      <td>...</td>\n",
       "      <td>...</td>\n",
       "    </tr>\n",
       "    <tr>\n",
       "      <th>728</th>\n",
       "      <td>JC1670995</td>\n",
       "      <td>131393455679</td>\n",
       "      <td>193103383</td>\n",
       "      <td>SHC AIML LAB CBC STABILITY BASE - SILENT</td>\n",
       "      <td>2024-12-02 16:05:00</td>\n",
       "      <td>2</td>\n",
       "      <td>2024-11-24 02:58:00</td>\n",
       "    </tr>\n",
       "    <tr>\n",
       "      <th>729</th>\n",
       "      <td>JC1670995</td>\n",
       "      <td>131393455679</td>\n",
       "      <td>193103383</td>\n",
       "      <td>SHC AIML LAB CBC STABILITY BASE - SILENT</td>\n",
       "      <td>2024-12-02 16:05:00</td>\n",
       "      <td>2</td>\n",
       "      <td>2024-12-08 11:52:00</td>\n",
       "    </tr>\n",
       "    <tr>\n",
       "      <th>730</th>\n",
       "      <td>JC1670995</td>\n",
       "      <td>131393455679</td>\n",
       "      <td>193103383</td>\n",
       "      <td>SHC AIML LAB CBC STABILITY BASE - SILENT</td>\n",
       "      <td>2024-12-02 16:05:00</td>\n",
       "      <td>2</td>\n",
       "      <td>2024-12-04 07:51:00</td>\n",
       "    </tr>\n",
       "    <tr>\n",
       "      <th>731</th>\n",
       "      <td>JC2787315</td>\n",
       "      <td>131393048617</td>\n",
       "      <td>192008165</td>\n",
       "      <td>SHC AIML LAB CBC STABILITY BASE - SILENT</td>\n",
       "      <td>2024-11-13 10:06:00</td>\n",
       "      <td>2</td>\n",
       "      <td>NaT</td>\n",
       "    </tr>\n",
       "    <tr>\n",
       "      <th>732</th>\n",
       "      <td>JC6106356</td>\n",
       "      <td>131397217610</td>\n",
       "      <td>195893692</td>\n",
       "      <td>SHC AIML LAB CBC STABILITY BASE - SILENT</td>\n",
       "      <td>2025-01-14 12:05:00</td>\n",
       "      <td>2</td>\n",
       "      <td>NaT</td>\n",
       "    </tr>\n",
       "  </tbody>\n",
       "</table>\n",
       "<p>733 rows × 7 columns</p>\n",
       "</div>"
      ],
      "text/plain": [
       "       anon_id  pat_enc_csn_id_coded  alt_id_coded  \\\n",
       "0    JC3625330          131392377322     191333964   \n",
       "1    JC6179169          131385167066     184537513   \n",
       "2    JC3126288          131389819707     188742352   \n",
       "3    JC6458077          131394266454     193207679   \n",
       "4     JC746892          131393299173     192111438   \n",
       "..         ...                   ...           ...   \n",
       "728  JC1670995          131393455679     193103383   \n",
       "729  JC1670995          131393455679     193103383   \n",
       "730  JC1670995          131393455679     193103383   \n",
       "731  JC2787315          131393048617     192008165   \n",
       "732  JC6106356          131397217610     195893692   \n",
       "\n",
       "                                       alert_desc            alt_time  \\\n",
       "0    SHC AIML LAB CBC STABILITY BASE - LOUD PILOT 2024-12-12 10:07:00   \n",
       "1    SHC AIML LAB CBC STABILITY BASE - LOUD PILOT 2024-08-09 10:06:00   \n",
       "2    SHC AIML LAB CBC STABILITY BASE - LOUD PILOT 2024-09-24 10:05:00   \n",
       "3    SHC AIML LAB CBC STABILITY BASE - LOUD PILOT 2024-12-24 16:04:00   \n",
       "4    SHC AIML LAB CBC STABILITY BASE - LOUD PILOT 2024-11-28 10:05:00   \n",
       "..                                            ...                 ...   \n",
       "728      SHC AIML LAB CBC STABILITY BASE - SILENT 2024-12-02 16:05:00   \n",
       "729      SHC AIML LAB CBC STABILITY BASE - SILENT 2024-12-02 16:05:00   \n",
       "730      SHC AIML LAB CBC STABILITY BASE - SILENT 2024-12-02 16:05:00   \n",
       "731      SHC AIML LAB CBC STABILITY BASE - SILENT 2024-11-13 10:06:00   \n",
       "732      SHC AIML LAB CBC STABILITY BASE - SILENT 2025-01-14 12:05:00   \n",
       "\n",
       "    random_flag             icutime  \n",
       "0             1                 NaT  \n",
       "1             1                 NaT  \n",
       "2             1                 NaT  \n",
       "3             1                 NaT  \n",
       "4             1                 NaT  \n",
       "..          ...                 ...  \n",
       "728           2 2024-11-24 02:58:00  \n",
       "729           2 2024-12-08 11:52:00  \n",
       "730           2 2024-12-04 07:51:00  \n",
       "731           2                 NaT  \n",
       "732           2                 NaT  \n",
       "\n",
       "[733 rows x 7 columns]"
      ]
     },
     "execution_count": 10,
     "metadata": {},
     "output_type": "execute_result"
    }
   ],
   "source": [
    "df"
   ]
  },
  {
   "cell_type": "code",
   "execution_count": 18,
   "id": "baa387f6-0f73-4c44-ab76-6b535e0a553b",
   "metadata": {},
   "outputs": [
    {
     "name": "stdout",
     "output_type": "stream",
     "text": [
      "Treatment:7.443365695792881\n",
      "Control:11.65644171779141\n"
     ]
    }
   ],
   "source": [
    "df['alert_icu'] = ((df['icutime'] - df['alt_time']).dt.total_seconds() / 3600)\n",
    "df['alert_icu'] = df['alert_icu'].where(df['alert_icu'].isnull(), df['alert_icu'].round().astype('Int64'))\n",
    "print(f\"Treatment:{df[(df.alert_icu<=52)&(df.random_flag=='1')].pat_enc_csn_id_coded.nunique()/df[(df.random_flag=='1')].pat_enc_csn_id_coded.nunique()*100}\")\n",
    "print(f\"Control:{df[(df.alert_icu<=52)&(df.random_flag=='2')].pat_enc_csn_id_coded.nunique()/df[(df.random_flag=='2')].pat_enc_csn_id_coded.nunique()*100}\")"
   ]
  },
  {
   "cell_type": "markdown",
   "id": "9d298ae5-311a-41bd-b643-c23e56808264",
   "metadata": {},
   "source": [
    "### Chi squered test"
   ]
  },
  {
   "cell_type": "code",
   "execution_count": 19,
   "id": "5c9a926a-abdb-4dc8-9b8f-5b5c395a5936",
   "metadata": {},
   "outputs": [],
   "source": [
    "df['icuvisit_within52hours']=0\n",
    "df.loc[df.alert_icu<=52,'icuvisit_within52hours']=1"
   ]
  },
  {
   "cell_type": "code",
   "execution_count": 20,
   "id": "37f1eb3b-c253-418a-ac14-49f30ba62b5f",
   "metadata": {},
   "outputs": [
    {
     "name": "stdout",
     "output_type": "stream",
     "text": [
      "Chi-Square Test\n",
      "Chi2 statistic: 6.872\n",
      "Degrees of freedom: 1\n",
      "P-value: 0.0088\n",
      "Expected frequencies:\n",
      "[[271.21828104  69.78171896]\n",
      " [311.78171896  80.21828104]]\n"
     ]
    }
   ],
   "source": [
    "import pandas as pd\n",
    "from scipy.stats import chi2_contingency\n",
    "\n",
    "# Create a 2x2 contingency table\n",
    "contingency_table = pd.crosstab(df['random_flag'], df['icuvisit_within52hours'].fillna(0))\n",
    "\n",
    "# Run Chi-Square test\n",
    "chi2, p, dof, expected = chi2_contingency(contingency_table)\n",
    "\n",
    "print(\"Chi-Square Test\")\n",
    "print(f\"Chi2 statistic: {chi2:.3f}\")\n",
    "print(f\"Degrees of freedom: {dof}\")\n",
    "print(f\"P-value: {p:.4f}\")\n",
    "print(\"Expected frequencies:\")\n",
    "print(expected)"
   ]
  },
  {
   "cell_type": "markdown",
   "id": "a29cf146-ecbe-43b0-bbf2-4d7b7aa81fdf",
   "metadata": {
    "jp-MarkdownHeadingCollapsed": true
   },
   "source": [
    "## Randomized patient who have been transfered to ICU (Encounter Level)"
   ]
  },
  {
   "cell_type": "code",
   "execution_count": 21,
   "id": "79da241a-b5b2-4c8f-8158-6b81bb21a6b6",
   "metadata": {},
   "outputs": [
    {
     "data": {
      "application/vnd.jupyter.widget-view+json": {
       "model_id": "39a6a68b83f7446aaa556ff7bb82fb56",
       "version_major": 2,
       "version_minor": 0
      },
      "text/plain": [
       "Query is running:   0%|          |"
      ]
     },
     "metadata": {},
     "output_type": "display_data"
    },
    {
     "data": {
      "application/vnd.jupyter.widget-view+json": {
       "model_id": "16739522f6c845aa9195fd2bda8bef42",
       "version_major": 2,
       "version_minor": 0
      },
      "text/plain": [
       "Downloading:   0%|          |"
      ]
     },
     "metadata": {},
     "output_type": "display_data"
    }
   ],
   "source": [
    "%%bigquery df\n",
    "WITH random_flag AS (\n",
    "  SELECT anon_id,\n",
    "   pat_enc_csn_id_coded, \n",
    "   smrtdta_elem_value AS random_flag \n",
    "   FROM `som-nero-phi-jonc101-secure.shc_core_updates.shc_smrtdta` \n",
    "   WHERE concept_id = 'SHC#6051'\n",
    "),\n",
    " \n",
    "discharges_selected AS (\n",
    "  SELECT anon_id, pat_enc_csn_id_coded, effective_time_jittered, department_name FROM `som-nero-phi-jonc101-secure.shc_core_updates.shc_adt`\n",
    "    INNER JOIN `som-nero-phi-jonc101-secure.shc_core_updates.shc_dep_map` USING(department_id)\n",
    "    INNER JOIN `som-nero-phi-jonc101-secure.starr_map.shc_map_2025-04-15` USING (anon_id)\n",
    "    WHERE event_type = 'Discharge' AND UPPER(department_name) LIKE ANY ('B3', 'C3', 'M7', 'L7', '1%WEST%', '2%NORTH%', '2%WEST%', '3%WEST%')\n",
    "    AND effective_time_jittered - INTERVAL jitter DAY BETWEEN '2024-08-15' AND '2025-03-15'\n",
    "),\n",
    " \n",
    "admissions AS (\n",
    "  SELECT anon_id, pat_enc_csn_id_coded, effective_time_jittered FROM `som-nero-phi-jonc101-secure.shc_core_updates.shc_adt` WHERE event_type = 'Admission'\n",
    "),\n",
    " \n",
    "hospital_stays_selected AS (\n",
    "  SELECT anon_id, pat_enc_csn_id_coded, adm.effective_time_jittered AS adm_time, dis.effective_time_jittered AS dis_time, department_name,\n",
    "    DATETIME_DIFF(dis.effective_time_jittered, adm.effective_time_jittered, DAY)+1 AS duration, --for normalization\n",
    "    DATETIME_DIFF(dis.effective_time_jittered, adm.effective_time_jittered, MINUTE)/60 AS los_hours --for secondary outcome\n",
    "  FROM admissions adm INNER JOIN discharges_selected dis USING (anon_id, pat_enc_csn_id_coded)\n",
    "),\n",
    "study as (\n",
    "select random_flag.*,\n",
    "    hospital_stays_selected.adm_time,\n",
    "    hospital_stays_selected.dis_time,\n",
    "    hospital_stays_selected.duration,\n",
    "    hospital_stays_selected.los_hours \n",
    "from random_flag \n",
    "inner join hospital_stays_selected \n",
    "using(anon_id, pat_enc_csn_id_coded)\n",
    "),\n",
    "transfer_icu as (\n",
    "SELECT *,\n",
    "1 as ICUvisit\n",
    "FROM `som-nero-phi-jonc101.shc_core_2024.adt`\n",
    "WHERE event_type = 'Transfer In' \n",
    "     AND pat_lv_of_care = 'Critical Care'\n",
    ")\n",
    "select c.anon_id,\n",
    "c.pat_enc_csn_id_coded,\n",
    "t.effective_time_jittered,\n",
    "t.ICUvisit,  \n",
    "c.random_flag,\n",
    "from study c \n",
    "left join transfer_icu t using (anon_id,pat_enc_csn_id_coded)"
   ]
  },
  {
   "cell_type": "code",
   "execution_count": 26,
   "id": "d255a8ab-03fd-4234-a9e7-9eb9391b0c04",
   "metadata": {},
   "outputs": [
    {
     "name": "stdout",
     "output_type": "stream",
     "text": [
      "Treatment:7.556620209059234\n",
      "Control:8.123129542539546\n"
     ]
    }
   ],
   "source": [
    "print(f\"Treatment:{df[(df.ICUvisit==1)&(df.random_flag=='1')].pat_enc_csn_id_coded.nunique()/df[(df.random_flag=='1')].pat_enc_csn_id_coded.nunique()*100}\")\n",
    "print(f\"Control:{df[(df.ICUvisit==1)&(df.random_flag=='2')].pat_enc_csn_id_coded.nunique()/df[(df.random_flag=='2')].pat_enc_csn_id_coded.nunique()*100}\")"
   ]
  },
  {
   "cell_type": "markdown",
   "id": "9ef5abd2-0009-4900-9914-51edda41c34e",
   "metadata": {},
   "source": [
    "### Test the P-Value using chisquerd test"
   ]
  },
  {
   "cell_type": "code",
   "execution_count": 57,
   "id": "fd78bb31-82f6-4bb5-9343-831a8ce91800",
   "metadata": {},
   "outputs": [
    {
     "name": "stdout",
     "output_type": "stream",
     "text": [
      "Chi-Square Test\n",
      "Chi2 statistic: 3.722\n",
      "Degrees of freedom: 1\n",
      "P-value: 0.0537\n",
      "Expected frequencies:\n",
      "[[4208.88775209  799.11224791]\n",
      " [4334.11224791  822.88775209]]\n"
     ]
    }
   ],
   "source": [
    "import pandas as pd\n",
    "from scipy.stats import chi2_contingency\n",
    "\n",
    "# Create a 2x2 contingency table\n",
    "contingency_table = pd.crosstab(df['random_flag'], df['ICUvisit'].fillna(0))\n",
    "\n",
    "# Run Chi-Square test\n",
    "chi2, p, dof, expected = chi2_contingency(contingency_table)\n",
    "\n",
    "print(\"Chi-Square Test\")\n",
    "print(f\"Chi2 statistic: {chi2:.3f}\")\n",
    "print(f\"Degrees of freedom: {dof}\")\n",
    "print(f\"P-value: {p:.4f}\")\n",
    "print(\"Expected frequencies:\")\n",
    "print(expected)"
   ]
  },
  {
   "cell_type": "markdown",
   "id": "1342eeaf-f9d2-4f54-a86a-d7c4f7effeca",
   "metadata": {},
   "source": [
    "## Demographic of randomized patient"
   ]
  },
  {
   "cell_type": "code",
   "execution_count": 3,
   "id": "84bdb7e7-8b60-4a75-b45a-c82fd6bf3022",
   "metadata": {},
   "outputs": [
    {
     "data": {
      "application/vnd.jupyter.widget-view+json": {
       "model_id": "7bff357ded21423a97028f7476dbdc1b",
       "version_major": 2,
       "version_minor": 0
      },
      "text/plain": [
       "Query is running:   0%|          |"
      ]
     },
     "metadata": {},
     "output_type": "display_data"
    },
    {
     "data": {
      "application/vnd.jupyter.widget-view+json": {
       "model_id": "289351505d4747bfb98b729c21fdbaa0",
       "version_major": 2,
       "version_minor": 0
      },
      "text/plain": [
       "Downloading:   0%|          |"
      ]
     },
     "metadata": {},
     "output_type": "display_data"
    }
   ],
   "source": [
    "%%bigquery df\n",
    "WITH random_flag AS (\n",
    "  SELECT anon_id,\n",
    "   pat_enc_csn_id_coded, \n",
    "   smrtdta_elem_value AS random_flag \n",
    "   FROM `som-nero-phi-jonc101-secure.shc_core_updates.shc_smrtdta` \n",
    "   WHERE concept_id = 'SHC#6051'\n",
    "),\n",
    " \n",
    "discharges_selected AS (\n",
    "  SELECT anon_id, pat_enc_csn_id_coded, effective_time_jittered, department_name FROM `som-nero-phi-jonc101-secure.shc_core_updates.shc_adt`\n",
    "    INNER JOIN `som-nero-phi-jonc101-secure.shc_core_updates.shc_dep_map` USING(department_id)\n",
    "    INNER JOIN `som-nero-phi-jonc101-secure.starr_map.shc_map_2025-04-15` USING (anon_id)\n",
    "    WHERE event_type = 'Discharge' AND UPPER(department_name) LIKE ANY ('B3', 'C3', 'M7', 'L7', '1%WEST%', '2%NORTH%', '2%WEST%', '3%WEST%')\n",
    "    AND effective_time_jittered - INTERVAL jitter DAY BETWEEN '2024-08-15' AND '2025-03-15'\n",
    "),\n",
    " \n",
    "admissions AS (\n",
    "  SELECT anon_id, pat_enc_csn_id_coded, effective_time_jittered FROM `som-nero-phi-jonc101-secure.shc_core_updates.shc_adt` WHERE event_type = 'Admission'\n",
    "),\n",
    " \n",
    "hospital_stays_selected AS (\n",
    "  SELECT anon_id, pat_enc_csn_id_coded, adm.effective_time_jittered AS adm_time, dis.effective_time_jittered AS dis_time, department_name,\n",
    "    DATETIME_DIFF(dis.effective_time_jittered, adm.effective_time_jittered, DAY)+1 AS duration, --for normalization\n",
    "    DATETIME_DIFF(dis.effective_time_jittered, adm.effective_time_jittered, MINUTE)/60 AS los_hours --for secondary outcome\n",
    "  FROM admissions adm INNER JOIN discharges_selected dis USING (anon_id, pat_enc_csn_id_coded)\n",
    "),\n",
    "study as (\n",
    "select random_flag.*,hospital_stays_selected.adm_time,hospital_stays_selected.duration,hospital_stays_selected.los_hours \n",
    "from random_flag \n",
    "inner join hospital_stays_selected \n",
    "using(anon_id, pat_enc_csn_id_coded)\n",
    "),\n",
    "demo as (\n",
    "  select c.* ,\n",
    "  DATETIME_DIFF(c.adm_time,demo.birth_date_jittered,YEAR) as Age,\n",
    "  demo.gender,\n",
    "  demo.canonical_race\n",
    "  FROM study  c inner join `som-nero-phi-jonc101-secure.shc_core_updates.shc_demographic` demo\n",
    "  using(anon_id)\n",
    ") \n",
    "select * from demo"
   ]
  },
  {
   "cell_type": "code",
   "execution_count": 7,
   "id": "6aaa2230-8868-4b22-9146-273f6e27fd10",
   "metadata": {},
   "outputs": [
    {
     "name": "stdout",
     "output_type": "stream",
     "text": [
      "Contorl:(70.0, 57.0, 80.0)\n",
      "Treatment:(69.0, 56.0, 80.0)\n",
      "2.3728088926891835\n"
     ]
    }
   ],
   "source": [
    "df['Age']=df['Age'].astype(int)\n",
    "print(f\"Contorl:{df[df.random_flag=='2'].Age.quantile(0.5),df[df.random_flag=='2'].Age.quantile(0.25),df[df.random_flag=='2'].Age.quantile(0.75)}\")\n",
    "print(f\"Treatment:{df[df.random_flag=='1'].Age.quantile(0.5),df[df.random_flag=='1'].Age.quantile(0.25),df[df.random_flag=='1'].Age.quantile(0.75)}\")\n",
    "print(df[(df.canonical_race=='Unknown')&(df.random_flag=='2')][['anon_id','pat_enc_csn_id_coded']].drop_duplicates().shape[0]/df[df.random_flag=='2'][['anon_id','pat_enc_csn_id_coded']].drop_duplicates().shape[0]*100)\n"
   ]
  },
  {
   "cell_type": "code",
   "execution_count": 20,
   "id": "8fe0c705-c778-42f4-abc8-bcb689afba88",
   "metadata": {},
   "outputs": [
    {
     "data": {
      "application/vnd.jupyter.widget-view+json": {
       "model_id": "d7b28eec62944872a8c6f7428abc49d9",
       "version_major": 2,
       "version_minor": 0
      },
      "text/plain": [
       "Query is running:   0%|          |"
      ]
     },
     "metadata": {},
     "output_type": "display_data"
    },
    {
     "data": {
      "application/vnd.jupyter.widget-view+json": {
       "model_id": "b6395a12283f49ac9f4e93a381e4df15",
       "version_major": 2,
       "version_minor": 0
      },
      "text/plain": [
       "Downloading:   0%|          |"
      ]
     },
     "metadata": {},
     "output_type": "display_data"
    }
   ],
   "source": [
    "%%bigquery lab_orders_in_units\n",
    "with base as (\n",
    "select anon_id,\n",
    "pat_enc_csn_id_coded,\n",
    "smrtdta_elem_value,\n",
    "from `som-nero-phi-jonc101-secure.shc_core_updates.shc_smrtdta`\n",
    "where concept_id like 'SHC#6051'\n",
    "and smrtdta_elem_value in ('1','2')\n",
    "),\n",
    "department as (\n",
    "  select anon_id,\n",
    "  pat_enc_csn_id_coded,\n",
    "  department_name,\n",
    "  effective_time_jittered,\n",
    "  from `som-nero-phi-jonc101-secure.shc_core_updates.shc_adt`\n",
    "  inner join `som-nero-phi-jonc101-secure.shc_core_updates.shc_dep_map`\n",
    "  using(department_id)\n",
    "  where event_type='Discharge'\n",
    "and department_name like any ('B3','C3','M7','L7','1%West',\n",
    "'2%North', '2%West', '3%West')\n",
    "and effective_time_jittered>='2024-08-15'\n",
    "and effective_time_jittered<='2025-03-15'\n",
    "),\n",
    "study_cohort as (\n",
    "select c.*,\n",
    "from base  c\n",
    "inner join department d using (anon_id,pat_enc_csn_id_coded)\n",
    "),\n",
    "lab_taken as (\n",
    "select lr.anon_id,\n",
    "lr.pat_enc_csn_id_coded,\n",
    "lr.order_id_coded,\n",
    "lr.taken_time_jittered,\n",
    "#lr.base_name,\n",
    "lr.group_lab_name,\n",
    "op.department_id\n",
    "from  `som-nero-phi-jonc101-secure.shc_core_updates.shc_lab_result` lr\n",
    "inner join  `som-nero-phi-jonc101-secure.shc_core_updates.shc_order_proc` op\n",
    "on lr.anon_id=op.anon_id and lr.pat_enc_csn_id_coded=op.pat_enc_csn_id_coded and lr.order_id_coded=op.order_proc_id_coded\n",
    "#where lower(base_name) in ('wbc','hgb','plt')\n",
    "where lower(group_lab_name) like '%cbc%dif%'\n",
    "),\n",
    "lab_taken_in_unit as (\n",
    "select lr.anon_id,\n",
    "lr.pat_enc_csn_id_coded,\n",
    "lr.order_id_coded,\n",
    "lr.taken_time_jittered,\n",
    "#lr.base_name,\n",
    "lr.group_lab_name\n",
    "from lab_taken lr\n",
    "inner join  `som-nero-phi-jonc101-secure.shc_core_updates.shc_dep_map` using(department_id)\n",
    "where department_name like any ('B3','C3','M7','L7','1%West',\n",
    "'2%North', '2%West', '3%West')\n",
    "group by anon_id,pat_enc_csn_id_coded,order_id_coded,taken_time_jittered,group_lab_name\n",
    "order by anon_id,pat_enc_csn_id_coded,order_id_coded,taken_time_jittered,group_lab_name\n",
    ")\n",
    "select c.*,\n",
    "lr.taken_time_jittered,\n",
    "lr.order_id_coded,\n",
    "#lr.base_name,\n",
    "lr.group_lab_name,\n",
    "from study_cohort c\n",
    "inner join lab_taken_in_unit lr using (anon_id,pat_enc_csn_id_coded)\n"
   ]
  },
  {
   "cell_type": "code",
   "execution_count": 37,
   "id": "1766be4d-b09c-4df2-a669-2bdca6af25d1",
   "metadata": {},
   "outputs": [
    {
     "data": {
      "text/plain": [
       "1.0513100436681222"
      ]
     },
     "execution_count": 37,
     "metadata": {},
     "output_type": "execute_result"
    }
   ],
   "source": [
    "lab_orders_in_units['taken_time_jittered'] = pd.to_datetime(lab_orders_in_units['taken_time_jittered'])\n",
    "lab_orders_in_units['taken_date_jittered'] = lab_orders_in_units['taken_time_jittered'].dt.date\n",
    "group1 = lab_orders_in_units[lab_orders_in_units['smrtdta_elem_value'] == '2']\n",
    "te=group1.groupby(['anon_id', 'pat_enc_csn_id_coded', 'smrtdta_elem_value', 'taken_date_jittered'],as_index=False).count()\n",
    "te.taken_time_jittered.mean()"
   ]
  },
  {
   "cell_type": "code",
   "execution_count": 48,
   "id": "99cae5ff-d05a-4eb6-b98b-946579b267f2",
   "metadata": {},
   "outputs": [
    {
     "name": "stdout",
     "output_type": "stream",
     "text": [
      "Group 1, average number of base_name: 1.062948779320249\n",
      "Group 2, average number of base_name: 1.0513100436681222\n"
     ]
    }
   ],
   "source": [
    "# Corrected datetime conversion\n",
    "lab_orders_in_units['taken_time_jittered'] = pd.to_datetime(lab_orders_in_units['taken_time_jittered'])\n",
    "lab_orders_in_units['taken_date_jittered'] = lab_orders_in_units['taken_time_jittered'].dt.date\n",
    "\n",
    "# Separate the groups\n",
    "group1 = lab_orders_in_units[lab_orders_in_units['smrtdta_elem_value'] == '1']\n",
    "group2 = lab_orders_in_units[lab_orders_in_units['smrtdta_elem_value'] == '2']\n",
    "\n",
    "# Group by multiple columns (must be a list)\n",
    "te = group1.groupby(['anon_id', 'pat_enc_csn_id_coded', 'smrtdta_elem_value', 'taken_date_jittered'], as_index=False).count()\n",
    "te2 = group2.groupby(['anon_id', 'pat_enc_csn_id_coded', 'smrtdta_elem_value', 'taken_date_jittered'], as_index=False).count()\n",
    "\n",
    "# Calculate the average number of 'base_name' occurrences\n",
    "avg_base_name = te['taken_time_jittered'].mean()#.quantile(0.25)\n",
    "avg_base_name2 = te2['taken_time_jittered'].mean()#quantile(0.25)\n",
    "print(f'Group 1, average number of base_name: {avg_base_name}')\n",
    "print(f'Group 2, average number of base_name: {avg_base_name2}')"
   ]
  },
  {
   "cell_type": "code",
   "execution_count": 63,
   "id": "a0aa4abb-4514-440a-983d-a8362d3cb912",
   "metadata": {},
   "outputs": [
    {
     "data": {
      "application/vnd.jupyter.widget-view+json": {
       "model_id": "c598fd070f18434880390aec3d6b8cdf",
       "version_major": 2,
       "version_minor": 0
      },
      "text/plain": [
       "Query is running:   0%|          |"
      ]
     },
     "metadata": {},
     "output_type": "display_data"
    },
    {
     "data": {
      "application/vnd.jupyter.widget-view+json": {
       "model_id": "1e4512b83f244ea4b43d15e664b31d9a",
       "version_major": 2,
       "version_minor": 0
      },
      "text/plain": [
       "Downloading:   0%|          |"
      ]
     },
     "metadata": {},
     "output_type": "display_data"
    }
   ],
   "source": [
    "%%bigquery lab_orders\n",
    "with base as (\n",
    "select anon_id,\n",
    "pat_enc_csn_id_coded,\n",
    "smrtdta_elem_value,\n",
    "from `som-nero-phi-jonc101-secure.shc_core_updates.shc_smrtdta`\n",
    "where concept_id like 'SHC#6051'\n",
    "and smrtdta_elem_value in ('1','2')\n",
    "),\n",
    "department as (\n",
    "  select anon_id,\n",
    "  pat_enc_csn_id_coded,\n",
    "  department_name,\n",
    "  effective_time_jittered,\n",
    "  from `som-nero-phi-jonc101-secure.shc_core_updates.shc_adt`\n",
    "  inner join `som-nero-phi-jonc101-secure.shc_core_updates.shc_dep_map`\n",
    "  using(department_id)\n",
    "  where event_type='Discharge'\n",
    "and department_name like any ('B3','C3','M7','L7','1%West',\n",
    "'2%North', '2%West', '3%West')\n",
    "and effective_time_jittered>='2024-08-15'\n",
    "and effective_time_jittered<='2025-03-15'\n",
    "),\n",
    "study_cohort as (\n",
    "select c.*,\n",
    "from base  c\n",
    "inner join department d using (anon_id,pat_enc_csn_id_coded)\n",
    "),\n",
    "lab_taken as (\n",
    "select lr.anon_id,\n",
    "lr.pat_enc_csn_id_coded,\n",
    "lr.order_id_coded,\n",
    "lr.taken_time_jittered,\n",
    "#r.base_name,\n",
    "'cbc' as group_lab_name,\n",
    "#op.department_id\n",
    "from  `som-nero-phi-jonc101-secure.shc_core_updates.shc_lab_result` lr\n",
    "inner join  `som-nero-phi-jonc101-secure.shc_core_updates.shc_order_proc` op\n",
    "on lr.anon_id=op.anon_id and lr.pat_enc_csn_id_coded=op.pat_enc_csn_id_coded and lr.order_id_coded=op.order_proc_id_coded\n",
    "where \n",
    "#lower(base_name) in ('wbc','hgb','plt')\n",
    "#and\n",
    "lower(group_lab_name) like '%cbc%dif%'\n",
    "group by anon_id,pat_enc_csn_id_coded,order_id_coded,taken_time_jittered,group_lab_name\n",
    "order by anon_id,pat_enc_csn_id_coded,order_id_coded,taken_time_jittered,group_lab_name\n",
    "\n",
    ")\n",
    "select c.*,\n",
    "lr.taken_time_jittered,\n",
    "#lr.base_name,\n",
    "lr.group_lab_name,\n",
    "from study_cohort c\n",
    "left join lab_taken lr using (anon_id,pat_enc_csn_id_coded)"
   ]
  },
  {
   "cell_type": "code",
   "execution_count": 71,
   "id": "74aaef93-a1aa-4c62-8d15-d30475fd8770",
   "metadata": {},
   "outputs": [
    {
     "data": {
      "text/plain": [
       "27.886497064579256"
      ]
     },
     "execution_count": 71,
     "metadata": {},
     "output_type": "execute_result"
    }
   ],
   "source": [
    "lab_orders[(lab_orders.taken_time_jittered.isna())&(lab_orders.smrtdta_elem_value=='2')][['anon_id','pat_enc_csn_id_coded']].drop_duplicates().shape[0]/lab_orders[(lab_orders.smrtdta_elem_value=='2')][['anon_id','pat_enc_csn_id_coded']].drop_duplicates().shape[0]*100"
   ]
  },
  {
   "cell_type": "code",
   "execution_count": 76,
   "id": "f6f050d8-ba29-4775-83db-a8fb866d8c5f",
   "metadata": {},
   "outputs": [
    {
     "data": {
      "text/html": [
       "<div>\n",
       "<style scoped>\n",
       "    .dataframe tbody tr th:only-of-type {\n",
       "        vertical-align: middle;\n",
       "    }\n",
       "\n",
       "    .dataframe tbody tr th {\n",
       "        vertical-align: top;\n",
       "    }\n",
       "\n",
       "    .dataframe thead th {\n",
       "        text-align: right;\n",
       "    }\n",
       "</style>\n",
       "<table border=\"1\" class=\"dataframe\">\n",
       "  <thead>\n",
       "    <tr style=\"text-align: right;\">\n",
       "      <th></th>\n",
       "      <th>anon_id</th>\n",
       "      <th>pat_enc_csn_id_coded</th>\n",
       "      <th>smrtdta_elem_value</th>\n",
       "      <th>taken_time_jittered</th>\n",
       "      <th>group_lab_name</th>\n",
       "      <th>taken_date_jittered</th>\n",
       "    </tr>\n",
       "  </thead>\n",
       "  <tbody>\n",
       "    <tr>\n",
       "      <th>0</th>\n",
       "      <td>JC6517739</td>\n",
       "      <td>131381240520.000000000</td>\n",
       "      <td>1</td>\n",
       "      <td>NaT</td>\n",
       "      <td>None</td>\n",
       "      <td>NaT</td>\n",
       "    </tr>\n",
       "    <tr>\n",
       "      <th>1</th>\n",
       "      <td>JC2717494</td>\n",
       "      <td>131392677712.000000000</td>\n",
       "      <td>1</td>\n",
       "      <td>NaT</td>\n",
       "      <td>None</td>\n",
       "      <td>NaT</td>\n",
       "    </tr>\n",
       "    <tr>\n",
       "      <th>6</th>\n",
       "      <td>JC2463780</td>\n",
       "      <td>131391067126.000000000</td>\n",
       "      <td>1</td>\n",
       "      <td>NaT</td>\n",
       "      <td>None</td>\n",
       "      <td>NaT</td>\n",
       "    </tr>\n",
       "    <tr>\n",
       "      <th>41</th>\n",
       "      <td>JC3797487</td>\n",
       "      <td>131398733799.000000000</td>\n",
       "      <td>1</td>\n",
       "      <td>NaT</td>\n",
       "      <td>None</td>\n",
       "      <td>NaT</td>\n",
       "    </tr>\n",
       "    <tr>\n",
       "      <th>42</th>\n",
       "      <td>JC1833229</td>\n",
       "      <td>131378654763.000000000</td>\n",
       "      <td>1</td>\n",
       "      <td>NaT</td>\n",
       "      <td>None</td>\n",
       "      <td>NaT</td>\n",
       "    </tr>\n",
       "    <tr>\n",
       "      <th>...</th>\n",
       "      <td>...</td>\n",
       "      <td>...</td>\n",
       "      <td>...</td>\n",
       "      <td>...</td>\n",
       "      <td>...</td>\n",
       "      <td>...</td>\n",
       "    </tr>\n",
       "    <tr>\n",
       "      <th>15274</th>\n",
       "      <td>JC3564132</td>\n",
       "      <td>131374079282.000000000</td>\n",
       "      <td>1</td>\n",
       "      <td>NaT</td>\n",
       "      <td>None</td>\n",
       "      <td>NaT</td>\n",
       "    </tr>\n",
       "    <tr>\n",
       "      <th>15326</th>\n",
       "      <td>JC1524567</td>\n",
       "      <td>131389306557.000000000</td>\n",
       "      <td>1</td>\n",
       "      <td>NaT</td>\n",
       "      <td>None</td>\n",
       "      <td>NaT</td>\n",
       "    </tr>\n",
       "    <tr>\n",
       "      <th>15366</th>\n",
       "      <td>JC2893351</td>\n",
       "      <td>131370520665.000000000</td>\n",
       "      <td>1</td>\n",
       "      <td>NaT</td>\n",
       "      <td>None</td>\n",
       "      <td>NaT</td>\n",
       "    </tr>\n",
       "    <tr>\n",
       "      <th>15389</th>\n",
       "      <td>JC1165911</td>\n",
       "      <td>131384926348.000000000</td>\n",
       "      <td>1</td>\n",
       "      <td>NaT</td>\n",
       "      <td>None</td>\n",
       "      <td>NaT</td>\n",
       "    </tr>\n",
       "    <tr>\n",
       "      <th>15561</th>\n",
       "      <td>JC1017997</td>\n",
       "      <td>131381917249.000000000</td>\n",
       "      <td>1</td>\n",
       "      <td>NaT</td>\n",
       "      <td>None</td>\n",
       "      <td>NaT</td>\n",
       "    </tr>\n",
       "  </tbody>\n",
       "</table>\n",
       "<p>515 rows × 6 columns</p>\n",
       "</div>"
      ],
      "text/plain": [
       "         anon_id    pat_enc_csn_id_coded smrtdta_elem_value  \\\n",
       "0      JC6517739  131381240520.000000000                  1   \n",
       "1      JC2717494  131392677712.000000000                  1   \n",
       "6      JC2463780  131391067126.000000000                  1   \n",
       "41     JC3797487  131398733799.000000000                  1   \n",
       "42     JC1833229  131378654763.000000000                  1   \n",
       "...          ...                     ...                ...   \n",
       "15274  JC3564132  131374079282.000000000                  1   \n",
       "15326  JC1524567  131389306557.000000000                  1   \n",
       "15366  JC2893351  131370520665.000000000                  1   \n",
       "15389  JC1165911  131384926348.000000000                  1   \n",
       "15561  JC1017997  131381917249.000000000                  1   \n",
       "\n",
       "      taken_time_jittered group_lab_name taken_date_jittered  \n",
       "0                     NaT           None                 NaT  \n",
       "1                     NaT           None                 NaT  \n",
       "6                     NaT           None                 NaT  \n",
       "41                    NaT           None                 NaT  \n",
       "42                    NaT           None                 NaT  \n",
       "...                   ...            ...                 ...  \n",
       "15274                 NaT           None                 NaT  \n",
       "15326                 NaT           None                 NaT  \n",
       "15366                 NaT           None                 NaT  \n",
       "15389                 NaT           None                 NaT  \n",
       "15561                 NaT           None                 NaT  \n",
       "\n",
       "[515 rows x 6 columns]"
      ]
     },
     "execution_count": 76,
     "metadata": {},
     "output_type": "execute_result"
    }
   ],
   "source": [
    "group1[group1.taken_date_jittered.isna()]"
   ]
  },
  {
   "cell_type": "code",
   "execution_count": 89,
   "id": "c2451c82-5294-400d-97ba-021b5618e33a",
   "metadata": {},
   "outputs": [
    {
     "ename": "AttributeError",
     "evalue": "module 'pandas' has no attribute 'date'",
     "output_type": "error",
     "traceback": [
      "\u001b[0;31m---------------------------------------------------------------------------\u001b[0m",
      "\u001b[0;31mAttributeError\u001b[0m                            Traceback (most recent call last)",
      "Cell \u001b[0;32mIn[89], line 1\u001b[0m\n\u001b[0;32m----> 1\u001b[0m group1[(group1\u001b[38;5;241m.\u001b[39manon_id\u001b[38;5;241m==\u001b[39m\u001b[38;5;124m'\u001b[39m\u001b[38;5;124mJC6345733\u001b[39m\u001b[38;5;124m'\u001b[39m)\u001b[38;5;241m&\u001b[39m(group1\u001b[38;5;241m.\u001b[39mpat_enc_csn_id_coded\u001b[38;5;241m==\u001b[39m\u001b[38;5;241m131379875842\u001b[39m)\u001b[38;5;241m&\u001b[39m(group1\u001b[38;5;241m.\u001b[39mtaken_date_jittered\u001b[38;5;241m==\u001b[39m\u001b[43mpd\u001b[49m\u001b[38;5;241;43m.\u001b[39;49m\u001b[43mdate\u001b[49m(\u001b[38;5;124m'\u001b[39m\u001b[38;5;124m2024-06-18\u001b[39m\u001b[38;5;124m'\u001b[39m))]\n\u001b[1;32m      2\u001b[0m \u001b[38;5;66;03m#te[te.taken_time_jittered>6]\u001b[39;00m\n",
      "\u001b[0;31mAttributeError\u001b[0m: module 'pandas' has no attribute 'date'"
     ]
    }
   ],
   "source": [
    "group1[(group1.anon_id=='JC6345733')&(group1.pat_enc_csn_id_coded==131379875842)&(group1.taken_date_jittered==pd.Date('2024-06-18'))]\n",
    "#te[te.taken_time_jittered>6]"
   ]
  },
  {
   "cell_type": "code",
   "execution_count": 73,
   "id": "fc70c5f0-2657-4cd9-8115-03fe80b041c6",
   "metadata": {},
   "outputs": [
    {
     "name": "stdout",
     "output_type": "stream",
     "text": [
      "Group 1, average number of base_name: 7\n",
      "Group 2, average number of base_name: 6\n"
     ]
    }
   ],
   "source": [
    "# Corrected datetime conversion\n",
    "lab_orders['taken_time_jittered'] = pd.to_datetime(lab_orders['taken_time_jittered'])\n",
    "lab_orders['taken_date_jittered'] = lab_orders['taken_time_jittered'].dt.date\n",
    "\n",
    "# Separate the groups\n",
    "group1 = lab_orders[lab_orders['smrtdta_elem_value'] == '1']\n",
    "group2 = lab_orders[lab_orders['smrtdta_elem_value'] == '2']\n",
    "\n",
    "# Group by multiple columns (must be a list)\n",
    "te = group1.groupby(['anon_id', 'pat_enc_csn_id_coded', 'smrtdta_elem_value', 'taken_date_jittered'], as_index=False).count()\n",
    "te2 = group2.groupby(['anon_id', 'pat_enc_csn_id_coded', 'smrtdta_elem_value', 'taken_date_jittered'], as_index=False).count()\n",
    "\n",
    "# Calculate the average number of 'base_name' occurrences\n",
    "avg_base_name = te['taken_time_jittered'].max()\n",
    "avg_base_name2 = te2['taken_time_jittered'].max()\n",
    "print(f'Group 1, average number of base_name: {avg_base_name}')\n",
    "print(f'Group 2, average number of base_name: {avg_base_name2}')"
   ]
  }
 ],
 "metadata": {
  "kernelspec": {
   "display_name": "Python 3 (ipykernel)",
   "language": "python",
   "name": "python3"
  },
  "language_info": {
   "codemirror_mode": {
    "name": "ipython",
    "version": 3
   },
   "file_extension": ".py",
   "mimetype": "text/x-python",
   "name": "python",
   "nbconvert_exporter": "python",
   "pygments_lexer": "ipython3",
   "version": "3.11.6"
  }
 },
 "nbformat": 4,
 "nbformat_minor": 5
}
