{
 "cells": [
  {
   "cell_type": "code",
   "execution_count": 1,
   "metadata": {},
   "outputs": [],
   "source": [
    "%matplotlib inline\n",
    "from JAMA_config import *"
   ]
  },
  {
   "cell_type": "code",
   "execution_count": 4,
   "metadata": {},
   "outputs": [],
   "source": [
    "def draw__Diagnostic_Metrics():\n",
    "    '''\n",
    "    Drawing Figure 3 in the main text.\n",
    "\n",
    "    :return:\n",
    "    '''\n",
    "    labs = all_labs\n",
    "    print 'draw__Diagnostic_Metrics for', labs, ' with label %s...'%result_label, 'at', data_source, ' of type,', lab_type \n",
    "\n",
    "    labs_stats_filepath = os.path.join(statsByLab_folderpath, 'summary-stats-bestalg-fixTrainPPV.csv')\n",
    "\n",
    "    df = pd.read_csv(labs_stats_filepath, keep_default_na=False)\n",
    "\n",
    "    # df = df[df['fixTrainPPV'] == targeted_PPV]\n",
    "\n",
    "    df = df[df['lab'].isin(labs)]\n",
    "\n",
    "    cached_foldername = 'Fig3_Diagnostic_Metrics/'\n",
    "    cached_folderpath = os.path.join(os.path.join(statsByLab_folderpath, cached_foldername))\n",
    "\n",
    "    cached_tablename = 'Diagnostic_Metrics_%ss_PPV_%.2f__%s.csv'%(lab_type, targeted_PPV, result_label)\n",
    "    cached_tablepath = os.path.join(cached_folderpath, cached_tablename)\n",
    "\n",
    "    cached_figurename = 'Diagnostic_Metrics_%ss_PPV_%.2f_ind__%s.png'%(lab_type, targeted_PPV, result_label)\n",
    "    cached_figurepath = os.path.join(cached_folderpath, cached_figurename)\n",
    "\n",
    "    if not os.path.exists(cached_folderpath):\n",
    "        os.mkdir(cached_folderpath)\n",
    "\n",
    "    if os.path.exists(cached_tablepath) and use_cached_fig_data:\n",
    "        # lab2stats = pickle.load(open(cached_result_path, 'r'))\n",
    "        print \"%s exists!\" % cached_tablepath\n",
    "        df_toplots = pd.read_csv(cached_tablepath, keep_default_na=False)\n",
    "        # print df_toplots\n",
    "\n",
    "    else:\n",
    "        print \"%s does not exist!\" % cached_tablepath\n",
    "        if data_source == 'Stanford':\n",
    "            # if 'total_vol' not in df.columns.values.tolist():\n",
    "            # Stanford data, scaled by vol\n",
    "            df['total_vol'] = df['total_vol_20140701_20170701']\n",
    "\n",
    "        elif data_source == 'UCSF':\n",
    "            if lab_type == 'panel':\n",
    "                ucsf_lab_cnt = dict(stats_database.UCSF_PANELS_AND_COUNTS)\n",
    "\n",
    "            elif lab_type == 'component':\n",
    "                ucsf_lab_cnt = stats_database.UCSF_COMPONENT_TO_COUNT #dict(stats_database.UCSF_COMPONENTSS_AND_COUNTS)\n",
    "            df['total_vol'] = df['lab'].apply(lambda x: ucsf_lab_cnt[x])\n",
    "        elif data_source == 'UMich' and lab_type=='component' and result_label=='important_components':\n",
    "            df = df[df['lab'].isin(stats_utils.umich_lab_cnt)]\n",
    "\n",
    "\n",
    "            df['total_vol'] = df['lab'].apply(lambda x: stats_utils.umich_lab_cnt[x])\n",
    "        else:\n",
    "            df['total_vol'] = 1\n",
    "\n",
    "\n",
    "\n",
    "        # TODO: use fractions in the original file!\n",
    "        df['all_instance'] = df['TP'] + df['FP'] + df['TN'] + df['FN']\n",
    "\n",
    "        for cnt_type in ['TP', 'FP', 'TN', 'FN']:\n",
    "            df[cnt_type] = df[cnt_type]/df['all_instance']\n",
    "\n",
    "\n",
    "        df['all_positive'] = df['TP'] + df['FP']\n",
    "\n",
    "        # print df[['all_positive', 'total_vol']]\n",
    "        df['predicted_normal_vol'] = df['all_positive'] * df['total_vol']\n",
    "\n",
    "\n",
    "        if data_source == 'UMich' or data_source == 'UCSF':\n",
    "            df['lab'] = df['lab'].apply(lambda x: map_lab(x, data_source, lab_type, map_type='from_src'))\n",
    "\n",
    "        df = df[df['lab'].isin(stats_utils.get_important_labs('component'))]\n",
    "        df['lab'] = pd.Categorical(\n",
    "            df['lab'],\n",
    "            categories=stats_utils.get_important_labs('component'),\n",
    "            ordered=True\n",
    "        )\n",
    "        df = df.sort_values('lab')\n",
    "\n",
    "        df['all_negative'] = df['TN'] + df['FN']\n",
    "\n",
    "        df['TN'] = -df['TN']\n",
    "        df['all_negative'] = -df['all_negative']\n",
    "\n",
    "\n",
    "        lab_descriptions = stats_utils.get_lab_descriptions(data_source=data_source,#'Stanford',\n",
    "                                                                 lab_type=lab_type)\n",
    "        \n",
    "        df['all_positive_vol'] = df['all_positive'] * df['total_vol']\n",
    "        df['true_positive_vol'] = df['TP'] * df['total_vol']\n",
    "        df['all_negative_vol'] = df['all_negative'] * df['total_vol']\n",
    "        df['true_negative_vol'] = df['TN'] * df['total_vol']\n",
    "\n",
    "        df_toplots = df #.iloc[:15]\n",
    "\n",
    "        df_toplots[['lab',\n",
    "                    'PPV', 'NPV', 'sens', 'spec', 'LR_p', 'LR_n',\n",
    "                    'total_vol',\n",
    "                   'all_positive_vol', 'true_positive_vol', 'all_negative_vol', 'true_negative_vol']]\\\n",
    "                    .to_csv(cached_tablepath, index=False, float_format='%.3f') # .sort_values('total_vol', ascending=False)\\\n",
    "\n",
    "        \n",
    "    if not scale_by:\n",
    "        scale = 1.\n",
    "    elif scale_by=='pat':\n",
    "        scale = float(stats_utils.NUM_DISTINCT_PATS/1000.)\n",
    "    elif scale_by == 'enc':\n",
    "        scale = float(stats_utils.NUM_DISTINCT_ENCS/1000.)\n",
    "    elif scale_by == 'enc_ucsf':\n",
    "        scale = float(stats_utils.NUM_DISTINCT_ENCS_UCSF/1000.)\n",
    "\n",
    "    df_toplot = df_toplots.iloc[::-1]\n",
    "    \n",
    "    df_toplot = df_toplot[df_toplot['fixTrainPPV']==0.95]\n",
    "    \n",
    "    print df_toplot['lab'].values\n",
    "    \n",
    "    fig, ax = plt.subplots(figsize=(6, 9))\n",
    "\n",
    "    ax.barh(df_toplot['lab'], df_toplot['all_positive_vol'] / scale, color='orangered', alpha=1,\n",
    "            label='False Positive')\n",
    "    ax.barh(df_toplot['lab'], df_toplot['true_positive_vol'] / scale, color='forestgreen', alpha=1,\n",
    "            label='True Positive')\n",
    "    ax.barh(df_toplot['lab'], df_toplot['all_negative_vol'] / scale, color='gold', alpha=1,\n",
    "            label='False Negative')\n",
    "    ax.barh(df_toplot['lab'], df_toplot['true_negative_vol'] / scale, color='royalblue', alpha=1,\n",
    "            label='True Negative')\n",
    "\n",
    "    plt.yticks([])\n",
    "\n",
    "    ax.spines['top'].set_visible(False)\n",
    "    ax.spines['right'].set_visible(False)\n",
    "    ax.spines['bottom'].set_visible(True)\n",
    "    ax.spines['left'].set_visible(False)\n",
    "\n",
    "\n",
    "    plt.tick_params('x', labelsize=24)\n",
    "\n",
    "    plt.legend()\n",
    "    plt.tight_layout()\n",
    "\n",
    "    plt.savefig(cached_figurepath)"
   ]
  },
  {
   "cell_type": "code",
   "execution_count": 5,
   "metadata": {
    "scrolled": true
   },
   "outputs": [
    {
     "name": "stdout",
     "output_type": "stream",
     "text": [
      "draw__Diagnostic_Metrics for ['WBC', 'HGB', 'PLT', 'NA', 'K', 'CR', 'BUN', 'CO2', 'CA', 'TP', 'ALB', 'ALKP', 'TBIL', 'AST', 'ALT']  with label important_components... at Stanford  of type, component\n",
      "/Users/songxu/healthrex/CDSS/scripts/LabTestAnalysis/lab_statistics/data-Stanford-component-10000-episodes-lastnormal/Fig3_Diagnostic_Metrics/Diagnostic_Metrics_components_PPV_0.95__important_components.csv does not exist!\n",
      "[ALT, AST, TBIL, ALKP, TP, ..., K, NA, PLT, HGB, WBC]\n",
      "Length: 15\n",
      "Categories (15, object): [WBC < HGB < PLT < NA ... ALKP < TBIL < AST < ALT]\n",
      "draw__Diagnostic_Metrics for ['WBC', 'HGB', 'PLT', 'NA', 'K', 'CREAT', 'TBILI', 'CO2', 'AST', 'ALT', 'ALB', 'CA', 'TP', 'ALKP', 'BUN']  with label important_components... at UCSF  of type, component\n",
      "/Users/songxu/healthrex/CDSS/scripts/LabTestAnalysis/lab_statistics/data-UCSF-component-10000-episodes-lastnormal/Fig3_Diagnostic_Metrics/Diagnostic_Metrics_components_PPV_0.95__important_components.csv does not exist!\n",
      "[ALT, AST, TBIL, ALKP, TP, ..., K, NA, PLT, HGB, WBC]\n",
      "Length: 15\n",
      "Categories (15, object): [WBC < HGB < PLT < NA ... ALKP < TBIL < AST < ALT]\n",
      "draw__Diagnostic_Metrics for ['WBC', 'HGB', 'PLT', 'SOD', 'POT', 'CREAT', 'TBIL', 'CO2', 'AST', 'ALT', 'ALB', 'CAL', 'PROT', 'ALK', 'UN']  with label important_components... at UMich  of type, component\n",
      "/Users/songxu/healthrex/CDSS/scripts/LabTestAnalysis/lab_statistics/data-UMich-component-10000-episodes-lastnormal/Fig3_Diagnostic_Metrics/Diagnostic_Metrics_components_PPV_0.95__important_components.csv does not exist!\n",
      "[ALT, AST, TBIL, ALKP, TP, ..., K, NA, PLT, HGB, WBC]\n",
      "Length: 15\n",
      "Categories (15, object): [WBC < HGB < PLT < NA ... ALKP < TBIL < AST < ALT]\n"
     ]
    },
    {
     "data": {
      "image/png": "[encoded data removed]",
      "text/plain": [
       "<Figure size 432x648 with 1 Axes>"
      ]
     },
     "metadata": {
      "needs_background": "light"
     },
     "output_type": "display_data"
    },
    {
     "data": {
      "image/png": "[encoded data removed]",
      "text/plain": [
       "<Figure size 432x648 with 1 Axes>"
      ]
     },
     "metadata": {
      "needs_background": "light"
     },
     "output_type": "display_data"
    },
    {
     "data": {
      "image/png": "[encoded data removed]",
      "text/plain": [
       "<Figure size 432x648 with 1 Axes>"
      ]
     },
     "metadata": {
      "needs_background": "light"
     },
     "output_type": "display_data"
    }
   ],
   "source": [
    "targeted_PPV=0.95\n",
    "scale_by='enc'\n",
    "use_cached_fig_data=False\n",
    "result_label = 'important_components'\n",
    "inverse01=inverse01\n",
    "for data_source in ['Stanford', 'UCSF', 'UMich']: # \n",
    "    for lab_type in ['component']:\n",
    "        dataset_foldername = 'data-%s-%s-%s'%(data_source, lab_type, curr_version)\n",
    "        labStats_folderpath = os.path.join(LocalEnv.PATH_TO_CDSS, 'scripts/LabTestAnalysis/lab_statistics')\n",
    "        statsByLab_folderpath = os.path.join(labStats_folderpath, dataset_foldername)\n",
    "        if data_source == 'Stanford' and lab_type == 'component':\n",
    "            all_labs = STRIDE_COMPONENT_TESTS_common#\n",
    "        elif data_source == 'UMich' and lab_type == 'component':\n",
    "            all_labs = UMICH_TOP_COMPONENTS_common#\n",
    "        elif data_source == 'UCSF' and lab_type == 'component':\n",
    "            all_labs = UCSF_TOP_COMPONENTS_common #\n",
    "            \n",
    "        '''\n",
    "        Two steps: \n",
    "        lab2stats: Getting lab-wise stats tables under lab_statistics/dataset_folder/stats_by_lab_alg/..\n",
    "        stats2summary: Aggregate all labs' stats under lab_statistics/dataset_folder/..\n",
    "        '''\n",
    "        draw__Diagnostic_Metrics()"
   ]
  },
  {
   "cell_type": "code",
   "execution_count": null,
   "metadata": {},
   "outputs": [],
   "source": []
  }
 ],
 "metadata": {
  "kernelspec": {
   "display_name": "Python 2",
   "language": "python",
   "name": "python2"
  },
  "language_info": {
   "codemirror_mode": {
    "name": "ipython",
    "version": 2
   },
   "file_extension": ".py",
   "mimetype": "text/x-python",
   "name": "python",
   "nbconvert_exporter": "python",
   "pygments_lexer": "ipython2",
   "version": "2.7.10"
  }
 },
 "nbformat": 4,
 "nbformat_minor": 2
}
