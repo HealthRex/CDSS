{
 "cells": [
  {
   "cell_type": "markdown",
   "metadata": {},
   "source": [
    "## Figure 1\n",
    "\n",
    "Normality scores, decision threshold, and receiver operating characteristic (ROC) curve.  "
   ]
  },
  {
   "cell_type": "code",
   "execution_count": 2,
   "metadata": {},
   "outputs": [],
   "source": [
    "%matplotlib inline\n",
    "from JAMA_config import *"
   ]
  },
  {
   "cell_type": "code",
   "execution_count": 3,
   "metadata": {},
   "outputs": [],
   "source": [
    "lab = 'LABLDH'\n",
    "data_source = 'Stanford'\n",
    "lab_type = 'panel'\n",
    "score_thres = 0.756\n",
    "include_threshold_colors = True\n",
    "\n",
    "dash_num = 20"
   ]
  },
  {
   "cell_type": "code",
   "execution_count": 4,
   "metadata": {},
   "outputs": [],
   "source": [
    "dataSet_foldername = 'data-%s-%s-%s'%(data_source, \n",
    "                                      lab_type, \n",
    "                                      curr_version)\n",
    "dataML_folderpath = os.path.join(ML_folderpath, dataSet_foldername)\n",
    "dataStats_folderpath = os.path.join(stats_folderpath, dataSet_foldername)\n",
    "\n",
    "labDescriptions = stats_utils.get_lab_descriptions(data_source=data_source, \n",
    "                                                   lab_type=lab_type)"
   ]
  },
  {
   "cell_type": "code",
   "execution_count": 5,
   "metadata": {},
   "outputs": [],
   "source": [
    "figure1_folderpath = os.path.join(stats_folderpath, 'Fig1_cartoon')\n",
    "if not os.path.exists(figure1_folderpath):\n",
    "    os.mkdir(figure1_folderpath)\n",
    "\n",
    "xVal_base, yVal_base, score_base, xVal_best, yVal_best, score_best, p_val \\\n",
    "            = stats_utils.get_curve_onelab(lab,\n",
    "                                           all_algs=['random-forest'],\n",
    "                                           data_folder=dataML_folderpath,\n",
    "                                           curve_type='ROC',\n",
    "                                           get_pval=False)"
   ]
  },
  {
   "cell_type": "code",
   "execution_count": null,
   "metadata": {},
   "outputs": [],
   "source": []
  },
  {
   "cell_type": "markdown",
   "metadata": {},
   "source": [
    "### (a) Histogram of normality scores distributed among normal (black) and abnormal (grey) orders."
   ]
  },
  {
   "cell_type": "code",
   "execution_count": 19,
   "metadata": {
    "scrolled": true
   },
   "outputs": [],
   "source": [
    "\n",
    "alg = 'random-forest'\n",
    "df = pd.read_csv(dataML_folderpath + \"/%s/%s/direct_comparisons.csv\"\n",
    "                 % (lab, alg), keep_default_na=False)\n",
    "\n",
    "df1 = pd.read_csv(dataML_folderpath + \"/%s/%s/%s-normality-prediction-%s-report.tab\"\n",
    "                  % (lab, alg, lab, alg), sep='\\t', keep_default_na=False)\n",
    "auc = df1['roc_auc'].values[0]\n",
    "\n",
    "scores_actual_0 = df[df['actual'] == 0]['predict'].values\n",
    "scores_actual_1 = df[df['actual'] == 1]['predict'].values"
   ]
  },
  {
   "cell_type": "code",
   "execution_count": 20,
   "metadata": {},
   "outputs": [],
   "source": [
    "def make_hist(scores, plot_type='hist', bins=30, color='black', label=''):\n",
    "    if plot_type == 'line':\n",
    "        ys, xs = np.histogram(scores, bins=bins)\n",
    "        xs_mid = (xs[:-1]+xs[1:])/2.\n",
    "        plt.plot(xs_mid, ys, c=color, label=label)\n",
    "    elif plot_type == 'hist':\n",
    "        plt.hist(scores, bins=bins, alpha=0.8, color=color, label=label)"
   ]
  },
  {
   "cell_type": "code",
   "execution_count": 36,
   "metadata": {
    "scrolled": false
   },
   "outputs": [
    {
     "data": {
      "image/png": "[encoded data removed]",
      "text/plain": [
       "<Figure size 360x288 with 1 Axes>"
      ]
     },
     "metadata": {
      "needs_background": "light"
     },
     "output_type": "display_data"
    },
    {
     "data": {
      "text/plain": [
       "<Figure size 432x288 with 0 Axes>"
      ]
     },
     "metadata": {},
     "output_type": "display_data"
    }
   ],
   "source": [
    "plot_type = 'hist'\n",
    "\n",
    "figure, ax = plt.subplots(figsize=(5, 4))\n",
    "\n",
    "if not inverse01:\n",
    "    plt.hist(scores_actual_0, bins=30, alpha=0.8, color='gray', label=\"Abnormal\") #gray red\n",
    "    plt.hist(scores_actual_1, bins=30, alpha=0.8, color='black', label=\"Normal\") #black green\n",
    "else:\n",
    "#     make_hist(1-scores_actual_0, plot_type, 30, 'gray', 'Abnormal')\n",
    "#     make_hist(1-scores_actual_1, plot_type, 30, 'black', 'Normal')\n",
    "    ha = ax.hist([1-scores_actual_0, 1-scores_actual_1], bins=16, color=['gray', 'black'], label=['Abnormal', 'Normal'])\n",
    "    N, bins, patches = ha\n",
    "    \n",
    "plt.legend(fontsize=12)\n",
    "\n",
    "plt.xlim([0, 1])\n",
    "plt.ylim([0, 800])\n",
    "# plt.xticks([])\n",
    "# plt.yticks([])\n",
    "# plt.xlabel(lab_descriptions[lab])\n",
    "# plt.xlabel('random forest', fontsize=16)\n",
    "plt.xlabel('Score', fontsize=16)\n",
    "plt.ylabel('Number of orders', fontsize=16)\n",
    "\n",
    "ax.tick_params(axis='both', labelsize=14)\n",
    "plt.tight_layout()\n",
    "\n",
    "\n",
    "plt.savefig(os.path.join(figure1_folderpath, 'cartoon_%s%s.png' % (lab, inverse_maker)))\n",
    "\n",
    "plt.show()\n",
    "plt.clf()"
   ]
  },
  {
   "cell_type": "code",
   "execution_count": 61,
   "metadata": {},
   "outputs": [
    {
     "data": {
      "image/png": "[encoded data removed]",
      "text/plain": [
       "<Figure size 360x288 with 1 Axes>"
      ]
     },
     "metadata": {
      "needs_background": "light"
     },
     "output_type": "display_data"
    },
    {
     "data": {
      "text/plain": [
       "<Figure size 432x288 with 0 Axes>"
      ]
     },
     "metadata": {},
     "output_type": "display_data"
    }
   ],
   "source": [
    "figure, ax = plt.subplots(figsize=(5, 4))\n",
    "\n",
    "if not inverse01:\n",
    "    plt.hist(scores_actual_0, bins=30, alpha=0.8, color='gray', label=\"Abnormal\") #gray red\n",
    "    plt.hist(scores_actual_1, bins=30, alpha=0.8, color='black', label=\"Normal\") #black green\n",
    "else:\n",
    "#     make_hist(1-scores_actual_0, plot_type, 30, 'gray', 'Abnormal')\n",
    "#     make_hist(1-scores_actual_1, plot_type, 30, 'black', 'Normal')\n",
    "    ha = ax.hist([1-scores_actual_0, 1-scores_actual_1], bins=16)\n",
    "    N, bins, patches = ha\n",
    "    \n",
    "    plt.plot([1-score_thres] * dash_num, np.linspace(0, 800, num=dash_num), 'k--')\n",
    "    \n",
    "\n",
    "plt.xlim([0, 1])\n",
    "plt.ylim([0, 800])\n",
    "# plt.xticks([])\n",
    "# plt.yticks([])\n",
    "# plt.xlabel(lab_descriptions[lab])\n",
    "# plt.xlabel('random forest', fontsize=16)\n",
    "plt.xlabel('Score', fontsize=16)\n",
    "plt.ylabel('Number of orders', fontsize=16)\n",
    "\n",
    "ax.tick_params(axis='both', labelsize=14)\n",
    "plt.tight_layout()\n",
    "\n",
    "plt.setp(patches[1][0], 'facecolor', 'forestgreen', 'label', 'True Negative')\n",
    "plt.setp(patches[1][1:4], 'facecolor', 'forestgreen')\n",
    "\n",
    "plt.setp(patches[0][0], 'facecolor', 'orangered', 'label', 'False Negative')\n",
    "plt.setp(patches[0][1:4], 'facecolor', 'orangered')\n",
    "\n",
    "plt.setp(patches[0][4], 'facecolor', 'royalblue', 'label', 'True Positive')\n",
    "plt.setp(patches[0][5:], 'facecolor', 'royalblue')\n",
    "\n",
    "plt.setp(patches[1][4], 'facecolor', 'gold', 'label', 'False Positive')\n",
    "plt.setp(patches[1][5:], 'facecolor', 'gold')\n",
    "\n",
    "plt.legend(loc=(0.4,0.6), fontsize=12)\n",
    "\n",
    "plt.savefig(os.path.join(figure1_folderpath, 'cartoon_%s%s_color.png' % (lab, inverse_maker)))\n",
    "\n",
    "\n",
    "plt.show()\n",
    "plt.clf()"
   ]
  },
  {
   "cell_type": "code",
   "execution_count": null,
   "metadata": {},
   "outputs": [],
   "source": []
  },
  {
   "cell_type": "code",
   "execution_count": 14,
   "metadata": {
    "scrolled": true
   },
   "outputs": [
    {
     "data": {
      "text/plain": [
       "array([0.00763259, 0.06948607, 0.13133955, 0.19319303, 0.25504651,\n",
       "       0.31689999, 0.37875347, 0.44060695, 0.50246043, 0.56431391,\n",
       "       0.62616739, 0.68802086, 0.74987434, 0.81172782, 0.8735813 ,\n",
       "       0.93543478, 0.99728826])"
      ]
     },
     "execution_count": 14,
     "metadata": {},
     "output_type": "execute_result"
    }
   ],
   "source": [
    "bins"
   ]
  },
  {
   "cell_type": "code",
   "execution_count": 27,
   "metadata": {},
   "outputs": [],
   "source": []
  },
  {
   "cell_type": "code",
   "execution_count": null,
   "metadata": {},
   "outputs": [],
   "source": []
  },
  {
   "cell_type": "markdown",
   "metadata": {},
   "source": [
    "### (b) After picking a threshold, orders are classified into “predicted normal” if their normality scores fall above the threshold or “predicted abnormal” if falling below the threshold. Further, true negative orders (green) are both “predicted normal” and actually normal, false negative orders (red) are “predicted normal” and actually abnormal, false positive orders (yellow) are “predicted abnormal” and actually normal, and true positive orders (blue) are both “predicted abnormal” and actually abnormal. "
   ]
  },
  {
   "cell_type": "code",
   "execution_count": 9,
   "metadata": {},
   "outputs": [
    {
     "data": {
      "image/png": "[encoded data removed]",
      "text/plain": [
       "<Figure size 360x288 with 1 Axes>"
      ]
     },
     "metadata": {
      "needs_background": "light"
     },
     "output_type": "display_data"
    },
    {
     "data": {
      "text/plain": [
       "<Figure size 432x288 with 0 Axes>"
      ]
     },
     "metadata": {},
     "output_type": "display_data"
    }
   ],
   "source": [
    "df = pd.read_csv(dataML_folderpath + \"/%s/baseline_comparisons.csv\"\n",
    "                 % (lab), keep_default_na=False)\n",
    "scores_actual_0 = df[df['actual'] == 0]['predict'].values\n",
    "scores_actual_1 = df[df['actual'] == 1]['predict'].values\n",
    "\n",
    "plot_baseline = False\n",
    "if plot_baseline:\n",
    "    plt.figure(figsize=(5, 4))\n",
    "\n",
    "\n",
    "    plt.hist(scores_actual_0, bins=30, alpha=0.8, color='b', label=\"Abnormal\")\n",
    "    plt.hist(scores_actual_1, bins=30, alpha=0.8, color='g', label=\"Normal\")\n",
    "    plt.xlim([0, 1])\n",
    "    plt.ylim([0, 500])\n",
    "    plt.xticks([])\n",
    "    plt.yticks([])\n",
    "    # plt.xlabel(lab_descriptions[lab] + 'auroc=%.2f' % auc)\n",
    "    # plt.xlabel('baseline', fontsize=16)\n",
    "    plt.xlabel('Score, baseline', fontsize=16)\n",
    "    plt.ylabel('num of orders', fontsize=16)\n",
    "    plt.legend(fontsize=12)\n",
    "    plt.savefig(os.path.join(figure1_folderpath, 'cartoon_baseline_%s.png'%lab))\n",
    "    plt.clf()\n",
    "\n",
    "figure, ax = plt.subplots(figsize=(5, 4))\n",
    "alg = 'random-forest'\n",
    "df = pd.read_csv(dataML_folderpath + \"/%s/%s/direct_comparisons.csv\"\n",
    "                 % (lab, alg), keep_default_na=False)\n",
    "\n",
    "df1 = pd.read_csv(dataML_folderpath + \"/%s/%s/%s-normality-prediction-%s-report.tab\"\n",
    "                  % (lab, alg, lab, alg), sep='\\t', keep_default_na=False)\n",
    "auc = df1['roc_auc'].values[0]\n",
    "\n",
    "scores_actual_trueNega = df[(df['actual']==0) & (df['predict']<score_thres)]['predict'].values\n",
    "scores_actual_falsPosi = df[(df['actual'] == 0) & (df['predict'] >= score_thres)]['predict'].values\n",
    "\n",
    "scores_actual_falsNega = df[(df['actual'] == 1) & (df['predict'] < score_thres)]['predict'].values\n",
    "scores_actual_truePosi = df[(df['actual'] == 1) & (df['predict'] >= score_thres)]['predict'].values\n",
    "\n",
    "if not inverse01:\n",
    "    plt.hist(scores_actual_trueNega, bins=22, alpha=0.8, color='royalblue', label=\"true negatives\")\n",
    "    plt.hist(scores_actual_falsNega, bins=22, alpha=0.8, color='gold', label=\"false negatives\")\n",
    "    plt.hist(scores_actual_truePosi, bins=7, alpha=0.8, color='forestgreen', label=\"true positives\")\n",
    "    plt.hist(scores_actual_falsPosi, bins=7, alpha=0.8, color='orangered', label=\"false positives\")\n",
    "\n",
    "    plt.plot([score_thres] * dash_num, np.linspace(0, 800, num=dash_num), 'k--')\n",
    "else:\n",
    "#     plt.hist(1-scores_actual_trueNega, bins=22, alpha=0.8, color='royalblue', label=\"True Positives\")\n",
    "#     plt.hist(1-scores_actual_falsNega, bins=22, alpha=0.8, color='gold', label=\"False Positives\")\n",
    "#     plt.hist(1-scores_actual_truePosi, bins=7, alpha=0.8, color='forestgreen', label=\"True Negatives\")\n",
    "#     plt.hist(1-scores_actual_falsPosi, bins=7, alpha=0.8, color='orangered', label=\"False Negatives\")\n",
    "\n",
    "#     make_hist(1-scores_actual_trueNega, plot_type, bins=22, color='royalblue', label='True Positives')\n",
    "#     make_hist(1-scores_actual_falsNega, plot_type, bins=22, color='gold', label='False Positives')\n",
    "#     make_hist(1-scores_actual_truePosi, plot_type, bins=7, color='forestgreen', label='True Negatives')\n",
    "#     make_hist(1-scores_actual_falsPosi, plot_type, bins=7, color='orangered', label='False Negatives')\n",
    "    \n",
    "    plt.hist([1-scores_actual_trueNega, 1-scores_actual_truePosi], bins=16, color=['royalblue', 'forestgreen'], label=['True Positives', 'True Negatives'])\n",
    "    plt.hist([1-scores_actual_falsNega, 1-scores_actual_falsPosi], bins=17, color=['gold', 'orangered'], label=['False Positives', 'False Negatives'])\n",
    "#     plt.hist([1-scores_actual_trueNega, 1-scores_actual_falsPosi, 1-scores_actual_falsNega, 1-scores_actual_truePosi],\n",
    "#             bins=10, color=['royalblue', 'orangered', 'gold', 'forestgreen'], label=['True Positives', 'False Negatives','True Negatives', 'False Positives'])\n",
    "    \n",
    "    plt.plot([1-score_thres] * dash_num, np.linspace(0, 800, num=dash_num), 'k--')\n",
    "    \n",
    "\n",
    "plt.legend(loc=(0.4,0.6), fontsize=12)\n",
    "\n",
    "    \n",
    "\n",
    "plt.xlim([0, 1])\n",
    "plt.ylim([0, 800])\n",
    "# plt.xticks([])\n",
    "# plt.yticks([])\n",
    "# plt.xlabel(lab_descriptions[lab])\n",
    "# plt.xlabel('random forest', fontsize=16)\n",
    "plt.xlabel('Score', fontsize=16)\n",
    "plt.ylabel('Number of orders', fontsize=16)\n",
    "\n",
    "ax.tick_params(axis='both', labelsize=14)\n",
    "plt.tight_layout()\n",
    "\n",
    "\n",
    "plt.savefig(os.path.join(figure1_folderpath, 'cartoon_%s_thres%s.png' % (lab, inverse_maker)))\n",
    "plt.show()\n",
    "plt.clf()"
   ]
  },
  {
   "cell_type": "markdown",
   "metadata": {},
   "source": [
    "### (c) This choice of threshold leads to a sensitivity of 96% and specificity of 67% as shown on the ROC curve."
   ]
  },
  {
   "cell_type": "code",
   "execution_count": 10,
   "metadata": {
    "scrolled": true
   },
   "outputs": [
    {
     "name": "stdout",
     "output_type": "stream",
     "text": [
      "sensitivity 0.636603028308\n",
      "specificity 0.96447467876\n",
      "score_thres 0.756\n"
     ]
    },
    {
     "data": {
      "image/png": "[encoded data removed]",
      "text/plain": [
       "<Figure size 360x288 with 1 Axes>"
      ]
     },
     "metadata": {
      "needs_background": "light"
     },
     "output_type": "display_data"
    },
    {
     "data": {
      "text/plain": [
       "<Figure size 432x288 with 0 Axes>"
      ]
     },
     "metadata": {},
     "output_type": "display_data"
    }
   ],
   "source": [
    "fig, ax = plt.subplots(figsize=(5, 4))\n",
    "# plt.plot(xVal_base, yVal_base, label='baseline model, %0.2f' % (score_base), linewidth=2)\n",
    "'''Representative ROC of LABLDH'''\n",
    "if not inverse01:\n",
    "    plt.plot(xVal_best, yVal_best, color='orange', linewidth=2) #, label='Best Alg', label='random forest', AUROC=%0.2f  % (score_best)\n",
    "else:\n",
    "    plt.plot(1-yVal_best, 1-xVal_best, color='orange', linewidth=2) #, label='Best Alg'\n",
    "\n",
    "if include_threshold_colors:\n",
    "    df_directcompare_rf = pd.read_csv(os.path.join(dataML_folderpath, lab, 'random-forest', 'direct_comparisons.csv'))\n",
    "    actual_labels = df_directcompare_rf['actual'].values\n",
    "    predict_probas = df_directcompare_rf['predict'].values\n",
    "\n",
    "    sensitivity, specificity, LR_p, LR_n, PPV, NPV = stats_utils.get_confusion_metrics(actual_labels, predict_probas, score_thres, also_return_cnts=False)\n",
    "    print \"sensitivity\", sensitivity\n",
    "    print \"specificity\", specificity\n",
    "    print \"score_thres\", score_thres\n",
    "\n",
    "    '''The POINT of PPV=0.95'''\n",
    "    if not inverse01:\n",
    "        plt.scatter(1-specificity, sensitivity, s=50, color='orange')\n",
    "    else:\n",
    "        plt.scatter(1-sensitivity, specificity, s=50, color='orange')\n",
    "        \n",
    "\n",
    "    '''Reference line of AUC=0.5'''\n",
    "    \n",
    "    # plt.plot([1-specificity]*dash_num, np.linspace(0,1,num=dash_num), 'k--')\n",
    "    plt.plot(np.linspace(0,1,num=dash_num),np.linspace(0,1,num=dash_num), \n",
    "             color='lightblue', linestyle='--'\n",
    "             #label = 'Baseline'\n",
    "            )#, )\n",
    "\n",
    "plt.xlim([0, 1])\n",
    "plt.ylim([0, 1])\n",
    "#plt.xticks([])\n",
    "#plt.yticks([])\n",
    "\n",
    "plt.ylabel('Sensitivity', fontsize=16) #lab_descriptions.get(lab, lab)\n",
    "plt.xlabel('1-Specificity', fontsize=16)\n",
    "\n",
    "ax.tick_params(axis='both', labelsize=14)\n",
    "\n",
    "plt.legend()\n",
    "plt.tight_layout()\n",
    "\n",
    "plt.show()\n",
    "# plt.legend(fontsize=12)\n",
    "plt.savefig(os.path.join(figure1_folderpath, 'ROC_%s%s.png'%(lab,inverse_maker)))\n",
    "\n",
    "plt.clf()"
   ]
  },
  {
   "cell_type": "code",
   "execution_count": null,
   "metadata": {},
   "outputs": [],
   "source": []
  },
  {
   "cell_type": "code",
   "execution_count": null,
   "metadata": {},
   "outputs": [],
   "source": []
  }
 ],
 "metadata": {
  "kernelspec": {
   "display_name": "Python 2",
   "language": "python",
   "name": "python2"
  },
  "language_info": {
   "codemirror_mode": {
    "name": "ipython",
    "version": 2
   },
   "file_extension": ".py",
   "mimetype": "text/x-python",
   "name": "python",
   "nbconvert_exporter": "python",
   "pygments_lexer": "ipython2",
   "version": "2.7.10"
  }
 },
 "nbformat": 4,
 "nbformat_minor": 2
}
