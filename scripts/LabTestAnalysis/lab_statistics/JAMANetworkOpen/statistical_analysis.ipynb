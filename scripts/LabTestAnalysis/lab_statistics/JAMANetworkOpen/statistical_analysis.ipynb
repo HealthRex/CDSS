{
 "cells": [
  {
   "cell_type": "markdown",
   "metadata": {},
   "source": [
    "# Statistical Analysis of the Lab Normality Paper\n",
    "\n",
    "### Author: Song Xu"
   ]
  },
  {
   "cell_type": "markdown",
   "metadata": {},
   "source": [
    "## Setting up variables"
   ]
  },
  {
   "cell_type": "markdown",
   "metadata": {},
   "source": [
    "- Assign Data Set and Type here"
   ]
  },
  {
   "cell_type": "code",
   "execution_count": 1,
   "metadata": {},
   "outputs": [],
   "source": [
    "curr_version = '10000-episodes-lastnormal'\n",
    "inverse01 = True # Setting 'True' to interpret 'Normal' as 'Negative'\n",
    "\n",
    "inverse_maker = '_inversed01' if inverse01 else ''"
   ]
  },
  {
   "cell_type": "markdown",
   "metadata": {},
   "source": [
    "## Permutation Test"
   ]
  },
  {
   "cell_type": "code",
   "execution_count": 3,
   "metadata": {},
   "outputs": [],
   "source": [
    "import LocalEnv\n",
    "\n",
    "from scripts.LabTestAnalysis.machine_learning.LabNormalityPredictionPipeline \\\n",
    "        import NON_PANEL_TESTS_WITH_GT_500_ORDERS\n",
    "from medinfo.ml.SupervisedClassifier import SupervisedClassifier\n"
   ]
  },
  {
   "cell_type": "code",
   "execution_count": 4,
   "metadata": {},
   "outputs": [],
   "source": [
    "labs=NON_PANEL_TESTS_WITH_GT_500_ORDERS\n",
    "algs=SupervisedClassifier.SUPPORTED_ALGORITHMS"
   ]
  },
  {
   "cell_type": "code",
   "execution_count": 1,
   "metadata": {},
   "outputs": [],
   "source": [
    "from medinfo.db import DBUtil\n",
    "from medinfo.db.Model import SQLQuery"
   ]
  },
  {
   "cell_type": "code",
   "execution_count": 223,
   "metadata": {},
   "outputs": [],
   "source": [
    "query = SQLQuery()\n",
    "query.addSelect('COUNT(DISTINCT po.pat_id)')\n",
    "query.addFrom('stride_patient AS p')\n",
    "query.addFrom('stride_order_proc AS po')\n",
    "query.addWhere('po.pat_id = p.pat_id')\n",
    "query.addWhere(\"po.order_time >= '2008-01-01'\")\n",
    "query.addWhere(\"po.order_time < '2017-07-01'\")\n",
    "results_patCnt = DBUtil.execute(query)"
   ]
  },
  {
   "cell_type": "code",
   "execution_count": 224,
   "metadata": {},
   "outputs": [
    {
     "data": {
      "text/plain": [
       "[[116637L]]"
      ]
     },
     "execution_count": 224,
     "metadata": {},
     "output_type": "execute_result"
    }
   ],
   "source": [
    "results_patCnt"
   ]
  },
  {
   "cell_type": "code",
   "execution_count": 3,
   "metadata": {},
   "outputs": [
    {
     "name": "stderr",
     "output_type": "stream",
     "text": [
      "[2019-07-21 12:44:29,741 INFO] DBUtil.connection.63: Preparing DB Connection to tmp@localhost as postgres\n"
     ]
    }
   ],
   "source": [
    "# Number of inpatients investigated in the intensity study\n",
    "query = SQLQuery()\n",
    "query.addSelect('gender, COUNT(DISTINCT po.pat_id)')\n",
    "query.addFrom('stride_patient AS p')\n",
    "query.addFrom('stride_order_proc AS po')\n",
    "query.addWhere('po.pat_id = p.pat_id')\n",
    "query.addWhere(\"po.order_time >= '2014-07-01'\")\n",
    "query.addWhere(\"po.order_time < '2017-07-01'\")\n",
    "query.addGroupBy('gender')\n",
    "results_genderCnt = DBUtil.execute(query)"
   ]
  },
  {
   "cell_type": "code",
   "execution_count": 4,
   "metadata": {
    "scrolled": false
   },
   "outputs": [
    {
     "data": {
      "text/plain": [
       "[['FEMALE', 4055L],\n",
       " ['Female', 18609L],\n",
       " ['MALE', 3642L],\n",
       " ['Male', 18374L],\n",
       " ['Unknown', 1L],\n",
       " [None, 29L]]"
      ]
     },
     "execution_count": 4,
     "metadata": {},
     "output_type": "execute_result"
    }
   ],
   "source": [
    "results_genderCnt"
   ]
  },
  {
   "cell_type": "code",
   "execution_count": 2,
   "metadata": {},
   "outputs": [
    {
     "name": "stderr",
     "output_type": "stream",
     "text": [
      "[2019-08-06 20:56:45,886 INFO] DBUtil.connection.63: Preparing DB Connection to tmp@localhost as postgres\n"
     ]
    }
   ],
   "source": [
    "# Number of inpatients investigated in the intensity study\n",
    "query = SQLQuery()\n",
    "query.addSelect('EXTRACT(YEAR FROM order_time) - p.birth_year AS age, COUNT(DISTINCT p.pat_id), gender')\n",
    "query.addFrom('stride_patient AS p')\n",
    "query.addFrom('stride_order_proc AS po')\n",
    "query.addWhere('po.pat_id = p.pat_id')\n",
    "query.addWhere(\"po.order_time >= '2008-01-01'\")\n",
    "query.addWhere(\"po.order_time < '2017-07-01'\")\n",
    "query.addGroupBy('age')\n",
    "query.addGroupBy('gender')\n",
    "results_ageSexCnt = DBUtil.execute(query)"
   ]
  },
  {
   "cell_type": "code",
   "execution_count": 3,
   "metadata": {
    "scrolled": true
   },
   "outputs": [
    {
     "data": {
      "text/html": [
       "<div>\n",
       "<style scoped>\n",
       "    .dataframe tbody tr th:only-of-type {\n",
       "        vertical-align: middle;\n",
       "    }\n",
       "\n",
       "    .dataframe tbody tr th {\n",
       "        vertical-align: top;\n",
       "    }\n",
       "\n",
       "    .dataframe thead th {\n",
       "        text-align: right;\n",
       "    }\n",
       "</style>\n",
       "<table border=\"1\" class=\"dataframe\">\n",
       "  <thead>\n",
       "    <tr style=\"text-align: right;\">\n",
       "      <th></th>\n",
       "      <th>0</th>\n",
       "      <th>1</th>\n",
       "      <th>2</th>\n",
       "    </tr>\n",
       "  </thead>\n",
       "  <tbody>\n",
       "    <tr>\n",
       "      <th>0</th>\n",
       "      <td>0.0</td>\n",
       "      <td>1</td>\n",
       "      <td>MALE</td>\n",
       "    </tr>\n",
       "    <tr>\n",
       "      <th>1</th>\n",
       "      <td>1.0</td>\n",
       "      <td>1</td>\n",
       "      <td>MALE</td>\n",
       "    </tr>\n",
       "    <tr>\n",
       "      <th>2</th>\n",
       "      <td>3.0</td>\n",
       "      <td>1</td>\n",
       "      <td>Female</td>\n",
       "    </tr>\n",
       "    <tr>\n",
       "      <th>3</th>\n",
       "      <td>10.0</td>\n",
       "      <td>1</td>\n",
       "      <td>MALE</td>\n",
       "    </tr>\n",
       "    <tr>\n",
       "      <th>4</th>\n",
       "      <td>10.0</td>\n",
       "      <td>1</td>\n",
       "      <td>Male</td>\n",
       "    </tr>\n",
       "    <tr>\n",
       "      <th>5</th>\n",
       "      <td>12.0</td>\n",
       "      <td>1</td>\n",
       "      <td>Female</td>\n",
       "    </tr>\n",
       "    <tr>\n",
       "      <th>6</th>\n",
       "      <td>12.0</td>\n",
       "      <td>2</td>\n",
       "      <td>MALE</td>\n",
       "    </tr>\n",
       "    <tr>\n",
       "      <th>7</th>\n",
       "      <td>13.0</td>\n",
       "      <td>1</td>\n",
       "      <td>MALE</td>\n",
       "    </tr>\n",
       "    <tr>\n",
       "      <th>8</th>\n",
       "      <td>13.0</td>\n",
       "      <td>1</td>\n",
       "      <td>Male</td>\n",
       "    </tr>\n",
       "    <tr>\n",
       "      <th>9</th>\n",
       "      <td>14.0</td>\n",
       "      <td>9</td>\n",
       "      <td>FEMALE</td>\n",
       "    </tr>\n",
       "    <tr>\n",
       "      <th>10</th>\n",
       "      <td>14.0</td>\n",
       "      <td>3</td>\n",
       "      <td>Female</td>\n",
       "    </tr>\n",
       "    <tr>\n",
       "      <th>11</th>\n",
       "      <td>14.0</td>\n",
       "      <td>8</td>\n",
       "      <td>MALE</td>\n",
       "    </tr>\n",
       "    <tr>\n",
       "      <th>12</th>\n",
       "      <td>14.0</td>\n",
       "      <td>5</td>\n",
       "      <td>Male</td>\n",
       "    </tr>\n",
       "    <tr>\n",
       "      <th>13</th>\n",
       "      <td>15.0</td>\n",
       "      <td>21</td>\n",
       "      <td>FEMALE</td>\n",
       "    </tr>\n",
       "    <tr>\n",
       "      <th>14</th>\n",
       "      <td>15.0</td>\n",
       "      <td>16</td>\n",
       "      <td>Female</td>\n",
       "    </tr>\n",
       "    <tr>\n",
       "      <th>15</th>\n",
       "      <td>15.0</td>\n",
       "      <td>20</td>\n",
       "      <td>MALE</td>\n",
       "    </tr>\n",
       "    <tr>\n",
       "      <th>16</th>\n",
       "      <td>15.0</td>\n",
       "      <td>17</td>\n",
       "      <td>Male</td>\n",
       "    </tr>\n",
       "    <tr>\n",
       "      <th>17</th>\n",
       "      <td>16.0</td>\n",
       "      <td>62</td>\n",
       "      <td>FEMALE</td>\n",
       "    </tr>\n",
       "    <tr>\n",
       "      <th>18</th>\n",
       "      <td>16.0</td>\n",
       "      <td>23</td>\n",
       "      <td>Female</td>\n",
       "    </tr>\n",
       "    <tr>\n",
       "      <th>19</th>\n",
       "      <td>16.0</td>\n",
       "      <td>41</td>\n",
       "      <td>MALE</td>\n",
       "    </tr>\n",
       "    <tr>\n",
       "      <th>20</th>\n",
       "      <td>16.0</td>\n",
       "      <td>19</td>\n",
       "      <td>Male</td>\n",
       "    </tr>\n",
       "    <tr>\n",
       "      <th>21</th>\n",
       "      <td>17.0</td>\n",
       "      <td>80</td>\n",
       "      <td>FEMALE</td>\n",
       "    </tr>\n",
       "    <tr>\n",
       "      <th>22</th>\n",
       "      <td>17.0</td>\n",
       "      <td>38</td>\n",
       "      <td>Female</td>\n",
       "    </tr>\n",
       "    <tr>\n",
       "      <th>23</th>\n",
       "      <td>17.0</td>\n",
       "      <td>84</td>\n",
       "      <td>MALE</td>\n",
       "    </tr>\n",
       "    <tr>\n",
       "      <th>24</th>\n",
       "      <td>17.0</td>\n",
       "      <td>45</td>\n",
       "      <td>Male</td>\n",
       "    </tr>\n",
       "    <tr>\n",
       "      <th>25</th>\n",
       "      <td>18.0</td>\n",
       "      <td>162</td>\n",
       "      <td>FEMALE</td>\n",
       "    </tr>\n",
       "    <tr>\n",
       "      <th>26</th>\n",
       "      <td>18.0</td>\n",
       "      <td>89</td>\n",
       "      <td>Female</td>\n",
       "    </tr>\n",
       "    <tr>\n",
       "      <th>27</th>\n",
       "      <td>18.0</td>\n",
       "      <td>178</td>\n",
       "      <td>MALE</td>\n",
       "    </tr>\n",
       "    <tr>\n",
       "      <th>28</th>\n",
       "      <td>18.0</td>\n",
       "      <td>100</td>\n",
       "      <td>Male</td>\n",
       "    </tr>\n",
       "    <tr>\n",
       "      <th>29</th>\n",
       "      <td>19.0</td>\n",
       "      <td>265</td>\n",
       "      <td>FEMALE</td>\n",
       "    </tr>\n",
       "    <tr>\n",
       "      <th>...</th>\n",
       "      <td>...</td>\n",
       "      <td>...</td>\n",
       "      <td>...</td>\n",
       "    </tr>\n",
       "    <tr>\n",
       "      <th>357</th>\n",
       "      <td>99.0</td>\n",
       "      <td>6</td>\n",
       "      <td>Male</td>\n",
       "    </tr>\n",
       "    <tr>\n",
       "      <th>358</th>\n",
       "      <td>100.0</td>\n",
       "      <td>42</td>\n",
       "      <td>FEMALE</td>\n",
       "    </tr>\n",
       "    <tr>\n",
       "      <th>359</th>\n",
       "      <td>100.0</td>\n",
       "      <td>11</td>\n",
       "      <td>Female</td>\n",
       "    </tr>\n",
       "    <tr>\n",
       "      <th>360</th>\n",
       "      <td>100.0</td>\n",
       "      <td>11</td>\n",
       "      <td>MALE</td>\n",
       "    </tr>\n",
       "    <tr>\n",
       "      <th>361</th>\n",
       "      <td>100.0</td>\n",
       "      <td>2</td>\n",
       "      <td>Male</td>\n",
       "    </tr>\n",
       "    <tr>\n",
       "      <th>362</th>\n",
       "      <td>101.0</td>\n",
       "      <td>27</td>\n",
       "      <td>FEMALE</td>\n",
       "    </tr>\n",
       "    <tr>\n",
       "      <th>363</th>\n",
       "      <td>101.0</td>\n",
       "      <td>6</td>\n",
       "      <td>Female</td>\n",
       "    </tr>\n",
       "    <tr>\n",
       "      <th>364</th>\n",
       "      <td>101.0</td>\n",
       "      <td>12</td>\n",
       "      <td>MALE</td>\n",
       "    </tr>\n",
       "    <tr>\n",
       "      <th>365</th>\n",
       "      <td>101.0</td>\n",
       "      <td>2</td>\n",
       "      <td>Male</td>\n",
       "    </tr>\n",
       "    <tr>\n",
       "      <th>366</th>\n",
       "      <td>102.0</td>\n",
       "      <td>10</td>\n",
       "      <td>FEMALE</td>\n",
       "    </tr>\n",
       "    <tr>\n",
       "      <th>367</th>\n",
       "      <td>102.0</td>\n",
       "      <td>4</td>\n",
       "      <td>Female</td>\n",
       "    </tr>\n",
       "    <tr>\n",
       "      <th>368</th>\n",
       "      <td>102.0</td>\n",
       "      <td>5</td>\n",
       "      <td>MALE</td>\n",
       "    </tr>\n",
       "    <tr>\n",
       "      <th>369</th>\n",
       "      <td>102.0</td>\n",
       "      <td>2</td>\n",
       "      <td>Male</td>\n",
       "    </tr>\n",
       "    <tr>\n",
       "      <th>370</th>\n",
       "      <td>103.0</td>\n",
       "      <td>7</td>\n",
       "      <td>FEMALE</td>\n",
       "    </tr>\n",
       "    <tr>\n",
       "      <th>371</th>\n",
       "      <td>103.0</td>\n",
       "      <td>4</td>\n",
       "      <td>Female</td>\n",
       "    </tr>\n",
       "    <tr>\n",
       "      <th>372</th>\n",
       "      <td>103.0</td>\n",
       "      <td>3</td>\n",
       "      <td>MALE</td>\n",
       "    </tr>\n",
       "    <tr>\n",
       "      <th>373</th>\n",
       "      <td>103.0</td>\n",
       "      <td>1</td>\n",
       "      <td>Male</td>\n",
       "    </tr>\n",
       "    <tr>\n",
       "      <th>374</th>\n",
       "      <td>104.0</td>\n",
       "      <td>1</td>\n",
       "      <td>FEMALE</td>\n",
       "    </tr>\n",
       "    <tr>\n",
       "      <th>375</th>\n",
       "      <td>104.0</td>\n",
       "      <td>1</td>\n",
       "      <td>Female</td>\n",
       "    </tr>\n",
       "    <tr>\n",
       "      <th>376</th>\n",
       "      <td>104.0</td>\n",
       "      <td>1</td>\n",
       "      <td>MALE</td>\n",
       "    </tr>\n",
       "    <tr>\n",
       "      <th>377</th>\n",
       "      <td>105.0</td>\n",
       "      <td>3</td>\n",
       "      <td>FEMALE</td>\n",
       "    </tr>\n",
       "    <tr>\n",
       "      <th>378</th>\n",
       "      <td>105.0</td>\n",
       "      <td>2</td>\n",
       "      <td>Female</td>\n",
       "    </tr>\n",
       "    <tr>\n",
       "      <th>379</th>\n",
       "      <td>105.0</td>\n",
       "      <td>1</td>\n",
       "      <td>MALE</td>\n",
       "    </tr>\n",
       "    <tr>\n",
       "      <th>380</th>\n",
       "      <td>106.0</td>\n",
       "      <td>4</td>\n",
       "      <td>FEMALE</td>\n",
       "    </tr>\n",
       "    <tr>\n",
       "      <th>381</th>\n",
       "      <td>108.0</td>\n",
       "      <td>1</td>\n",
       "      <td>FEMALE</td>\n",
       "    </tr>\n",
       "    <tr>\n",
       "      <th>382</th>\n",
       "      <td>109.0</td>\n",
       "      <td>1</td>\n",
       "      <td>FEMALE</td>\n",
       "    </tr>\n",
       "    <tr>\n",
       "      <th>383</th>\n",
       "      <td>110.0</td>\n",
       "      <td>1</td>\n",
       "      <td>FEMALE</td>\n",
       "    </tr>\n",
       "    <tr>\n",
       "      <th>384</th>\n",
       "      <td>110.0</td>\n",
       "      <td>1</td>\n",
       "      <td>MALE</td>\n",
       "    </tr>\n",
       "    <tr>\n",
       "      <th>385</th>\n",
       "      <td>111.0</td>\n",
       "      <td>1</td>\n",
       "      <td>MALE</td>\n",
       "    </tr>\n",
       "    <tr>\n",
       "      <th>386</th>\n",
       "      <td>NaN</td>\n",
       "      <td>33</td>\n",
       "      <td>None</td>\n",
       "    </tr>\n",
       "  </tbody>\n",
       "</table>\n",
       "<p>387 rows × 3 columns</p>\n",
       "</div>"
      ],
      "text/plain": [
       "         0    1       2\n",
       "0      0.0    1    MALE\n",
       "1      1.0    1    MALE\n",
       "2      3.0    1  Female\n",
       "3     10.0    1    MALE\n",
       "4     10.0    1    Male\n",
       "5     12.0    1  Female\n",
       "6     12.0    2    MALE\n",
       "7     13.0    1    MALE\n",
       "8     13.0    1    Male\n",
       "9     14.0    9  FEMALE\n",
       "10    14.0    3  Female\n",
       "11    14.0    8    MALE\n",
       "12    14.0    5    Male\n",
       "13    15.0   21  FEMALE\n",
       "14    15.0   16  Female\n",
       "15    15.0   20    MALE\n",
       "16    15.0   17    Male\n",
       "17    16.0   62  FEMALE\n",
       "18    16.0   23  Female\n",
       "19    16.0   41    MALE\n",
       "20    16.0   19    Male\n",
       "21    17.0   80  FEMALE\n",
       "22    17.0   38  Female\n",
       "23    17.0   84    MALE\n",
       "24    17.0   45    Male\n",
       "25    18.0  162  FEMALE\n",
       "26    18.0   89  Female\n",
       "27    18.0  178    MALE\n",
       "28    18.0  100    Male\n",
       "29    19.0  265  FEMALE\n",
       "..     ...  ...     ...\n",
       "357   99.0    6    Male\n",
       "358  100.0   42  FEMALE\n",
       "359  100.0   11  Female\n",
       "360  100.0   11    MALE\n",
       "361  100.0    2    Male\n",
       "362  101.0   27  FEMALE\n",
       "363  101.0    6  Female\n",
       "364  101.0   12    MALE\n",
       "365  101.0    2    Male\n",
       "366  102.0   10  FEMALE\n",
       "367  102.0    4  Female\n",
       "368  102.0    5    MALE\n",
       "369  102.0    2    Male\n",
       "370  103.0    7  FEMALE\n",
       "371  103.0    4  Female\n",
       "372  103.0    3    MALE\n",
       "373  103.0    1    Male\n",
       "374  104.0    1  FEMALE\n",
       "375  104.0    1  Female\n",
       "376  104.0    1    MALE\n",
       "377  105.0    3  FEMALE\n",
       "378  105.0    2  Female\n",
       "379  105.0    1    MALE\n",
       "380  106.0    4  FEMALE\n",
       "381  108.0    1  FEMALE\n",
       "382  109.0    1  FEMALE\n",
       "383  110.0    1  FEMALE\n",
       "384  110.0    1    MALE\n",
       "385  111.0    1    MALE\n",
       "386    NaN   33    None\n",
       "\n",
       "[387 rows x 3 columns]"
      ]
     },
     "execution_count": 3,
     "metadata": {},
     "output_type": "execute_result"
    }
   ],
   "source": [
    "import pandas as pd\n",
    "df_ageSexCnt = pd.DataFrame(results_ageSexCnt)\n",
    "df_ageSexCnt"
   ]
  },
  {
   "cell_type": "code",
   "execution_count": 4,
   "metadata": {},
   "outputs": [],
   "source": [
    "df_ageMaleCnt = df_ageSexCnt[df_ageSexCnt[2].isin(['MALE', 'Male'])]\n",
    "df_ageFemaleCnt = df_ageSexCnt[df_ageSexCnt[2].isin(['FEMALE', 'Female'])]"
   ]
  },
  {
   "cell_type": "code",
   "execution_count": 5,
   "metadata": {},
   "outputs": [
    {
     "data": {
      "text/plain": [
       "58.95033171223453"
      ]
     },
     "execution_count": 5,
     "metadata": {},
     "output_type": "execute_result"
    }
   ],
   "source": [
    "(df_ageMaleCnt[0]*df_ageMaleCnt[1]).sum() / df_ageMaleCnt[1].sum() #.mean()"
   ]
  },
  {
   "cell_type": "code",
   "execution_count": 6,
   "metadata": {},
   "outputs": [
    {
     "data": {
      "text/plain": [
       "58.7611788750179"
      ]
     },
     "execution_count": 6,
     "metadata": {},
     "output_type": "execute_result"
    }
   ],
   "source": [
    "(df_ageFemaleCnt[0]*df_ageFemaleCnt[1]).sum() / df_ageFemaleCnt[1].sum() #.mean()"
   ]
  },
  {
   "cell_type": "code",
   "execution_count": 9,
   "metadata": {},
   "outputs": [
    {
     "name": "stdout",
     "output_type": "stream",
     "text": [
      "18.104354834545635\n"
     ]
    }
   ],
   "source": [
    "import numpy as np\n",
    "\n",
    "all_cnts = df_ageMaleCnt[1].values\n",
    "all_ages = df_ageMaleCnt[0].values\n",
    "\n",
    "all_males = []\n",
    "for i in range(len(all_ages)):\n",
    "    for j in range(all_cnts[i]):\n",
    "        all_males.append(all_ages[i])\n",
    "print np.std(all_males)"
   ]
  },
  {
   "cell_type": "code",
   "execution_count": 10,
   "metadata": {},
   "outputs": [
    {
     "name": "stdout",
     "output_type": "stream",
     "text": [
      "18.967577523036514\n"
     ]
    }
   ],
   "source": [
    "all_cnts = df_ageFemaleCnt[1].values\n",
    "all_ages = df_ageFemaleCnt[0].values\n",
    "\n",
    "all_females = []\n",
    "for i in range(len(all_ages)):\n",
    "    for j in range(all_cnts[i]):\n",
    "        all_females.append(all_ages[i])\n",
    "print np.std(all_females)"
   ]
  },
  {
   "cell_type": "code",
   "execution_count": 220,
   "metadata": {},
   "outputs": [],
   "source": [
    "df_order_1day = pd.read_csv(\"/Users/songxu/healthrex/CDSS/scripts/LabTestAnalysis/lab_statistics/Fig2_Order_Intensities/Order_Intensities_panel_labs_order_1day.csv\")"
   ]
  },
  {
   "cell_type": "code",
   "execution_count": 222,
   "metadata": {},
   "outputs": [
    {
     "data": {
      "text/plain": [
       "792397"
      ]
     },
     "execution_count": 222,
     "metadata": {},
     "output_type": "execute_result"
    }
   ],
   "source": [
    "df_order_1day['< 24 hrs'].sum()"
   ]
  }
 ],
 "metadata": {
  "kernelspec": {
   "display_name": "Python 2",
   "language": "python",
   "name": "python2"
  },
  "language_info": {
   "codemirror_mode": {
    "name": "ipython",
    "version": 2
   },
   "file_extension": ".py",
   "mimetype": "text/x-python",
   "name": "python",
   "nbconvert_exporter": "python",
   "pygments_lexer": "ipython2",
   "version": "2.7.10"
  }
 },
 "nbformat": 4,
 "nbformat_minor": 2
}
