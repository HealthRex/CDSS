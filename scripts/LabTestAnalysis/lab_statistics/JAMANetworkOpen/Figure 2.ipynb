{
 "cells": [
  {
   "cell_type": "markdown",
   "metadata": {},
   "source": [
    "## Figure 1: plot_full_cartoon of LABLDH\n"
   ]
  },
  {
   "cell_type": "code",
   "execution_count": 1,
   "metadata": {},
   "outputs": [],
   "source": [
    "%matplotlib inline\n",
    "from JAMA_config import *"
   ]
  },
  {
   "cell_type": "code",
   "execution_count": 27,
   "metadata": {},
   "outputs": [],
   "source": [
    "data_source = 'Stanford'\n",
    "lab_type = 'panel'"
   ]
  },
  {
   "cell_type": "code",
   "execution_count": 28,
   "metadata": {},
   "outputs": [],
   "source": [
    "dataSet_foldername = 'data-%s-%s-%s'%(data_source, \n",
    "                                      lab_type, \n",
    "                                      curr_version)\n",
    "dataML_folderpath = os.path.join(ML_folderpath, dataSet_foldername)\n",
    "dataStats_folderpath = os.path.join(stats_folderpath, dataSet_foldername)\n",
    "\n",
    "all_labs = stats_utils.get_all_labs(data_source, lab_type)\n",
    "\n",
    "labDescriptions = stats_utils.get_lab_descriptions(data_source=data_source, \n",
    "                                                   lab_type=lab_type)"
   ]
  },
  {
   "cell_type": "code",
   "execution_count": 29,
   "metadata": {},
   "outputs": [],
   "source": [
    "figure2_folderpath = os.path.join(stats_folderpath, 'Fig2_Order_Intensities')"
   ]
  },
  {
   "cell_type": "markdown",
   "metadata": {},
   "source": [
    "## Order_Intensities"
   ]
  },
  {
   "cell_type": "code",
   "execution_count": 30,
   "metadata": {},
   "outputs": [],
   "source": [
    "\n",
    "labs_cnts_order_1day = stats_database.TOP_PANELS_AND_COUNTS_IN_1DAY[:20]\n",
    "labs_order_1day = [x[0] for x in labs_cnts_order_1day]\n",
    "\n",
    "labs_guideline = ['LABESRP', 'LABALB', 'LABA1C', 'LABTSH', 'LABCRP', 'LABYCP', 'LABLIPS', 'LABAGALA', 'LABNTBNP']\n",
    "\n",
    "\n",
    "use_cached_fig_data = True\n",
    "DEFAULT_TIMELIMIT = stats_utils.DEFAULT_TIMELIMIT\n",
    "\n",
    "\n",
    "\n",
    "scale = 1. / stats_utils.NUM_DISTINCT_ENCS * 1000\n",
    "\n",
    "\n",
    "\n",
    "to_annotate_percentages=False\n",
    "\n",
    "cached_result_foldername = os.path.join(stats_folderpath, 'Fig2_Order_Intensities/')\n",
    "if not os.path.exists(cached_result_foldername):\n",
    "    os.mkdir(cached_result_foldername)"
   ]
  },
  {
   "cell_type": "code",
   "execution_count": 31,
   "metadata": {},
   "outputs": [
    {
     "name": "stdout",
     "output_type": "stream",
     "text": [
      "Labs to be plot: ['LABMETB', 'LABMGN', 'LABCBCD', 'LABLACWB', 'LABPTT', 'LABPHOS', 'LABPT', 'LABCAI', 'LABK', 'LABHEPAR', 'LABNA', 'LABTNI', 'LABLIDOL', 'LABHCTX', 'LABLDH', 'LABURIC', 'LABLAC', 'LABSPLAC', 'LABFIB', 'LABUSPG']\n"
     ]
    }
   ],
   "source": [
    "params_1 = {'labs':labs_order_1day,\n",
    "            'result_label':'labs_order_1day',\n",
    "            'scale_method' : 'by_scale',\n",
    "            'include_legend':True\n",
    "           }\n",
    "\n",
    "params_2 = {'labs':labs_guideline,\n",
    "            'result_label':'labs_guideline',\n",
    "            'scale_method' : 'normalize',\n",
    "            'include_legend':False\n",
    "           }\n",
    "\n",
    "params = params_1\n",
    "\n",
    "labs = params['labs'] #  # \n",
    "print \"Labs to be plot:\", labs\n",
    "result_label= params['result_label'] # 'labs_guideline'# \n",
    "\n",
    "\n",
    "scale_method=params['scale_method']\n",
    "include_legend=params['include_legend']\n",
    "\n",
    "\n",
    "\n",
    "\n",
    "cached_result_filename = 'Order_Intensities_%s_%s.csv'%(lab_type, result_label)\n",
    "cached_result_path = os.path.join(cached_result_foldername, cached_result_filename)\n"
   ]
  },
  {
   "cell_type": "code",
   "execution_count": 32,
   "metadata": {},
   "outputs": [],
   "source": [
    "'''\n",
    "Each lab \n",
    "    -> all its orders in 2014/07-2017/06 (implicit) \n",
    "    -> {time since last order:cnts} (cached)\n",
    "    -> {0-1 days: cnt, 1-3 days: ...} \n",
    "    -> barh\n",
    "'''\n",
    "lab2stats = {}\n",
    "columns = ['< 24 hrs', '[24 hrs, 3 days)', '[3 days, 1 week)', '>= 1 week']\n",
    "\n",
    "if os.path.exists(cached_result_path) and use_cached_fig_data:\n",
    "    lab2stats_pd = pd.read_csv(cached_result_path)\n",
    "    lab2stats_pd = lab2stats_pd.rename(columns={'< 1 day':'< 24 hrs',\n",
    "                                                '1-3 days':'[24 hrs, 3 days)',\n",
    "                                                '3-7 days':'[3 days, 1 week)',\n",
    "                                                '> 7 days':'>= 1 week'})\n",
    "    lab2stats = lab2stats_pd.set_index('lab').to_dict(orient='index')\n",
    "\n",
    "else:\n",
    "    for lab in labs:\n",
    "        print 'Getting Order Intensities of lab %s..'%lab\n",
    "\n",
    "        df_lab = stats_utils.get_queried_lab(lab, lab_type, time_limit=DEFAULT_TIMELIMIT)\n",
    "\n",
    "        dict_lab = stats_utils.get_floored_day_to_number_orders_cnts(lab, df_lab)\n",
    "\n",
    "        day_counts = [0] * 4\n",
    "        tot_cnt = 0\n",
    "        for time, cnt in dict_lab.items():\n",
    "            if 0 <= time < 1:\n",
    "                day_counts[0] += cnt\n",
    "            elif 1 <= time < 3:\n",
    "                day_counts[1] += cnt\n",
    "            elif 3 <= time < 7:\n",
    "                day_counts[2] += cnt\n",
    "            elif time >= 7:\n",
    "                day_counts[3] += cnt\n",
    "            else:\n",
    "                print \"time is out of range:\", time\n",
    "            tot_cnt += cnt\n",
    "\n",
    "        lab2stats[lab] = dict(zip(columns, day_counts))\n",
    "\n",
    "    df_res = pd.DataFrame.from_dict(lab2stats, orient='index').reset_index().rename(columns={'index':'lab'})\n",
    "\n",
    "    df_res.to_csv(cached_result_path, index=False)\n",
    "\n",
    "for lab, stats in lab2stats.items():\n",
    "    stats['total'] = float(sum(stats.values()))\n",
    "\n",
    "if scale_method == 'by_scale':\n",
    "    labs_ordered = sorted(labs, key=lambda x: lab2stats[x]['total'], reverse=True) # \n",
    "else:\n",
    "    labs_ordered = sorted(labs, key=lambda x: lab2stats[x]['< 24 hrs']/lab2stats[x]['total'], reverse=True)\n",
    "    \n",
    "labs_toplots = [labs_ordered]"
   ]
  },
  {
   "cell_type": "code",
   "execution_count": 35,
   "metadata": {},
   "outputs": [],
   "source": [
    "def plot_order_intensities_barh(lab, time_since_last_order_binned, columns, scale,\n",
    "                                labeling=True, lab_ind=None):\n",
    "\n",
    "    alphas = [0.7, 1, 1, 0.7]\n",
    "    colors = ['red', 'green', 'orange', 'blue']\n",
    "\n",
    "    local_lab_descriptions = {\n",
    "        'LABCBCD': 'CBC WITH\\nDIFF',\n",
    "        'LABPHOS': 'PHOSPHORUS\\nSERUM/PLASMA',\n",
    "        'LABA1C': 'HEMOGLOBIN\\nA1C',\n",
    "        'LABALB': 'ALBUMIN\\nSERUM/PLASMA',\n",
    "        'LABTSH': 'THYROID\\nSIMULATING\\nHORMONE',\n",
    "        'LABESRP': 'SEDIMENTATION\\nRATE (ESR)'\n",
    "    }\n",
    "\n",
    "\n",
    "    pre_sum = 0\n",
    "    pre_sums = [pre_sum]\n",
    "    \n",
    "    for key in columns:\n",
    "        pre_sum += time_since_last_order_binned[key]\n",
    "        pre_sums.append(pre_sum)\n",
    "    \n",
    "#     print lab, time_since_last_order_binned.items()\n",
    "\n",
    "    for i in [3,2,1,0]:\n",
    "        key = columns[i]\n",
    "        pre_sum = pre_sums[i+1]-pre_sums[i]\n",
    "        left = pre_sums[i]\n",
    "\n",
    "        lab_descriptions['LABTSH'] = 'TSH'\n",
    "        lab_descriptions['LABESRP'] = 'Sedimentation Rate'\n",
    "        lab_descriptions['LABCBCD'] = 'CBC w/ Diff'\n",
    "        lab_descriptions['LABPTT'] = 'PTT'\n",
    "        lab_descriptions['LABHEPAR'] = 'Heparin Activity Level'\n",
    "        lab_descriptions['LABLIDOL'] = 'Lidocaine Level'\n",
    "        lab_desciption = lab_descriptions.get(lab, lab)\n",
    "        \n",
    "        \n",
    "        \n",
    "#         print 'pre_sum, left:', pre_sum, left\n",
    "\n",
    "        if labeling:\n",
    "            plt.barh([lab_desciption], pre_sum, left=left, color=colors[i], alpha=alphas[i], label=key)\n",
    "        else:\n",
    "            plt.barh([lab_desciption], pre_sum, left=left, color=colors[i], alpha=alphas[i])"
   ]
  },
  {
   "cell_type": "code",
   "execution_count": 36,
   "metadata": {},
   "outputs": [
    {
     "data": {
      "image/png": "[encoded data removed]",
      "text/plain": [
       "<Figure size 576x432 with 1 Axes>"
      ]
     },
     "metadata": {
      "needs_background": "light"
     },
     "output_type": "display_data"
    },
    {
     "data": {
      "text/plain": [
       "<Figure size 432x288 with 0 Axes>"
      ]
     },
     "metadata": {},
     "output_type": "display_data"
    }
   ],
   "source": [
    "\n",
    "\n",
    "for ind_toplot, labs_toplot in enumerate(labs_toplots):\n",
    "    fig, ax = plt.subplots(figsize=(8, .3 + 5.7/20.*len(labs))) #5+ 3./20.*len(labs)\n",
    "    # 8, 3.435 for guideline\n",
    "    # 8, 6 for freq labs\n",
    "    # 6 - 3.435 = 2.565\n",
    "    # Size for saturation is 7, 2.565 ?\n",
    "    for i, lab in enumerate(labs_toplot[::-1]):\n",
    "\n",
    "        time_since_last_order_binned = lab2stats[lab]\n",
    "\n",
    "\n",
    "        for time, cnt in time_since_last_order_binned.items():\n",
    "            if time == 'total':\n",
    "                continue\n",
    "            if scale_method == 'normalize':\n",
    "                time_since_last_order_binned[time] = cnt/time_since_last_order_binned['total']\n",
    "\n",
    "            elif scale_method == 'by_scale':\n",
    "                time_since_last_order_binned[time] = cnt*scale\n",
    "\n",
    "        if i == 0:\n",
    "            plot_order_intensities_barh(lab, time_since_last_order_binned,\n",
    "                                             columns=columns,\n",
    "                                             labeling=True,\n",
    "                                             lab_ind=i,\n",
    "                                             scale=scale)\n",
    "        else:\n",
    "            plot_order_intensities_barh(lab, time_since_last_order_binned,\n",
    "                                             columns=columns,\n",
    "                                             labeling=False,\n",
    "                                             lab_ind=i,\n",
    "                                             scale=scale)\n",
    "\n",
    "    if scale_method == 'normalize':\n",
    "        ax.set_xticklabels(['{:,.0%}'.format(x) for x in np.linspace(0,1,num=6)])\n",
    "        plt.tick_params('x', labelsize=13)\n",
    "        plt.tick_params('y', labelsize=11)\n",
    "        plt.xlim([0,1])\n",
    "    else:\n",
    "        plt.tick_params('x', labelsize=15) #12\n",
    "        plt.tick_params('y', labelsize=13) #10\n",
    "\n",
    "    if result_label != 'labs_guideline':\n",
    "        plt.xlabel('Number of orders per 100 patient encounters', fontsize=14) #'Order number between 2014/07-2017/06'\n",
    "\n",
    "    if include_legend:\n",
    "        plt.legend(prop={'size': 12})\n",
    "    else:\n",
    "        ax.yaxis.tick_right()\n",
    "        ax.yaxis.set_label_position(\"right\")\n",
    "        pass\n",
    "    # plt.xscale('log')\n",
    "\n",
    "    plt.tight_layout()\n",
    "    cached_result_folderpath = cached_result_foldername + 'Order_Intensities_%s_%i_%s.png'%(lab_type,ind_toplot,result_label)\n",
    "\n",
    "    if to_annotate_percentages:\n",
    "        cached_result_folderpath.replace('.png', '_formal_1.png')\n",
    "        # plt.xlim([0,5000])\n",
    "\n",
    "    plt.show()\n",
    "    plt.savefig(cached_result_folderpath)\n",
    "    plt.clf()"
   ]
  },
  {
   "cell_type": "code",
   "execution_count": 37,
   "metadata": {},
   "outputs": [
    {
     "data": {
      "image/png": "[encoded data removed]",
      "text/plain": [
       "<Figure size 576x576 with 1 Axes>"
      ]
     },
     "metadata": {
      "needs_background": "light"
     },
     "output_type": "display_data"
    },
    {
     "data": {
      "text/plain": [
       "<Figure size 432x288 with 0 Axes>"
      ]
     },
     "metadata": {},
     "output_type": "display_data"
    }
   ],
   "source": [
    "columns_reordered = ['< 24 hrs', '[24 hrs, 3 days)', '[3 days, 1 week)', '>= 1 week'][::-1]\n",
    "lab2stats_pd.set_index('lab')[columns_reordered].plot.barh(width=0.9, figsize=(8,8))\n",
    "plt.xlabel('number of orders')\n",
    "plt.tight_layout()\n",
    "\n",
    "plt.show()\n",
    "plt.savefig(cached_result_folderpath.replace('.png', '_unstacked.png'))\n",
    "plt.clf()"
   ]
  },
  {
   "cell_type": "markdown",
   "metadata": {},
   "source": [
    "## Figure 2.2"
   ]
  },
  {
   "cell_type": "code",
   "execution_count": 54,
   "metadata": {
    "scrolled": true
   },
   "outputs": [
    {
     "name": "stdout",
     "output_type": "stream",
     "text": [
      "Labs to be plot: ['LABESRP', 'LABALB', 'LABA1C', 'LABTSH', 'LABCRP', 'LABYCP', 'LABLIPS', 'LABAGALA', 'LABNTBNP']\n"
     ]
    }
   ],
   "source": [
    "params_2 = {'labs':labs_guideline,\n",
    "            'result_label':'labs_guideline',\n",
    "            'scale_method' : 'normalize',\n",
    "            'include_legend':False\n",
    "           }\n",
    "\n",
    "params = params_2\n",
    "\n",
    "labs = params['labs'] #  # \n",
    "print \"Labs to be plot:\", labs\n",
    "result_label= params['result_label'] # 'labs_guideline'# \n",
    "\n",
    "\n",
    "scale_method=params['scale_method']\n",
    "include_legend=params['include_legend']\n",
    "\n",
    "\n",
    "cached_result_filename = 'Order_Intensities_%s_%s.csv'%(lab_type, result_label)\n",
    "cached_result_path = os.path.join(cached_result_foldername, cached_result_filename)"
   ]
  },
  {
   "cell_type": "code",
   "execution_count": 62,
   "metadata": {},
   "outputs": [],
   "source": [
    "'''\n",
    "Each lab \n",
    "    -> all its orders in 2014/07-2017/06 (implicit) \n",
    "    -> {time since last order:cnts} (cached)\n",
    "    -> {0-1 days: cnt, 1-3 days: ...} \n",
    "    -> barh\n",
    "'''\n",
    "lab2stats = {}\n",
    "columns = ['< 24 hrs', '[24 hrs, 3 days)', '[3 days, 1 week)', '>= 1 week']\n",
    "\n",
    "if os.path.exists(cached_result_path) and use_cached_fig_data:\n",
    "    lab2stats_pd = pd.read_csv(cached_result_path)\n",
    "    lab2stats_pd = lab2stats_pd.rename(columns={'< 1 day':'< 24 hrs',\n",
    "                                                '1-3 days':'[24 hrs, 3 days)',\n",
    "                                                '3-7 days':'[3 days, 1 week)',\n",
    "                                                '> 7 days':'>= 1 week'})\n",
    "    lab2stats = lab2stats_pd.set_index('lab').to_dict(orient='index')\n",
    "\n",
    "else:\n",
    "    for lab in labs:\n",
    "        print 'Getting Order Intensities of lab %s..'%lab\n",
    "\n",
    "        df_lab = stats_utils.get_queried_lab(lab, lab_type, time_limit=DEFAULT_TIMELIMIT)\n",
    "\n",
    "        dict_lab = stats_utils.get_floored_day_to_number_orders_cnts(lab, df_lab)\n",
    "\n",
    "        day_counts = [0] * 4\n",
    "        tot_cnt = 0\n",
    "        for time, cnt in dict_lab.items():\n",
    "            if 0 <= time < 1:\n",
    "                day_counts[0] += cnt\n",
    "            elif 1 <= time < 3:\n",
    "                day_counts[1] += cnt\n",
    "            elif 3 <= time < 7:\n",
    "                day_counts[2] += cnt\n",
    "            elif time >= 7:\n",
    "                day_counts[3] += cnt\n",
    "            else:\n",
    "                print \"time is out of range:\", time\n",
    "            tot_cnt += cnt\n",
    "\n",
    "        lab2stats[lab] = dict(zip(columns, day_counts))\n",
    "\n",
    "    df_res = pd.DataFrame.from_dict(lab2stats, orient='index').reset_index().rename(columns={'index':'lab'})\n",
    "\n",
    "    df_res.to_csv(cached_result_path, index=False)\n",
    "\n",
    "for lab, stats in lab2stats.items():\n",
    "    stats['total'] = float(sum(stats.values()))\n",
    "\n",
    "if scale_method == 'by_scale':\n",
    "    labs_ordered = sorted(labs, key=lambda x: lab2stats[x]['total'], reverse=True) # \n",
    "else:\n",
    "    labs_ordered = sorted(labs, key=lambda x: lab2stats[x]['< 24 hrs']/lab2stats[x]['total'], reverse=True)\n",
    "    \n",
    "labs_toplots = [labs_ordered]"
   ]
  },
  {
   "cell_type": "code",
   "execution_count": 63,
   "metadata": {},
   "outputs": [
    {
     "data": {
      "image/png": "[encoded data removed]",
      "text/plain": [
       "<Figure size 576x206.28 with 1 Axes>"
      ]
     },
     "metadata": {
      "needs_background": "light"
     },
     "output_type": "display_data"
    },
    {
     "data": {
      "text/plain": [
       "<Figure size 432x288 with 0 Axes>"
      ]
     },
     "metadata": {},
     "output_type": "display_data"
    }
   ],
   "source": [
    "\n",
    "\n",
    "fig, ax = plt.subplots(figsize=(8, .3 + 5.7/20.*len(labs))) #5+ 3./20.*len(labs)\n",
    "# 8, 3.435 for guideline\n",
    "# 8, 6 for freq labs\n",
    "# 6 - 3.435 = 2.565\n",
    "# Size for saturation is 7, 2.565 ?\n",
    "labs = sorted(labs, key=lambda x: lab2stats[x]['< 24 hrs'] / lab2stats[x]['total']) #, reverse=True\n",
    "\n",
    "for i, lab in enumerate(labs):\n",
    "\n",
    "    time_since_last_order_binned = lab2stats[lab]\n",
    "\n",
    "\n",
    "    for time, cnt in time_since_last_order_binned.items():\n",
    "        if time == 'total':\n",
    "            continue\n",
    "        if scale_method == 'normalize':\n",
    "            time_since_last_order_binned[time] = cnt/time_since_last_order_binned['total']\n",
    "\n",
    "        elif scale_method == 'by_scale':\n",
    "            time_since_last_order_binned[time] = cnt*scale\n",
    "\n",
    "    if i == 0:\n",
    "        plot_order_intensities_barh(lab, time_since_last_order_binned,\n",
    "                                         columns=columns,\n",
    "                                         labeling=True,\n",
    "                                         lab_ind=i,\n",
    "                                         scale=scale)\n",
    "    else:\n",
    "        plot_order_intensities_barh(lab, time_since_last_order_binned,\n",
    "                                         columns=columns,\n",
    "                                         labeling=False,\n",
    "                                         lab_ind=i,\n",
    "                                         scale=scale)\n",
    "\n",
    "if scale_method == 'normalize':\n",
    "    ax.set_xticklabels(['{:,.0%}'.format(x) for x in np.linspace(0,1,num=6)])\n",
    "    plt.tick_params('x', labelsize=13)\n",
    "    plt.tick_params('y', labelsize=11)\n",
    "    plt.xlim([0,1])\n",
    "else:\n",
    "    plt.tick_params('x', labelsize=15) #12\n",
    "    plt.tick_params('y', labelsize=13) #10\n",
    "\n",
    "if result_label != 'labs_guideline':\n",
    "    plt.xlabel('Number of orders per 1000 patient encounters', fontsize=14) #'Order number between 2014/07-2017/06'\n",
    "\n",
    "if include_legend:\n",
    "    plt.legend(prop={'size': 12})\n",
    "else:\n",
    "    ax.yaxis.tick_right()\n",
    "    ax.yaxis.set_label_position(\"right\")\n",
    "    pass\n",
    "\n",
    "plt.tight_layout()\n",
    "cached_result_folderpath = cached_result_foldername + 'Order_Intensities_%s_%i_%s.png'%(lab_type,ind_toplot,result_label)\n",
    "\n",
    "if to_annotate_percentages:\n",
    "    cached_result_folderpath.replace('.png', '_formal_1.png')\n",
    "    # plt.xlim([0,5000])\n",
    "\n",
    "plt.show()\n",
    "plt.savefig(cached_result_folderpath)\n",
    "plt.clf()"
   ]
  },
  {
   "cell_type": "markdown",
   "metadata": {},
   "source": [
    "## Normality Saturations"
   ]
  },
  {
   "cell_type": "code",
   "execution_count": 17,
   "metadata": {},
   "outputs": [],
   "source": []
  },
  {
   "cell_type": "code",
   "execution_count": 18,
   "metadata": {},
   "outputs": [],
   "source": [
    "max_repeat = 5\n",
    "labs=['K', 'CR', 'NA', 'WBC', 'HGB']\n",
    "\n",
    "if not os.path.exists(figure2_folderpath):\n",
    "    os.mkdir(figure2_folderpath)\n",
    "\n",
    "if os.path.exists(figure2_folderpath + 'lab2cnt.csv'):\n",
    "    lab2cnt_pd = pd.read_csv(figure2_folderpath + 'lab2cnt.csv', keep_default_na=False)\\\n",
    "        .set_index('lab')\n",
    "    lab2cnt_pd.columns = lab2cnt_pd.columns.astype(int)\n",
    "    lab2cnt = lab2cnt_pd.to_dict(orient='index')\n",
    "\n",
    "    lab2frac_pd = pd.read_csv(figure2_folderpath + 'lab2frac.csv', keep_default_na=False).set_index('lab')\n",
    "    lab2frac_pd.columns = lab2frac_pd.columns.astype(int)\n",
    "    lab2frac = lab2frac_pd.to_dict(orient='index')\n",
    "else:\n",
    "\n",
    "    lab2cnt, lab2frac = {}, {}\n",
    "    import pickle\n",
    "    cur_cnt_folderpath = 'Normality_Saturations_Cnts'\n",
    "    if not os.path.exists(cur_cnt_folderpath):\n",
    "        os.mkdir(cur_cnt_folderpath)\n",
    "\n",
    "    def save_obj(obj, path):\n",
    "        with open(path, 'wb') as f:\n",
    "            pickle.dump(obj, f, pickle.HIGHEST_PROTOCOL)\n",
    "\n",
    "    def load_obj(path):\n",
    "        with open(path, 'rb') as f:\n",
    "            return pickle.load(f)\n",
    "\n",
    "    for lab in labs:\n",
    "        print 'Getting Normality Saturations for %s..' % lab\n",
    "\n",
    "        cur_dict_name = \"cur_dict_%s.pkl\"%lab\n",
    "        cur_dict_path = os.path.join(cur_cnt_folderpath, cur_dict_name)\n",
    "        if not os.path.exists(cur_dict_path):\n",
    "            df_lab = stats_utils.get_queried_lab(lab, lab_type, time_limit=stats_utils.DEFAULT_TIMELIMIT)\n",
    "\n",
    "            if lab_type=='panel':\n",
    "                df_lab = df_lab[df_lab['order_status'] == 'Completed']\n",
    "\n",
    "            cur_dict = stats_utils.get_prevweek_normal__dict(df_lab, lab_type)\n",
    "\n",
    "            save_obj(cur_dict, cur_dict_path)\n",
    "        else:\n",
    "            cur_dict = load_obj(cur_dict_path)\n",
    "\n",
    "        normal_fractions = {}\n",
    "        record_counts = {}\n",
    "        for x in range(0, max_repeat + 1):\n",
    "            if x in cur_dict:\n",
    "                record_count = len(cur_dict[x])\n",
    "                normal_fraction = np.divide(sum(cur_dict[x]), float(record_count))\n",
    "            else:\n",
    "                record_count = 0\n",
    "                normal_fraction = float('nan')\n",
    "\n",
    "            record_counts[x] = record_count\n",
    "            normal_fractions[x] = (normal_fraction)\n",
    "        lab2cnt[lab] = record_counts\n",
    "        lab2frac[lab] = normal_fractions\n",
    "\n",
    "    df_cnts = pd.DataFrame.from_dict(lab2cnt, orient='index').reset_index().rename(columns={'index': 'lab'})\n",
    "    df_fracs = pd.DataFrame.from_dict(lab2frac, orient='index').reset_index().rename(columns={'index': 'lab'})\n",
    "    #\n",
    "    # print df_cnts\n",
    "    # print df_fracs\n",
    "    # quit()\n",
    "\n",
    "    df_cnts.to_csv(figure2_folderpath + 'lab2cnt.csv', index=False)\n",
    "    df_fracs.to_csv(figure2_folderpath + 'lab2frac.csv', index=False)"
   ]
  },
  {
   "cell_type": "code",
   "execution_count": 20,
   "metadata": {},
   "outputs": [
    {
     "data": {
      "image/png": "[encoded data removed]",
      "text/plain": [
       "<Figure size 468x234 with 1 Axes>"
      ]
     },
     "metadata": {
      "needs_background": "light"
     },
     "output_type": "display_data"
    },
    {
     "data": {
      "text/plain": [
       "<Figure size 432x288 with 0 Axes>"
      ]
     },
     "metadata": {},
     "output_type": "display_data"
    }
   ],
   "source": [
    "fig, ax = plt.subplots(figsize=(6.5, 3.25)) #6, 4.5 # 7, 2.565 #6.5, 3.75\n",
    "\n",
    "#, '<', '>'\n",
    "marker_types = ('o', 'v', '^', '8', 's', 'P', '*', 'X', 'D', 'd')\n",
    "\n",
    "for k, lab in enumerate(labs):  # :\n",
    "\n",
    "    non_empty_inds = []\n",
    "    for i in range(0,max_repeat+1):\n",
    "        if lab2frac[lab][i]=='':\n",
    "            break\n",
    "        non_empty_inds.append(i)\n",
    "    y_s = [float(lab2frac[lab][i]) for i in non_empty_inds]\n",
    "    plt.plot(non_empty_inds, y_s, '-'+marker_types[k], label=labDescriptions[lab])\n",
    "    # l2, = plt.scatter(non_empty_inds, y_s, marker=marker_types[k])\n",
    "    # plt.plot(y_s[0], '-'+marker_types[k], color=l2.get_color(), markerfacecolor=l1.get_color(), label='My plots')\n",
    "\n",
    "plt.xticks(range(0, max_repeat + 1))\n",
    "plt.xlabel('Consecutive normal results in the past 7 days', fontsize=14)\n",
    "plt.yticks([0,0.2,0.4,0.6,0.8,1], ['0%', '20%', '40%', '60%', '80%', '100%'])\n",
    "plt.tick_params('x', labelsize=15)  # 12\n",
    "plt.tick_params('y', labelsize=13)  # 10\n",
    "plt.ylabel(\"Normal rate\", fontsize=14)\n",
    "plt.ylim([-0.05, 1.05])\n",
    "plt.legend(fontsize=13)\n",
    "ax.yaxis.tick_right()\n",
    "ax.yaxis.set_label_position(\"right\")\n",
    "plt.tight_layout()\n",
    "\n",
    "plt.show()\n",
    "plt.savefig(figure2_folderpath + 'Negative_Saturations_%s'%(lab_type))\n",
    "plt.clf()"
   ]
  },
  {
   "cell_type": "code",
   "execution_count": null,
   "metadata": {},
   "outputs": [],
   "source": []
  }
 ],
 "metadata": {
  "kernelspec": {
   "display_name": "Python 2",
   "language": "python",
   "name": "python2"
  },
  "language_info": {
   "codemirror_mode": {
    "name": "ipython",
    "version": 2
   },
   "file_extension": ".py",
   "mimetype": "text/x-python",
   "name": "python",
   "nbconvert_exporter": "python",
   "pygments_lexer": "ipython2",
   "version": "2.7.10"
  }
 },
 "nbformat": 4,
 "nbformat_minor": 2
}
