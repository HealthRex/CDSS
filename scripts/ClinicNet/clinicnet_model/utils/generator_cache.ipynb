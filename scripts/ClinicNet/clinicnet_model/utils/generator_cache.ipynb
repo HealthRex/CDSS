{
 "cells": [
  {
   "cell_type": "markdown",
   "metadata": {},
   "source": [
    "# Cache data set for easy generator loading"
   ]
  },
  {
   "cell_type": "code",
   "execution_count": null,
   "metadata": {},
   "outputs": [],
   "source": [
    "import numpy as np\n",
    "import pandas as pd\n",
    "from sklearn.externals import joblib\n",
    "from utils.datagenerator import DataGenerator"
   ]
  },
  {
   "cell_type": "code",
   "execution_count": null,
   "metadata": {},
   "outputs": [],
   "source": [
    "data_dir = '../../data/hdf5/test_feature_selected/' # Input data set folder\n",
    "pcafile='../../data/eig.pickle'\n",
    "transformfile='../../data/statistics/test/avg_stddev.hdf5'\n",
    "filename='../test_generator.sav' # Output file"
   ]
  },
  {
   "cell_type": "markdown",
   "metadata": {},
   "source": [
    "# Store data set into cache file"
   ]
  },
  {
   "cell_type": "code",
   "execution_count": null,
   "metadata": {},
   "outputs": [],
   "source": [
    "# Store test data into one file\n",
    "exclude_cols_transformation='item_date.month.sin,item_date.month.cos,item_date.hour.sin,item_date.hour.cos'\n",
    "test_generator = DataGenerator(path=data_dir, batch_size = 4096, pca_file=pcafile, transformation_file=transformfile, num_pc=4632, num_processes=10, exclude_cols_transformation=exclude_cols_transformation, shuffle=False, num_files_cache=100000000)\n",
    "a = test_generator.__getitem__(0, read_saved_features=True) # Set read_saved_features=False for dev set (since we won't need the 'saved' raw features like patient id)\n",
    "cache = test_generator.cache\n",
    "joblib.dump(cache, filename, compress=1)"
   ]
  },
  {
   "cell_type": "markdown",
   "metadata": {},
   "source": [
    "# Load cache data from file"
   ]
  },
  {
   "cell_type": "code",
   "execution_count": null,
   "metadata": {},
   "outputs": [],
   "source": [
    "# Load test data from file\n",
    "test_generator = DataGenerator(path=data_dir, cache=filename, batch_size = 4096, shuffle=False)"
   ]
  }
 ],
 "metadata": {
  "kernelspec": {
   "display_name": "Python (py36tf2.0-gpu)",
   "language": "python",
   "name": "py36tf2.0-gpu"
  },
  "language_info": {
   "codemirror_mode": {
    "name": "ipython",
    "version": 3
   },
   "file_extension": ".py",
   "mimetype": "text/x-python",
   "name": "python",
   "nbconvert_exporter": "python",
   "pygments_lexer": "ipython3",
   "version": "3.6.8"
  }
 },
 "nbformat": 4,
 "nbformat_minor": 2
}
