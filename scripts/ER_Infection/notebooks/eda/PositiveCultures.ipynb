{
 "cells": [
  {
   "cell_type": "markdown",
   "metadata": {},
   "source": [
    "##  Exploratory Data Analysis For Positive Growth Cultures"
   ]
  },
  {
   "cell_type": "code",
   "execution_count": null,
   "metadata": {},
   "outputs": [],
   "source": [
    "# import pandas as pd\n",
    "# import matplotlib.pyplot as plt\n",
    "# import numpy as np\n",
    "import os \n",
    "\n",
    "# ### THIS IS MEANT TO RUN ON NERO - NEEDS TO BE CHANGED IF YOU RUN LOCALLY\n",
    "os.environ['GOOGLE_APPLICATION_CREDENTIALS'] = '/home/ccorbin/.config/gcloud/application_default_credentials.json' \n",
    "os.environ['GCLOUD_PROJECT'] = 'mining-clinical-decisions' \n",
    "%load_ext google.cloud.bigquery\n",
    "\n",
    "# from google.cloud import bigquery\n",
    "# client=bigquery.Client()"
   ]
  },
  {
   "cell_type": "code",
   "execution_count": null,
   "metadata": {},
   "outputs": [],
   "source": [
    "%%bigquery\n",
    "# Stratify Positive Culture Encounters By The Number of Organisms that Grew in the encounter\n",
    "SELECT num_bugs, COUNT (DISTINCT pat_enc_csn_id_coded) num_csns\n",
    "FROM \n",
    "  (SELECT cr.pat_enc_csn_id_coded, COUNT (DISTINCT cr.sens_organism_sid) num_bugs\n",
    "   FROM `mining-clinical-decisions.conor_db.abx_ast_long` cr\n",
    "   GROUP BY cr.pat_enc_csn_id_coded) t\n",
    "GROUP BY num_bugs\n",
    "ORDER BY num_bugs"
   ]
  },
  {
   "cell_type": "code",
   "execution_count": null,
   "metadata": {},
   "outputs": [],
   "source": [
    "%%bigquery\n",
    "# Get types of organisms that grow stratified by ER that grew them\n",
    "# Top 15 per ER\n",
    "WITH dep_id as (\n",
    "SELECT \n",
    "adt.pat_enc_csn_id_coded,\n",
    "FIRST_VALUE(adt.department_id) OVER (PARTITION BY adt.pat_enc_csn_id_coded ORDER BY adt.effective_time_jittered_utc) department_id\n",
    "FROM `mining-clinical-decisions.conor_db.abx_ast_long` \n",
    "INNER JOIN `shc_core.adt` adt\n",
    "USING (pat_enc_csn_id_coded)\n",
    "),\n",
    "\n",
    "all_bugs as (\n",
    "SELECT CASE WHEN department_name in ('ADULT EMERGENCY DEPARTMENT', 'PEDIATRIC EMERGENCY DEPARTMENT') THEN \"SHC ED\" ELSE department_name END department_name,\n",
    "organism, COUNT (DISTINCT pat_enc_csn_id_coded) num_csns\n",
    "FROM \n",
    "  (SELECT DISTINCT cr.pat_enc_csn_id_coded, cr.organism, dm.department_name\n",
    "  FROM `mining-clinical-decisions.conor_db.abx_ast_long` cr\n",
    "  INNER JOIN dep_id\n",
    "  USING (pat_enc_csn_id_coded)\n",
    "  INNER JOIN `shc_core.dep_map` dm\n",
    "  USING (department_id)) t\n",
    "GROUP BY department_name, organism\n",
    "-- ORDER BY department_name, num_csns DESC\n",
    "),\n",
    "\n",
    "topten as (\n",
    "SELECT *, ROW_NUMBER() \n",
    "over (\n",
    "    PARTITION BY department_name \n",
    "    order by num_csns DESC\n",
    ") AS RowNo \n",
    "FROM all_bugs\n",
    ")\n",
    "\n",
    "SELECT * FROM topten WHERE RowNo <= 15\n",
    "ORDER BY department_name, RowNo\n",
    "\n"
   ]
  },
  {
   "cell_type": "code",
   "execution_count": 6,
   "metadata": {},
   "outputs": [
    {
     "ename": "IndentationError",
     "evalue": "unexpected indent (<ipython-input-6-0333222e3593>, line 3)",
     "output_type": "error",
     "traceback": [
      "\u001b[0;36m  File \u001b[0;32m\"<ipython-input-6-0333222e3593>\"\u001b[0;36m, line \u001b[0;32m3\u001b[0m\n\u001b[0;31m    order_time_jittered_utc\u001b[0m\n\u001b[0m    ^\u001b[0m\n\u001b[0;31mIndentationError\u001b[0m\u001b[0;31m:\u001b[0m unexpected indent\n"
     ]
    }
   ],
   "source": []
  },
  {
   "cell_type": "code",
   "execution_count": null,
   "metadata": {},
   "outputs": [],
   "source": []
  }
 ],
 "metadata": {
  "kernelspec": {
   "display_name": "Python 3",
   "language": "python",
   "name": "python3"
  },
  "language_info": {
   "codemirror_mode": {
    "name": "ipython",
    "version": 3
   },
   "file_extension": ".py",
   "mimetype": "text/x-python",
   "name": "python",
   "nbconvert_exporter": "python",
   "pygments_lexer": "ipython3",
   "version": "3.7.6"
  }
 },
 "nbformat": 4,
 "nbformat_minor": 2
}
