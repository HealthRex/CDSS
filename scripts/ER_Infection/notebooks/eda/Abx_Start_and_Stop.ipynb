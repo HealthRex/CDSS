{
 "cells": [
  {
   "cell_type": "code",
   "execution_count": null,
   "metadata": {},
   "outputs": [],
   "source": [
    "import pandas as pd\n",
    "import matplotlib.pyplot as plt\n",
    "import numpy as np\n",
    "import os \n",
    "\n",
    "### THIS IS MEANT TO RUN ON NERO - NEEDS TO BE CHANGED IF YOU RUN LOCALLY\n",
    "os.environ['GOOGLE_APPLICATION_CREDENTIALS'] = '/home/ccorbin/.config/gcloud/application_default_credentials.json' \n",
    "os.environ['GCLOUD_PROJECT'] = 'mining-clinical-decisions' \n",
    "%load_ext google.cloud.bigquery\n",
    "\n",
    "from google.cloud import bigquery\n",
    "client=bigquery.Client()"
   ]
  },
  {
   "cell_type": "code",
   "execution_count": null,
   "metadata": {},
   "outputs": [],
   "source": [
    "%%bigquery\n",
    "# Of our 60k encounters, how many didn't have any abx started\n",
    "WITH start_stop_time as (\n",
    "SELECT anon_id, pat_enc_csn_id_coded, max(was_given) any_abx_given, min(order_start_time_utc) first_abx_order_time, max(abx_stop_time) last_abx_stop_time\n",
    "FROM `mining-clinical-decisions.conor_db.abx_temp_14_day_orders` \n",
    "GROUP BY anon_id, pat_enc_csn_id_coded\n",
    "ORDER BY anon_id, pat_enc_csn_id_coded)\n",
    "\n",
    "SELECT any_abx_given, COUNT (DISTINCT pat_enc_csn_id_coded) cnt\n",
    "FROM start_stop_time \n",
    "GROUP BY any_abx_given "
   ]
  },
  {
   "cell_type": "code",
   "execution_count": null,
   "metadata": {},
   "outputs": [],
   "source": [
    "%%bigquery\n",
    "# How many CSNS have abx that are stopped within given number of days. Shows distribution.  Weird how long the tail is, should investigate further. \n",
    "# Also note how 1/3 of the CSN's have abx stop within the first day. Note that these will include people sent home with PO abx who were probably\n",
    "# taking them for the full week. May end up wanting to remove PO abx from this analysis bc we can't get a stop time for them. \n",
    "WITH start_stop_time as (\n",
    "SELECT anon_id, pat_enc_csn_id_coded, max(was_given) any_abx_given, min(order_start_time_utc) first_abx_order_time, max(abx_stop_time) last_abx_stop_time\n",
    "FROM `mining-clinical-decisions.conor_db.abx_temp_14_day_orders` \n",
    "GROUP BY anon_id, pat_enc_csn_id_coded\n",
    "ORDER BY anon_id, pat_enc_csn_id_coded),\n",
    "\n",
    "er_admits AS (\n",
    "SELECT anon_id, pat_enc_csn_id_coded, min(effective_time_jittered_utc) as er_admit_time, max(effective_time_jittered_utc) as er_transfer_out_time\n",
    "FROM `shc_core.adt`\n",
    "WHERE pat_class_c = \"112\" AND pat_service = \"Emergency\"\n",
    "GROUP BY anon_id, pat_enc_csn_id_coded)\n",
    "\n",
    "SELECT\n",
    "TIMESTAMP_DIFF(ss.last_abx_stop_time, ea.er_admit_time, DAY) time_until_abx_stop, COUNT (DISTINCT ss.pat_enc_csn_id_coded) cnt\n",
    "FROM start_stop_time ss\n",
    "INNER JOIN er_admits ea\n",
    "USING (pat_enc_csn_id_coded)\n",
    "GROUP BY time_until_abx_stop\n",
    "ORDER BY time_until_abx_stop\n"
   ]
  },
  {
   "cell_type": "code",
   "execution_count": null,
   "metadata": {},
   "outputs": [],
   "source": [
    "%%bigquery\n",
    "# Counts the number of CSNS that that have any growth in the union of all cultures ordered within 4 hrs of er stay\n",
    "WITH cult_result as (\n",
    "SELECT DISTINCT co.anon_id, co.pat_enc_csn_id_coded, co.order_proc_id_coded, cs.organism\n",
    "FROM `mining-clinical-decisions.conor_db.abx_culture_orders_within_4_hours` co\n",
    "INNER JOIN \n",
    "  (SELECT DISTINCT pat_enc_csn_id_coded FROM `mining-clinical-decisions.conor_db.abx_med_orders_given_and_stopped_info`) cults_and_abx_csns\n",
    "USING (pat_enc_csn_id_coded)\n",
    "LEFT JOIN `shc_core.culture_sensitivity` cs\n",
    "USING (order_proc_id_coded)\n",
    "ORDER BY co.anon_id, co.pat_enc_csn_id_coded\n",
    ")\n",
    "\n",
    "SELECT any_growth, COUNT (DISTINCT pat_enc_csn_id_coded) num_csns\n",
    "FROM\n",
    "  (SELECT pat_enc_csn_id_coded, MAX(CASE WHEN organism IS NOT NULL THEN 1 ELSE 0 END) any_growth\n",
    "  FROM cult_result\n",
    "  GROUP BY pat_enc_csn_id_coded) t\n",
    "GROUP BY any_growth\n"
   ]
  },
  {
   "cell_type": "code",
   "execution_count": null,
   "metadata": {},
   "outputs": [],
   "source": [
    "%%bigquery\n",
    "# Of all encs with positive cultures, how many different kinds of bugs grew?\n",
    "WITH cult_result as (\n",
    "SELECT DISTINCT co.anon_id, co.pat_enc_csn_id_coded, co.order_proc_id_coded, cs.organism\n",
    "FROM `mining-clinical-decisions.conor_db.abx_culture_orders_within_4_hours` co\n",
    "INNER JOIN \n",
    "  (SELECT DISTINCT pat_enc_csn_id_coded FROM `mining-clinical-decisions.conor_db.abx_med_orders_given_and_stopped_info`) cults_and_abx_csns\n",
    "USING (pat_enc_csn_id_coded)\n",
    "LEFT JOIN `shc_core.culture_sensitivity` cs\n",
    "USING (order_proc_id_coded)\n",
    "ORDER BY co.anon_id, co.pat_enc_csn_id_coded\n",
    "),\n",
    "\n",
    "any_growth as \n",
    "(SELECT pat_enc_csn_id_coded, MAX(CASE WHEN organism IS NOT NULL THEN 1 ELSE 0 END) any_positive\n",
    "FROM cult_result\n",
    "GROUP BY pat_enc_csn_id_coded)\n",
    "\n",
    "SELECT num_bugs, COUNT (DISTINCT pat_enc_csn_id_coded) num_csns\n",
    "FROM \n",
    "  (SELECT cr.pat_enc_csn_id_coded, COUNT (DISTINCT cr.organism) num_bugs\n",
    "  FROM cult_result cr\n",
    "  INNER JOIN (SELECT DISTINCT pat_enc_csn_id_coded FROM any_growth WHERE any_positive = 1) pos_csns\n",
    "  USING (pat_enc_csn_id_coded)\n",
    "  GROUP BY cr.pat_enc_csn_id_coded) t\n",
    "GROUP BY num_bugs\n",
    "ORDER BY num_bugs"
   ]
  },
  {
   "cell_type": "code",
   "execution_count": null,
   "metadata": {},
   "outputs": [],
   "source": [
    "%%bigquery\n",
    "# Kinds of bugs that grow and how often stratified by department (Pediatric ER, Adult ER, Valley Care ER).  Scary thing here is most of these are pediatric.  Which I was going to exclude\n",
    "# from the cohort... Note the Pediatric and adult ER's are the same building I believe.  \n",
    "WITH cult_result as (\n",
    "SELECT DISTINCT co.anon_id, co.pat_enc_csn_id_coded, co.order_proc_id_coded, cs.organism\n",
    "FROM `mining-clinical-decisions.conor_db.abx_culture_orders_within_4_hours` co\n",
    "INNER JOIN \n",
    "  (SELECT DISTINCT pat_enc_csn_id_coded FROM `mining-clinical-decisions.conor_db.abx_med_orders_given_and_stopped_info`) cults_and_abx_csns\n",
    "USING (pat_enc_csn_id_coded)\n",
    "LEFT JOIN `shc_core.culture_sensitivity` cs\n",
    "USING (order_proc_id_coded)\n",
    "ORDER BY co.anon_id, co.pat_enc_csn_id_coded\n",
    "),\n",
    "\n",
    "any_growth as \n",
    "(SELECT pat_enc_csn_id_coded, MAX(CASE WHEN organism IS NOT NULL THEN 1 ELSE 0 END) any_positive\n",
    "FROM cult_result\n",
    "GROUP BY pat_enc_csn_id_coded), \n",
    "\n",
    "dep_id as (\n",
    "SELECT \n",
    "adt.pat_enc_csn_id_coded,\n",
    "FIRST_VALUE(adt.department_id) OVER (PARTITION BY adt.pat_enc_csn_id_coded ORDER BY adt.effective_time_jittered_utc) department_id\n",
    "FROM cult_result\n",
    "INNER JOIN `shc_core.adt` adt\n",
    "USING (pat_enc_csn_id_coded)\n",
    ")\n",
    "\n",
    "SELECT department_name, organism, COUNT (DISTINCT pat_enc_csn_id_coded) num_csns\n",
    "FROM \n",
    "  (SELECT DISTINCT cr.pat_enc_csn_id_coded, cr.organism, dm.department_name\n",
    "  FROM cult_result cr\n",
    "  INNER JOIN (SELECT DISTINCT pat_enc_csn_id_coded FROM any_growth WHERE any_positive = 1) pos_csns\n",
    "  USING (pat_enc_csn_id_coded)\n",
    "  INNER JOIN dep_id\n",
    "  USING (pat_enc_csn_id_coded)\n",
    "  INNER JOIN `shc_core.dep_map` dm\n",
    "  USING (department_id)\n",
    "  WHERE cr.organism IS NOT NULL) t\n",
    "GROUP BY department_name, organism\n",
    "ORDER BY department_name, num_csns DESC"
   ]
  },
  {
   "cell_type": "code",
   "execution_count": null,
   "metadata": {},
   "outputs": [],
   "source": [
    "%%bigquery\n",
    "# Counts of infected, not infected, and censored patients.  Roughly half of patients are censored according to first round logic.\n",
    "SELECT sum(not_infected), sum(infected), sum(not_censored)\n",
    "FROM `mining-clinical-decisions.conor_db.abx_cohort_not_censored_label`\n"
   ]
  },
  {
   "cell_type": "code",
   "execution_count": null,
   "metadata": {},
   "outputs": [],
   "source": [
    "%%bigquery\n",
    "# Counts of infected, not infected, and censored patients when kids removed -- still roughly half censored. more infected than uninfected\n",
    "SELECT sum(not_infected), sum(infected), sum(not_censored)\n",
    "FROM `mining-clinical-decisions.conor_db.abx_cohort_not_censored_no_kids`\n"
   ]
  },
  {
   "cell_type": "code",
   "execution_count": null,
   "metadata": {},
   "outputs": [],
   "source": [
    "%%bigquery\n",
    "# Counts of infected, not infected, and censored patients when kids removed -- still roughly half censored. more infected than uninfected\n",
    "SELECT sum(not_infected), sum(infected), sum(not_censored)\n",
    "FROM `mining-clinical-decisions.conor_db.abx_cohort_not_censored_no_kids_no_prior`\n"
   ]
  },
  {
   "cell_type": "code",
   "execution_count": null,
   "metadata": {},
   "outputs": [],
   "source": [
    "%%bigquery\n",
    "# get dep_names for the Ed for cohort without kids, lot of pediatric even though we're 18+.\n",
    "WITH adt_dep as (\n",
    "SELECT pat_enc_csn_id_coded, FIRST_VALUE(department_id) OVER (PARTITION BY pat_enc_csn_id_coded ORDER BY effective_time_jittered_utc) department_id\n",
    "FROM `shc_core.adt`)\n",
    "\n",
    "SELECT DISTINCT cens.*,  dep.department_name,\n",
    "FROM `mining-clinical-decisions.conor_db.abx_cohort_not_censored_no_kids` cens\n",
    "INNER JOIN adt_dep \n",
    "USING (pat_enc_csn_id_coded)\n",
    "INNER JOIN `shc_core.dep_map` dep\n",
    "USING (department_id)"
   ]
  },
  {
   "cell_type": "code",
   "execution_count": null,
   "metadata": {},
   "outputs": [],
   "source": []
  }
 ],
 "metadata": {
  "kernelspec": {
   "display_name": "Python 3",
   "language": "python",
   "name": "python3"
  },
  "language_info": {
   "codemirror_mode": {
    "name": "ipython",
    "version": 3
   },
   "file_extension": ".py",
   "mimetype": "text/x-python",
   "name": "python",
   "nbconvert_exporter": "python",
   "pygments_lexer": "ipython3",
   "version": "3.7.6"
  }
 },
 "nbformat": 4,
 "nbformat_minor": 2
}
