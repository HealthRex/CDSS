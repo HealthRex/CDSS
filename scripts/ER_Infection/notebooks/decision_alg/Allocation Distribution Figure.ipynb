{
 "cells": [
  {
   "cell_type": "markdown",
   "metadata": {},
   "source": [
    "### Allocation Distribution Figure"
   ]
  },
  {
   "cell_type": "code",
   "execution_count": null,
   "metadata": {},
   "outputs": [],
   "source": [
    "import pandas as pd\n",
    "import matplotlib.pyplot as plt\n",
    "import matplotlib.gridspec as gridspec\n",
    "import seaborn as sns\n",
    "from tqdm import tqdm\n",
    "sns.set(style='white', font_scale=2.0)\n",
    "import numpy as np\n",
    "from pulp import *\n",
    "import os, glob\n",
    "import pdb\n",
    "from tqdm import tqdm\n",
    "\n",
    "from integer_programming import get_clinician_prescribing_patterns\n",
    "from DecisionAnalysis import AbxDecisionMaker, load_predictions, plot_distribution_of_allocated_abx"
   ]
  },
  {
   "cell_type": "code",
   "execution_count": null,
   "metadata": {},
   "outputs": [],
   "source": [
    "plot_distribution_of_allocated_abx()"
   ]
  },
  {
   "cell_type": "code",
   "execution_count": null,
   "metadata": {},
   "outputs": [],
   "source": []
  }
 ],
 "metadata": {
  "kernelspec": {
   "display_name": "Python 3",
   "language": "python",
   "name": "python3"
  },
  "language_info": {
   "codemirror_mode": {
    "name": "ipython",
    "version": 3
   },
   "file_extension": ".py",
   "mimetype": "text/x-python",
   "name": "python",
   "nbconvert_exporter": "python",
   "pygments_lexer": "ipython3",
   "version": "3.7.6"
  }
 },
 "nbformat": 4,
 "nbformat_minor": 4
}
