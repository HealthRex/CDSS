{
 "cells": [
  {
   "cell_type": "code",
   "execution_count": null,
   "metadata": {},
   "outputs": [],
   "source": [
    "import pandas as pd\n",
    "from tableone import TableOne\n",
    "import matplotlib.pyplot as plt\n",
    "import numpy as np\n",
    "import os \n",
    "\n",
    "os.environ['GOOGLE_APPLICATION_CREDENTIALS'] = '/Users/conorcorbin/.config/gcloud/application_default_credentials.json' \n",
    "os.environ['GCLOUD_PROJECT'] = 'som-nero-phi-jonc101' \n",
    "%load_ext google.cloud.bigquery\n",
    "\n",
    "from google.cloud import bigquery\n",
    "client=bigquery.Client()"
   ]
  },
  {
   "cell_type": "code",
   "execution_count": null,
   "metadata": {},
   "outputs": [],
   "source": [
    "with open('table1.sql', 'r') as f:\n",
    "    query = f.read()\n",
    "query_job = client.query(query)\n",
    "df=query_job.to_dataframe()"
   ]
  },
  {
   "cell_type": "code",
   "execution_count": null,
   "metadata": {},
   "outputs": [],
   "source": [
    "# df = pd.read_csv('demographics.csv')\n",
    "# df.groupby('culture_growth').count()\n",
    "df.sort_values('ANON_ID').tail(50)"
   ]
  },
  {
   "cell_type": "code",
   "execution_count": null,
   "metadata": {},
   "outputs": [],
   "source": [
    "df.groupby('department_name').count()"
   ]
  },
  {
   "cell_type": "code",
   "execution_count": null,
   "metadata": {},
   "outputs": [],
   "source": [
    "# Read in demographics table\n",
    "\n",
    "#culture_growth=lambda x: ['Positive Cultures' if a == 1 else \"Negative Cultures\"\n",
    "                                        #for a in x.culture_growth],\n",
    "df = (df\n",
    "      .assign(department_name=lambda x: ['Stanford ED' if 'VCP' not in a else \"Valley Care ED\"\n",
    "                                         for a in x.department_name])\n",
    "      .assign(split=lambda x: ['Train + Validation (2009-2018)' if year >= 2009 and year < 2019\n",
    "                               else \"Test (2019)\" for year in x.year])\n",
    "      .rename(columns={\n",
    "        'department_name' : 'Emergency Department',\n",
    "        \"age\" : \"Age\",\n",
    "        \"GENDER\" : \"Sex\",\n",
    "        \"CANONICAL_RACE\" : \"Race\",\n",
    "        \"CANONICAL_ETHNICITY\" : \"Ethnicity\",\n",
    "        \"LANGUAGE\" : \"Language\",\n",
    "        \"INSURANCE_PAYOR_NAME\" : \"Insurance Payer\",\n",
    "        \"split\" : \"Dataset\",\n",
    "                      })\n",
    ")\n",
    "# Group by patient identifier to get average age \n",
    "df.head()"
   ]
  },
  {
   "cell_type": "code",
   "execution_count": null,
   "metadata": {},
   "outputs": [],
   "source": [
    "columns = [\"Emergency Department\", 'Age', 'Sex', 'Race', 'Ethnicity', \"Language\", \"Insurance Payer\"]\n",
    "categorical = ['Emergency Department', 'Sex', 'Race', 'Ethnicity', \"Language\", \"Insurance Payer\"]\n",
    "df = df.sort_values('Dataset', ascending=False)\n",
    "df.head()\n",
    "mytable = TableOne(df,\n",
    "                   columns=columns,\n",
    "                   categorical=categorical,\n",
    "                   groupby='Dataset',\n",
    "                   missing=False,\n",
    "                   overall=False)\n"
   ]
  },
  {
   "cell_type": "code",
   "execution_count": null,
   "metadata": {},
   "outputs": [],
   "source": [
    "print(mytable.tabulate(tablefmt=\"github\"))"
   ]
  },
  {
   "cell_type": "code",
   "execution_count": null,
   "metadata": {},
   "outputs": [],
   "source": [
    "\n",
    "mytable.to_html('table1_by_dataset.html')"
   ]
  },
  {
   "cell_type": "code",
   "execution_count": null,
   "metadata": {},
   "outputs": [],
   "source": [
    "mytable.head()"
   ]
  },
  {
   "cell_type": "code",
   "execution_count": null,
   "metadata": {},
   "outputs": [],
   "source": [
    "mytable.to_latex()"
   ]
  },
  {
   "cell_type": "code",
   "execution_count": null,
   "metadata": {},
   "outputs": [],
   "source": [
    "mytable.to_csv('table1_by_dataset.csv')"
   ]
  },
  {
   "cell_type": "code",
   "execution_count": null,
   "metadata": {},
   "outputs": [],
   "source": [
    "df_table = pd.read_csv('table_')"
   ]
  },
  {
   "cell_type": "code",
   "execution_count": null,
   "metadata": {},
   "outputs": [],
   "source": []
  }
 ],
 "metadata": {
  "kernelspec": {
   "display_name": "Python 3",
   "language": "python",
   "name": "python3"
  },
  "language_info": {
   "codemirror_mode": {
    "name": "ipython",
    "version": 3
   },
   "file_extension": ".py",
   "mimetype": "text/x-python",
   "name": "python",
   "nbconvert_exporter": "python",
   "pygments_lexer": "ipython3",
   "version": "3.7.6"
  }
 },
 "nbformat": 4,
 "nbformat_minor": 4
}
