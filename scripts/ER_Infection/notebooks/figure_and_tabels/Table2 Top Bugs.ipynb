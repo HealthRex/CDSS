{
 "cells": [
  {
   "cell_type": "code",
   "execution_count": null,
   "metadata": {},
   "outputs": [],
   "source": [
    "import pandas as pd\n",
    "import matplotlib.pyplot as plt\n",
    "import seaborn as sns\n",
    "import numpy as np\n",
    "import os \n",
    "from google.cloud import bigquery\n",
    "\n",
    "os.environ['GOOGLE_APPLICATION_CREDENTIALS'] = '/Users/conorcorbin/.config/gcloud/application_default_credentials.json' \n",
    "os.environ['GCLOUD_PROJECT'] = 'som-nero-phi-jonc101' \n",
    "client=bigquery.Client()"
   ]
  },
  {
   "cell_type": "code",
   "execution_count": null,
   "metadata": {},
   "outputs": [],
   "source": [
    "query=\"\"\"\n",
    "WITH cohort_bugs AS (\n",
    "ed), \n",
    "\n",
    "adt_dep as (\n",
    "    SELECT DISTINCT\n",
    "      adt.pat_enc_csn_id_coded, \n",
    "      FIRST_VALUE(dm.department_name) OVER \n",
    "      (PARTITION BY adt.pat_enc_csn_id_coded ORDER BY adt.effective_time_jittered_utc) department_name,\n",
    "    FROM \n",
    "      `shc_core.adt` adt\n",
    "    INNER JOIN\n",
    "      `som-nero-phi-jonc101.shc_core.dep_map` dm\n",
    "    USING\n",
    "      (department_id)\n",
    ")\n",
    "\n",
    "SELECT \n",
    "    c.*, a.department_name\n",
    "FROM\n",
    "    cohort_bugs c\n",
    "INNER JOIN\n",
    "    adt_dep a\n",
    "USING\n",
    "    (pat_enc_csn_id_coded)\n",
    "\n",
    "\"\"\"\n",
    "query_job = client.query(query)\n",
    "df = query_job.result().to_dataframe()\n",
    "df.head()"
   ]
  },
  {
   "cell_type": "code",
   "execution_count": null,
   "metadata": {},
   "outputs": [],
   "source": [
    "(df\n",
    "    .assign(description=lambda x: [\"Blood Culture\" if \"BLOOD\" in a else\n",
    "                                   \"Urine Culture\" if \"URINE\" in a else\n",
    "                                   \"Csf or Fluid Culture\" for a in x.description])\n",
    "    .groupby('description')\n",
    "    .agg(num_csns=('pat_enc_csn_id_coded', 'nunique'))\n",
    ")"
   ]
  },
  {
   "cell_type": "code",
   "execution_count": null,
   "metadata": {},
   "outputs": [],
   "source": [
    "### Filter out coag neg staph and rename MRSA to Staph Aureus\n",
    "df = (df\n",
    "    .assign(description=lambda x: [\"Blood Culture\" if \"BLOOD\" in a else\n",
    "                                   \"Urine Culture\" if \"URINE\" in a else\n",
    "                                   \"Csf or Fluid Culture\" for a in x.description])\n",
    "    .query(\"organism != 'COAG NEGATIVE STAPHYLOCOCCUS'\")\n",
    "    .assign(organism = lambda x: [a if a != 'STAPH AUREUS {MRSA}' else 'STAPHYLOCOCCUS AUREUS'\n",
    "                                 for a in x.organism])\n",
    "    .assign(organism = lambda x: [a if a != 'STREPTOCOCCUS AGALACTIAE {GROUP B}' else 'STREPTOCOCCUS AGALACTIAE (GROUP B)'\n",
    "                                 for a in x.organism])\n",
    "    .assign(organism = lambda x: [a.lower() for a in x.organism])\n",
    ")"
   ]
  },
  {
   "cell_type": "code",
   "execution_count": null,
   "metadata": {},
   "outputs": [],
   "source": [
    "### Get Top 5 bugs for each culture type by department where we count by number of encounters bug grew. \n",
    "df_stanford = pd.DataFrame()\n",
    "df_valley_care = pd.DataFrame()\n",
    "for culture_type in ['Blood Culture', 'Urine Culture', 'Csf or Fluid Culture']:\n",
    "    \n",
    "    df_stanford_temp = (df\n",
    "        .query('not department_name.str.contains(\"VCP\") and description==@culture_type', engine='python')\n",
    "        .groupby('organism')\n",
    "        .agg({'pat_enc_csn_id_coded' : 'nunique'})\n",
    "        .reset_index()\n",
    "        .rename(columns={'organism' : 'Organism', 'pat_enc_csn_id_coded' : \"Count\"})\n",
    "        .sort_values('Count', ascending=False)\n",
    "        .head(5)\n",
    "    )\n",
    "    df_stanford_temp['Culture Type'] = [culture_type for i in range(len(df_stanford_temp))]\n",
    "\n",
    "\n",
    "    df_valley_care_temp = (df\n",
    "        .query('department_name.str.contains(\"VCP\") and description==@culture_type', engine='python')\n",
    "        .groupby('organism')\n",
    "        .agg({'pat_enc_csn_id_coded' : 'nunique'})\n",
    "        .reset_index()\n",
    "        .rename(columns={'organism' : 'Organism', 'pat_enc_csn_id_coded' : \"Count\"})\n",
    "        .sort_values('Count', ascending=False)\n",
    "        .head(5)\n",
    "    )\n",
    "    df_valley_care_temp['Culture Type'] = [culture_type for i in range(len(df_valley_care_temp))]\n",
    "\n",
    "    \n",
    "    df_stanford = pd.concat([df_stanford, df_stanford_temp])\n",
    "    df_valley_care = pd.concat([df_valley_care, df_valley_care_temp])"
   ]
  },
  {
   "cell_type": "code",
   "execution_count": null,
   "metadata": {},
   "outputs": [],
   "source": [
    "df_stanford"
   ]
  },
  {
   "cell_type": "code",
   "execution_count": null,
   "metadata": {},
   "outputs": [],
   "source": [
    "df_valley_care"
   ]
  },
  {
   "cell_type": "code",
   "execution_count": null,
   "metadata": {},
   "outputs": [],
   "source": [
    "df_stanford['Institution'] = [\"Stanford ED\" for i in range(len(df_stanford))]\n",
    "df_valley_care['Institution'] = [\"Valley Care ED\" for i in range(len(df_valley_care))]\n",
    "df_final = pd.concat([df_stanford, df_valley_care])\n",
    "df_final.head()"
   ]
  },
  {
   "cell_type": "code",
   "execution_count": null,
   "metadata": {},
   "outputs": [],
   "source": [
    "df_final = df_final[['Institution', 'Culture Type', 'Organism', 'Count']]\n",
    "df_final['Organism'] = [a.capitalize() for a in df_final['Organism']]\n",
    "df_final.to_csv('Table 2: Organism by culture type long.csv')"
   ]
  },
  {
   "cell_type": "code",
   "execution_count": null,
   "metadata": {},
   "outputs": [],
   "source": [
    "culture_type = df_stanford['Culture Type'].values\n",
    "df_stanford = df_stanford.drop('Culture Type', axis=1)\n",
    "df_valley_care = df_valley_care.drop('Culture Type', axis=1)\n",
    "\n",
    "df_valley_care.columns = pd.MultiIndex.from_product([['Valley Care ED'], df_valley_care.columns])\n",
    "df_stanford.columns = pd.MultiIndex.from_product([['Stanford ED'], df_stanford.columns])\n",
    "\n",
    "df_bugs = pd.concat([df_valley_care.reset_index(drop=True), df_stanford.reset_index(drop=True)], axis=1)\n",
    "df_bugs['Culture Type'] = culture_type"
   ]
  },
  {
   "cell_type": "code",
   "execution_count": null,
   "metadata": {},
   "outputs": [],
   "source": [
    "df_bugs = df_bugs[['Culture Type', 'Stanford ED', 'Valley Care ED']]\n",
    "df_bugs"
   ]
  },
  {
   "cell_type": "code",
   "execution_count": null,
   "metadata": {},
   "outputs": [],
   "source": [
    "df_bugs.to_html('table2_top_bugs.html', index=None)"
   ]
  },
  {
   "cell_type": "code",
   "execution_count": null,
   "metadata": {},
   "outputs": [],
   "source": [
    "df_bugs.to_csv('table2_top_bugs_by_culture.csv', index=None)"
   ]
  },
  {
   "cell_type": "code",
   "execution_count": null,
   "metadata": {},
   "outputs": [],
   "source": [
    "df_bugs_test['test'] = ['test' for i in range(len(df_bugs_test))]"
   ]
  },
  {
   "cell_type": "code",
   "execution_count": null,
   "metadata": {},
   "outputs": [],
   "source": [
    "df_bugs_test.drop(\"Culture Type\", axis=1)"
   ]
  },
  {
   "cell_type": "code",
   "execution_count": null,
   "metadata": {},
   "outputs": [],
   "source": []
  }
 ],
 "metadata": {
  "kernelspec": {
   "display_name": "Python 3",
   "language": "python",
   "name": "python3"
  },
  "language_info": {
   "codemirror_mode": {
    "name": "ipython",
    "version": 3
   },
   "file_extension": ".py",
   "mimetype": "text/x-python",
   "name": "python",
   "nbconvert_exporter": "python",
   "pygments_lexer": "ipython3",
   "version": "3.7.6"
  }
 },
 "nbformat": 4,
 "nbformat_minor": 4
}
