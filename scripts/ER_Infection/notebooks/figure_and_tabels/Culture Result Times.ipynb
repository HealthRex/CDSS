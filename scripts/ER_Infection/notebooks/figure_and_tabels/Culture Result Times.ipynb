{
 "cells": [
  {
   "cell_type": "code",
   "execution_count": null,
   "metadata": {},
   "outputs": [],
   "source": [
    "import pandas as pd\n",
    "import matplotlib.pyplot as plt\n",
    "import numpy as np\n",
    "from pulp import *\n",
    "import os, glob\n",
    "\n",
    "os.environ['GOOGLE_APPLICATION_CREDENTIALS'] = '/Users/conorcorbin/.config/gcloud/application_default_credentials.json' \n",
    "os.environ['GCLOUD_PROJECT'] = 'mining-clinical-decisions' \n",
    "%load_ext google.cloud.bigquery\n",
    "\n",
    "from google.cloud import bigquery\n",
    "client=bigquery.Client()"
   ]
  },
  {
   "cell_type": "code",
   "execution_count": null,
   "metadata": {},
   "outputs": [],
   "source": [
    "query=\"\"\"\n",
    "SELECT DISTINCT\n",
    "    orders.order_proc_id_coded,\n",
    "    orders.description,\n",
    "    EXTRACT(YEAR FROM orders.order_time_jittered_utc) year,\n",
    "    TIMESTAMP_DIFF(cs.result_time_jittered_utc, orders.order_time_jittered_utc, HOUR) hours_to_abx_sensitivities\n",
    "FROM \n",
    "    mining-clinical-decisions.abx.culture_orders_within_24_hrs orders\n",
    "INNER JOIN\n",
    "    mining-clinical-decisions.shc_core.culture_sensitivity cs\n",
    "USING\n",
    "    (order_proc_id_coded)\n",
    "\"\"\"\n",
    "query_job = client.query(query)\n",
    "df = query_job.result().to_dataframe()\n",
    "df.head()"
   ]
  },
  {
   "cell_type": "code",
   "execution_count": null,
   "metadata": {},
   "outputs": [],
   "source": [
    "# cultures = ['URINE CULTURE', 'BLOOD CULTURE (AEROBIC & ANAEROBIC BOTTLE)', 'BLOOD CULTURE (2 AEROBIC BOTTLES)' ]\n",
    "train_years = ['2009', '2010', '2011', '2012', '2013', '2014', '2015', '2016', '2017', '2018']\n",
    "test_years = ['2019']\n",
    "df_time_to_results = (df\n",
    ".assign(description=lambda x: ['Blood Culture' if \"BLOOD\" in a\n",
    "                               else 'Urine Culture' if 'URINE' in a\n",
    "                               else 'Other Fluid Culture' for a in x.description])\n",
    ".assign(dataset=lambda x: ['Training Set' if str(year) in train_years else 'Test Set' for year in x.year])\n",
    ".groupby(['description', 'dataset'])\n",
    ".agg(mean_hours=('hours_to_abx_sensitivities', 'mean'),\n",
    "     median_hours=('hours_to_abx_sensitivities', 'median'),\n",
    "     std_hours=('hours_to_abx_sensitivities', 'std')\n",
    "    )\n",
    ".reset_index()\n",
    ".sort_values(['dataset', 'description'], ascending=True)\n",
    ")"
   ]
  },
  {
   "cell_type": "code",
   "execution_count": null,
   "metadata": {},
   "outputs": [],
   "source": [
    "df_time_to_results"
   ]
  },
  {
   "cell_type": "code",
   "execution_count": null,
   "metadata": {},
   "outputs": [],
   "source": [
    "df_time_to_results.to_csv('time_to_results.csv', index=None)"
   ]
  },
  {
   "cell_type": "code",
   "execution_count": null,
   "metadata": {},
   "outputs": [],
   "source": [
    "### Extract method info for each positive culture (kirby bauer or MIC)\n",
    "query=\"\"\"\n",
    "SELECT DISTINCT\n",
    "    orders.order_proc_id_coded,\n",
    "    orders.description,\n",
    "    antibiotic,\n",
    "    sensitivity_value,\n",
    "FROM \n",
    "    mining-clinical-decisions.abx.culture_orders_within_24_hrs orders\n",
    "INNER JOIN\n",
    "    mining-clinical-decisions.shc_core.culture_sensitivity cs\n",
    "USING\n",
    "    (order_proc_id_coded)\n",
    "WHERE\n",
    "    UPPER(antibiotic) LIKE \"%METHOD%\"\n",
    "\"\"\"\n",
    "query_job = client.query(query)\n",
    "df_method = query_job.result().to_dataframe()\n",
    "df_method.head()"
   ]
  },
  {
   "cell_type": "code",
   "execution_count": null,
   "metadata": {},
   "outputs": [],
   "source": [
    "(df_method\n",
    ".groupby('sensitivity_value')\n",
    ".agg(num_orders=('order_proc_id_coded', 'nunique'))\n",
    ".reset_index()\n",
    ")"
   ]
  },
  {
   "cell_type": "code",
   "execution_count": null,
   "metadata": {},
   "outputs": [],
   "source": [
    "### Prevalance in trainign set vs test set for each of the twelve classifiers\n",
    "query=\"\"\"\n",
    "SELECT\n",
    "    *, EXTRACT(YEAR FROM index_time) as year\n",
    "FROM \n",
    "    mining-clinical-decisions.abx.final_ast_labels\n",
    "\"\"\"\n",
    "query_job = client.query(query)\n",
    "df_labels = query_job.result().to_dataframe()\n",
    "df_labels.head()"
   ]
  },
  {
   "cell_type": "code",
   "execution_count": null,
   "metadata": {},
   "outputs": [],
   "source": [
    "abx_columns = ['Ampicillin',\n",
    "             'Ciprofloxacin',\n",
    "             'Cefazolin',\n",
    "             'Ceftriaxone',\n",
    "             'Cefepime',\n",
    "             'Zosyn',\n",
    "             'Vancomycin',\n",
    "             'Meropenem',\n",
    "             'Vancomycin_Ceftriaxone',\n",
    "             'Vancomycin_Cefepime',\n",
    "             'Vancomycin_Zosyn',\n",
    "             'Vancomycin_Meropenem']\n",
    "df_labels[abx_columns].mean()"
   ]
  },
  {
   "cell_type": "code",
   "execution_count": null,
   "metadata": {},
   "outputs": [],
   "source": []
  }
 ],
 "metadata": {
  "kernelspec": {
   "display_name": "Python 3",
   "language": "python",
   "name": "python3"
  },
  "language_info": {
   "codemirror_mode": {
    "name": "ipython",
    "version": 3
   },
   "file_extension": ".py",
   "mimetype": "text/x-python",
   "name": "python",
   "nbconvert_exporter": "python",
   "pygments_lexer": "ipython3",
   "version": "3.7.6"
  }
 },
 "nbformat": 4,
 "nbformat_minor": 4
}
