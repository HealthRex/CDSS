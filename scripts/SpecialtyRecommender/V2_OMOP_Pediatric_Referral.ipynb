{
 "cells": [
  {
   "cell_type": "markdown",
   "metadata": {},
   "source": [
    "### V2 OMOP Pediatric Referral"
   ]
  },
  {
   "cell_type": "code",
   "execution_count": 2,
   "metadata": {},
   "outputs": [
    {
     "name": "stderr",
     "output_type": "stream",
     "text": [
      "/share/sw/open/anaconda/3/lib/python3.6/site-packages/google/auth/_default.py:66: UserWarning: Your application has authenticated using end user credentials from Google Cloud SDK. We recommend that most server applications use service accounts instead. If your application continues to use end user credentials from Cloud SDK, you might receive a \"quota exceeded\" or \"API not enabled\" error. For more information about service accounts, see https://cloud.google.com/docs/authentication/\n",
      "  warnings.warn(_CLOUD_SDK_CREDENTIALS_WARNING)\n"
     ]
    }
   ],
   "source": [
    "##Setting up Google sdk environment\n",
    "import os \n",
    "os.environ['GOOGLE_APPLICATION_CREDENTIALS'] = '/home/wui/.config/gcloud/application_default_credentials.json' \n",
    "os.environ['GCLOUD_PROJECT'] = 'som-nero-phi-jonc101' \n",
    "\n",
    "import pandas as pd\n",
    "import matplotlib.pyplot as plt\n",
    "%matplotlib inline\n",
    "\n",
    "##Setting up BQ API\n",
    "from google.cloud import bigquery\n",
    "client = bigquery.Client()\n",
    "project_id = 'som-rit-phi-starr-prod'\n",
    "dataset_id = 'starr_omop_cdm5_deid_latest'"
   ]
  },
  {
   "cell_type": "code",
   "execution_count": 6,
   "metadata": {},
   "outputs": [
    {
     "name": "stdout",
     "output_type": "stream",
     "text": [
      "Query results loaded to the table som-nero-phi-jonc101.wui_omop_peds.V2_Outpt_Visit_2015_2019\n"
     ]
    }
   ],
   "source": [
    "# generate a table of all outpatient visits with pediatric patients (less than 18 years of age)\n",
    "# visit_concept_id 9202 = outpatient visit \n",
    "\n",
    "sql = \"\"\"\n",
    "SELECT \n",
    "    v.person_id,\n",
    "    v.visit_occurrence_id,\n",
    "    p.birth_DATETIME,\n",
    "    v.visit_start_DATETIME,\n",
    "    v.provider_id,\n",
    "    v.care_site_id,\n",
    "    v.visit_source_value,\n",
    "    v.preceding_visit_occurrence_id\n",
    "FROM \n",
    "    `{project_id}.{dataset_id}.visit_occurrence` v\n",
    "LEFT JOIN\n",
    "    `{project_id}.{dataset_id}.person` p ON v.person_id = p.person_id\n",
    "WHERE \n",
    "    visit_concept_id IN (0,9202) AND \n",
    "    (DATETIME_DIFF(v.visit_start_DATETIME, p.birth_DATETIME, DAY) BETWEEN 0 AND 6575) AND\n",
    "    DATETIME_DIFF(v.visit_end_DATETIME, v.visit_start_DATETIME, DAY) = 0 AND\n",
    "    EXTRACT(YEAR FROM v.visit_start_DATETIME) >= 2015 AND\n",
    "    EXTRACT(YEAR FROM v.visit_start_DATETIME) < 2020\n",
    "\"\"\".format_map({'project_id': project_id,'dataset_id': dataset_id})\n",
    "table_id = \"som-nero-phi-jonc101.wui_omop_peds.V2_Outpt_Visit_2015_2019\"\n",
    "job_config = bigquery.QueryJobConfig(destination=table_id)\n",
    "client.delete_table(table_id, not_found_ok = True)\n",
    "query_job = client.query(sql, job_config=job_config)  \n",
    "query_job.result() \n",
    "print(\"Query results loaded to the table {}\".format(table_id))\n"
   ]
  },
  {
   "cell_type": "code",
   "execution_count": 8,
   "metadata": {},
   "outputs": [
    {
     "name": "stdout",
     "output_type": "stream",
     "text": [
      "Query results loaded to the table som-nero-phi-jonc101.wui_omop_peds.V2_Endo_Referral_2015_2019\n"
     ]
    }
   ],
   "source": [
    "# how many outpatient pediatric clinic visits have a referral order to endocrine in 2015-2019\n",
    "sql = \"\"\"\n",
    "SELECT\n",
    "    v.person_id,\n",
    "    v.visit_occurrence_id,\n",
    "    pr.procedure_DATETIME as referral_DATETIME,\n",
    "    pr.procedure_source_value AS referral\n",
    "FROM \n",
    "    `{project_id}.{dataset_id}.procedure_occurrence` pr\n",
    "INNER JOIN\n",
    "    `som-nero-phi-jonc101.wui_omop_peds.V2_Outpt_Visit_2015_2019` v \n",
    "ON \n",
    "    pr.person_id = v.person_id AND pr.visit_occurrence_id = v.visit_occurrence_id\n",
    "WHERE \n",
    "    REGEXP_CONTAINS(procedure_source_value, r'(?i)referral') AND\n",
    "    REGEXP_CONTAINS(procedure_source_value, r'(?i)endo')\n",
    "\"\"\".format_map({'project_id': project_id,'dataset_id': dataset_id})\n",
    "table_id = \"som-nero-phi-jonc101.wui_omop_peds.V2_Endo_Referral_2015_2019\"\n",
    "job_config = bigquery.QueryJobConfig(destination=table_id)\n",
    "client.delete_table(table_id, not_found_ok = True)\n",
    "query_job = client.query(sql, job_config=job_config)  \n",
    "query_job.result() \n",
    "print(\"Query results loaded to the table {}\".format(table_id))\n",
    "\n"
   ]
  },
  {
   "cell_type": "code",
   "execution_count": 9,
   "metadata": {},
   "outputs": [
    {
     "name": "stdout",
     "output_type": "stream",
     "text": [
      "Query results loaded to the table som-nero-phi-jonc101.wui_omop_peds.V2_Endo_Visit_2015_2019\n"
     ]
    }
   ],
   "source": [
    "# All Endocrine visits 2015 - 2019\n",
    "# specialty_dep_c: 81 - Diabetes, 7 - Endocrinology, 106 - Pediatric Endocrinology \n",
    "sql = \"\"\"\n",
    "SELECT \n",
    "    v.person_id,\n",
    "    v.visit_occurrence_id,\n",
    "    v.visit_start_DATETIME,\n",
    "    c.care_site_id,\n",
    "    c.care_site_name,\n",
    "    'Endocrine' AS specialty\n",
    "FROM \n",
    "    `som-nero-phi-jonc101.wui_omop_peds.V2_Outpt_Visit_2015_2019` v\n",
    "LEFT JOIN\n",
    "    `{project_id}.{dataset_id}.care_site` c ON v.care_site_id = c.care_site_id\n",
    "LEFT JOIN \n",
    "    `som-nero-phi-jonc101.starr_datalake2018.dep_map` m ON CAST(c.care_site_source_value AS NUMERIC) = m.department_id\n",
    "WHERE \n",
    "    m.specialty_dep_c in ('7','81','106')\n",
    "\"\"\".format_map({'project_id': project_id,'dataset_id': dataset_id})\n",
    "\n",
    "table_id = \"som-nero-phi-jonc101.wui_omop_peds.V2_Endo_Visit_2015_2019\"\n",
    "job_config = bigquery.QueryJobConfig(destination=table_id)\n",
    "client.delete_table(table_id, not_found_ok = True)\n",
    "query_job = client.query(sql, job_config=job_config)  \n",
    "query_job.result() \n",
    "print(\"Query results loaded to the table {}\".format(table_id))"
   ]
  },
  {
   "cell_type": "code",
   "execution_count": 10,
   "metadata": {},
   "outputs": [
    {
     "name": "stdout",
     "output_type": "stream",
     "text": [
      "Query results loaded to the table som-nero-phi-jonc101.wui_omop_peds.V2_PrimaryCare_Visit_2015_2019\n"
     ]
    }
   ],
   "source": [
    "# All Primary Care visits 2015 - 2019\n",
    "# 72 adolescent medicine\n",
    "# 32 Pediatrics \n",
    "sql = \"\"\"\n",
    "SELECT \n",
    "    v.person_id,\n",
    "    v.visit_occurrence_id,\n",
    "    v.visit_start_DATETIME,\n",
    "    c.care_site_id,\n",
    "    c.care_site_name,\n",
    "    'Primary Care' AS specialty\n",
    "FROM \n",
    "    `som-nero-phi-jonc101.wui_omop_peds.V2_Outpt_Visit_2015_2019` v\n",
    "LEFT JOIN\n",
    "    `{project_id}.{dataset_id}.care_site` c ON v.care_site_id = c.care_site_id\n",
    "LEFT JOIN \n",
    "    `som-nero-phi-jonc101.starr_datalake2018.dep_map` m ON CAST(c.care_site_source_value AS NUMERIC) = m.department_id\n",
    "WHERE \n",
    "    m.specialty_dep_c in ('32','72')\n",
    "\"\"\".format_map({'project_id': project_id,'dataset_id': dataset_id})\n",
    "\n",
    "table_id = \"som-nero-phi-jonc101.wui_omop_peds.V2_PrimaryCare_Visit_2015_2019\"\n",
    "job_config = bigquery.QueryJobConfig(destination=table_id)\n",
    "client.delete_table(table_id, not_found_ok = True)\n",
    "query_job = client.query(sql, job_config=job_config)  \n",
    "query_job.result() \n",
    "print(\"Query results loaded to the table {}\".format(table_id))"
   ]
  },
  {
   "cell_type": "code",
   "execution_count": 11,
   "metadata": {},
   "outputs": [
    {
     "name": "stdout",
     "output_type": "stream",
     "text": [
      "Query results loaded to the table som-nero-phi-jonc101.wui_omop_peds.V2_PrimaryCare_EndoRefer_2015_2019\n"
     ]
    }
   ],
   "source": [
    "# Joining primary care visits and endocrine visits via endocrine referral \n",
    "sql = \"\"\"\n",
    "SELECT \n",
    "   PrimaryCare.person_id,\n",
    "   PrimaryCare.visit_occurrence_id as PrimaryCare_visit_id,\n",
    "   PrimaryCare.care_site_name as PrimaryCare_care_site,\n",
    "   PrimaryCare.visit_start_DATETIME as PrimaryCare_DATETIME,\n",
    "FROM \n",
    "    `som-nero-phi-jonc101.wui_omop_peds.V2_PrimaryCare_Visit_2015_2019` PrimaryCare\n",
    "INNER JOIN \n",
    "    `som-nero-phi-jonc101.wui_omop_peds.V2_Endo_Referral_2015_2019` EndoRefer \n",
    "            ON \n",
    "                PrimaryCare.person_id = EndoRefer.person_id AND \n",
    "                PrimaryCare.visit_occurrence_id = EndoRefer.visit_occurrence_id    \n",
    "                            \n",
    "ORDER BY \n",
    "    PrimaryCare.person_id, PrimaryCare.visit_start_DATETIME\n",
    "\n",
    "\"\"\".format_map({'project_id': project_id,'dataset_id': dataset_id})\n",
    "\n",
    "\n",
    "table_id = \"som-nero-phi-jonc101.wui_omop_peds.V2_PrimaryCare_EndoRefer_2015_2019\"\n",
    "job_config = bigquery.QueryJobConfig(destination=table_id)\n",
    "client.delete_table(table_id, not_found_ok = True)\n",
    "query_job = client.query(sql, job_config=job_config)  \n",
    "query_job.result() \n",
    "print(\"Query results loaded to the table {}\".format(table_id))\n",
    "\n",
    "\n",
    "#    PrimaryCare_Note.note_title as PrimaryCare_notetitle,\n",
    "#    PrimaryCare_Note.note_type_concept_id,\n",
    "#    PrimaryCare_Note.note_class_concept_id,\n",
    "#    Endocrine_Note.note_title as Endo_notetitle\n",
    "\n",
    "# LEFT JOIN \n",
    "#     `{project_id}.{dataset_id}.note` PrimaryCare_Note \n",
    "#             ON \n",
    "#                 PrimaryCare.person_id = PrimaryCare_Note.person_id AND\n",
    "#                 PrimaryCare.visit_occurrence_id = PrimaryCare_Note.visit_occurrence_id\n",
    "# LEFT JOIN \n",
    "#     `{project_id}.{dataset_id}.note` Endocrine_Note\n",
    "#             ON \n",
    "#                 PrimaryCare.person_id = Endocrine_Note.person_id AND\n"
   ]
  },
  {
   "cell_type": "code",
   "execution_count": 12,
   "metadata": {},
   "outputs": [
    {
     "name": "stdout",
     "output_type": "stream",
     "text": [
      "Query results loaded to the table som-nero-phi-jonc101.wui_omop_peds.V2_EndoRefer_Endocrine_2015_2019\n"
     ]
    }
   ],
   "source": [
    "# Joining primary care visits with endocrine referral to actual Endocrine visit  \n",
    "sql = \"\"\"\n",
    "SELECT \n",
    "   EndoRefer.person_id,\n",
    "   EndoRefer.PrimaryCare_visit_id,\n",
    "   EndoRefer.PrimaryCare_care_site,\n",
    "   EndoRefer.PrimaryCare_DATETIME,\n",
    "   Endocrine.visit_occurrence_id as Endo_visit_id,\n",
    "   Endocrine.care_site_name as Endo_care_site,\n",
    "   Endocrine.visit_start_DATETIME as Endo_DATETIME,\n",
    "FROM \n",
    "    `som-nero-phi-jonc101.wui_omop_peds.V2_PrimaryCare_EndoRefer_2015_2019` EndoRefer\n",
    "INNER JOIN\n",
    "    `som-nero-phi-jonc101.wui_omop_peds.V2_Endo_Visit_2015_2019` Endocrine\n",
    "            ON \n",
    "                EndoRefer.person_id = Endocrine.person_id AND\n",
    "                DATETIME_DIFF(Endocrine.visit_start_DATETIME, EndoRefer.PrimaryCare_DATETIME, MONTH) BETWEEN 0 AND 11\n",
    "                            \n",
    "ORDER BY \n",
    "    EndoRefer.person_id, EndoRefer.PrimaryCare_DATETIME\n",
    "\n",
    "\"\"\".format_map({'project_id': project_id,'dataset_id': dataset_id})\n",
    "\n",
    "\n",
    "table_id = \"som-nero-phi-jonc101.wui_omop_peds.V2_EndoRefer_Endocrine_2015_2019\"\n",
    "job_config = bigquery.QueryJobConfig(destination=table_id)\n",
    "client.delete_table(table_id, not_found_ok = True)\n",
    "query_job = client.query(sql, job_config=job_config)  \n",
    "query_job.result() \n",
    "print(\"Query results loaded to the table {}\".format(table_id))\n",
    "\n"
   ]
  },
  {
   "cell_type": "code",
   "execution_count": 13,
   "metadata": {},
   "outputs": [
    {
     "name": "stdout",
     "output_type": "stream",
     "text": [
      "Query results loaded to the table som-nero-phi-jonc101.wui_omop_peds.V2_Office_PrimaryCare_Endocrine_2015_2019\n"
     ]
    }
   ],
   "source": [
    "# OMOP-CDM does not distinguish visit types (office visit, telephone encounters, etc)\n",
    "# Define Office Visit as a visit with a progress note (note_class_concept_id = 3000735)\n",
    "\n",
    "sql = \"\"\"\n",
    "WITH \n",
    "    Office_Visit AS \n",
    "        (SELECT visit_occurrence_id FROM `{project_id}.{dataset_id}.note` \n",
    "            WHERE note_class_concept_id = 3000735) \n",
    "SELECT \n",
    "    *,\n",
    "    ROW_NUMBER() OVER (PARTITION BY PrimaryCare_visit_id ORDER BY Endo_DATETIME) AS Endo_visit_rank\n",
    "FROM \n",
    "   `som-nero-phi-jonc101.wui_omop_peds.V2_PrimaryCare_Endocrine_2015_2019` \n",
    "WHERE \n",
    "    PrimaryCare_visit_id IN (SELECT * FROM Office_Visit) AND\n",
    "    Endo_visit_id IN (SELECT * FROM Office_Visit) \n",
    "ORDER BY \n",
    "    person_id, PrimaryCare_DATETIME\n",
    "\"\"\".format_map({'project_id': project_id,'dataset_id': dataset_id})\n",
    "table_id = \"som-nero-phi-jonc101.wui_omop_peds.V2_Office_PrimaryCare_Endocrine_2015_2019\"\n",
    "job_config = bigquery.QueryJobConfig(destination=table_id)\n",
    "client.delete_table(table_id, not_found_ok = True)\n",
    "query_job = client.query(sql, job_config=job_config)  \n",
    "query_job.result() \n",
    "print(\"Query results loaded to the table {}\".format(table_id))"
   ]
  },
  {
   "cell_type": "code",
   "execution_count": 14,
   "metadata": {},
   "outputs": [
    {
     "name": "stdout",
     "output_type": "stream",
     "text": [
      "Query results loaded to the table som-nero-phi-jonc101.wui_omop_peds.V2_PrimaryCare_Office_Endocrine_2015_2019\n"
     ]
    }
   ],
   "source": [
    "# OMOP-CDM does not distinguish visit types (office visit, telephone encounters, etc)\n",
    "# Define Office Visit as a visit with a progress note (note_class_concept_id = 3000735)\n",
    "# Different from the above cell in that we are not restricting primary care visit with a progress note\n",
    "# it turns out there are a good number of endo referrals were made during a telephone encounter \n",
    "# lab results are back\n",
    "\n",
    "sql = \"\"\"\n",
    "WITH \n",
    "    Office_Visit AS \n",
    "        (SELECT visit_occurrence_id FROM `{project_id}.{dataset_id}.note` \n",
    "            WHERE note_class_concept_id = 3000735) \n",
    "SELECT \n",
    "    *,\n",
    "    ROW_NUMBER() OVER (PARTITION BY PrimaryCare_visit_id ORDER BY Endo_DATETIME) AS Endo_visit_rank\n",
    "FROM \n",
    "   `som-nero-phi-jonc101.wui_omop_peds.V2_PrimaryCare_Endocrine_2015_2019` \n",
    "WHERE \n",
    "    Endo_visit_id IN (SELECT * FROM Office_Visit) \n",
    "ORDER BY \n",
    "    person_id, PrimaryCare_DATETIME\n",
    "\"\"\".format_map({'project_id': project_id,'dataset_id': dataset_id})\n",
    "table_id = \"som-nero-phi-jonc101.wui_omop_peds.V2_PrimaryCare_Office_Endocrine_2015_2019\"\n",
    "job_config = bigquery.QueryJobConfig(destination=table_id)\n",
    "client.delete_table(table_id, not_found_ok = True)\n",
    "query_job = client.query(sql, job_config=job_config)  \n",
    "query_job.result() \n",
    "print(\"Query results loaded to the table {}\".format(table_id))"
   ]
  },
  {
   "cell_type": "code",
   "execution_count": null,
   "metadata": {},
   "outputs": [],
   "source": [
    "# query to check the difference between the above two cells \n",
    "\"\"\"\"\n",
    "WITH extraPrimaryCare AS(\n",
    "  SELECT *  FROM `som-nero-phi-jonc101.wui_omop_peds.V2_PrimaryCare_Office_Endocrine_2015_2019` \n",
    "    WHERE PrimaryCare_visit_id NOT IN \n",
    "    (SELECT PrimaryCare_visit_id FROM `som-nero-phi-jonc101.wui_omop_peds.V2_Office_PrimaryCare_Endocrine_2015_2019`)\n",
    "    AND Endo_visit_rank = 1)\n",
    "    \n",
    "SELECT person_id, visit_occurrence_id, note_DATETIME, note_title, note_text  FROM `som-rit-phi-starr-prod.starr_omop_cdm5_deid_latest.note` WHERE visit_occurrence_id IN\n",
    "     (SELECT PrimaryCare_visit_id FROM extraPrimaryCare) \n",
    "ORDER BY person_id, visit_occurrence_id, note_class_concept_id\"\"\"\"\n"
   ]
  },
  {
   "cell_type": "code",
   "execution_count": null,
   "metadata": {},
   "outputs": [],
   "source": [
    "# query to check the primary care visit with Endo Referral that has visit type concept id = 0\n",
    "\"\"\"WITH visitTypeNoMatch AS \n",
    "(\n",
    " SELECT * FROM\n",
    "  `som-rit-phi-starr-prod.starr_omop_cdm5_deid_latest.visit_occurrence` \n",
    "WHERE \n",
    "  visit_occurrence_id IN \n",
    "      (SELECT DISTINCT(PrimaryCare_visit_id) FROM `som-nero-phi-jonc101.wui_omop_peds.V2_PrimaryCare_EndoRefer_2015_2019`)\n",
    "    AND\n",
    "  visit_concept_id = 0\n",
    ")\n",
    "\n",
    "SELECT \n",
    "  visit_start_DATETIME, visit_type_concept_id, c1.concept_name, v.care_site_id, c.care_site_name   \n",
    "FROM \n",
    "  visitTypeNoMatch v\n",
    "LEFT JOIN \n",
    "  `som-rit-phi-starr-prod.starr_omop_cdm5_deid_latest.care_site` c ON v.care_site_id = c.care_site_id \n",
    "LEFT JOIN\n",
    "  `som-rit-phi-starr-prod.starr_omop_cdm5_deid_latest.concept` c1 ON v.visit_type_concept_id = c1.concept_id \"\"\""
   ]
  },
  {
   "cell_type": "code",
   "execution_count": null,
   "metadata": {},
   "outputs": [],
   "source": [
    "# another way to get endocrine visit using regular expression over care site name \n",
    "\n",
    "WITH outpatient AS\n",
    "     (SELECT DISTINCT(care_site_id) FROM `som-nero-phi-jonc101.wui_omop_peds.V2_Outpt_Visit_2015_2019`)\n",
    "\n",
    "SELECT * FROM `som-nero-phi-jonc101.wui_omop_peds.V2_Outpt_Visit_2015_2019` v\n",
    "WHERE v.care_site_id IN\n",
    "(\n",
    "SELECT o.care_site_id\n",
    "FROM outpatient o \n",
    "LEFT JOIN \n",
    "   `som-rit-phi-starr-prod.starr_omop_cdm5_deid_latest.care_site` c \n",
    "ON o.care_site_id = c.care_site_id\n",
    "WHERE REGEXP_CONTAINS(care_site_name, r'(?i)endo|diab') AND NOT REGEXP_CONTAINS(care_site_name, r'(?i)repro|endoscopy|oncology') )"
   ]
  }
 ],
 "metadata": {
  "kernelspec": {
   "display_name": "Python 3",
   "language": "python",
   "name": "python3"
  },
  "language_info": {
   "codemirror_mode": {
    "name": "ipython",
    "version": 3
   },
   "file_extension": ".py",
   "mimetype": "text/x-python",
   "name": "python",
   "nbconvert_exporter": "python",
   "pygments_lexer": "ipython3",
   "version": "3.8.0"
  }
 },
 "nbformat": 4,
 "nbformat_minor": 2
}
