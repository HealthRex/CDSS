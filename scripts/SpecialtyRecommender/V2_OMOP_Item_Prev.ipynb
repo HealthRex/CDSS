{
 "cells": [
  {
   "cell_type": "markdown",
   "metadata": {},
   "source": [
    "### V2 OMOP Peds Clinical Items Prevalence Outpatient "
   ]
  },
  {
   "cell_type": "code",
   "execution_count": null,
   "metadata": {},
   "outputs": [],
   "source": [
    "# get counts (number of patients, visits and instances) per each clinical items\n",
    "# in all outpatient pediatric visits 2015-2019\n",
    "\n",
    "table_list =  [('measurement','measurement_concept_id'),\n",
    "                 ('procedure_occurrence','procedure_concept_id'),\n",
    "                 ('drug_exposure','drug_concept_id'),\n",
    "                 ('condition_occurrence','condition_concept_id'),\n",
    "                 ('device_exposure','device_concept_id')]\n",
    "\n",
    "for t in table_list:\n",
    "    (table, concept) = t\n",
    "    \n",
    "    sql = \"\"\"\n",
    "            WITH itemAllOutpt AS (        \n",
    "                    SELECT \n",
    "                        x.person_id,\n",
    "                        x.visit_occurrence_id,\n",
    "                        x.{concept_id} as item_concept_id\n",
    "                    FROM \n",
    "                        `som-rit-phi-starr-prod.starr_omop_cdm5_deid_latest.{table}` x\n",
    "                    INNER JOIN \n",
    "                        `wui_omop_peds.V2_Outpt_Visit_2015_2019` c \n",
    "                        ON \n",
    "                            (x.person_id = c.person_id) AND\n",
    "                            (x.visit_occurrence_id = c.visit_occurrence_id)\n",
    "                  )\n",
    "\n",
    "            SELECT item_concept_id,\n",
    "                   COUNT(DISTINCT(person_id)) as num_pt, \n",
    "                   COUNT(DISTINCT(visit_occurrence_id)) as num_visit,\n",
    "                   COUNT(*) as instance\n",
    "            FROM itemAllOutpt \n",
    "            GROUP BY item_concept_id \n",
    "            ORDER BY num_pt DESC, num_visit DESC, instance DESC\n",
    "\n",
    "    \"\"\".format_map({'concept_id':concept, 'table': table })\n",
    "\n",
    "    table_id = \"som-nero-phi-jonc101.wui_omop_peds.V2_count_\" + table\n",
    "    job_config = bigquery.QueryJobConfig(destination=table_id)\n",
    "    client.delete_table(table_id, not_found_ok = True)\n",
    "    query_job = client.query(sql, job_config=job_config)  \n",
    "    query_job.result() \n",
    "    print(\"Query results loaded to the table {}\".format(table_id))"
   ]
  },
  {
   "cell_type": "code",
   "execution_count": null,
   "metadata": {
    "scrolled": true
   },
   "outputs": [],
   "source": [
    "from bigQueryUtil import BigQueryClient \n",
    "\n",
    "bq = BigQueryClient(project_id = 'som-nero-phi-jonc101', dataset_id = 'wui_omop_peds')\n",
    "\n",
    "# read the above table in a python dictionary format \n",
    "table_list =  ['measurement','procedure_occurrence','drug_exposure',\n",
    "                'condition_occurrence','device_exposure','nlp']\n",
    "df_list = []\n",
    "for t in table_list:\n",
    "    print('reading...{}'.format(t))\n",
    "    df = bq.readBQFile(tableName='V2_count_' + t)\n",
    "    df_list.append(df)"
   ]
  },
  {
   "cell_type": "code",
   "execution_count": null,
   "metadata": {},
   "outputs": [],
   "source": [
    "import pandas as pd\n",
    "combinedDF = pd.concat([df_list[0],df_list[1],df_list[2],df_list[3],df_list[4]])\n",
    "# excluding NLP    "
   ]
  },
  {
   "cell_type": "code",
   "execution_count": null,
   "metadata": {
    "scrolled": true
   },
   "outputs": [],
   "source": [
    "newDF = combinedDF[combinedDF['item_concept_id']!=0]"
   ]
  },
  {
   "cell_type": "code",
   "execution_count": null,
   "metadata": {},
   "outputs": [],
   "source": [
    "N = 445308 # total number of patients from V2_Outpt_Visit_2015_2019"
   ]
  },
  {
   "cell_type": "code",
   "execution_count": null,
   "metadata": {
    "scrolled": true
   },
   "outputs": [],
   "source": [
    "newDF[\"prevalence\"] = newDF[\"num_pt\"].apply(lambda x : x*100/N)"
   ]
  },
  {
   "cell_type": "code",
   "execution_count": null,
   "metadata": {},
   "outputs": [],
   "source": [
    "newDF = newDF[[\"item_concept_id\",\"prevalence\"]]"
   ]
  },
  {
   "cell_type": "code",
   "execution_count": null,
   "metadata": {},
   "outputs": [],
   "source": [
    "newDF.sort_values(by=\"prevalence\",ascending=False)\n",
    "x = newDF.set_index(\"item_concept_id\").to_dict()"
   ]
  },
  {
   "cell_type": "code",
   "execution_count": null,
   "metadata": {},
   "outputs": [],
   "source": [
    "prevalence_map = x['prevalence']\n"
   ]
  },
  {
   "cell_type": "code",
   "execution_count": null,
   "metadata": {},
   "outputs": [],
   "source": [
    "import json\n",
    "with open('item_prevalence_map.json', 'w') as fp:\n",
    "    json.dump(prevalence_map, fp)"
   ]
  }
 ],
 "metadata": {
  "kernelspec": {
   "display_name": "Python 3",
   "language": "python",
   "name": "python3"
  },
  "language_info": {
   "codemirror_mode": {
    "name": "ipython",
    "version": 3
   },
   "file_extension": ".py",
   "mimetype": "text/x-python",
   "name": "python",
   "nbconvert_exporter": "python",
   "pygments_lexer": "ipython3",
   "version": "3.8.0"
  }
 },
 "nbformat": 4,
 "nbformat_minor": 2
}
