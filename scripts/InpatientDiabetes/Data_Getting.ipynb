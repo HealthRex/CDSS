{
 "cells": [
  {
   "cell_type": "code",
   "execution_count": 9,
   "metadata": {},
   "outputs": [],
   "source": [
    "from google.cloud import bigquery;\n",
    "from google.cloud.bigquery import dbapi;\n",
    "import pandas as pd;"
   ]
  },
  {
   "cell_type": "code",
   "execution_count": 10,
   "metadata": {},
   "outputs": [
    {
     "name": "stderr",
     "output_type": "stream",
     "text": [
      "/anaconda3/lib/python3.6/site-packages/google/auth/_default.py:69: UserWarning: Your application has authenticated using end user credentials from Google Cloud SDK. We recommend that most server applications use service accounts instead. If your application continues to use end user credentials from Cloud SDK, you might receive a \"quota exceeded\" or \"API not enabled\" error. For more information about service accounts, see https://cloud.google.com/docs/authentication/\n",
      "  warnings.warn(_CLOUD_SDK_CREDENTIALS_WARNING)\n"
     ]
    }
   ],
   "source": [
    "client = bigquery.Client(\"mining-clinical-decisions\");"
   ]
  },
  {
   "cell_type": "code",
   "execution_count": 11,
   "metadata": {},
   "outputs": [],
   "source": [
    "conn = dbapi.connect(client);"
   ]
  },
  {
   "cell_type": "markdown",
   "metadata": {},
   "source": [
    "## Test Query to make sure things are working"
   ]
  },
  {
   "cell_type": "code",
   "execution_count": 12,
   "metadata": {},
   "outputs": [],
   "source": [
    "query = \"SELECT * FROM `mining-clinical-decisions.starr_datalake2018.adt` LIMIT 10\"; \n",
    "resultsDF = pd.read_sql_query(query, conn)"
   ]
  },
  {
   "cell_type": "code",
   "execution_count": 13,
   "metadata": {},
   "outputs": [
    {
     "data": {
      "text/html": [
       "<div>\n",
       "<style scoped>\n",
       "    .dataframe tbody tr th:only-of-type {\n",
       "        vertical-align: middle;\n",
       "    }\n",
       "\n",
       "    .dataframe tbody tr th {\n",
       "        vertical-align: top;\n",
       "    }\n",
       "\n",
       "    .dataframe thead th {\n",
       "        text-align: right;\n",
       "    }\n",
       "</style>\n",
       "<table border=\"1\" class=\"dataframe\">\n",
       "  <thead>\n",
       "    <tr style=\"text-align: right;\">\n",
       "      <th></th>\n",
       "      <th>jc_uid</th>\n",
       "      <th>pat_enc_csn_id_coded</th>\n",
       "      <th>event_id_coded</th>\n",
       "      <th>event_type_c</th>\n",
       "      <th>event_type</th>\n",
       "      <th>event_subtype_c</th>\n",
       "      <th>event_subtype</th>\n",
       "      <th>department_id</th>\n",
       "      <th>pat_class_c</th>\n",
       "      <th>pat_class</th>\n",
       "      <th>...</th>\n",
       "      <th>seq_num_in_enc</th>\n",
       "      <th>seq_num_in_bed_min</th>\n",
       "      <th>labor_status_c</th>\n",
       "      <th>first_ip_in_ip_yn</th>\n",
       "      <th>loa_reason_c</th>\n",
       "      <th>data_source</th>\n",
       "      <th>effective_time_jittered_utc</th>\n",
       "      <th>effective_time_jittered</th>\n",
       "      <th>event_time_jittered_utc</th>\n",
       "      <th>event_time_jittered</th>\n",
       "    </tr>\n",
       "  </thead>\n",
       "  <tbody>\n",
       "    <tr>\n",
       "      <th>0</th>\n",
       "      <td>JCe4b0f8</td>\n",
       "      <td>131248255400</td>\n",
       "      <td>26794006</td>\n",
       "      <td>8</td>\n",
       "      <td>Leave of Absence Out</td>\n",
       "      <td>1</td>\n",
       "      <td>Original</td>\n",
       "      <td>120301002</td>\n",
       "      <td>172</td>\n",
       "      <td>SNF</td>\n",
       "      <td>...</td>\n",
       "      <td>43</td>\n",
       "      <td>1</td>\n",
       "      <td>None</td>\n",
       "      <td>None</td>\n",
       "      <td>4.0</td>\n",
       "      <td>CLARITY_SHC</td>\n",
       "      <td>2018-05-08 16:54:00+00:00</td>\n",
       "      <td>2018-05-08 09:54:00</td>\n",
       "      <td>2018-05-08 16:55:00+00:00</td>\n",
       "      <td>2018-05-08 09:55:00</td>\n",
       "    </tr>\n",
       "    <tr>\n",
       "      <th>1</th>\n",
       "      <td>JCd33188</td>\n",
       "      <td>131251163697</td>\n",
       "      <td>27554470</td>\n",
       "      <td>9</td>\n",
       "      <td>Leave of Absence Return</td>\n",
       "      <td>1</td>\n",
       "      <td>Original</td>\n",
       "      <td>120301002</td>\n",
       "      <td>172</td>\n",
       "      <td>SNF</td>\n",
       "      <td>...</td>\n",
       "      <td>32</td>\n",
       "      <td>1</td>\n",
       "      <td>None</td>\n",
       "      <td>None</td>\n",
       "      <td>NaN</td>\n",
       "      <td>CLARITY_SHC</td>\n",
       "      <td>2018-05-12 22:15:00+00:00</td>\n",
       "      <td>2018-05-12 15:15:00</td>\n",
       "      <td>2018-05-12 22:39:00+00:00</td>\n",
       "      <td>2018-05-12 15:39:00</td>\n",
       "    </tr>\n",
       "    <tr>\n",
       "      <th>2</th>\n",
       "      <td>JCeadc76</td>\n",
       "      <td>131249233204</td>\n",
       "      <td>26700504</td>\n",
       "      <td>9</td>\n",
       "      <td>Leave of Absence Return</td>\n",
       "      <td>1</td>\n",
       "      <td>Original</td>\n",
       "      <td>120301002</td>\n",
       "      <td>172</td>\n",
       "      <td>SNF</td>\n",
       "      <td>...</td>\n",
       "      <td>10</td>\n",
       "      <td>1</td>\n",
       "      <td>None</td>\n",
       "      <td>None</td>\n",
       "      <td>NaN</td>\n",
       "      <td>CLARITY_SHC</td>\n",
       "      <td>2018-03-15 15:30:00+00:00</td>\n",
       "      <td>2018-03-15 08:30:00</td>\n",
       "      <td>2018-03-15 16:04:00+00:00</td>\n",
       "      <td>2018-03-15 09:04:00</td>\n",
       "    </tr>\n",
       "    <tr>\n",
       "      <th>3</th>\n",
       "      <td>JCe00dd9</td>\n",
       "      <td>131247873288</td>\n",
       "      <td>26274432</td>\n",
       "      <td>8</td>\n",
       "      <td>Leave of Absence Out</td>\n",
       "      <td>1</td>\n",
       "      <td>Original</td>\n",
       "      <td>120301002</td>\n",
       "      <td>172</td>\n",
       "      <td>SNF</td>\n",
       "      <td>...</td>\n",
       "      <td>29</td>\n",
       "      <td>1</td>\n",
       "      <td>None</td>\n",
       "      <td>None</td>\n",
       "      <td>4.0</td>\n",
       "      <td>CLARITY_SHC</td>\n",
       "      <td>2018-02-11 17:04:00+00:00</td>\n",
       "      <td>2018-02-11 09:04:00</td>\n",
       "      <td>2018-02-11 17:06:00+00:00</td>\n",
       "      <td>2018-02-11 09:06:00</td>\n",
       "    </tr>\n",
       "    <tr>\n",
       "      <th>4</th>\n",
       "      <td>JCe5d92e</td>\n",
       "      <td>131250281284</td>\n",
       "      <td>27000067</td>\n",
       "      <td>9</td>\n",
       "      <td>Leave of Absence Return</td>\n",
       "      <td>1</td>\n",
       "      <td>Original</td>\n",
       "      <td>120301002</td>\n",
       "      <td>172</td>\n",
       "      <td>SNF</td>\n",
       "      <td>...</td>\n",
       "      <td>4</td>\n",
       "      <td>1</td>\n",
       "      <td>None</td>\n",
       "      <td>None</td>\n",
       "      <td>NaN</td>\n",
       "      <td>CLARITY_SHC</td>\n",
       "      <td>2018-05-17 01:24:00+00:00</td>\n",
       "      <td>2018-05-16 18:24:00</td>\n",
       "      <td>2018-05-17 01:24:00+00:00</td>\n",
       "      <td>2018-05-16 18:24:00</td>\n",
       "    </tr>\n",
       "    <tr>\n",
       "      <th>5</th>\n",
       "      <td>JCeadc76</td>\n",
       "      <td>131249233204</td>\n",
       "      <td>26699522</td>\n",
       "      <td>8</td>\n",
       "      <td>Leave of Absence Out</td>\n",
       "      <td>1</td>\n",
       "      <td>Original</td>\n",
       "      <td>120301002</td>\n",
       "      <td>172</td>\n",
       "      <td>SNF</td>\n",
       "      <td>...</td>\n",
       "      <td>9</td>\n",
       "      <td>1</td>\n",
       "      <td>None</td>\n",
       "      <td>None</td>\n",
       "      <td>4.0</td>\n",
       "      <td>CLARITY_SHC</td>\n",
       "      <td>2018-03-15 14:18:00+00:00</td>\n",
       "      <td>2018-03-15 07:18:00</td>\n",
       "      <td>2018-03-15 14:18:00+00:00</td>\n",
       "      <td>2018-03-15 07:18:00</td>\n",
       "    </tr>\n",
       "    <tr>\n",
       "      <th>6</th>\n",
       "      <td>JCe0a8cc</td>\n",
       "      <td>131250719981</td>\n",
       "      <td>27264341</td>\n",
       "      <td>9</td>\n",
       "      <td>Leave of Absence Return</td>\n",
       "      <td>1</td>\n",
       "      <td>Original</td>\n",
       "      <td>120301002</td>\n",
       "      <td>172</td>\n",
       "      <td>SNF</td>\n",
       "      <td>...</td>\n",
       "      <td>15</td>\n",
       "      <td>1</td>\n",
       "      <td>None</td>\n",
       "      <td>None</td>\n",
       "      <td>NaN</td>\n",
       "      <td>CLARITY_SHC</td>\n",
       "      <td>2018-06-07 23:10:00+00:00</td>\n",
       "      <td>2018-06-07 16:10:00</td>\n",
       "      <td>2018-06-07 23:32:00+00:00</td>\n",
       "      <td>2018-06-07 16:32:00</td>\n",
       "    </tr>\n",
       "    <tr>\n",
       "      <th>7</th>\n",
       "      <td>JCceb968</td>\n",
       "      <td>131257678868</td>\n",
       "      <td>29156948</td>\n",
       "      <td>8</td>\n",
       "      <td>Leave of Absence Out</td>\n",
       "      <td>1</td>\n",
       "      <td>Original</td>\n",
       "      <td>120301002</td>\n",
       "      <td>172</td>\n",
       "      <td>SNF</td>\n",
       "      <td>...</td>\n",
       "      <td>14</td>\n",
       "      <td>1</td>\n",
       "      <td>None</td>\n",
       "      <td>None</td>\n",
       "      <td>4.0</td>\n",
       "      <td>CLARITY_SHC</td>\n",
       "      <td>2018-10-28 12:15:00+00:00</td>\n",
       "      <td>2018-10-28 05:15:00</td>\n",
       "      <td>2018-10-28 15:21:00+00:00</td>\n",
       "      <td>2018-10-28 08:21:00</td>\n",
       "    </tr>\n",
       "    <tr>\n",
       "      <th>8</th>\n",
       "      <td>JCd1e561</td>\n",
       "      <td>131256499078</td>\n",
       "      <td>28900775</td>\n",
       "      <td>9</td>\n",
       "      <td>Leave of Absence Return</td>\n",
       "      <td>1</td>\n",
       "      <td>Original</td>\n",
       "      <td>120301002</td>\n",
       "      <td>172</td>\n",
       "      <td>SNF</td>\n",
       "      <td>...</td>\n",
       "      <td>17</td>\n",
       "      <td>1</td>\n",
       "      <td>None</td>\n",
       "      <td>None</td>\n",
       "      <td>NaN</td>\n",
       "      <td>CLARITY_SHC</td>\n",
       "      <td>2018-10-15 10:00:00+00:00</td>\n",
       "      <td>2018-10-15 03:00:00</td>\n",
       "      <td>2018-10-15 10:05:00+00:00</td>\n",
       "      <td>2018-10-15 03:05:00</td>\n",
       "    </tr>\n",
       "    <tr>\n",
       "      <th>9</th>\n",
       "      <td>JCdd60ca</td>\n",
       "      <td>131249935974</td>\n",
       "      <td>27076627</td>\n",
       "      <td>9</td>\n",
       "      <td>Leave of Absence Return</td>\n",
       "      <td>1</td>\n",
       "      <td>Original</td>\n",
       "      <td>120301002</td>\n",
       "      <td>172</td>\n",
       "      <td>SNF</td>\n",
       "      <td>...</td>\n",
       "      <td>26</td>\n",
       "      <td>1</td>\n",
       "      <td>None</td>\n",
       "      <td>None</td>\n",
       "      <td>NaN</td>\n",
       "      <td>CLARITY_SHC</td>\n",
       "      <td>2018-05-23 21:14:00+00:00</td>\n",
       "      <td>2018-05-23 14:14:00</td>\n",
       "      <td>2018-05-23 21:14:00+00:00</td>\n",
       "      <td>2018-05-23 14:14:00</td>\n",
       "    </tr>\n",
       "  </tbody>\n",
       "</table>\n",
       "<p>10 rows × 49 columns</p>\n",
       "</div>"
      ],
      "text/plain": [
       "     jc_uid  pat_enc_csn_id_coded  event_id_coded  event_type_c  \\\n",
       "0  JCe4b0f8          131248255400        26794006             8   \n",
       "1  JCd33188          131251163697        27554470             9   \n",
       "2  JCeadc76          131249233204        26700504             9   \n",
       "3  JCe00dd9          131247873288        26274432             8   \n",
       "4  JCe5d92e          131250281284        27000067             9   \n",
       "5  JCeadc76          131249233204        26699522             8   \n",
       "6  JCe0a8cc          131250719981        27264341             9   \n",
       "7  JCceb968          131257678868        29156948             8   \n",
       "8  JCd1e561          131256499078        28900775             9   \n",
       "9  JCdd60ca          131249935974        27076627             9   \n",
       "\n",
       "                event_type  event_subtype_c event_subtype  department_id  \\\n",
       "0     Leave of Absence Out                1      Original      120301002   \n",
       "1  Leave of Absence Return                1      Original      120301002   \n",
       "2  Leave of Absence Return                1      Original      120301002   \n",
       "3     Leave of Absence Out                1      Original      120301002   \n",
       "4  Leave of Absence Return                1      Original      120301002   \n",
       "5     Leave of Absence Out                1      Original      120301002   \n",
       "6  Leave of Absence Return                1      Original      120301002   \n",
       "7     Leave of Absence Out                1      Original      120301002   \n",
       "8  Leave of Absence Return                1      Original      120301002   \n",
       "9  Leave of Absence Return                1      Original      120301002   \n",
       "\n",
       "  pat_class_c pat_class         ...         seq_num_in_enc seq_num_in_bed_min  \\\n",
       "0         172       SNF         ...                     43                  1   \n",
       "1         172       SNF         ...                     32                  1   \n",
       "2         172       SNF         ...                     10                  1   \n",
       "3         172       SNF         ...                     29                  1   \n",
       "4         172       SNF         ...                      4                  1   \n",
       "5         172       SNF         ...                      9                  1   \n",
       "6         172       SNF         ...                     15                  1   \n",
       "7         172       SNF         ...                     14                  1   \n",
       "8         172       SNF         ...                     17                  1   \n",
       "9         172       SNF         ...                     26                  1   \n",
       "\n",
       "  labor_status_c first_ip_in_ip_yn loa_reason_c  data_source  \\\n",
       "0           None              None          4.0  CLARITY_SHC   \n",
       "1           None              None          NaN  CLARITY_SHC   \n",
       "2           None              None          NaN  CLARITY_SHC   \n",
       "3           None              None          4.0  CLARITY_SHC   \n",
       "4           None              None          NaN  CLARITY_SHC   \n",
       "5           None              None          4.0  CLARITY_SHC   \n",
       "6           None              None          NaN  CLARITY_SHC   \n",
       "7           None              None          4.0  CLARITY_SHC   \n",
       "8           None              None          NaN  CLARITY_SHC   \n",
       "9           None              None          NaN  CLARITY_SHC   \n",
       "\n",
       "  effective_time_jittered_utc effective_time_jittered  \\\n",
       "0   2018-05-08 16:54:00+00:00     2018-05-08 09:54:00   \n",
       "1   2018-05-12 22:15:00+00:00     2018-05-12 15:15:00   \n",
       "2   2018-03-15 15:30:00+00:00     2018-03-15 08:30:00   \n",
       "3   2018-02-11 17:04:00+00:00     2018-02-11 09:04:00   \n",
       "4   2018-05-17 01:24:00+00:00     2018-05-16 18:24:00   \n",
       "5   2018-03-15 14:18:00+00:00     2018-03-15 07:18:00   \n",
       "6   2018-06-07 23:10:00+00:00     2018-06-07 16:10:00   \n",
       "7   2018-10-28 12:15:00+00:00     2018-10-28 05:15:00   \n",
       "8   2018-10-15 10:00:00+00:00     2018-10-15 03:00:00   \n",
       "9   2018-05-23 21:14:00+00:00     2018-05-23 14:14:00   \n",
       "\n",
       "    event_time_jittered_utc event_time_jittered  \n",
       "0 2018-05-08 16:55:00+00:00 2018-05-08 09:55:00  \n",
       "1 2018-05-12 22:39:00+00:00 2018-05-12 15:39:00  \n",
       "2 2018-03-15 16:04:00+00:00 2018-03-15 09:04:00  \n",
       "3 2018-02-11 17:06:00+00:00 2018-02-11 09:06:00  \n",
       "4 2018-05-17 01:24:00+00:00 2018-05-16 18:24:00  \n",
       "5 2018-03-15 14:18:00+00:00 2018-03-15 07:18:00  \n",
       "6 2018-06-07 23:32:00+00:00 2018-06-07 16:32:00  \n",
       "7 2018-10-28 15:21:00+00:00 2018-10-28 08:21:00  \n",
       "8 2018-10-15 10:05:00+00:00 2018-10-15 03:05:00  \n",
       "9 2018-05-23 21:14:00+00:00 2018-05-23 14:14:00  \n",
       "\n",
       "[10 rows x 49 columns]"
      ]
     },
     "execution_count": 13,
     "metadata": {},
     "output_type": "execute_result"
    }
   ],
   "source": [
    "resultsDF"
   ]
  },
  {
   "cell_type": "markdown",
   "metadata": {},
   "source": [
    "## TDD  by day, by patient"
   ]
  },
  {
   "cell_type": "markdown",
   "metadata": {},
   "source": [
    "-- TDD by day by patient. Insulin not pumps or U500 or rare. Patient without AKI during that encounter. "
   ]
  },
  {
   "cell_type": "code",
   "execution_count": 12,
   "metadata": {},
   "outputs": [],
   "source": [
    "query = open('Inpatient_info.sql', 'r')"
   ]
  },
  {
   "cell_type": "code",
   "execution_count": 13,
   "metadata": {},
   "outputs": [],
   "source": [
    "tdd_subqueries_data = pd.read_sql_query(query.read(), conn)"
   ]
  },
  {
   "cell_type": "code",
   "execution_count": 14,
   "metadata": {},
   "outputs": [
    {
     "data": {
      "text/html": [
       "<div>\n",
       "<style scoped>\n",
       "    .dataframe tbody tr th:only-of-type {\n",
       "        vertical-align: middle;\n",
       "    }\n",
       "\n",
       "    .dataframe tbody tr th {\n",
       "        vertical-align: top;\n",
       "    }\n",
       "\n",
       "    .dataframe thead th {\n",
       "        text-align: right;\n",
       "    }\n",
       "</style>\n",
       "<table border=\"1\" class=\"dataframe\">\n",
       "  <thead>\n",
       "    <tr style=\"text-align: right;\">\n",
       "      <th></th>\n",
       "      <th>jc_uid</th>\n",
       "      <th>pat_enc_csn_id_coded</th>\n",
       "      <th>units</th>\n",
       "      <th>mar_action</th>\n",
       "      <th>med_description</th>\n",
       "      <th>route</th>\n",
       "      <th>medication_id</th>\n",
       "      <th>taken_time_jittered</th>\n",
       "    </tr>\n",
       "  </thead>\n",
       "  <tbody>\n",
       "    <tr>\n",
       "      <th>0</th>\n",
       "      <td>JCcc0c77</td>\n",
       "      <td>131257485179</td>\n",
       "      <td>1</td>\n",
       "      <td>Given</td>\n",
       "      <td>INSULIN LISPRO 100 UNIT/ML SC MODERATE SCALE F...</td>\n",
       "      <td>Subcutaneous</td>\n",
       "      <td>541453</td>\n",
       "      <td>2018-09-19 11:44:00</td>\n",
       "    </tr>\n",
       "  </tbody>\n",
       "</table>\n",
       "</div>"
      ],
      "text/plain": [
       "     jc_uid  pat_enc_csn_id_coded units mar_action  \\\n",
       "0  JCcc0c77          131257485179     1      Given   \n",
       "\n",
       "                                     med_description         route  \\\n",
       "0  INSULIN LISPRO 100 UNIT/ML SC MODERATE SCALE F...  Subcutaneous   \n",
       "\n",
       "   medication_id taken_time_jittered  \n",
       "0         541453 2018-09-19 11:44:00  "
      ]
     },
     "execution_count": 14,
     "metadata": {},
     "output_type": "execute_result"
    }
   ],
   "source": [
    "tdd_subqueries_data.head(1)"
   ]
  },
  {
   "cell_type": "code",
   "execution_count": 15,
   "metadata": {},
   "outputs": [],
   "source": [
    "tdd_subqueries_data.to_csv(\"./Data/InsulinDosing.csv\")"
   ]
  },
  {
   "cell_type": "code",
   "execution_count": 16,
   "metadata": {},
   "outputs": [],
   "source": [
    "query.close()"
   ]
  },
  {
   "cell_type": "markdown",
   "metadata": {},
   "source": [
    "## TDD where BG was from 100-180"
   ]
  },
  {
   "cell_type": "markdown",
   "metadata": {},
   "source": [
    "-- TDD on days where BG was 100-180 and at least 3 glucose readings in range"
   ]
  },
  {
   "cell_type": "code",
   "execution_count": 14,
   "metadata": {},
   "outputs": [],
   "source": [
    "query = open('patient_date_numBG_minBG_maxBG_TDD.sql', 'r')"
   ]
  },
  {
   "cell_type": "code",
   "execution_count": 15,
   "metadata": {},
   "outputs": [],
   "source": [
    "tdd_subqueries_data = pd.read_sql_query(query.read(), conn)"
   ]
  },
  {
   "cell_type": "code",
   "execution_count": 16,
   "metadata": {},
   "outputs": [
    {
     "data": {
      "text/html": [
       "<div>\n",
       "<style scoped>\n",
       "    .dataframe tbody tr th:only-of-type {\n",
       "        vertical-align: middle;\n",
       "    }\n",
       "\n",
       "    .dataframe tbody tr th {\n",
       "        vertical-align: top;\n",
       "    }\n",
       "\n",
       "    .dataframe thead th {\n",
       "        text-align: right;\n",
       "    }\n",
       "</style>\n",
       "<table border=\"1\" class=\"dataframe\">\n",
       "  <thead>\n",
       "    <tr style=\"text-align: right;\">\n",
       "      <th></th>\n",
       "      <th>jc_uid</th>\n",
       "      <th>patientDate</th>\n",
       "      <th>pat_enc_csn_id_coded</th>\n",
       "      <th>numBG</th>\n",
       "      <th>minBG</th>\n",
       "      <th>maxBG</th>\n",
       "      <th>TDD</th>\n",
       "    </tr>\n",
       "  </thead>\n",
       "  <tbody>\n",
       "    <tr>\n",
       "      <th>0</th>\n",
       "      <td>JCd5154f</td>\n",
       "      <td>2013-05-22</td>\n",
       "      <td>131024269168</td>\n",
       "      <td>4</td>\n",
       "      <td>158.0</td>\n",
       "      <td>169.0</td>\n",
       "      <td>5.0</td>\n",
       "    </tr>\n",
       "  </tbody>\n",
       "</table>\n",
       "</div>"
      ],
      "text/plain": [
       "     jc_uid patientDate  pat_enc_csn_id_coded  numBG  minBG  maxBG  TDD\n",
       "0  JCd5154f  2013-05-22          131024269168      4  158.0  169.0  5.0"
      ]
     },
     "execution_count": 16,
     "metadata": {},
     "output_type": "execute_result"
    }
   ],
   "source": [
    "tdd_subqueries_data.head(1)"
   ]
  },
  {
   "cell_type": "code",
   "execution_count": 17,
   "metadata": {},
   "outputs": [],
   "source": [
    "tdd_subqueries_data.to_csv(\"./Data/patient_date_numBG_minBG_maxBG_TDD.csv\")"
   ]
  },
  {
   "cell_type": "code",
   "execution_count": 18,
   "metadata": {},
   "outputs": [],
   "source": [
    "query.close()"
   ]
  },
  {
   "cell_type": "markdown",
   "metadata": {},
   "source": [
    "## Age and Sex"
   ]
  },
  {
   "cell_type": "markdown",
   "metadata": {},
   "source": [
    "DOB and Sex Query"
   ]
  },
  {
   "cell_type": "code",
   "execution_count": 25,
   "metadata": {},
   "outputs": [],
   "source": [
    "query = open('age_and_sex.sql', 'r')"
   ]
  },
  {
   "cell_type": "code",
   "execution_count": 26,
   "metadata": {},
   "outputs": [],
   "source": [
    "tdd_subqueries_data = pd.read_sql_query(query.read(), conn)"
   ]
  },
  {
   "cell_type": "code",
   "execution_count": 27,
   "metadata": {},
   "outputs": [
    {
     "data": {
      "text/html": [
       "<div>\n",
       "<style scoped>\n",
       "    .dataframe tbody tr th:only-of-type {\n",
       "        vertical-align: middle;\n",
       "    }\n",
       "\n",
       "    .dataframe tbody tr th {\n",
       "        vertical-align: top;\n",
       "    }\n",
       "\n",
       "    .dataframe thead th {\n",
       "        text-align: right;\n",
       "    }\n",
       "</style>\n",
       "<table border=\"1\" class=\"dataframe\">\n",
       "  <thead>\n",
       "    <tr style=\"text-align: right;\">\n",
       "      <th></th>\n",
       "      <th>rit_uid</th>\n",
       "      <th>gender</th>\n",
       "      <th>dob</th>\n",
       "    </tr>\n",
       "  </thead>\n",
       "  <tbody>\n",
       "    <tr>\n",
       "      <th>0</th>\n",
       "      <td>JCcb6582</td>\n",
       "      <td>Female</td>\n",
       "      <td>1930-03-22</td>\n",
       "    </tr>\n",
       "  </tbody>\n",
       "</table>\n",
       "</div>"
      ],
      "text/plain": [
       "    rit_uid  gender         dob\n",
       "0  JCcb6582  Female  1930-03-22"
      ]
     },
     "execution_count": 27,
     "metadata": {},
     "output_type": "execute_result"
    }
   ],
   "source": [
    "tdd_subqueries_data.head(1)"
   ]
  },
  {
   "cell_type": "code",
   "execution_count": 28,
   "metadata": {},
   "outputs": [],
   "source": [
    "tdd_subqueries_data.to_csv(\"./Data/age_and_sex.csv\")"
   ]
  },
  {
   "cell_type": "code",
   "execution_count": 29,
   "metadata": {},
   "outputs": [],
   "source": [
    "query.close()"
   ]
  },
  {
   "cell_type": "code",
   "execution_count": null,
   "metadata": {},
   "outputs": [],
   "source": []
  },
  {
   "cell_type": "markdown",
   "metadata": {},
   "source": [
    "## A1C"
   ]
  },
  {
   "cell_type": "markdown",
   "metadata": {},
   "source": [
    "Query for a1c"
   ]
  },
  {
   "cell_type": "code",
   "execution_count": 43,
   "metadata": {},
   "outputs": [],
   "source": [
    "query = open('a1c.sql', 'r')"
   ]
  },
  {
   "cell_type": "code",
   "execution_count": 44,
   "metadata": {},
   "outputs": [],
   "source": [
    "tdd_subqueries_data = pd.read_sql_query(query.read(), conn)"
   ]
  },
  {
   "cell_type": "code",
   "execution_count": 45,
   "metadata": {},
   "outputs": [
    {
     "data": {
      "text/html": [
       "<div>\n",
       "<style scoped>\n",
       "    .dataframe tbody tr th:only-of-type {\n",
       "        vertical-align: middle;\n",
       "    }\n",
       "\n",
       "    .dataframe tbody tr th {\n",
       "        vertical-align: top;\n",
       "    }\n",
       "\n",
       "    .dataframe thead th {\n",
       "        text-align: right;\n",
       "    }\n",
       "</style>\n",
       "<table border=\"1\" class=\"dataframe\">\n",
       "  <thead>\n",
       "    <tr style=\"text-align: right;\">\n",
       "      <th></th>\n",
       "      <th>rit_uid</th>\n",
       "      <th>pat_enc_csn_id_coded</th>\n",
       "      <th>lab_name</th>\n",
       "      <th>taken_time_jittered</th>\n",
       "      <th>ord_value</th>\n",
       "      <th>reference_unit</th>\n",
       "      <th>result_in_range_yn</th>\n",
       "      <th>result</th>\n",
       "    </tr>\n",
       "  </thead>\n",
       "  <tbody>\n",
       "    <tr>\n",
       "      <th>0</th>\n",
       "      <td>JCcb657e</td>\n",
       "      <td>6648732</td>\n",
       "      <td>Hemoglobin A1c</td>\n",
       "      <td>2004-04-15 09:25:00</td>\n",
       "      <td>5.4</td>\n",
       "      <td>%</td>\n",
       "      <td>None</td>\n",
       "      <td>NaN</td>\n",
       "    </tr>\n",
       "    <tr>\n",
       "      <th>1</th>\n",
       "      <td>JCcb657e</td>\n",
       "      <td>6648732</td>\n",
       "      <td>Hemoglobin A1c</td>\n",
       "      <td>2005-09-20 10:11:00</td>\n",
       "      <td>5.3</td>\n",
       "      <td>%</td>\n",
       "      <td>None</td>\n",
       "      <td>NaN</td>\n",
       "    </tr>\n",
       "    <tr>\n",
       "      <th>2</th>\n",
       "      <td>JCcb657e</td>\n",
       "      <td>131008252292</td>\n",
       "      <td>Hemoglobin A1c</td>\n",
       "      <td>2010-01-11 10:13:00</td>\n",
       "      <td>5.6</td>\n",
       "      <td>%</td>\n",
       "      <td>None</td>\n",
       "      <td>NaN</td>\n",
       "    </tr>\n",
       "    <tr>\n",
       "      <th>3</th>\n",
       "      <td>JCcb65a9</td>\n",
       "      <td>4764750</td>\n",
       "      <td>Hemoglobin A1c</td>\n",
       "      <td>2004-07-15 05:10:00</td>\n",
       "      <td>7.0</td>\n",
       "      <td>%</td>\n",
       "      <td>None</td>\n",
       "      <td>NaN</td>\n",
       "    </tr>\n",
       "    <tr>\n",
       "      <th>4</th>\n",
       "      <td>JCcb65d7</td>\n",
       "      <td>14536711</td>\n",
       "      <td>Hemoglobin A1c</td>\n",
       "      <td>2000-08-26 12:40:00</td>\n",
       "      <td>6.9</td>\n",
       "      <td>%</td>\n",
       "      <td>None</td>\n",
       "      <td>NaN</td>\n",
       "    </tr>\n",
       "    <tr>\n",
       "      <th>5</th>\n",
       "      <td>JCcb65d7</td>\n",
       "      <td>14536711</td>\n",
       "      <td>Hemoglobin A1c</td>\n",
       "      <td>2001-07-21 14:05:00</td>\n",
       "      <td>7.4</td>\n",
       "      <td>%</td>\n",
       "      <td>None</td>\n",
       "      <td>NaN</td>\n",
       "    </tr>\n",
       "    <tr>\n",
       "      <th>6</th>\n",
       "      <td>JCcb65e1</td>\n",
       "      <td>6641909</td>\n",
       "      <td>Hemoglobin A1c</td>\n",
       "      <td>2000-07-03 16:00:00</td>\n",
       "      <td>5.7</td>\n",
       "      <td>%</td>\n",
       "      <td>Y</td>\n",
       "      <td>NaN</td>\n",
       "    </tr>\n",
       "    <tr>\n",
       "      <th>7</th>\n",
       "      <td>JCcb65e1</td>\n",
       "      <td>131239638605</td>\n",
       "      <td>Hemoglobin A1c</td>\n",
       "      <td>2017-11-07 23:27:00</td>\n",
       "      <td>6.2</td>\n",
       "      <td>%</td>\n",
       "      <td>None</td>\n",
       "      <td>NaN</td>\n",
       "    </tr>\n",
       "    <tr>\n",
       "      <th>8</th>\n",
       "      <td>JCcb65e4</td>\n",
       "      <td>131063755584</td>\n",
       "      <td>Hemoglobin A1c (Manual Entry) See EMR for details</td>\n",
       "      <td>NaT</td>\n",
       "      <td>5.7</td>\n",
       "      <td>% (See scan or EMR data for detail)</td>\n",
       "      <td>None</td>\n",
       "      <td>NaN</td>\n",
       "    </tr>\n",
       "    <tr>\n",
       "      <th>9</th>\n",
       "      <td>JCcb65ee</td>\n",
       "      <td>14489527</td>\n",
       "      <td>Hemoglobin A1c</td>\n",
       "      <td>2006-05-02 08:38:00</td>\n",
       "      <td>5.7</td>\n",
       "      <td>%</td>\n",
       "      <td>None</td>\n",
       "      <td>NaN</td>\n",
       "    </tr>\n",
       "  </tbody>\n",
       "</table>\n",
       "</div>"
      ],
      "text/plain": [
       "    rit_uid  pat_enc_csn_id_coded  \\\n",
       "0  JCcb657e               6648732   \n",
       "1  JCcb657e               6648732   \n",
       "2  JCcb657e          131008252292   \n",
       "3  JCcb65a9               4764750   \n",
       "4  JCcb65d7              14536711   \n",
       "5  JCcb65d7              14536711   \n",
       "6  JCcb65e1               6641909   \n",
       "7  JCcb65e1          131239638605   \n",
       "8  JCcb65e4          131063755584   \n",
       "9  JCcb65ee              14489527   \n",
       "\n",
       "                                            lab_name taken_time_jittered  \\\n",
       "0                                     Hemoglobin A1c 2004-04-15 09:25:00   \n",
       "1                                     Hemoglobin A1c 2005-09-20 10:11:00   \n",
       "2                                     Hemoglobin A1c 2010-01-11 10:13:00   \n",
       "3                                     Hemoglobin A1c 2004-07-15 05:10:00   \n",
       "4                                     Hemoglobin A1c 2000-08-26 12:40:00   \n",
       "5                                     Hemoglobin A1c 2001-07-21 14:05:00   \n",
       "6                                     Hemoglobin A1c 2000-07-03 16:00:00   \n",
       "7                                     Hemoglobin A1c 2017-11-07 23:27:00   \n",
       "8  Hemoglobin A1c (Manual Entry) See EMR for details                 NaT   \n",
       "9                                     Hemoglobin A1c 2006-05-02 08:38:00   \n",
       "\n",
       "  ord_value                       reference_unit result_in_range_yn  result  \n",
       "0       5.4                                    %               None     NaN  \n",
       "1       5.3                                    %               None     NaN  \n",
       "2       5.6                                    %               None     NaN  \n",
       "3       7.0                                    %               None     NaN  \n",
       "4       6.9                                    %               None     NaN  \n",
       "5       7.4                                    %               None     NaN  \n",
       "6       5.7                                    %                  Y     NaN  \n",
       "7       6.2                                    %               None     NaN  \n",
       "8       5.7  % (See scan or EMR data for detail)               None     NaN  \n",
       "9       5.7                                    %               None     NaN  "
      ]
     },
     "execution_count": 45,
     "metadata": {},
     "output_type": "execute_result"
    }
   ],
   "source": [
    "tdd_subqueries_data.head(10)"
   ]
  },
  {
   "cell_type": "code",
   "execution_count": 46,
   "metadata": {},
   "outputs": [],
   "source": [
    "tdd_subqueries_data.to_csv(\"./Data/a1c.csv\")"
   ]
  },
  {
   "cell_type": "code",
   "execution_count": 47,
   "metadata": {},
   "outputs": [],
   "source": [
    "query.close()"
   ]
  },
  {
   "cell_type": "code",
   "execution_count": null,
   "metadata": {},
   "outputs": [],
   "source": []
  },
  {
   "cell_type": "markdown",
   "metadata": {},
   "source": [
    "## Diet"
   ]
  },
  {
   "cell_type": "markdown",
   "metadata": {},
   "source": [
    "Query for Diet"
   ]
  },
  {
   "cell_type": "code",
   "execution_count": 24,
   "metadata": {},
   "outputs": [],
   "source": [
    "query = open('diet.sql', 'r')"
   ]
  },
  {
   "cell_type": "code",
   "execution_count": 25,
   "metadata": {},
   "outputs": [],
   "source": [
    "tdd_subqueries_data = pd.read_sql_query(query.read(), conn)"
   ]
  },
  {
   "cell_type": "code",
   "execution_count": 26,
   "metadata": {},
   "outputs": [
    {
     "data": {
      "text/html": [
       "<div>\n",
       "<style scoped>\n",
       "    .dataframe tbody tr th:only-of-type {\n",
       "        vertical-align: middle;\n",
       "    }\n",
       "\n",
       "    .dataframe tbody tr th {\n",
       "        vertical-align: top;\n",
       "    }\n",
       "\n",
       "    .dataframe thead th {\n",
       "        text-align: right;\n",
       "    }\n",
       "</style>\n",
       "<table border=\"1\" class=\"dataframe\">\n",
       "  <thead>\n",
       "    <tr style=\"text-align: right;\">\n",
       "      <th></th>\n",
       "      <th>jc_uid</th>\n",
       "      <th>order_proc_id_coded</th>\n",
       "      <th>pat_enc_csn_id_coded</th>\n",
       "      <th>proc_start_time_jittered</th>\n",
       "      <th>description</th>\n",
       "    </tr>\n",
       "  </thead>\n",
       "  <tbody>\n",
       "    <tr>\n",
       "      <th>0</th>\n",
       "      <td>JCcb6601</td>\n",
       "      <td>376862154</td>\n",
       "      <td>131011126327</td>\n",
       "      <td>2010-09-28 12:30:00</td>\n",
       "      <td>DIET NOURISHMENTS</td>\n",
       "    </tr>\n",
       "    <tr>\n",
       "      <th>1</th>\n",
       "      <td>JCcb6932</td>\n",
       "      <td>451275286</td>\n",
       "      <td>131045874945</td>\n",
       "      <td>2014-10-18 00:00:00</td>\n",
       "      <td>DIET NPO AFTER MIDNIGHT</td>\n",
       "    </tr>\n",
       "    <tr>\n",
       "      <th>2</th>\n",
       "      <td>JCcb6b7c</td>\n",
       "      <td>414240353</td>\n",
       "      <td>131021834984</td>\n",
       "      <td>2012-11-12 18:30:00</td>\n",
       "      <td>BMT DIET</td>\n",
       "    </tr>\n",
       "    <tr>\n",
       "      <th>3</th>\n",
       "      <td>JCcb6fa2</td>\n",
       "      <td>584585310</td>\n",
       "      <td>131258217311</td>\n",
       "      <td>2018-11-12 00:00:00</td>\n",
       "      <td>DIET NPO AFTER MIDNIGHT</td>\n",
       "    </tr>\n",
       "    <tr>\n",
       "      <th>4</th>\n",
       "      <td>JCcb7169</td>\n",
       "      <td>369520458</td>\n",
       "      <td>131008898162</td>\n",
       "      <td>2010-04-05 17:30:00</td>\n",
       "      <td>DIET NOURISHMENTS</td>\n",
       "    </tr>\n",
       "    <tr>\n",
       "      <th>5</th>\n",
       "      <td>JCcb74ce</td>\n",
       "      <td>363665884</td>\n",
       "      <td>131007907827</td>\n",
       "      <td>2010-01-09 17:30:00</td>\n",
       "      <td>DIET CARBOHYDRATE CONTROLLED</td>\n",
       "    </tr>\n",
       "    <tr>\n",
       "      <th>6</th>\n",
       "      <td>JCcb79c7</td>\n",
       "      <td>413123750</td>\n",
       "      <td>131020887135</td>\n",
       "      <td>2012-10-31 12:30:00</td>\n",
       "      <td>DIET NUTRITIONAL SUPPLEMENTS</td>\n",
       "    </tr>\n",
       "    <tr>\n",
       "      <th>7</th>\n",
       "      <td>JCcb7d8d</td>\n",
       "      <td>373369533</td>\n",
       "      <td>131010248235</td>\n",
       "      <td>2010-08-29 10:30:00</td>\n",
       "      <td>BMT DIET</td>\n",
       "    </tr>\n",
       "    <tr>\n",
       "      <th>8</th>\n",
       "      <td>JCcb7d8d</td>\n",
       "      <td>373417625</td>\n",
       "      <td>131010272940</td>\n",
       "      <td>2010-08-30 09:30:00</td>\n",
       "      <td>BMT DIET</td>\n",
       "    </tr>\n",
       "    <tr>\n",
       "      <th>9</th>\n",
       "      <td>JCcb7d8d</td>\n",
       "      <td>374116001</td>\n",
       "      <td>131010388819</td>\n",
       "      <td>2010-09-15 07:45:00</td>\n",
       "      <td>BMT DIET</td>\n",
       "    </tr>\n",
       "  </tbody>\n",
       "</table>\n",
       "</div>"
      ],
      "text/plain": [
       "     jc_uid  order_proc_id_coded  pat_enc_csn_id_coded  \\\n",
       "0  JCcb6601            376862154          131011126327   \n",
       "1  JCcb6932            451275286          131045874945   \n",
       "2  JCcb6b7c            414240353          131021834984   \n",
       "3  JCcb6fa2            584585310          131258217311   \n",
       "4  JCcb7169            369520458          131008898162   \n",
       "5  JCcb74ce            363665884          131007907827   \n",
       "6  JCcb79c7            413123750          131020887135   \n",
       "7  JCcb7d8d            373369533          131010248235   \n",
       "8  JCcb7d8d            373417625          131010272940   \n",
       "9  JCcb7d8d            374116001          131010388819   \n",
       "\n",
       "  proc_start_time_jittered                   description  \n",
       "0      2010-09-28 12:30:00             DIET NOURISHMENTS  \n",
       "1      2014-10-18 00:00:00       DIET NPO AFTER MIDNIGHT  \n",
       "2      2012-11-12 18:30:00                      BMT DIET  \n",
       "3      2018-11-12 00:00:00       DIET NPO AFTER MIDNIGHT  \n",
       "4      2010-04-05 17:30:00             DIET NOURISHMENTS  \n",
       "5      2010-01-09 17:30:00  DIET CARBOHYDRATE CONTROLLED  \n",
       "6      2012-10-31 12:30:00  DIET NUTRITIONAL SUPPLEMENTS  \n",
       "7      2010-08-29 10:30:00                      BMT DIET  \n",
       "8      2010-08-30 09:30:00                      BMT DIET  \n",
       "9      2010-09-15 07:45:00                      BMT DIET  "
      ]
     },
     "execution_count": 26,
     "metadata": {},
     "output_type": "execute_result"
    }
   ],
   "source": [
    "tdd_subqueries_data.head(10)"
   ]
  },
  {
   "cell_type": "code",
   "execution_count": 27,
   "metadata": {},
   "outputs": [],
   "source": [
    "tdd_subqueries_data.to_csv(\"./Data/diet.csv\")"
   ]
  },
  {
   "cell_type": "code",
   "execution_count": 28,
   "metadata": {},
   "outputs": [],
   "source": [
    "query.close()"
   ]
  },
  {
   "cell_type": "code",
   "execution_count": 29,
   "metadata": {},
   "outputs": [
    {
     "data": {
      "text/plain": [
       "BMT DIET                                                  2090\n",
       "DIET NPO AFTER MIDNIGHT                                    451\n",
       "DIET REGULAR                                               420\n",
       "DIET LOW MICROBIAL                                         366\n",
       "DIET NUTRITIONAL SUPPLEMENTS                               311\n",
       "DIET NOURISHMENTS                                          289\n",
       "DIET NPO                                                   160\n",
       "DIET CARBOHYDRATE CONTROLLED                                78\n",
       "DIET TUBE FEEDING AND MEAL TRAY                             69\n",
       "DIET CLEAR LIQUID                                           58\n",
       "DIET NPO AFTER MIDNIGHT FOR SURGERY                         41\n",
       "DIET REGULAR (SVC)                                          31\n",
       "DIET LOW SODIUM                                             26\n",
       "DIET GUEST TRAY                                             21\n",
       "DIET NPO (SVC)                                              15\n",
       "DIET CLEAR LIQUID (SVC)                                     13\n",
       "RD COMMUNICATION TO DIET OFFICE (SVC)                       11\n",
       "DIET LOW SODIUM LOW CHOLESTEROL LOW SAT FAT                  9\n",
       "DIET CARB CONTROL/LOW SODIUM/LOW SAT FAT                     9\n",
       "DIET POST SURGICAL - STEP ONE                                9\n",
       "DIET DYSPHAGIA TEST TRAY                                     8\n",
       "DIET TUBE FEEDING NO TRAY (SVC)                              8\n",
       "DIET COMBINATION                                             8\n",
       "DIET CARB CONTROL/LOW SODIUM/LOW CHOL/LOW SAT FAT            8\n",
       "DIET FULL LIQUID                                             8\n",
       "DIET POST GASTRIC SURGERY                                    8\n",
       "DIET SODIUM RESTRICTED                                       7\n",
       "DIET POST SURGICAL - STEP TWO                                7\n",
       "DIET NPO AFTER MIDNIGHT (SVC)                                7\n",
       "DIET RENAL                                                   7\n",
       "                                                          ... \n",
       "ADVANCE DIET AS TOLERATED (RN COMMUNICATION)                 6\n",
       "DIET CARBOHYDRATE CONTROLLED/LOW SODIUM/LOW FAT (SVC)        6\n",
       "DIET CARBOHYDRATE CONTROLLED (SVC)                           6\n",
       "DIET LOW SODIUM/LOW FAT (SVC)                                5\n",
       "DIET COMBINATION (SVC)                                       5\n",
       "DIET VEGETARIAN                                              5\n",
       "DIET GLUTEN FREE                                             4\n",
       "DIET LOW SODIUM LOW SATURATED FAT                            3\n",
       "COMBINATION DIET                                             3\n",
       "DIET RENAL (SVC)                                             3\n",
       "DIET LOW CHOLESTEROL LOW SATURATED FAT                       3\n",
       "DIET WELL BABY (SVC)                                         3\n",
       "DIET LOW POTASSIUM                                           2\n",
       "DIET CARBOHYDRATE CONTROLLED RENAL (SVC)                     2\n",
       "DIET CALORIE CONTROLLED                                      2\n",
       "PKU DIET MONITORING                                          1\n",
       "DIET LOW FAT                                                 1\n",
       "DIET FULL LIQUID (SVC)                                       1\n",
       "DIET LOW FIBER LOW RESIDUE                                   1\n",
       "DIET FAT RESTRICTED                                          1\n",
       "DISCHARGE DIET                                               1\n",
       "DIET GRAFT VERSUS HOST DISEASE, LOW MICROBIAL                1\n",
       "DIET TUBE FEEDING WITH TRAY (SVC)                            1\n",
       "DIET LACTOSE RESTRICTED                                      1\n",
       "DIET SWEET SUCCESS (SVC)                                     1\n",
       "BARIATRIC ADVANCE DIET AS TOLERATED (RN COMMUNICATION)       1\n",
       "DIET HIGH CALORIE HIGH PROTEIN                               1\n",
       "DIET LOW SODIUM (SVC)                                        1\n",
       "DIET LOW NA/SATFAT/CHOL 1600-1800CAL SM MEAL                 1\n",
       "DIET LOW FIBER                                               1\n",
       "Name: description, Length: 61, dtype: int64"
      ]
     },
     "execution_count": 29,
     "metadata": {},
     "output_type": "execute_result"
    }
   ],
   "source": [
    "tdd_subqueries_data[\"description\"].value_counts()"
   ]
  },
  {
   "cell_type": "code",
   "execution_count": 30,
   "metadata": {},
   "outputs": [
    {
     "name": "stdout",
     "output_type": "stream",
     "text": [
      "['DIET NOURISHMENTS' 'DIET NPO AFTER MIDNIGHT' 'BMT DIET'\n",
      " 'DIET CARBOHYDRATE CONTROLLED' 'DIET NUTRITIONAL SUPPLEMENTS'\n",
      " 'DIET TUBE FEEDING AND MEAL TRAY' 'DIET REGULAR'\n",
      " 'DIET POST SURGICAL - STEP TWO' 'DIET COMBINATION' 'DIET REGULAR (SVC)'\n",
      " 'DIET CARBOHYDRATE CONTROLLED/LOW SODIUM/LOW FAT (SVC)'\n",
      " 'DIET DYSPHAGIA TEST TRAY' 'DIET GUEST TRAY'\n",
      " 'DIET CARB CONTROL/LOW SODIUM/LOW CHOL/LOW SAT FAT' 'DIET NPO'\n",
      " 'DIET CLEAR LIQUID' 'DIET LOW MICROBIAL' 'DIET LOW FIBER LOW RESIDUE'\n",
      " 'DIET FULL LIQUID' 'DIET NPO AFTER MIDNIGHT FOR SURGERY'\n",
      " 'DIET LOW SODIUM/LOW FAT (SVC)' 'DIET RENAL' 'DIET SODIUM RESTRICTED'\n",
      " 'DIET LOW SODIUM LOW CHOLESTEROL LOW SAT FAT' 'DIET POST GASTRIC SURGERY'\n",
      " 'DIET LOW SODIUM' 'DIET VEGETARIAN' 'DIET TUBE FEEDING ONLY'\n",
      " 'DIET GLUTEN FREE' 'COMBINATION DIET' 'DIET TUBE FEEDING NO TRAY (SVC)'\n",
      " 'DIET POST SURGICAL - STEP ONE' 'DIET CLEAR LIQUID (SVC)'\n",
      " 'RD COMMUNICATION TO DIET OFFICE (SVC)' 'DIET NPO (SVC)'\n",
      " 'DIET NPO AFTER MIDNIGHT (SVC)'\n",
      " 'ADVANCE DIET AS TOLERATED (RN COMMUNICATION)' 'DIET RENAL (SVC)'\n",
      " 'DIET CARB CONTROL/LOW SODIUM/LOW SAT FAT' 'DIET SWEET SUCCESS (SVC)'\n",
      " 'DIET COMBINATION (SVC)'\n",
      " 'BARIATRIC ADVANCE DIET AS TOLERATED (RN COMMUNICATION)'\n",
      " 'DIET CARBOHYDRATE CONTROLLED RENAL (SVC)'\n",
      " 'DIET CARBOHYDRATE CONTROLLED (SVC)' 'DIET LOW POTASSIUM'\n",
      " 'DIET WELL BABY (SVC)' 'DISCHARGE DIET'\n",
      " 'DIET LOW SODIUM LOW SATURATED FAT' 'DIET HIGH CALORIE HIGH PROTEIN'\n",
      " 'DIET LOW CHOLESTEROL LOW SATURATED FAT' 'DIET CALORIE CONTROLLED'\n",
      " 'DIET TUBE FEEDING WITH TRAY (SVC)' 'DIET FULL LIQUID (SVC)'\n",
      " 'DIET LOW NA/SATFAT/CHOL 1600-1800CAL SM MEAL' 'DIET LOW FIBER'\n",
      " 'PKU DIET MONITORING' 'DIET LACTOSE RESTRICTED'\n",
      " 'DIET GRAFT VERSUS HOST DISEASE, LOW MICROBIAL' 'DIET FAT RESTRICTED'\n",
      " 'DIET LOW FAT' 'DIET LOW SODIUM (SVC)']\n"
     ]
    }
   ],
   "source": [
    "print(tdd_subqueries_data[\"description\"].unique())"
   ]
  },
  {
   "cell_type": "markdown",
   "metadata": {},
   "source": [
    "TUBE FEEDING AND MEAL TRAY; DIET TUBE FEEDING ONLY; "
   ]
  },
  {
   "cell_type": "markdown",
   "metadata": {},
   "source": [
    "## Common Labs"
   ]
  },
  {
   "cell_type": "markdown",
   "metadata": {},
   "source": [
    "Query for Common Labs"
   ]
  },
  {
   "cell_type": "code",
   "execution_count": 53,
   "metadata": {},
   "outputs": [],
   "source": [
    "query = open('commonLabs.sql', 'r')"
   ]
  },
  {
   "cell_type": "code",
   "execution_count": 54,
   "metadata": {},
   "outputs": [],
   "source": [
    "tdd_subqueries_data = pd.read_sql_query(query.read(), conn)"
   ]
  },
  {
   "cell_type": "code",
   "execution_count": 55,
   "metadata": {},
   "outputs": [
    {
     "data": {
      "text/html": [
       "<div>\n",
       "<style scoped>\n",
       "    .dataframe tbody tr th:only-of-type {\n",
       "        vertical-align: middle;\n",
       "    }\n",
       "\n",
       "    .dataframe tbody tr th {\n",
       "        vertical-align: top;\n",
       "    }\n",
       "\n",
       "    .dataframe thead th {\n",
       "        text-align: right;\n",
       "    }\n",
       "</style>\n",
       "<table border=\"1\" class=\"dataframe\">\n",
       "  <thead>\n",
       "    <tr style=\"text-align: right;\">\n",
       "      <th></th>\n",
       "      <th>lab_name</th>\n",
       "      <th>total</th>\n",
       "    </tr>\n",
       "  </thead>\n",
       "  <tbody>\n",
       "    <tr>\n",
       "      <th>0</th>\n",
       "      <td>Creatinine, Ser/Plas</td>\n",
       "      <td>224051</td>\n",
       "    </tr>\n",
       "    <tr>\n",
       "      <th>1</th>\n",
       "      <td>Potassium, Ser/Plas</td>\n",
       "      <td>222685</td>\n",
       "    </tr>\n",
       "    <tr>\n",
       "      <th>2</th>\n",
       "      <td>Sodium, Ser/Plas</td>\n",
       "      <td>222329</td>\n",
       "    </tr>\n",
       "    <tr>\n",
       "      <th>3</th>\n",
       "      <td>Chloride, Ser/Plas</td>\n",
       "      <td>221903</td>\n",
       "    </tr>\n",
       "    <tr>\n",
       "      <th>4</th>\n",
       "      <td>CO2, Ser/Plas</td>\n",
       "      <td>221201</td>\n",
       "    </tr>\n",
       "    <tr>\n",
       "      <th>5</th>\n",
       "      <td>Calcium, Ser/Plas</td>\n",
       "      <td>220861</td>\n",
       "    </tr>\n",
       "    <tr>\n",
       "      <th>6</th>\n",
       "      <td>Glucose, Ser/Plas</td>\n",
       "      <td>220252</td>\n",
       "    </tr>\n",
       "    <tr>\n",
       "      <th>7</th>\n",
       "      <td>Hematocrit</td>\n",
       "      <td>219534</td>\n",
       "    </tr>\n",
       "    <tr>\n",
       "      <th>8</th>\n",
       "      <td>WBC</td>\n",
       "      <td>217221</td>\n",
       "    </tr>\n",
       "    <tr>\n",
       "      <th>9</th>\n",
       "      <td>RBC</td>\n",
       "      <td>216993</td>\n",
       "    </tr>\n",
       "  </tbody>\n",
       "</table>\n",
       "</div>"
      ],
      "text/plain": [
       "               lab_name   total\n",
       "0  Creatinine, Ser/Plas  224051\n",
       "1   Potassium, Ser/Plas  222685\n",
       "2      Sodium, Ser/Plas  222329\n",
       "3    Chloride, Ser/Plas  221903\n",
       "4         CO2, Ser/Plas  221201\n",
       "5     Calcium, Ser/Plas  220861\n",
       "6     Glucose, Ser/Plas  220252\n",
       "7            Hematocrit  219534\n",
       "8                   WBC  217221\n",
       "9                   RBC  216993"
      ]
     },
     "execution_count": 55,
     "metadata": {},
     "output_type": "execute_result"
    }
   ],
   "source": [
    "tdd_subqueries_data.head(10)"
   ]
  },
  {
   "cell_type": "code",
   "execution_count": 56,
   "metadata": {},
   "outputs": [],
   "source": [
    "tdd_subqueries_data.to_csv(\"./Data/commonLabs.csv\")"
   ]
  },
  {
   "cell_type": "code",
   "execution_count": 57,
   "metadata": {},
   "outputs": [],
   "source": [
    "query.close()"
   ]
  },
  {
   "cell_type": "code",
   "execution_count": null,
   "metadata": {},
   "outputs": [],
   "source": []
  },
  {
   "cell_type": "markdown",
   "metadata": {},
   "source": [
    "## Creatinine"
   ]
  },
  {
   "cell_type": "markdown",
   "metadata": {},
   "source": [
    "Query for Creatinine"
   ]
  },
  {
   "cell_type": "code",
   "execution_count": 58,
   "metadata": {},
   "outputs": [],
   "source": [
    "query = open('creatinine.sql', 'r')"
   ]
  },
  {
   "cell_type": "code",
   "execution_count": 59,
   "metadata": {},
   "outputs": [],
   "source": [
    "tdd_subqueries_data = pd.read_sql_query(query.read(), conn)"
   ]
  },
  {
   "cell_type": "code",
   "execution_count": 60,
   "metadata": {},
   "outputs": [
    {
     "data": {
      "text/html": [
       "<div>\n",
       "<style scoped>\n",
       "    .dataframe tbody tr th:only-of-type {\n",
       "        vertical-align: middle;\n",
       "    }\n",
       "\n",
       "    .dataframe tbody tr th {\n",
       "        vertical-align: top;\n",
       "    }\n",
       "\n",
       "    .dataframe thead th {\n",
       "        text-align: right;\n",
       "    }\n",
       "</style>\n",
       "<table border=\"1\" class=\"dataframe\">\n",
       "  <thead>\n",
       "    <tr style=\"text-align: right;\">\n",
       "      <th></th>\n",
       "      <th>rit_uid</th>\n",
       "      <th>pat_enc_csn_id_coded</th>\n",
       "      <th>lab_name</th>\n",
       "      <th>taken_time_jittered</th>\n",
       "      <th>ord_num_value</th>\n",
       "      <th>reference_unit</th>\n",
       "      <th>result_in_range_yn</th>\n",
       "    </tr>\n",
       "  </thead>\n",
       "  <tbody>\n",
       "    <tr>\n",
       "      <th>0</th>\n",
       "      <td>JCcb657d</td>\n",
       "      <td>6684962</td>\n",
       "      <td>Creatinine, Ser/Plas</td>\n",
       "      <td>2001-07-08 10:08:00</td>\n",
       "      <td>0.80</td>\n",
       "      <td>mg/dL</td>\n",
       "      <td>Y</td>\n",
       "    </tr>\n",
       "    <tr>\n",
       "      <th>1</th>\n",
       "      <td>JCcb657d</td>\n",
       "      <td>6684962</td>\n",
       "      <td>Creatinine, Ser/Plas</td>\n",
       "      <td>2002-05-04 16:52:00</td>\n",
       "      <td>0.80</td>\n",
       "      <td>mg/dL</td>\n",
       "      <td>Y</td>\n",
       "    </tr>\n",
       "    <tr>\n",
       "      <th>2</th>\n",
       "      <td>JCcb657d</td>\n",
       "      <td>6684962</td>\n",
       "      <td>Creatinine, Ser/Plas</td>\n",
       "      <td>2002-06-10 11:24:00</td>\n",
       "      <td>0.80</td>\n",
       "      <td>mg/dL</td>\n",
       "      <td>Y</td>\n",
       "    </tr>\n",
       "    <tr>\n",
       "      <th>3</th>\n",
       "      <td>JCcb657d</td>\n",
       "      <td>6684962</td>\n",
       "      <td>Creatinine, Ser/Plas</td>\n",
       "      <td>2002-09-21 16:36:00</td>\n",
       "      <td>0.80</td>\n",
       "      <td>mg/dL</td>\n",
       "      <td>Y</td>\n",
       "    </tr>\n",
       "    <tr>\n",
       "      <th>4</th>\n",
       "      <td>JCcb657d</td>\n",
       "      <td>6684962</td>\n",
       "      <td>Creatinine, Ser/Plas</td>\n",
       "      <td>2004-03-28 16:46:00</td>\n",
       "      <td>0.70</td>\n",
       "      <td>mg/dL</td>\n",
       "      <td>None</td>\n",
       "    </tr>\n",
       "    <tr>\n",
       "      <th>5</th>\n",
       "      <td>JCcb657d</td>\n",
       "      <td>6684962</td>\n",
       "      <td>Creatinine, Ser/Plas</td>\n",
       "      <td>2005-05-05 14:32:00</td>\n",
       "      <td>0.80</td>\n",
       "      <td>mg/dL</td>\n",
       "      <td>None</td>\n",
       "    </tr>\n",
       "    <tr>\n",
       "      <th>6</th>\n",
       "      <td>JCcb657d</td>\n",
       "      <td>6684962</td>\n",
       "      <td>Creatinine, Ser/Plas</td>\n",
       "      <td>2006-06-04 13:04:00</td>\n",
       "      <td>0.83</td>\n",
       "      <td>mg/dL</td>\n",
       "      <td>None</td>\n",
       "    </tr>\n",
       "    <tr>\n",
       "      <th>7</th>\n",
       "      <td>JCcb657d</td>\n",
       "      <td>6684962</td>\n",
       "      <td>Creatinine, Ser/Plas</td>\n",
       "      <td>2007-10-15 12:25:00</td>\n",
       "      <td>0.78</td>\n",
       "      <td>mg/dL</td>\n",
       "      <td>None</td>\n",
       "    </tr>\n",
       "    <tr>\n",
       "      <th>8</th>\n",
       "      <td>JCcb657d</td>\n",
       "      <td>131009207572</td>\n",
       "      <td>Creatinine, Ser/Plas</td>\n",
       "      <td>2010-05-24 12:20:00</td>\n",
       "      <td>0.90</td>\n",
       "      <td>mg/dL</td>\n",
       "      <td>None</td>\n",
       "    </tr>\n",
       "    <tr>\n",
       "      <th>9</th>\n",
       "      <td>JCcb657d</td>\n",
       "      <td>131079498600</td>\n",
       "      <td>Creatinine, Ser/Plas</td>\n",
       "      <td>2015-04-10 17:45:00</td>\n",
       "      <td>0.90</td>\n",
       "      <td>mg/dL</td>\n",
       "      <td>None</td>\n",
       "    </tr>\n",
       "  </tbody>\n",
       "</table>\n",
       "</div>"
      ],
      "text/plain": [
       "    rit_uid  pat_enc_csn_id_coded              lab_name taken_time_jittered  \\\n",
       "0  JCcb657d               6684962  Creatinine, Ser/Plas 2001-07-08 10:08:00   \n",
       "1  JCcb657d               6684962  Creatinine, Ser/Plas 2002-05-04 16:52:00   \n",
       "2  JCcb657d               6684962  Creatinine, Ser/Plas 2002-06-10 11:24:00   \n",
       "3  JCcb657d               6684962  Creatinine, Ser/Plas 2002-09-21 16:36:00   \n",
       "4  JCcb657d               6684962  Creatinine, Ser/Plas 2004-03-28 16:46:00   \n",
       "5  JCcb657d               6684962  Creatinine, Ser/Plas 2005-05-05 14:32:00   \n",
       "6  JCcb657d               6684962  Creatinine, Ser/Plas 2006-06-04 13:04:00   \n",
       "7  JCcb657d               6684962  Creatinine, Ser/Plas 2007-10-15 12:25:00   \n",
       "8  JCcb657d          131009207572  Creatinine, Ser/Plas 2010-05-24 12:20:00   \n",
       "9  JCcb657d          131079498600  Creatinine, Ser/Plas 2015-04-10 17:45:00   \n",
       "\n",
       "   ord_num_value reference_unit result_in_range_yn  \n",
       "0           0.80          mg/dL                  Y  \n",
       "1           0.80          mg/dL                  Y  \n",
       "2           0.80          mg/dL                  Y  \n",
       "3           0.80          mg/dL                  Y  \n",
       "4           0.70          mg/dL               None  \n",
       "5           0.80          mg/dL               None  \n",
       "6           0.83          mg/dL               None  \n",
       "7           0.78          mg/dL               None  \n",
       "8           0.90          mg/dL               None  \n",
       "9           0.90          mg/dL               None  "
      ]
     },
     "execution_count": 60,
     "metadata": {},
     "output_type": "execute_result"
    }
   ],
   "source": [
    "tdd_subqueries_data.head(10)"
   ]
  },
  {
   "cell_type": "code",
   "execution_count": 61,
   "metadata": {},
   "outputs": [],
   "source": [
    "tdd_subqueries_data.to_csv(\"./Data/creatinine.csv\")"
   ]
  },
  {
   "cell_type": "code",
   "execution_count": 62,
   "metadata": {},
   "outputs": [],
   "source": [
    "query.close()"
   ]
  },
  {
   "cell_type": "code",
   "execution_count": null,
   "metadata": {},
   "outputs": [],
   "source": []
  },
  {
   "cell_type": "markdown",
   "metadata": {},
   "source": [
    "## Steroids"
   ]
  },
  {
   "cell_type": "markdown",
   "metadata": {},
   "source": [
    "Query for Steroids"
   ]
  },
  {
   "cell_type": "code",
   "execution_count": 39,
   "metadata": {},
   "outputs": [],
   "source": [
    "query = open('steroidQuery.sql', 'r')"
   ]
  },
  {
   "cell_type": "code",
   "execution_count": 40,
   "metadata": {},
   "outputs": [],
   "source": [
    "tdd_subqueries_data = pd.read_sql_query(query.read(), conn)"
   ]
  },
  {
   "cell_type": "code",
   "execution_count": 41,
   "metadata": {},
   "outputs": [
    {
     "data": {
      "text/html": [
       "<div>\n",
       "<style scoped>\n",
       "    .dataframe tbody tr th:only-of-type {\n",
       "        vertical-align: middle;\n",
       "    }\n",
       "\n",
       "    .dataframe tbody tr th {\n",
       "        vertical-align: top;\n",
       "    }\n",
       "\n",
       "    .dataframe thead th {\n",
       "        text-align: right;\n",
       "    }\n",
       "</style>\n",
       "<table border=\"1\" class=\"dataframe\">\n",
       "  <thead>\n",
       "    <tr style=\"text-align: right;\">\n",
       "      <th></th>\n",
       "      <th>jc_uid</th>\n",
       "      <th>order_med_id_coded</th>\n",
       "      <th>sig</th>\n",
       "      <th>dose_unit</th>\n",
       "      <th>route</th>\n",
       "      <th>pat_enc_csn_id_coded</th>\n",
       "      <th>taken_time_jittered</th>\n",
       "      <th>med_description</th>\n",
       "      <th>freq_display_name</th>\n",
       "    </tr>\n",
       "  </thead>\n",
       "  <tbody>\n",
       "    <tr>\n",
       "      <th>0</th>\n",
       "      <td>JCcb6582</td>\n",
       "      <td>454499543</td>\n",
       "      <td>4.0</td>\n",
       "      <td>mg</td>\n",
       "      <td>Intravenous</td>\n",
       "      <td>131060083874</td>\n",
       "      <td>2014-11-19 12:25:00</td>\n",
       "      <td>DEXAMETHASONE SODIUM PHOSPHATE 4 MG/ML INJ SOLN</td>\n",
       "      <td>PRN</td>\n",
       "    </tr>\n",
       "    <tr>\n",
       "      <th>1</th>\n",
       "      <td>JCcb65e1</td>\n",
       "      <td>541848146</td>\n",
       "      <td>125.0</td>\n",
       "      <td>mg</td>\n",
       "      <td>Intravenous</td>\n",
       "      <td>131239638605</td>\n",
       "      <td>2017-11-08 07:45:00</td>\n",
       "      <td>METHYLPREDNISOLONE SOD SUC(PF) 125 MG/2 ML INJ...</td>\n",
       "      <td>Once</td>\n",
       "    </tr>\n",
       "    <tr>\n",
       "      <th>2</th>\n",
       "      <td>JCcb65e1</td>\n",
       "      <td>541922794</td>\n",
       "      <td>40.0</td>\n",
       "      <td>mg</td>\n",
       "      <td>Feeding Tube</td>\n",
       "      <td>131239638605</td>\n",
       "      <td>2017-11-09 13:43:00</td>\n",
       "      <td>PREDNISONE 20 MG PO TABS</td>\n",
       "      <td>DAILY</td>\n",
       "    </tr>\n",
       "    <tr>\n",
       "      <th>3</th>\n",
       "      <td>JCcb65e1</td>\n",
       "      <td>541922794</td>\n",
       "      <td>40.0</td>\n",
       "      <td>mg</td>\n",
       "      <td>Feeding Tube</td>\n",
       "      <td>131239638605</td>\n",
       "      <td>2017-11-10 09:12:00</td>\n",
       "      <td>PREDNISONE 20 MG PO TABS</td>\n",
       "      <td>DAILY</td>\n",
       "    </tr>\n",
       "    <tr>\n",
       "      <th>4</th>\n",
       "      <td>JCcb65e1</td>\n",
       "      <td>541922794</td>\n",
       "      <td>40.0</td>\n",
       "      <td>mg</td>\n",
       "      <td>Feeding Tube</td>\n",
       "      <td>131239638605</td>\n",
       "      <td>2017-11-11 08:32:00</td>\n",
       "      <td>PREDNISONE 20 MG PO TABS</td>\n",
       "      <td>DAILY</td>\n",
       "    </tr>\n",
       "    <tr>\n",
       "      <th>5</th>\n",
       "      <td>JCcb65e1</td>\n",
       "      <td>541922794</td>\n",
       "      <td>40.0</td>\n",
       "      <td>mg</td>\n",
       "      <td>Feeding Tube</td>\n",
       "      <td>131239638605</td>\n",
       "      <td>2017-11-12 09:09:00</td>\n",
       "      <td>PREDNISONE 20 MG PO TABS</td>\n",
       "      <td>DAILY</td>\n",
       "    </tr>\n",
       "    <tr>\n",
       "      <th>6</th>\n",
       "      <td>JCcb65e1</td>\n",
       "      <td>542264105</td>\n",
       "      <td>20.0</td>\n",
       "      <td>mg</td>\n",
       "      <td>Feeding Tube</td>\n",
       "      <td>131239638605</td>\n",
       "      <td>2017-11-13 08:07:00</td>\n",
       "      <td>PREDNISONE 20 MG PO TABS</td>\n",
       "      <td>DAILY</td>\n",
       "    </tr>\n",
       "    <tr>\n",
       "      <th>7</th>\n",
       "      <td>JCcb65e1</td>\n",
       "      <td>542453808</td>\n",
       "      <td>20.0</td>\n",
       "      <td>mg</td>\n",
       "      <td>Oral</td>\n",
       "      <td>131239638605</td>\n",
       "      <td>2017-11-14 09:16:00</td>\n",
       "      <td>PREDNISONE 20 MG PO TABS</td>\n",
       "      <td>DAILY</td>\n",
       "    </tr>\n",
       "    <tr>\n",
       "      <th>8</th>\n",
       "      <td>JCcb65e1</td>\n",
       "      <td>542453808</td>\n",
       "      <td>20.0</td>\n",
       "      <td>mg</td>\n",
       "      <td>Oral</td>\n",
       "      <td>131239638605</td>\n",
       "      <td>2017-11-15 08:18:00</td>\n",
       "      <td>PREDNISONE 20 MG PO TABS</td>\n",
       "      <td>DAILY</td>\n",
       "    </tr>\n",
       "    <tr>\n",
       "      <th>9</th>\n",
       "      <td>JCcb65e1</td>\n",
       "      <td>542453808</td>\n",
       "      <td>20.0</td>\n",
       "      <td>mg</td>\n",
       "      <td>Oral</td>\n",
       "      <td>131239638605</td>\n",
       "      <td>2017-11-16 12:25:00</td>\n",
       "      <td>PREDNISONE 20 MG PO TABS</td>\n",
       "      <td>DAILY</td>\n",
       "    </tr>\n",
       "  </tbody>\n",
       "</table>\n",
       "</div>"
      ],
      "text/plain": [
       "     jc_uid  order_med_id_coded    sig dose_unit         route  \\\n",
       "0  JCcb6582           454499543    4.0        mg   Intravenous   \n",
       "1  JCcb65e1           541848146  125.0        mg   Intravenous   \n",
       "2  JCcb65e1           541922794   40.0        mg  Feeding Tube   \n",
       "3  JCcb65e1           541922794   40.0        mg  Feeding Tube   \n",
       "4  JCcb65e1           541922794   40.0        mg  Feeding Tube   \n",
       "5  JCcb65e1           541922794   40.0        mg  Feeding Tube   \n",
       "6  JCcb65e1           542264105   20.0        mg  Feeding Tube   \n",
       "7  JCcb65e1           542453808   20.0        mg          Oral   \n",
       "8  JCcb65e1           542453808   20.0        mg          Oral   \n",
       "9  JCcb65e1           542453808   20.0        mg          Oral   \n",
       "\n",
       "   pat_enc_csn_id_coded taken_time_jittered  \\\n",
       "0          131060083874 2014-11-19 12:25:00   \n",
       "1          131239638605 2017-11-08 07:45:00   \n",
       "2          131239638605 2017-11-09 13:43:00   \n",
       "3          131239638605 2017-11-10 09:12:00   \n",
       "4          131239638605 2017-11-11 08:32:00   \n",
       "5          131239638605 2017-11-12 09:09:00   \n",
       "6          131239638605 2017-11-13 08:07:00   \n",
       "7          131239638605 2017-11-14 09:16:00   \n",
       "8          131239638605 2017-11-15 08:18:00   \n",
       "9          131239638605 2017-11-16 12:25:00   \n",
       "\n",
       "                                     med_description freq_display_name  \n",
       "0    DEXAMETHASONE SODIUM PHOSPHATE 4 MG/ML INJ SOLN               PRN  \n",
       "1  METHYLPREDNISOLONE SOD SUC(PF) 125 MG/2 ML INJ...              Once  \n",
       "2                           PREDNISONE 20 MG PO TABS             DAILY  \n",
       "3                           PREDNISONE 20 MG PO TABS             DAILY  \n",
       "4                           PREDNISONE 20 MG PO TABS             DAILY  \n",
       "5                           PREDNISONE 20 MG PO TABS             DAILY  \n",
       "6                           PREDNISONE 20 MG PO TABS             DAILY  \n",
       "7                           PREDNISONE 20 MG PO TABS             DAILY  \n",
       "8                           PREDNISONE 20 MG PO TABS             DAILY  \n",
       "9                           PREDNISONE 20 MG PO TABS             DAILY  "
      ]
     },
     "execution_count": 41,
     "metadata": {},
     "output_type": "execute_result"
    }
   ],
   "source": [
    "tdd_subqueries_data.head(10)"
   ]
  },
  {
   "cell_type": "code",
   "execution_count": 42,
   "metadata": {},
   "outputs": [],
   "source": [
    "tdd_subqueries_data.to_csv(\"./Data/steroids.csv\")"
   ]
  },
  {
   "cell_type": "code",
   "execution_count": 43,
   "metadata": {},
   "outputs": [],
   "source": [
    "query.close()"
   ]
  },
  {
   "cell_type": "code",
   "execution_count": null,
   "metadata": {},
   "outputs": [],
   "source": []
  },
  {
   "cell_type": "markdown",
   "metadata": {},
   "source": [
    "## Weight"
   ]
  },
  {
   "cell_type": "markdown",
   "metadata": {},
   "source": [
    "Query for Weight"
   ]
  },
  {
   "cell_type": "code",
   "execution_count": 30,
   "metadata": {},
   "outputs": [],
   "source": [
    "query = open('weight.sql', 'r')"
   ]
  },
  {
   "cell_type": "code",
   "execution_count": null,
   "metadata": {},
   "outputs": [],
   "source": [
    "tdd_subqueries_data = pd.read_sql_query(query.read(), conn)"
   ]
  },
  {
   "cell_type": "code",
   "execution_count": null,
   "metadata": {},
   "outputs": [],
   "source": [
    "tdd_subqueries_data.head(10)"
   ]
  },
  {
   "cell_type": "code",
   "execution_count": null,
   "metadata": {},
   "outputs": [],
   "source": [
    "tdd_subqueries_data.to_csv(\"./Data/weight.csv\")"
   ]
  },
  {
   "cell_type": "code",
   "execution_count": null,
   "metadata": {},
   "outputs": [],
   "source": [
    "query.close()"
   ]
  },
  {
   "cell_type": "markdown",
   "metadata": {},
   "source": [
    "## Height"
   ]
  },
  {
   "cell_type": "markdown",
   "metadata": {},
   "source": [
    "Query for Height"
   ]
  },
  {
   "cell_type": "code",
   "execution_count": 35,
   "metadata": {},
   "outputs": [],
   "source": [
    "query = open('height.sql', 'r')"
   ]
  },
  {
   "cell_type": "code",
   "execution_count": null,
   "metadata": {},
   "outputs": [],
   "source": [
    "tdd_subqueries_data = pd.read_sql_query(query.read(), conn)"
   ]
  },
  {
   "cell_type": "code",
   "execution_count": null,
   "metadata": {},
   "outputs": [],
   "source": [
    "tdd_subqueries_data.head(10)"
   ]
  },
  {
   "cell_type": "code",
   "execution_count": null,
   "metadata": {},
   "outputs": [],
   "source": [
    "tdd_subqueries_data.to_csv(\"./Data/height.csv\")"
   ]
  },
  {
   "cell_type": "code",
   "execution_count": null,
   "metadata": {},
   "outputs": [],
   "source": [
    "query.close()"
   ]
  },
  {
   "cell_type": "markdown",
   "metadata": {},
   "source": [
    "## Glucoses"
   ]
  },
  {
   "cell_type": "markdown",
   "metadata": {},
   "source": [
    "Query for Glucose values (first value in admission)"
   ]
  },
  {
   "cell_type": "code",
   "execution_count": 44,
   "metadata": {},
   "outputs": [],
   "source": [
    "query = open('glucoses.sql', 'r')"
   ]
  },
  {
   "cell_type": "code",
   "execution_count": 45,
   "metadata": {},
   "outputs": [],
   "source": [
    "tdd_subqueries_data = pd.read_sql_query(query.read(), conn)"
   ]
  },
  {
   "cell_type": "code",
   "execution_count": 46,
   "metadata": {},
   "outputs": [
    {
     "data": {
      "text/html": [
       "<div>\n",
       "<style scoped>\n",
       "    .dataframe tbody tr th:only-of-type {\n",
       "        vertical-align: middle;\n",
       "    }\n",
       "\n",
       "    .dataframe tbody tr th {\n",
       "        vertical-align: top;\n",
       "    }\n",
       "\n",
       "    .dataframe thead th {\n",
       "        text-align: right;\n",
       "    }\n",
       "</style>\n",
       "<table border=\"1\" class=\"dataframe\">\n",
       "  <thead>\n",
       "    <tr style=\"text-align: right;\">\n",
       "      <th></th>\n",
       "      <th>rit_uid</th>\n",
       "      <th>pat_enc_csn_id_coded</th>\n",
       "      <th>lab_name</th>\n",
       "      <th>ord_value</th>\n",
       "      <th>ord_num_value</th>\n",
       "      <th>taken_time_jittered</th>\n",
       "      <th>result_time_jittered</th>\n",
       "    </tr>\n",
       "  </thead>\n",
       "  <tbody>\n",
       "    <tr>\n",
       "      <th>0</th>\n",
       "      <td>JCd59f64</td>\n",
       "      <td>131248252494</td>\n",
       "      <td>Glucose, Ser/Plas</td>\n",
       "      <td>123</td>\n",
       "      <td>123.0</td>\n",
       "      <td>2018-03-20 13:30:00</td>\n",
       "      <td>2018-03-20 14:36:00</td>\n",
       "    </tr>\n",
       "    <tr>\n",
       "      <th>1</th>\n",
       "      <td>JCd4df71</td>\n",
       "      <td>131240996220</td>\n",
       "      <td>Glucose, Ser/Plas</td>\n",
       "      <td>150</td>\n",
       "      <td>150.0</td>\n",
       "      <td>2017-12-26 07:49:00</td>\n",
       "      <td>2017-12-26 08:11:00</td>\n",
       "    </tr>\n",
       "    <tr>\n",
       "      <th>2</th>\n",
       "      <td>JCe4e1e8</td>\n",
       "      <td>131178145935</td>\n",
       "      <td>Glucose, Ser/Plas</td>\n",
       "      <td>187</td>\n",
       "      <td>187.0</td>\n",
       "      <td>2016-02-07 04:45:00</td>\n",
       "      <td>2016-02-07 05:17:00</td>\n",
       "    </tr>\n",
       "    <tr>\n",
       "      <th>3</th>\n",
       "      <td>JCdc0cfa</td>\n",
       "      <td>131240421000</td>\n",
       "      <td>Glucose, Ser/Plas</td>\n",
       "      <td>131</td>\n",
       "      <td>131.0</td>\n",
       "      <td>2017-11-25 02:46:00</td>\n",
       "      <td>2017-11-25 03:10:00</td>\n",
       "    </tr>\n",
       "    <tr>\n",
       "      <th>4</th>\n",
       "      <td>JCd66cc3</td>\n",
       "      <td>131237394594</td>\n",
       "      <td>Glucose, Ser/Plas</td>\n",
       "      <td>126</td>\n",
       "      <td>126.0</td>\n",
       "      <td>2017-07-23 16:31:00</td>\n",
       "      <td>2017-07-23 17:36:00</td>\n",
       "    </tr>\n",
       "    <tr>\n",
       "      <th>5</th>\n",
       "      <td>JCd20376</td>\n",
       "      <td>131234429925</td>\n",
       "      <td>Glucose, Ser/Plas</td>\n",
       "      <td>115</td>\n",
       "      <td>115.0</td>\n",
       "      <td>2017-06-24 14:54:00</td>\n",
       "      <td>2017-06-24 15:39:00</td>\n",
       "    </tr>\n",
       "    <tr>\n",
       "      <th>6</th>\n",
       "      <td>JCdb84b4</td>\n",
       "      <td>131228966152</td>\n",
       "      <td>Glucose, Ser/Plas</td>\n",
       "      <td>183</td>\n",
       "      <td>183.0</td>\n",
       "      <td>2017-05-09 05:40:00</td>\n",
       "      <td>2017-05-09 06:26:00</td>\n",
       "    </tr>\n",
       "    <tr>\n",
       "      <th>7</th>\n",
       "      <td>JCe003bf</td>\n",
       "      <td>131239633350</td>\n",
       "      <td>Glucose, Ser/Plas</td>\n",
       "      <td>84</td>\n",
       "      <td>84.0</td>\n",
       "      <td>2017-11-10 18:53:00</td>\n",
       "      <td>2017-11-10 19:33:00</td>\n",
       "    </tr>\n",
       "    <tr>\n",
       "      <th>8</th>\n",
       "      <td>JCeb4cb9</td>\n",
       "      <td>131193965421</td>\n",
       "      <td>Glucose, Ser/Plas</td>\n",
       "      <td>97</td>\n",
       "      <td>97.0</td>\n",
       "      <td>2016-07-30 09:29:00</td>\n",
       "      <td>2016-07-30 10:09:00</td>\n",
       "    </tr>\n",
       "    <tr>\n",
       "      <th>9</th>\n",
       "      <td>JCccc72a</td>\n",
       "      <td>131202703847</td>\n",
       "      <td>Glucose, Ser/Plas</td>\n",
       "      <td>110</td>\n",
       "      <td>110.0</td>\n",
       "      <td>2016-09-26 11:18:00</td>\n",
       "      <td>2016-09-26 13:04:00</td>\n",
       "    </tr>\n",
       "  </tbody>\n",
       "</table>\n",
       "</div>"
      ],
      "text/plain": [
       "    rit_uid  pat_enc_csn_id_coded           lab_name ord_value  ord_num_value  \\\n",
       "0  JCd59f64          131248252494  Glucose, Ser/Plas       123          123.0   \n",
       "1  JCd4df71          131240996220  Glucose, Ser/Plas       150          150.0   \n",
       "2  JCe4e1e8          131178145935  Glucose, Ser/Plas       187          187.0   \n",
       "3  JCdc0cfa          131240421000  Glucose, Ser/Plas       131          131.0   \n",
       "4  JCd66cc3          131237394594  Glucose, Ser/Plas       126          126.0   \n",
       "5  JCd20376          131234429925  Glucose, Ser/Plas       115          115.0   \n",
       "6  JCdb84b4          131228966152  Glucose, Ser/Plas       183          183.0   \n",
       "7  JCe003bf          131239633350  Glucose, Ser/Plas        84           84.0   \n",
       "8  JCeb4cb9          131193965421  Glucose, Ser/Plas        97           97.0   \n",
       "9  JCccc72a          131202703847  Glucose, Ser/Plas       110          110.0   \n",
       "\n",
       "  taken_time_jittered result_time_jittered  \n",
       "0 2018-03-20 13:30:00  2018-03-20 14:36:00  \n",
       "1 2017-12-26 07:49:00  2017-12-26 08:11:00  \n",
       "2 2016-02-07 04:45:00  2016-02-07 05:17:00  \n",
       "3 2017-11-25 02:46:00  2017-11-25 03:10:00  \n",
       "4 2017-07-23 16:31:00  2017-07-23 17:36:00  \n",
       "5 2017-06-24 14:54:00  2017-06-24 15:39:00  \n",
       "6 2017-05-09 05:40:00  2017-05-09 06:26:00  \n",
       "7 2017-11-10 18:53:00  2017-11-10 19:33:00  \n",
       "8 2016-07-30 09:29:00  2016-07-30 10:09:00  \n",
       "9 2016-09-26 11:18:00  2016-09-26 13:04:00  "
      ]
     },
     "execution_count": 46,
     "metadata": {},
     "output_type": "execute_result"
    }
   ],
   "source": [
    "tdd_subqueries_data.head(10)"
   ]
  },
  {
   "cell_type": "code",
   "execution_count": 47,
   "metadata": {},
   "outputs": [],
   "source": [
    "tdd_subqueries_data.to_csv(\"./Data/glucoses.csv\")"
   ]
  },
  {
   "cell_type": "code",
   "execution_count": 48,
   "metadata": {},
   "outputs": [],
   "source": [
    "query.close()"
   ]
  },
  {
   "cell_type": "markdown",
   "metadata": {},
   "source": [
    "Larry's Queries to Write:\n",
    "- Weight, BMI, Admission BG\n",
    "- Lab Results: CBC, ESR (erthrocyte), CRP (c reactive protein), CHEM 10, Liver function test\n",
    "- Medications (steroid or not)\n",
    "- # of diagnoses\n",
    "- Procedures in the last 48 hours"
   ]
  },
  {
   "cell_type": "markdown",
   "metadata": {},
   "source": [
    "## TPN/PPN"
   ]
  },
  {
   "cell_type": "markdown",
   "metadata": {},
   "source": [
    "Query for TPN/PPN people"
   ]
  },
  {
   "cell_type": "code",
   "execution_count": 19,
   "metadata": {},
   "outputs": [],
   "source": [
    "query = open('TPN_PPN.sql', 'r')"
   ]
  },
  {
   "cell_type": "code",
   "execution_count": 20,
   "metadata": {},
   "outputs": [],
   "source": [
    "tdd_subqueries_data = pd.read_sql_query(query.read(), conn)"
   ]
  },
  {
   "cell_type": "code",
   "execution_count": 21,
   "metadata": {},
   "outputs": [
    {
     "data": {
      "text/html": [
       "<div>\n",
       "<style scoped>\n",
       "    .dataframe tbody tr th:only-of-type {\n",
       "        vertical-align: middle;\n",
       "    }\n",
       "\n",
       "    .dataframe tbody tr th {\n",
       "        vertical-align: top;\n",
       "    }\n",
       "\n",
       "    .dataframe thead th {\n",
       "        text-align: right;\n",
       "    }\n",
       "</style>\n",
       "<table border=\"1\" class=\"dataframe\">\n",
       "  <thead>\n",
       "    <tr style=\"text-align: right;\">\n",
       "      <th></th>\n",
       "      <th>jc_uid</th>\n",
       "      <th>pat_enc_csn_id_coded</th>\n",
       "      <th>med_description</th>\n",
       "      <th>medication_id</th>\n",
       "      <th>order_time_jittered</th>\n",
       "      <th>start_time_jittered</th>\n",
       "    </tr>\n",
       "  </thead>\n",
       "  <tbody>\n",
       "    <tr>\n",
       "      <th>0</th>\n",
       "      <td>JCcc0528</td>\n",
       "      <td>16624126</td>\n",
       "      <td>TPN ADULT STANDARD</td>\n",
       "      <td>550000</td>\n",
       "      <td>2008-10-10 19:10:00</td>\n",
       "      <td>NaT</td>\n",
       "    </tr>\n",
       "    <tr>\n",
       "      <th>1</th>\n",
       "      <td>JCce2fbc</td>\n",
       "      <td>131007070249</td>\n",
       "      <td>TPN ADULT STANDARD</td>\n",
       "      <td>550000</td>\n",
       "      <td>2009-10-15 14:43:00</td>\n",
       "      <td>NaT</td>\n",
       "    </tr>\n",
       "    <tr>\n",
       "      <th>2</th>\n",
       "      <td>JCd4b533</td>\n",
       "      <td>131181914407</td>\n",
       "      <td>TPN ADULT CYCLIC</td>\n",
       "      <td>3232</td>\n",
       "      <td>2016-03-19 16:40:00</td>\n",
       "      <td>2016-03-19 21:00:00</td>\n",
       "    </tr>\n",
       "    <tr>\n",
       "      <th>3</th>\n",
       "      <td>JCce469c</td>\n",
       "      <td>16426096</td>\n",
       "      <td>TPN BMT</td>\n",
       "      <td>27617</td>\n",
       "      <td>2008-09-03 11:04:00</td>\n",
       "      <td>2008-09-03 20:00:00</td>\n",
       "    </tr>\n",
       "    <tr>\n",
       "      <th>4</th>\n",
       "      <td>JCcba0a4</td>\n",
       "      <td>131010279813</td>\n",
       "      <td>TPN ADULT STANDARD</td>\n",
       "      <td>27617</td>\n",
       "      <td>2010-09-17 10:56:00</td>\n",
       "      <td>2010-09-17 20:00:00</td>\n",
       "    </tr>\n",
       "    <tr>\n",
       "      <th>5</th>\n",
       "      <td>JCcd3a24</td>\n",
       "      <td>131014406974</td>\n",
       "      <td>TPN ADULT STANDARD</td>\n",
       "      <td>3232</td>\n",
       "      <td>2011-09-21 11:05:00</td>\n",
       "      <td>2011-09-21 20:00:00</td>\n",
       "    </tr>\n",
       "    <tr>\n",
       "      <th>6</th>\n",
       "      <td>JCd7105d</td>\n",
       "      <td>131041353367</td>\n",
       "      <td>TPN ADULT CYCLIC</td>\n",
       "      <td>27617</td>\n",
       "      <td>2014-09-22 11:33:00</td>\n",
       "      <td>2014-09-22 21:00:00</td>\n",
       "    </tr>\n",
       "    <tr>\n",
       "      <th>7</th>\n",
       "      <td>JCdb5074</td>\n",
       "      <td>16875291</td>\n",
       "      <td>TPN ADULT STANDARD</td>\n",
       "      <td>3232</td>\n",
       "      <td>2008-10-11 08:08:00</td>\n",
       "      <td>2008-10-11 20:00:00</td>\n",
       "    </tr>\n",
       "    <tr>\n",
       "      <th>8</th>\n",
       "      <td>JCdf68e7</td>\n",
       "      <td>131024625892</td>\n",
       "      <td>TPN ADULT STANDARD</td>\n",
       "      <td>27617</td>\n",
       "      <td>2013-07-07 11:49:00</td>\n",
       "      <td>2013-07-07 20:00:00</td>\n",
       "    </tr>\n",
       "    <tr>\n",
       "      <th>9</th>\n",
       "      <td>JCe25c8e</td>\n",
       "      <td>131030378700</td>\n",
       "      <td>TPN ADULT STANDARD</td>\n",
       "      <td>27617</td>\n",
       "      <td>2014-04-22 14:17:00</td>\n",
       "      <td>2014-04-22 21:00:00</td>\n",
       "    </tr>\n",
       "  </tbody>\n",
       "</table>\n",
       "</div>"
      ],
      "text/plain": [
       "     jc_uid  pat_enc_csn_id_coded     med_description  medication_id  \\\n",
       "0  JCcc0528              16624126  TPN ADULT STANDARD         550000   \n",
       "1  JCce2fbc          131007070249  TPN ADULT STANDARD         550000   \n",
       "2  JCd4b533          131181914407    TPN ADULT CYCLIC           3232   \n",
       "3  JCce469c              16426096             TPN BMT          27617   \n",
       "4  JCcba0a4          131010279813  TPN ADULT STANDARD          27617   \n",
       "5  JCcd3a24          131014406974  TPN ADULT STANDARD           3232   \n",
       "6  JCd7105d          131041353367    TPN ADULT CYCLIC          27617   \n",
       "7  JCdb5074              16875291  TPN ADULT STANDARD           3232   \n",
       "8  JCdf68e7          131024625892  TPN ADULT STANDARD          27617   \n",
       "9  JCe25c8e          131030378700  TPN ADULT STANDARD          27617   \n",
       "\n",
       "  order_time_jittered start_time_jittered  \n",
       "0 2008-10-10 19:10:00                 NaT  \n",
       "1 2009-10-15 14:43:00                 NaT  \n",
       "2 2016-03-19 16:40:00 2016-03-19 21:00:00  \n",
       "3 2008-09-03 11:04:00 2008-09-03 20:00:00  \n",
       "4 2010-09-17 10:56:00 2010-09-17 20:00:00  \n",
       "5 2011-09-21 11:05:00 2011-09-21 20:00:00  \n",
       "6 2014-09-22 11:33:00 2014-09-22 21:00:00  \n",
       "7 2008-10-11 08:08:00 2008-10-11 20:00:00  \n",
       "8 2013-07-07 11:49:00 2013-07-07 20:00:00  \n",
       "9 2014-04-22 14:17:00 2014-04-22 21:00:00  "
      ]
     },
     "execution_count": 21,
     "metadata": {},
     "output_type": "execute_result"
    }
   ],
   "source": [
    "tdd_subqueries_data.head(10)"
   ]
  },
  {
   "cell_type": "code",
   "execution_count": 22,
   "metadata": {},
   "outputs": [],
   "source": [
    "tdd_subqueries_data.to_csv(\"./Data/tpn_ppn.csv\")"
   ]
  },
  {
   "cell_type": "code",
   "execution_count": 23,
   "metadata": {},
   "outputs": [],
   "source": [
    "query.close()"
   ]
  },
  {
   "cell_type": "code",
   "execution_count": null,
   "metadata": {},
   "outputs": [],
   "source": [
    "    "
   ]
  }
 ],
 "metadata": {
  "kernelspec": {
   "display_name": "Python 3",
   "language": "python",
   "name": "python3"
  },
  "language_info": {
   "codemirror_mode": {
    "name": "ipython",
    "version": 3
   },
   "file_extension": ".py",
   "mimetype": "text/x-python",
   "name": "python",
   "nbconvert_exporter": "python",
   "pygments_lexer": "ipython3",
   "version": "3.7.6"
  }
 },
 "nbformat": 4,
 "nbformat_minor": 2
}
