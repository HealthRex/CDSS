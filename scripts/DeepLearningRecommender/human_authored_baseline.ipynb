{
 "cells": [
  {
   "cell_type": "markdown",
   "metadata": {},
   "source": [
    "# Importing Packages and Connecting to DB"
   ]
  },
  {
   "cell_type": "code",
   "execution_count": null,
   "metadata": {},
   "outputs": [],
   "source": [
    "import os\n",
    "import pandas as pd\n",
    "import matplotlib.pyplot as plt\n",
    "import numpy as np"
   ]
  },
  {
   "cell_type": "code",
   "execution_count": null,
   "metadata": {},
   "outputs": [],
   "source": [
    "import sys, os\n",
    "import time;\n",
    "import json;\n",
    "from optparse import OptionParser\n",
    "from cStringIO import StringIO;\n",
    "from datetime import timedelta;"
   ]
  },
  {
   "cell_type": "code",
   "execution_count": null,
   "metadata": {},
   "outputs": [],
   "source": [
    "import sys, os\n",
    "import pandas as pd\n",
    "import psycopg2\n",
    "from datetime import timedelta\n",
    "from medinfo.dataconversion import FeatureMatrixFactory as fmf;\n",
    "\n",
    "def connectToDB():\n",
    "    '''\n",
    "    Connects to Database, requires password\n",
    "    '''\n",
    "\n",
    "    dsn_database = \"medinfo\"\n",
    "    dsn_hostname = \"healthrex-db.cwyfvxgvic6c.us-east-1.rds.amazonaws.com\"\n",
    "    dsn_port = \"5432\"\n",
    "    dsn_uid = \"jonc101\"\n",
    "    dsn_pwd = raw_input(\"Enter the database password: \")\n",
    "\n",
    "\n",
    "    try:\n",
    "        conn_string = \"host='\"+dsn_hostname+\"' port=\"+dsn_port+\" dbname='\"+dsn_database+\"' user='\"+dsn_uid+\"' password='\"+dsn_pwd+\"'\"\n",
    "        print \"Connecting to database\\n  ->%s\" % (conn_string)\n",
    "        conn=psycopg2.connect(conn_string)\n",
    "        print \"Connected!\\n\"\n",
    "\n",
    "    except:\n",
    "        print \"Unable to connect to the database.\"\n",
    "\n",
    "    cursor = conn.cursor()\n",
    "    return cursor, conn\n",
    "\n",
    "cursor, conn = connectToDB()"
   ]
  },
  {
   "cell_type": "markdown",
   "metadata": {},
   "source": [
    "### Human Authored Order Set Validation Set\n",
    "Input:\n",
    "\n",
    "1) matrix of responses/what actually happens 24hrs after for all patient_items\n",
    "\n",
    "2) patient_items we want to compare to from the test set of our algorithm\n",
    "\n",
    "3) columns of responses that are comparable to order sets, where default_recommend + analysis status = 1\n",
    "\n",
    "Output:\n",
    "f1, precision, accuracy, recall\n",
    "\n",
    "Objectives.\n",
    "1) Obtain all patient items that are part of order sets\n",
    "\n",
    "2) figure out what order sets they were a part of\n",
    "\n",
    "3) for each order set, create a vector of responses that represent what the order set says to order\n",
    "\n",
    "4) create a matrix of responses from this order set\n",
    "\n",
    "5) calculate f1 and f2 score to real response variables (with filtered out clinical items as appropriate) for baseline\n",
    "\n"
   ]
  },
  {
   "cell_type": "markdown",
   "metadata": {},
   "source": [
    "## Obtaining all of the patient_item_ids that are from order sets"
   ]
  },
  {
   "cell_type": "code",
   "execution_count": null,
   "metadata": {},
   "outputs": [],
   "source": [
    "loadingdata=True"
   ]
  },
  {
   "cell_type": "code",
   "execution_count": null,
   "metadata": {},
   "outputs": [],
   "source": [
    "#load in data\n",
    "data_dir = '/home/ec2-user/cs230/scripts/HumanBaseline/Actual_Final_Files/XY_data/'\n",
    "fname = data_dir+'y_dev.txt'\n",
    "y_dev = pd.read_csv(fname, sep = '\\t')\n",
    "fname = data_dir + 'y_test.txt'\n",
    "y_test = pd.read_csv(fname, sep = '\\t')\n",
    "response_matrix = pd.concat([y_dev, y_test])"
   ]
  },
  {
   "cell_type": "code",
   "execution_count": null,
   "metadata": {},
   "outputs": [],
   "source": [
    "fname = data_dir+'x_dev.txt'\n",
    "x_dev = pd.read_csv(fname, usecols=[0], sep = '\\t')\n",
    "fname = data_dir + 'x_test.txt'\n",
    "x_test = pd.read_csv(fname, usecols=[0], sep = '\\t')\n",
    "p_id_column = pd.concat([x_dev, x_test])"
   ]
  },
  {
   "cell_type": "code",
   "execution_count": null,
   "metadata": {},
   "outputs": [],
   "source": [
    "response_matrix[\"patient_item_id\"] = patientitemids_from_data"
   ]
  },
  {
   "cell_type": "code",
   "execution_count": null,
   "metadata": {},
   "outputs": [],
   "source": [
    "response_matrix.shape"
   ]
  },
  {
   "cell_type": "code",
   "execution_count": null,
   "metadata": {},
   "outputs": [],
   "source": [
    "len(y_dev) + len(y_test)"
   ]
  },
  {
   "cell_type": "code",
   "execution_count": null,
   "metadata": {},
   "outputs": [],
   "source": [
    "patientitemids_from_data = response_matrix[\"patient_item_id\"]"
   ]
  },
  {
   "cell_type": "markdown",
   "metadata": {},
   "source": [
    "need to change cell below based on new real columns"
   ]
  },
  {
   "cell_type": "code",
   "execution_count": null,
   "metadata": {},
   "outputs": [],
   "source": [
    "#create response columns to use for comparison later NEED TO CHANGE THIS\n",
    "response_vars = []\n",
    "f = open('/home/ec2-user/cs230/scripts/matrix/response_vars_FINAL_0307.txt', 'r')\n",
    "for line in f:\n",
    "    response_vars.append(line.split('\\n')[0])\n",
    "f.close()\n",
    "len(response_vars)\n",
    "response_var_set = set(response_vars)\n",
    "# extracts columns from all_data that we want as response variables\n",
    "response_cols = [col for col in data.columns if col in response_var_set]\n",
    "response_cols.insert(0, \"patient_item_id\")"
   ]
  },
  {
   "cell_type": "code",
   "execution_count": null,
   "metadata": {},
   "outputs": [],
   "source": [
    "#read response_cols from csv\n",
    "if loadingdata == True:\n",
    "    response_cols = pd.read_csv(\"/home/ec2-user/cs230/scripts/HumanBaseline/response_cols.txt\", sep = \"\\t\")\n",
    "    response_cols = response_cols.name.tolist()\n",
    "    response_cols = [s + \".post.1d\" for s in response_cols]\n",
    "    response_cols.insert(0, \"patient_item_id\")"
   ]
  },
  {
   "cell_type": "code",
   "execution_count": null,
   "metadata": {},
   "outputs": [],
   "source": [
    "response_matrix = response_matrix[response_cols]"
   ]
  },
  {
   "cell_type": "code",
   "execution_count": null,
   "metadata": {},
   "outputs": [],
   "source": [
    "#load data\n",
    "os.chdir('/home/ec2-user/cs230/scripts/HumanBaseline')"
   ]
  },
  {
   "cell_type": "code",
   "execution_count": null,
   "metadata": {},
   "outputs": [],
   "source": [
    "if loadingdata == True:\n",
    "    patientitemlist_pre = patients_from_ordersets_subset.patient_item_id.tolist()"
   ]
  },
  {
   "cell_type": "code",
   "execution_count": null,
   "metadata": {},
   "outputs": [],
   "source": [
    "response_matrix.drop_duplicates(keep = \"last\", inplace=True)"
   ]
  },
  {
   "cell_type": "code",
   "execution_count": null,
   "metadata": {},
   "outputs": [],
   "source": [
    "response_matrix.shape"
   ]
  },
  {
   "cell_type": "code",
   "execution_count": null,
   "metadata": {},
   "outputs": [],
   "source": [
    "patientitemlist = \",\".join(map(str, patientitemids_from_data.tolist()))\n",
    "patientitemlist = \"(\" + patientitemlist + \")\""
   ]
  },
  {
   "cell_type": "code",
   "execution_count": null,
   "metadata": {},
   "outputs": [],
   "source": [
    "patientItemsfromOrderSet = \"\"\"\n",
    "select \n",
    "\t\tpi.patient_item_id,\n",
    "        ic.external_id,\n",
    "\t\tci.name\n",
    "\tfrom \n",
    "\t\titem_collection as ic,\n",
    "\t\titem_collection_item as ici, \n",
    "\t\tpatient_item_collection_link as picl, \n",
    "\t\tpatient_item as pi,\n",
    "\t\tclinical_item as ci,\n",
    "\t\tclinical_item_category as cic\n",
    "\twhere \n",
    "\t\tpi.patient_item_id IN %s and\n",
    "        ic.item_collection_id = ici.item_collection_id and\n",
    "\t\tici.item_collection_item_id = picl.item_collection_item_id and \n",
    "\t\tpicl.patient_item_id = pi.patient_item_id and  \n",
    "\t\tpi.clinical_item_id = ci.clinical_item_id and\n",
    "\t\tci.clinical_item_category_id = cic.clinical_item_category_id and\n",
    "\t\tci.default_recommend = 1 and\n",
    "\t\tcic.default_recommend = 1 and\n",
    "\t\tic.section <> 'Ad-hoc Orders' -- Existing option to include orders on the fly, even though they weren't really part of the original order set design / intent\n",
    "\t\t-- ic.external_id = 692 -- Example for Med Sepsis\n",
    "    Order by pi.patient_item_id\n",
    "\"\"\"%(patientitemlist) "
   ]
  },
  {
   "cell_type": "code",
   "execution_count": null,
   "metadata": {
    "scrolled": false
   },
   "outputs": [],
   "source": [
    "df_patientitems = pd.read_sql(patientItemsfromOrderSet, conn)\n",
    "df_patientitems.to_csv('ordersets_from_patientitems.txt', sep = '\\t')\n",
    "df_patientitems.head()"
   ]
  },
  {
   "cell_type": "code",
   "execution_count": null,
   "metadata": {},
   "outputs": [],
   "source": [
    "print(df_patientitems.shape) #for \n",
    "print(len(patientitemids_from_data))\n",
    "print(float(len(df_patientitems))/len(patientitemids_from_data))\n",
    "#Above cell shows the percentage of patientitems that are actually order sets in general "
   ]
  },
  {
   "cell_type": "code",
   "execution_count": null,
   "metadata": {},
   "outputs": [],
   "source": [
    "#check to make sure patientitemids are actually in the original set\n",
    "assert set(df_patientitems.patient_item_id).issubset(set(patientitemids_from_data))"
   ]
  },
  {
   "cell_type": "code",
   "execution_count": null,
   "metadata": {},
   "outputs": [],
   "source": [
    "#if you're loading data\n",
    "if loading = True:\n",
    "    yhat = pd.read_table('human_authored.txt')\n",
    "    y = pd.read_table('orderset_response.txt')\n",
    "    assert len(yhat)==len(y)"
   ]
  },
  {
   "cell_type": "code",
   "execution_count": null,
   "metadata": {},
   "outputs": [],
   "source": []
  },
  {
   "cell_type": "markdown",
   "metadata": {},
   "source": [
    "## Collecting clinical items per external_id into a dictionary"
   ]
  },
  {
   "cell_type": "code",
   "execution_count": null,
   "metadata": {},
   "outputs": [],
   "source": [
    "external_list = df_patientitems.external_id.unique()"
   ]
  },
  {
   "cell_type": "code",
   "execution_count": null,
   "metadata": {},
   "outputs": [],
   "source": [
    "external_list = \",\".join(map(str, external_list))\n",
    "external_list = \"(\" + external_list + \")\""
   ]
  },
  {
   "cell_type": "code",
   "execution_count": null,
   "metadata": {},
   "outputs": [],
   "source": [
    "externalItems = \"\"\"\n",
    "select \n",
    "\tic.external_id,\n",
    "\tci.name\n",
    "from \n",
    "\titem_collection as ic,\n",
    "\titem_collection_item as ici, \n",
    "\tclinical_item as ci,\n",
    "\tclinical_item_category as cic\n",
    "where \n",
    "\tic.item_collection_id = ici.item_collection_id and\n",
    "\tici.clinical_item_id = ci.clinical_item_id and\n",
    "\tci.clinical_item_category_id = cic.clinical_item_category_id and\n",
    "    ic.external_id in %s and\n",
    "\tci.default_recommend = 1 and\n",
    "\tcic.default_recommend = 1 and\n",
    "    ci.analysis_status =1 and\n",
    "\tic.section <> 'Ad-hoc Orders' -- Existing option to include orders on the fly, even though they weren't really part of the original order set design / intent\n",
    "group by \n",
    "\tic.external_id,\n",
    "\tci.name\n",
    "order by name\n",
    "\"\"\"%(external_list)"
   ]
  },
  {
   "cell_type": "code",
   "execution_count": null,
   "metadata": {},
   "outputs": [],
   "source": [
    "df_externalitems = pd.read_sql(externalItems, conn)"
   ]
  },
  {
   "cell_type": "code",
   "execution_count": null,
   "metadata": {},
   "outputs": [],
   "source": [
    "external_id_to_items = {k: list(v) for k,v in df_externalitems.groupby(\"external_id\")[\"name\"]}"
   ]
  },
  {
   "cell_type": "code",
   "execution_count": null,
   "metadata": {},
   "outputs": [],
   "source": [
    "#CHANGE THIS\n",
    "#with open(\"ResponseCols.txt\") as f:\n",
    "#    responsecols = f.readlines()\n",
    "#responsecols = [x.strip() for x in responsecols] \n",
    "responsecols = pd.read_csv(\"/home/ec2-user/cs230/scripts/HumanBaseline/response_cols.txt\", sep = \"\\t\")\n"
   ]
  },
  {
   "cell_type": "code",
   "execution_count": null,
   "metadata": {},
   "outputs": [],
   "source": [
    "responsecols = responsecols.name.tolist()"
   ]
  },
  {
   "cell_type": "code",
   "execution_count": null,
   "metadata": {},
   "outputs": [],
   "source": [
    "import numpy as np\n",
    "external_id_to_vec = {}\n",
    "for external_id, items in external_id_to_items.iteritems():\n",
    "    z = np.zeros(len(responsecols))\n",
    "    for item in items:\n",
    "        if (item not in responsecols):\n",
    "            continue\n",
    "        z[responsecols.index(item)] = 1\n",
    "    external_id_to_vec[external_id] = z\n",
    "print(len(external_id_to_vec[625]))\n",
    "print(sum(external_id_to_vec[625]))\n",
    "# i need to create a dictionary of external ids and response vectors with response cols as the index of them"
   ]
  },
  {
   "cell_type": "markdown",
   "metadata": {},
   "source": [
    "## Create a matrix with all the patient_item_ids and their response vectors"
   ]
  },
  {
   "cell_type": "code",
   "execution_count": null,
   "metadata": {},
   "outputs": [],
   "source": [
    "df_patientitems = df_patientitems.drop_duplicates(subset = \"patient_item_id\", keep = \"last\")"
   ]
  },
  {
   "cell_type": "code",
   "execution_count": null,
   "metadata": {},
   "outputs": [],
   "source": [
    "df_humanmatrix = df_patientitems[\"external_id\"].map(external_id_to_vec)"
   ]
  },
  {
   "cell_type": "code",
   "execution_count": null,
   "metadata": {},
   "outputs": [],
   "source": [
    "df_humanmatrix = pd.DataFrame(df_humanmatrix)"
   ]
  },
  {
   "cell_type": "code",
   "execution_count": null,
   "metadata": {},
   "outputs": [],
   "source": [
    "df_humanmatrix[\"patient_item_id\"] = df_patientitems.patient_item_id"
   ]
  },
  {
   "cell_type": "code",
   "execution_count": null,
   "metadata": {},
   "outputs": [],
   "source": [
    "comparable_response = response_matrix[response_matrix[\"patient_item_id\"].isin(df_humanmatrix[\"patient_item_id\"])]"
   ]
  },
  {
   "cell_type": "code",
   "execution_count": null,
   "metadata": {},
   "outputs": [],
   "source": [
    "comparable_response.drop_duplicates(inplace = True, keep = \"last\", subset = \"patient_item_id\")"
   ]
  },
  {
   "cell_type": "code",
   "execution_count": null,
   "metadata": {},
   "outputs": [],
   "source": [
    "print(comparable_response.shape)\n",
    "print(comparable_response.shape)\n",
    "print(df_humanmatrix.size)\n",
    "print(df_humanmatrix.shape)"
   ]
  },
  {
   "cell_type": "code",
   "execution_count": null,
   "metadata": {},
   "outputs": [],
   "source": [
    "df_humanmatrix"
   ]
  },
  {
   "cell_type": "code",
   "execution_count": null,
   "metadata": {},
   "outputs": [],
   "source": [
    "df_humanmatrix.to_pickle(\"humanmatrix_14_trim.p\")"
   ]
  },
  {
   "cell_type": "code",
   "execution_count": null,
   "metadata": {},
   "outputs": [],
   "source": [
    "response_cols"
   ]
  },
  {
   "cell_type": "code",
   "execution_count": null,
   "metadata": {},
   "outputs": [],
   "source": [
    "df_humanmatrix2 = pd.DataFrame(columns = response_cols)\n"
   ]
  },
  {
   "cell_type": "code",
   "execution_count": null,
   "metadata": {},
   "outputs": [],
   "source": [
    "df_humanmatrix2[\"patient_item_id\"] = df_humanmatrix[\"patient_item_id\"]"
   ]
  },
  {
   "cell_type": "code",
   "execution_count": null,
   "metadata": {},
   "outputs": [],
   "source": []
  },
  {
   "cell_type": "code",
   "execution_count": null,
   "metadata": {},
   "outputs": [],
   "source": [
    "for row in df_humanmatrix"
   ]
  },
  {
   "cell_type": "code",
   "execution_count": null,
   "metadata": {},
   "outputs": [],
   "source": [
    "comparable_response = response_matrix[response_matrix[\"patient_item_id\"].isin(x_test[\"patient_item_id\"])]\n",
    "df_humanmatrix = df_humanmatrix[df_humanmatrix[\"patient_item_id\"].isin(x_test[\"patient_item_id\"])]"
   ]
  },
  {
   "cell_type": "code",
   "execution_count": null,
   "metadata": {},
   "outputs": [],
   "source": [
    "df_humanmatrix = df_humanmatrix.sort_values(by=\"patient_item_id\")\n",
    "comparable_response = comparable_response.sort_values(by=\"patient_item_id\")"
   ]
  },
  {
   "cell_type": "code",
   "execution_count": null,
   "metadata": {},
   "outputs": [],
   "source": [
    "assert sum(comparable_response.patient_item_id.values == df_humanmatrix.patient_item_id.values) == len(df_humanmatrix)"
   ]
  },
  {
   "cell_type": "code",
   "execution_count": null,
   "metadata": {},
   "outputs": [],
   "source": [
    "df_humanmatrix.to_csv('human_authored_14_nontrim_test.txt', sep='\\t')\n",
    "comparable_response.to_csv('orderset_response_14_nontrim_test.txt', sep = '\\t')"
   ]
  },
  {
   "cell_type": "markdown",
   "metadata": {},
   "source": [
    "## analyze script for the human baseline model"
   ]
  },
  {
   "cell_type": "code",
   "execution_count": null,
   "metadata": {
    "scrolled": false
   },
   "outputs": [],
   "source": [
    "%matplotlib inline\n",
    "from sklearn.metrics import precision_recall_fscore_support as pr\n",
    "from sklearn import metrics"
   ]
  },
  {
   "cell_type": "code",
   "execution_count": null,
   "metadata": {},
   "outputs": [],
   "source": [
    "comparable_response.shape"
   ]
  },
  {
   "cell_type": "code",
   "execution_count": null,
   "metadata": {},
   "outputs": [],
   "source": [
    "df_humanmatrix.shape"
   ]
  },
  {
   "cell_type": "code",
   "execution_count": null,
   "metadata": {},
   "outputs": [],
   "source": [
    "os.getcwd()"
   ]
  },
  {
   "cell_type": "code",
   "execution_count": null,
   "metadata": {},
   "outputs": [],
   "source": [
    "df_humanmatrix = pd.read_pickle(\"humanmatrix_14_trim.p\")"
   ]
  },
  {
   "cell_type": "code",
   "execution_count": null,
   "metadata": {},
   "outputs": [],
   "source": [
    "comparable_response = pd.read_csv(\"orderset_response_14_nontrim.txt\",sep='\\t')"
   ]
  },
  {
   "cell_type": "code",
   "execution_count": null,
   "metadata": {},
   "outputs": [],
   "source": [
    "comparable_response = comparable_response.drop(\"patient_item_id\", axis = 1)\n",
    "df_humanmatrix = df_humanmatrix.drop('patient_item_id', axis = 1)"
   ]
  },
  {
   "cell_type": "code",
   "execution_count": null,
   "metadata": {},
   "outputs": [],
   "source": [
    "comparable_response.drop(\"Unnamed: 0\", axis=1, inplace=True)"
   ]
  },
  {
   "cell_type": "code",
   "execution_count": null,
   "metadata": {},
   "outputs": [],
   "source": [
    "y = []\n",
    "y = np.asarray(comparable_response).reshape((1452*len(comparable_response),1))"
   ]
  },
  {
   "cell_type": "code",
   "execution_count": null,
   "metadata": {},
   "outputs": [],
   "source": [
    "flattened = [val for sublist in df_humanmatrix.external_id for val in sublist]\n",
    "yhat = flattened"
   ]
  },
  {
   "cell_type": "code",
   "execution_count": null,
   "metadata": {},
   "outputs": [],
   "source": [
    "y = [1 if x > 0 else 0 for x in y]"
   ]
  },
  {
   "cell_type": "code",
   "execution_count": null,
   "metadata": {},
   "outputs": [],
   "source": [
    "assert len(y) == len(yhat)"
   ]
  },
  {
   "cell_type": "code",
   "execution_count": null,
   "metadata": {},
   "outputs": [],
   "source": [
    "bPrecis, bRecall, bFscore, bSupport = pr(y, yhat, pos_label =1, average='binary')\n",
    "print(bPrecis)\n",
    "print(bRecall)\n",
    "print(bFscore)\n",
    "print(bSupport)"
   ]
  },
  {
   "cell_type": "code",
   "execution_count": null,
   "metadata": {},
   "outputs": [],
   "source": [
    "def plot_roc_curve(y,yhat,title,text,y_probs=[]):\n",
    "    '''\n",
    "    Plots a ROC curve for given set of predictions\n",
    "    \n",
    "    parameters:\n",
    "        @predict_results: predict generator object\n",
    "    return:\n",
    "        None\n",
    "    '''\n",
    "        \n",
    "    fpr, tpr, _ = metrics.roc_curve(y,yhat)\n",
    "    print(fpr)\n",
    "    print(tpr)\n",
    "    AUROC = metrics.auc(fpr,tpr)\n",
    "    plt.plot(fpr,tpr,label=text + ' (AUC = %.3f)' % AUROC)\n",
    "    plt.legend(loc='lower right')\n",
    "    plt.title(title)\n",
    "    plt.xlabel('1 - Specificity')\n",
    "    plt.ylabel('Sensitivity')\n",
    "    plt.show()\n",
    "    return"
   ]
  },
  {
   "cell_type": "code",
   "execution_count": null,
   "metadata": {},
   "outputs": [],
   "source": [
    "plot_roc_curve(y, yhat,\"Human Authored ROC curve\", \"swag\")"
   ]
  },
  {
   "cell_type": "code",
   "execution_count": null,
   "metadata": {},
   "outputs": [],
   "source": [
    "metrics.accuracy_score(y,yhat)"
   ]
  },
  {
   "cell_type": "code",
   "execution_count": null,
   "metadata": {},
   "outputs": [],
   "source": [
    "len(y)"
   ]
  },
  {
   "cell_type": "code",
   "execution_count": null,
   "metadata": {},
   "outputs": [],
   "source": [
    "thefile = open('human_response.txt', 'w')\n",
    "for item in y:\n",
    "    thefile.write(\"%s\\n\" % item)"
   ]
  },
  {
   "cell_type": "code",
   "execution_count": null,
   "metadata": {},
   "outputs": [],
   "source": [
    "thefile.close()"
   ]
  },
  {
   "cell_type": "code",
   "execution_count": null,
   "metadata": {},
   "outputs": [],
   "source": [
    "thefile2 = open('human_prediction.txt', 'w')\n",
    "for item in yhat:\n",
    "    thefile2.write(\"%s\\n\" % item)\n",
    "thefile2.close()"
   ]
  },
  {
   "cell_type": "code",
   "execution_count": null,
   "metadata": {},
   "outputs": [],
   "source": [
    "len(yhat)"
   ]
  },
  {
   "cell_type": "code",
   "execution_count": null,
   "metadata": {},
   "outputs": [],
   "source": [
    "os.getcwd()"
   ]
  },
  {
   "cell_type": "code",
   "execution_count": null,
   "metadata": {},
   "outputs": [],
   "source": [
    "df_humanmatrix_real = pd.DataFrame(index = range(60782), columns = comparable_response.columns)"
   ]
  },
  {
   "cell_type": "code",
   "execution_count": null,
   "metadata": {},
   "outputs": [],
   "source": [
    "df_humanmatrix_real.shape"
   ]
  },
  {
   "cell_type": "code",
   "execution_count": null,
   "metadata": {},
   "outputs": [],
   "source": [
    "list_swag = df_humanmatrix.external_id.tolist()"
   ]
  },
  {
   "cell_type": "code",
   "execution_count": null,
   "metadata": {},
   "outputs": [],
   "source": [
    "list_swag"
   ]
  },
  {
   "cell_type": "code",
   "execution_count": null,
   "metadata": {},
   "outputs": [],
   "source": [
    "df_humanmatrix_real = pd.DataFrame(list_swag, columns = comparable_response.columns)"
   ]
  },
  {
   "cell_type": "code",
   "execution_count": null,
   "metadata": {},
   "outputs": [],
   "source": [
    "df_humanmatrix_real.shape"
   ]
  },
  {
   "cell_type": "code",
   "execution_count": null,
   "metadata": {},
   "outputs": [],
   "source": [
    "sum(pd.Series(comparable_response.values.ravel()).isnull())"
   ]
  },
  {
   "cell_type": "code",
   "execution_count": null,
   "metadata": {},
   "outputs": [],
   "source": [
    "df_humanmatrix_real.to_csv(\"humanpredict_matrix_real.txt\", sep = '\\t')"
   ]
  },
  {
   "cell_type": "code",
   "execution_count": null,
   "metadata": {},
   "outputs": [],
   "source": [
    "comparable_response.to_csv('comparable_response.txt', sep='\\t')"
   ]
  },
  {
   "cell_type": "markdown",
   "metadata": {},
   "source": [
    "Individual clinical item statistics, finding stats for every column individually"
   ]
  },
  {
   "cell_type": "code",
   "execution_count": null,
   "metadata": {},
   "outputs": [],
   "source": [
    "response_names = comparable_response.columns\n",
    "results = pd.DataFrame(columns = ['Clinical_Item', 'F1_Score', \"precision\", \"recall\", \"AUROC\", \"accuracy\"])\n",
    "\n",
    "for response_num in range(1452):\n",
    "    y_ = comparable_response.iloc[:,response_num]\n",
    "    yhat = df_humanmatrix_real.iloc[:,response_num]\n",
    "    bPrecis_, bRecall_, bFscore_, _ = pr(y_, yhat, average='binary')\n",
    "    results.loc[response_num, 'Clinical_Item'] = response_names[response_num]\n",
    "    results.loc[response_num, 'F1_Score'] = bFscore_\n",
    "    results.loc[response_num, 'precision']=bPrecis_\n",
    "    results.loc[response_num, 'recall'] = bRecall_\n",
    "    fpr, tpr, _ = metrics.roc_curve(y_,yhat)\n",
    "    AUROC = metrics.auc(fpr,tpr)\n",
    "    results.loc[response_num, 'AUROC'] = AUROC\n",
    "    results.loc[response_num, 'accuracy'] = metrics.accuracy_score(y_,yhat)\n",
    "    if response_num%100 ==0:\n",
    "        print \"Clinical Item: %s \\t results:\" % (response_names[response_num])+ str(results.loc[response_num, :])"
   ]
  },
  {
   "cell_type": "code",
   "execution_count": null,
   "metadata": {},
   "outputs": [],
   "source": [
    "results.sort_values(\"F1_Score\", ascending = False)"
   ]
  },
  {
   "cell_type": "code",
   "execution_count": null,
   "metadata": {},
   "outputs": [],
   "source": [
    "results.to_csv(\"results_for_humanauthored.txt\", sep = '\\t')"
   ]
  },
  {
   "cell_type": "markdown",
   "metadata": {},
   "source": [
    "### list of patient_items from order_sets, and the associated number of items predicted in that order set"
   ]
  },
  {
   "cell_type": "code",
   "execution_count": null,
   "metadata": {},
   "outputs": [],
   "source": [
    "response_cols = \"\"\"\n",
    "\tselect \n",
    "\t\tdistinct ci.name\n",
    "\tfrom \n",
    "\t\tclinical_item as ci,\n",
    "\t\tclinical_item_category as cic\n",
    "\twhere \n",
    "\t\tci.clinical_item_category_id = cic.clinical_item_category_id and\n",
    "\t\tci.default_recommend = 1 and\n",
    "\t\tcic.default_recommend = 1 and\n",
    "        ci.analysis_status = 1 \n",
    "\"\"\""
   ]
  },
  {
   "cell_type": "code",
   "execution_count": null,
   "metadata": {},
   "outputs": [],
   "source": [
    "df_response_cols = pd.read_sql(response_cols, conn)"
   ]
  },
  {
   "cell_type": "code",
   "execution_count": null,
   "metadata": {},
   "outputs": [],
   "source": [
    "df_response_cols.to_csv(\"response_cols.txt\", sep = '\\t')"
   ]
  },
  {
   "cell_type": "code",
   "execution_count": null,
   "metadata": {},
   "outputs": [],
   "source": [
    "len(df_response_cols)"
   ]
  },
  {
   "cell_type": "code",
   "execution_count": null,
   "metadata": {},
   "outputs": [],
   "source": [
    "response_list = \",\".join(map(str, df_response_cols.name))\n",
    "response_list = \"(\" + response_list + \")\""
   ]
  },
  {
   "cell_type": "code",
   "execution_count": null,
   "metadata": {},
   "outputs": [],
   "source": [
    "#select patient_item list with external_id\n",
    "#then select external_id from these patient item lists and include the tables for ci.name and distinct count ci.name for each external_id from this list\n",
    "\n",
    "patient_items_num_in_orderset = \"\"\"\n",
    "\tselect \n",
    "\t\tic.external_id,\n",
    "\t\tpi.patient_item_id\n",
    "\tfrom \n",
    "\t\titem_collection as ic,\n",
    "\t\titem_collection_item as ici, \n",
    "\t\tpatient_item_collection_link as picl, \n",
    "\t\tpatient_item as pi,\n",
    "\t\tclinical_item as ci,\n",
    "\t\tclinical_item_category as cic\n",
    "\twhere \n",
    "\t\tic.item_collection_id = ici.item_collection_id and\n",
    "\t\tici.item_collection_item_id = picl.item_collection_item_id and \n",
    "\t\tpicl.patient_item_id = pi.patient_item_id and  \n",
    "\t\tpi.clinical_item_id = ci.clinical_item_id and\n",
    "\t\tci.clinical_item_category_id = cic.clinical_item_category_id and\n",
    "\t\tci.default_recommend = 1 and\n",
    "\t\tcic.default_recommend = 1 and\n",
    "        ci.analysis_status = 1 and\n",
    "\t\tic.section <> 'Ad-hoc Orders' -- Existing option to include orders on the fly, even though they weren't really part of the original order set design / intent\n",
    "\"\"\""
   ]
  },
  {
   "cell_type": "code",
   "execution_count": null,
   "metadata": {},
   "outputs": [],
   "source": [
    "df_patientitems_orderset_num = pd.read_sql(patient_items_num_in_orderset, conn)"
   ]
  },
  {
   "cell_type": "code",
   "execution_count": null,
   "metadata": {},
   "outputs": [],
   "source": [
    "len(df_patientitems_orderset_num)"
   ]
  },
  {
   "cell_type": "code",
   "execution_count": null,
   "metadata": {},
   "outputs": [],
   "source": [
    "all_externalitems_num = \"\"\"\n",
    "select \n",
    "\tic.external_id,\n",
    "\tcount(distinct ci.name)\n",
    "from \n",
    "\titem_collection as ic,\n",
    "\titem_collection_item as ici, \n",
    "\tclinical_item as ci,\n",
    "\tclinical_item_category as cic\n",
    "where \n",
    "\tic.item_collection_id = ici.item_collection_id and\n",
    "\tici.clinical_item_id = ci.clinical_item_id and\n",
    "\tci.clinical_item_category_id = cic.clinical_item_category_id and\n",
    "\tci.default_recommend = 1 and\n",
    "\tcic.default_recommend = 1 and\n",
    "\tic.section <> 'Ad-hoc Orders' -- Existing option to include orders on the fly, even though they weren't really part of the original order set design / intent\n",
    "group by \n",
    "\tic.external_id\n",
    "\"\"\""
   ]
  },
  {
   "cell_type": "code",
   "execution_count": null,
   "metadata": {},
   "outputs": [],
   "source": [
    "df_externalitems_num = pd.read_sql(all_externalitems_num, conn)"
   ]
  },
  {
   "cell_type": "code",
   "execution_count": null,
   "metadata": {},
   "outputs": [],
   "source": [
    "df_patientitems_orderset_num[\"ordersetsize\"] = \"\""
   ]
  },
  {
   "cell_type": "code",
   "execution_count": null,
   "metadata": {},
   "outputs": [],
   "source": [
    "df_externalitems_num[\"external_id\"][0]"
   ]
  },
  {
   "cell_type": "code",
   "execution_count": null,
   "metadata": {},
   "outputs": [],
   "source": [
    "df_patientitems_orderset_num.drop(\"ordersetsize\", axis = 1, inplace=True)"
   ]
  },
  {
   "cell_type": "code",
   "execution_count": null,
   "metadata": {},
   "outputs": [],
   "source": [
    "df_patientitems_final = pd.merge(df_patientitems_orderset_num, df_externalitems_num, on = \"external_id\")"
   ]
  },
  {
   "cell_type": "code",
   "execution_count": null,
   "metadata": {},
   "outputs": [],
   "source": [
    "df_patientitems_final.to_csv(\"patientitems_num_orderset.txt\", sep = '\\t')"
   ]
  },
  {
   "cell_type": "markdown",
   "metadata": {},
   "source": [
    "### get list of patient_item_ids from order sets based on the file delaney sent"
   ]
  },
  {
   "cell_type": "code",
   "execution_count": null,
   "metadata": {},
   "outputs": [],
   "source": [
    "data_dir = '/home/ec2-user/cs230/scripts/matrix/final_data_031618_v2/'"
   ]
  },
  {
   "cell_type": "code",
   "execution_count": null,
   "metadata": {},
   "outputs": [],
   "source": [
    "fname = data_dir + \"final_data_dropcols_\"+ str(0) + \".txt\"\n",
    "data = pd.read_table(fname, usecols=[0], sep = '\\t', header = 2)"
   ]
  },
  {
   "cell_type": "code",
   "execution_count": null,
   "metadata": {},
   "outputs": [],
   "source": [
    "for i in range(1, 15):\n",
    "    fname = data_dir + \"final_data_dropcols_\"+ str(i) + \".txt\"\n",
    "    temp = pd.read_table(fname, usecols=[0], sep = '\\t', header = 2)\n",
    "    data = pd.concat([temp, data])"
   ]
  },
  {
   "cell_type": "code",
   "execution_count": null,
   "metadata": {},
   "outputs": [],
   "source": [
    "len(data.patient_item_id.unique())"
   ]
  },
  {
   "cell_type": "code",
   "execution_count": null,
   "metadata": {},
   "outputs": [],
   "source": [
    "full_list_patients = pd.read_csv(\"patientitems_num_orderset.txt\", sep = '\\t')"
   ]
  },
  {
   "cell_type": "code",
   "execution_count": null,
   "metadata": {},
   "outputs": [],
   "source": [
    "thelist = data.patient_item_id.tolist()\n",
    "thefile = open('patient_item_id_list_full_notrim_14.txt', 'w')\n",
    "for item in thelist:\n",
    "  thefile.write(\"%s\\n\" % item)"
   ]
  },
  {
   "cell_type": "code",
   "execution_count": null,
   "metadata": {},
   "outputs": [],
   "source": [
    "patients_from_ordersets_subset = full_list_patients.merge(data, on = \"patient_item_id\", how = \"inner\")"
   ]
  },
  {
   "cell_type": "code",
   "execution_count": null,
   "metadata": {},
   "outputs": [],
   "source": [
    "len(patients_from_ordersets_subset)"
   ]
  },
  {
   "cell_type": "code",
   "execution_count": null,
   "metadata": {},
   "outputs": [],
   "source": [
    "patients_from_ordersets_subset.to_csv(\"patients_from_ordersets_subset_notrim_14.txt\", sep='\\t')"
   ]
  },
  {
   "cell_type": "markdown",
   "metadata": {},
   "source": [
    "## Below are some example Queries\n",
    "Some interesting facts about the data we have:\n",
    "There are 2476261 total order_set usages from patient_items out of 55470744 patient_items (4 percent)"
   ]
  },
  {
   "cell_type": "code",
   "execution_count": null,
   "metadata": {},
   "outputs": [],
   "source": [
    " orderSet_overall_usage = \"\"\"select \n",
    "\t\tcount(distinct pi.patient_item_id)\n",
    "\tfrom \n",
    "\t\titem_collection as ic,\n",
    "\t\titem_collection_item as ici, \n",
    "\t\tpatient_item_collection_link as picl, \n",
    "\t\tpatient_item as pi,\n",
    "\t\tclinical_item as ci,\n",
    "\t\tclinical_item_category as cic\n",
    "\twhere \n",
    "\t\tic.item_collection_id = ici.item_collection_id and\n",
    "\t\tici.item_collection_item_id = picl.item_collection_item_id and \n",
    "\t\tpicl.patient_item_id = pi.patient_item_id and  \n",
    "\t\tpi.clinical_item_id = ci.clinical_item_id and\n",
    "\t\tci.clinical_item_category_id = cic.clinical_item_category_id and\n",
    "\t\tci.default_recommend = 1 and\n",
    "\t\tcic.default_recommend = 1 and\n",
    "\t\tic.section <> 'Ad-hoc Orders' -- Existing option to include orders on the fly, even though they weren't really part of the original order set design / intent\n",
    "\t\t-- ic.external_id = 692 -- Example for Med Sepsis\n",
    "        \"\"\""
   ]
  },
  {
   "cell_type": "code",
   "execution_count": null,
   "metadata": {},
   "outputs": [],
   "source": [
    "total_patient_items = \"\"\"select count(distinct patient_item_id) from patient_item\"\"\""
   ]
  },
  {
   "cell_type": "code",
   "execution_count": null,
   "metadata": {},
   "outputs": [],
   "source": [
    "cursor.execute(total_patient_items)"
   ]
  },
  {
   "cell_type": "code",
   "execution_count": null,
   "metadata": {},
   "outputs": [],
   "source": [
    "cursor.fetchall()"
   ]
  },
  {
   "cell_type": "code",
   "execution_count": null,
   "metadata": {},
   "outputs": [],
   "source": []
  },
  {
   "cell_type": "code",
   "execution_count": null,
   "metadata": {},
   "outputs": [],
   "source": [
    "recommend_clinical = \"\"\"\n",
    "select \n",
    "\tcount(distinct ci.name)\n",
    "from \n",
    "\tclinical_item as ci,\n",
    "\tclinical_item_category as cic\n",
    "where \n",
    "\tci.clinical_item_category_id = cic.clinical_item_category_id and\n",
    "\tci.default_recommend = 1 and\n",
    "\tcic.default_recommend = 1 and\n",
    "    ci.analysis_status=1 \n",
    "\"\"\"\n",
    "cursor.execute(recommend_clinical)\n",
    "cursor.fetchall()"
   ]
  },
  {
   "cell_type": "code",
   "execution_count": null,
   "metadata": {},
   "outputs": [],
   "source": [
    " orderSetComponentUsage_default = \"\"\"select \n",
    "\t\tic.external_id,\n",
    "\t\tic.name,\n",
    "\t\tci.clinical_item_id,\n",
    "\t\tci.name,\n",
    "\t\tci.description,\n",
    "\t\tcount(distinct pi.patient_item_id) as itemCount\n",
    "\tfrom \n",
    "\t\titem_collection as ic,\n",
    "\t\titem_collection_item as ici, \n",
    "\t\tpatient_item_collection_link as picl, \n",
    "\t\tpatient_item as pi,\n",
    "\t\tclinical_item as ci,\n",
    "\t\tclinical_item_category as cic\n",
    "\twhere \n",
    "\t\tic.item_collection_id = ici.item_collection_id and\n",
    "\t\tici.item_collection_item_id = picl.item_collection_item_id and \n",
    "\t\tpicl.patient_item_id = pi.patient_item_id and  \n",
    "\t\tpi.clinical_item_id = ci.clinical_item_id and\n",
    "\t\tci.clinical_item_category_id = cic.clinical_item_category_id and\n",
    "\t\tci.default_recommend = 1 and\n",
    "\t\tcic.default_recommend = 1 and\n",
    "\t\tic.section <> 'Ad-hoc Orders' -- Existing option to include orders on the fly, even though they weren't really part of the original order set design / intent\n",
    "\t\t-- ic.external_id = 692 -- Example for Med Sepsis\n",
    "\tgroup by \n",
    "\t\tic.external_id,\n",
    "\t\tic.name,\n",
    "\t\tci.clinical_item_id,\n",
    "\t\tci.name,\n",
    "\t\tci.description\n",
    "        \"\"\""
   ]
  },
  {
   "cell_type": "code",
   "execution_count": null,
   "metadata": {},
   "outputs": [],
   "source": [
    "cursor.execute(orderSetComponentUsage_default)"
   ]
  },
  {
   "cell_type": "code",
   "execution_count": null,
   "metadata": {},
   "outputs": [],
   "source": [
    "cursor.fetchall()"
   ]
  },
  {
   "cell_type": "code",
   "execution_count": null,
   "metadata": {},
   "outputs": [],
   "source": [
    "orderSetUsage_Default = \"\"\"select external_id, name, count(patient_id) as patientCount, \n",
    "   avg(itemCount) as avgItemCount, min(itemCount) as minItemCount, max(itemCount) as maxItemCount,\n",
    "   sum(itemCount) as sumItemCount, sum(itemCount*itemCount) as sumSquaresItemCount\n",
    "from\n",
    "(\n",
    "\tselect \n",
    "\t\tic.external_id,\n",
    "\t\tic.name,\n",
    "\t\tpi.patient_id,\n",
    "\t\tcount(distinct pi.clinical_item_id) as itemCount\n",
    "\tfrom \n",
    "\t\titem_collection as ic,\n",
    "\t\titem_collection_item as ici, \n",
    "\t\tpatient_item_collection_link as picl, \n",
    "\t\tpatient_item as pi,\n",
    "\t\tclinical_item as ci,\n",
    "\t\tclinical_item_category as cic\n",
    "\twhere \n",
    "\t\tic.item_collection_id = ici.item_collection_id and\n",
    "\t\tici.item_collection_item_id = picl.item_collection_item_id and \n",
    "\t\tpicl.patient_item_id = pi.patient_item_id and  \n",
    "\t\tpi.clinical_item_id = ci.clinical_item_id and\n",
    "\t\tci.clinical_item_category_id = cic.clinical_item_category_id and\n",
    "\t\tci.default_recommend = 1 and\n",
    "\t\tcic.default_recommend = 1 and\n",
    "\t\tic.section <> 'Ad-hoc Orders' -- Existing option to include orders on the fly, even though they weren't really part of the original order set design / intent\n",
    "\tgroup by \n",
    "\t\tic.external_id,\n",
    "\t\tic.name,\n",
    "\t\tpi.patient_id\n",
    ") as orderSetPatient,\n",
    "clinical_ite\n",
    "group by \n",
    "\texternal_id,\n",
    "\tname\n",
    "\"\"\""
   ]
  },
  {
   "cell_type": "code",
   "execution_count": null,
   "metadata": {},
   "outputs": [],
   "source": [
    "cursor.execute(orderSetUsage_Default)"
   ]
  },
  {
   "cell_type": "code",
   "execution_count": null,
   "metadata": {},
   "outputs": [],
   "source": [
    "cursor.fetchall()"
   ]
  },
  {
   "cell_type": "code",
   "execution_count": null,
   "metadata": {},
   "outputs": [],
   "source": [
    "OrderSetSize_default = \"\"\"\n",
    "select \n",
    "\tic.external_id,\n",
    "\tic.name,\n",
    "\tcount(distinct ici.clinical_item_id) as itemCount\n",
    "from \n",
    "\titem_collection as ic,\n",
    "\titem_collection_item as ici, \n",
    "\tclinical_item as ci,\n",
    "\tclinical_item_category as cic\n",
    "where \n",
    "\tic.item_collection_id = ici.item_collection_id and\n",
    "\tici.clinical_item_id = ci.clinical_item_id and\n",
    "\tci.clinical_item_category_id = cic.clinical_item_category_id and\n",
    "\tci.default_recommend = 1 and\n",
    "\tcic.default_recommend = 1 and\n",
    "\tic.section <> 'Ad-hoc Orders' -- Existing option to include orders on the fly, even though they weren't really part of the original order set design / intent\n",
    "group by \n",
    "\tic.external_id,\n",
    "\tic.name\n",
    "\"\"\""
   ]
  },
  {
   "cell_type": "code",
   "execution_count": null,
   "metadata": {},
   "outputs": [],
   "source": [
    "cursor.execute(OrderSetSize_default)"
   ]
  },
  {
   "cell_type": "code",
   "execution_count": null,
   "metadata": {
    "scrolled": false
   },
   "outputs": [],
   "source": [
    "cursor.fetchall()"
   ]
  },
  {
   "cell_type": "code",
   "execution_count": null,
   "metadata": {},
   "outputs": [],
   "source": []
  },
  {
   "cell_type": "code",
   "execution_count": null,
   "metadata": {},
   "outputs": [],
   "source": [
    "patients_from_ordersets_subset"
   ]
  },
  {
   "cell_type": "code",
   "execution_count": null,
   "metadata": {},
   "outputs": [],
   "source": []
  },
  {
   "cell_type": "code",
   "execution_count": null,
   "metadata": {},
   "outputs": [],
   "source": []
  }
 ],
 "metadata": {
  "kernelspec": {
   "display_name": "Python 2",
   "language": "python",
   "name": "python2"
  },
  "language_info": {
   "codemirror_mode": {
    "name": "ipython",
    "version": 2
   },
   "file_extension": ".py",
   "mimetype": "text/x-python",
   "name": "python",
   "nbconvert_exporter": "python",
   "pygments_lexer": "ipython2",
   "version": "2.7.12"
  }
 },
 "nbformat": 4,
 "nbformat_minor": 1
}
